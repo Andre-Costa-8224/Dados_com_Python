{
  "cells": [
    {
      "cell_type": "code",
      "execution_count": null,
      "metadata": {
        "id": "nSHrsQ8NS-ms",
        "colab": {
          "base_uri": "https://localhost:8080/"
        },
        "outputId": "55d29d08-73fd-4e0a-ac35-ec032c37beb7"
      },
      "outputs": [
        {
          "output_type": "stream",
          "name": "stdout",
          "text": [
            "\u001b[K     |████████████████████████████████| 10.1 MB 5.3 MB/s \n",
            "\u001b[K     |████████████████████████████████| 111 kB 69.2 MB/s \n",
            "\u001b[K     |████████████████████████████████| 4.3 MB 50.7 MB/s \n",
            "\u001b[K     |████████████████████████████████| 164 kB 30.2 MB/s \n",
            "\u001b[K     |████████████████████████████████| 181 kB 54.6 MB/s \n",
            "\u001b[K     |████████████████████████████████| 77 kB 5.9 MB/s \n",
            "\u001b[K     |████████████████████████████████| 63 kB 1.5 MB/s \n",
            "\u001b[K     |████████████████████████████████| 131 kB 56.8 MB/s \n",
            "\u001b[K     |████████████████████████████████| 130 kB 56.5 MB/s \n",
            "\u001b[K     |████████████████████████████████| 428 kB 53.7 MB/s \n",
            "\u001b[K     |████████████████████████████████| 793 kB 55.0 MB/s \n",
            "\u001b[K     |████████████████████████████████| 381 kB 73.6 MB/s \n",
            "\u001b[?25h  Building wheel for blinker (setup.py) ... \u001b[?25l\u001b[?25hdone\n",
            "  Building wheel for validators (setup.py) ... \u001b[?25l\u001b[?25hdone\n",
            "\u001b[31mERROR: pip's dependency resolver does not currently take into account all the packages that are installed. This behaviour is the source of the following dependency conflicts.\n",
            "jupyter-console 5.2.0 requires prompt-toolkit<2.0.0,>=1.0.0, but you have prompt-toolkit 3.0.29 which is incompatible.\n",
            "google-colab 1.0.0 requires ipykernel~=4.10, but you have ipykernel 6.13.0 which is incompatible.\n",
            "google-colab 1.0.0 requires ipython~=5.5.0, but you have ipython 7.33.0 which is incompatible.\n",
            "google-colab 1.0.0 requires tornado~=5.1.0; python_version >= \"3.0\", but you have tornado 6.1 which is incompatible.\u001b[0m\n"
          ]
        }
      ],
      "source": [
        "!pip install -q streamlit"
      ]
    },
    {
      "cell_type": "code",
      "execution_count": null,
      "metadata": {
        "colab": {
          "base_uri": "https://localhost:8080/"
        },
        "id": "sox5E1qUTKCw",
        "outputId": "f56f18c0-f21d-46c4-d948-9e8e664349cf"
      },
      "outputs": [
        {
          "output_type": "stream",
          "name": "stderr",
          "text": [
            "/usr/local/lib/python3.7/dist-packages/sklearn/utils/deprecation.py:87: FutureWarning: Function load_boston is deprecated; `load_boston` is deprecated in 1.0 and will be removed in 1.2.\n",
            "\n",
            "    The Boston housing prices dataset has an ethical problem. You can refer to\n",
            "    the documentation of this function for further details.\n",
            "\n",
            "    The scikit-learn maintainers therefore strongly discourage the use of this\n",
            "    dataset unless the purpose of the code is to study and educate about\n",
            "    ethical issues in data science and machine learning.\n",
            "\n",
            "    In this special case, you can fetch the dataset from the original\n",
            "    source::\n",
            "\n",
            "        import pandas as pd\n",
            "        import numpy as np\n",
            "\n",
            "\n",
            "        data_url = \"http://lib.stat.cmu.edu/datasets/boston\"\n",
            "        raw_df = pd.read_csv(data_url, sep=\"\\s+\", skiprows=22, header=None)\n",
            "        data = np.hstack([raw_df.values[::2, :], raw_df.values[1::2, :2]])\n",
            "        target = raw_df.values[1::2, 2]\n",
            "\n",
            "    Alternative datasets include the California housing dataset (i.e.\n",
            "    :func:`~sklearn.datasets.fetch_california_housing`) and the Ames housing\n",
            "    dataset. You can load the datasets as follows::\n",
            "\n",
            "        from sklearn.datasets import fetch_california_housing\n",
            "        housing = fetch_california_housing()\n",
            "\n",
            "    for the California housing dataset and::\n",
            "\n",
            "        from sklearn.datasets import fetch_openml\n",
            "        housing = fetch_openml(name=\"house_prices\", as_frame=True)\n",
            "\n",
            "    for the Ames housing dataset.\n",
            "    \n",
            "  warnings.warn(msg, category=FutureWarning)\n"
          ]
        }
      ],
      "source": [
        "import pandas as pd\n",
        "import numpy as np\n",
        "import seaborn as sns\n",
        "import matplotlib.pyplot as plt\n",
        "from sklearn.datasets import load_boston\n",
        "\n",
        "boston = load_boston()"
      ]
    },
    {
      "cell_type": "code",
      "execution_count": null,
      "metadata": {
        "colab": {
          "base_uri": "https://localhost:8080/"
        },
        "id": "YkOdeIgWxPu0",
        "outputId": "0c240083-803c-46e5-ecd8-16bd2220aea9"
      },
      "outputs": [
        {
          "name": "stdout",
          "output_type": "stream",
          "text": [
            ".. _boston_dataset:\n",
            "\n",
            "Boston house prices dataset\n",
            "---------------------------\n",
            "\n",
            "**Data Set Characteristics:**  \n",
            "\n",
            "    :Number of Instances: 506 \n",
            "\n",
            "    :Number of Attributes: 13 numeric/categorical predictive. Median Value (attribute 14) is usually the target.\n",
            "\n",
            "    :Attribute Information (in order):\n",
            "        - CRIM     per capita crime rate by town\n",
            "        - ZN       proportion of residential land zoned for lots over 25,000 sq.ft.\n",
            "        - INDUS    proportion of non-retail business acres per town\n",
            "        - CHAS     Charles River dummy variable (= 1 if tract bounds river; 0 otherwise)\n",
            "        - NOX      nitric oxides concentration (parts per 10 million)\n",
            "        - RM       average number of rooms per dwelling\n",
            "        - AGE      proportion of owner-occupied units built prior to 1940\n",
            "        - DIS      weighted distances to five Boston employment centres\n",
            "        - RAD      index of accessibility to radial highways\n",
            "        - TAX      full-value property-tax rate per $10,000\n",
            "        - PTRATIO  pupil-teacher ratio by town\n",
            "        - B        1000(Bk - 0.63)^2 where Bk is the proportion of black people by town\n",
            "        - LSTAT    % lower status of the population\n",
            "        - MEDV     Median value of owner-occupied homes in $1000's\n",
            "\n",
            "    :Missing Attribute Values: None\n",
            "\n",
            "    :Creator: Harrison, D. and Rubinfeld, D.L.\n",
            "\n",
            "This is a copy of UCI ML housing dataset.\n",
            "https://archive.ics.uci.edu/ml/machine-learning-databases/housing/\n",
            "\n",
            "\n",
            "This dataset was taken from the StatLib library which is maintained at Carnegie Mellon University.\n",
            "\n",
            "The Boston house-price data of Harrison, D. and Rubinfeld, D.L. 'Hedonic\n",
            "prices and the demand for clean air', J. Environ. Economics & Management,\n",
            "vol.5, 81-102, 1978.   Used in Belsley, Kuh & Welsch, 'Regression diagnostics\n",
            "...', Wiley, 1980.   N.B. Various transformations are used in the table on\n",
            "pages 244-261 of the latter.\n",
            "\n",
            "The Boston house-price data has been used in many machine learning papers that address regression\n",
            "problems.   \n",
            "     \n",
            ".. topic:: References\n",
            "\n",
            "   - Belsley, Kuh & Welsch, 'Regression diagnostics: Identifying Influential Data and Sources of Collinearity', Wiley, 1980. 244-261.\n",
            "   - Quinlan,R. (1993). Combining Instance-Based and Model-Based Learning. In Proceedings on the Tenth International Conference of Machine Learning, 236-243, University of Massachusetts, Amherst. Morgan Kaufmann.\n",
            "\n"
          ]
        }
      ],
      "source": [
        "print(boston.DESCR)"
      ]
    },
    {
      "cell_type": "code",
      "execution_count": null,
      "metadata": {
        "id": "eD9tapBLxsxT"
      },
      "outputs": [],
      "source": [
        "data = pd.DataFrame(boston.data, columns=boston.feature_names)"
      ]
    },
    {
      "cell_type": "code",
      "execution_count": null,
      "metadata": {
        "id": "bDrkwoeTyEUl"
      },
      "outputs": [],
      "source": [
        "data['MEDV'] = boston.target"
      ]
    },
    {
      "cell_type": "code",
      "execution_count": null,
      "metadata": {
        "id": "2cfh9OzJyNBZ"
      },
      "outputs": [],
      "source": [
        "data.head()\n",
        "data.to_csv('data.csv', index=False)"
      ]
    },
    {
      "cell_type": "code",
      "execution_count": null,
      "metadata": {
        "colab": {
          "base_uri": "https://localhost:8080/",
          "height": 364
        },
        "id": "UYuxcIxayShW",
        "outputId": "4f788aa6-5d66-4d3d-e724-1db8de88b87f"
      },
      "outputs": [
        {
          "data": {
            "text/html": [
              "\n",
              "  <div id=\"df-f9f0ebe2-065b-408e-8225-93e1eace39b5\">\n",
              "    <div class=\"colab-df-container\">\n",
              "      <div>\n",
              "<style scoped>\n",
              "    .dataframe tbody tr th:only-of-type {\n",
              "        vertical-align: middle;\n",
              "    }\n",
              "\n",
              "    .dataframe tbody tr th {\n",
              "        vertical-align: top;\n",
              "    }\n",
              "\n",
              "    .dataframe thead th {\n",
              "        text-align: right;\n",
              "    }\n",
              "</style>\n",
              "<table border=\"1\" class=\"dataframe\">\n",
              "  <thead>\n",
              "    <tr style=\"text-align: right;\">\n",
              "      <th></th>\n",
              "      <th>CRIM</th>\n",
              "      <th>ZN</th>\n",
              "      <th>INDUS</th>\n",
              "      <th>CHAS</th>\n",
              "      <th>NOX</th>\n",
              "      <th>RM</th>\n",
              "      <th>AGE</th>\n",
              "      <th>DIS</th>\n",
              "      <th>RAD</th>\n",
              "      <th>TAX</th>\n",
              "      <th>PTRATIO</th>\n",
              "      <th>B</th>\n",
              "      <th>LSTAT</th>\n",
              "      <th>MEDV</th>\n",
              "    </tr>\n",
              "  </thead>\n",
              "  <tbody>\n",
              "    <tr>\n",
              "      <th>count</th>\n",
              "      <td>506.000000</td>\n",
              "      <td>506.000000</td>\n",
              "      <td>506.000000</td>\n",
              "      <td>506.000000</td>\n",
              "      <td>506.000000</td>\n",
              "      <td>506.000000</td>\n",
              "      <td>506.000000</td>\n",
              "      <td>506.000000</td>\n",
              "      <td>506.000000</td>\n",
              "      <td>506.000000</td>\n",
              "      <td>506.000000</td>\n",
              "      <td>506.000000</td>\n",
              "      <td>506.000000</td>\n",
              "      <td>506.000000</td>\n",
              "    </tr>\n",
              "    <tr>\n",
              "      <th>mean</th>\n",
              "      <td>3.613524</td>\n",
              "      <td>11.363636</td>\n",
              "      <td>11.136779</td>\n",
              "      <td>0.069170</td>\n",
              "      <td>0.554695</td>\n",
              "      <td>6.284634</td>\n",
              "      <td>68.574901</td>\n",
              "      <td>3.795043</td>\n",
              "      <td>9.549407</td>\n",
              "      <td>408.237154</td>\n",
              "      <td>18.455534</td>\n",
              "      <td>356.674032</td>\n",
              "      <td>12.653063</td>\n",
              "      <td>22.532806</td>\n",
              "    </tr>\n",
              "    <tr>\n",
              "      <th>std</th>\n",
              "      <td>8.601545</td>\n",
              "      <td>23.322453</td>\n",
              "      <td>6.860353</td>\n",
              "      <td>0.253994</td>\n",
              "      <td>0.115878</td>\n",
              "      <td>0.702617</td>\n",
              "      <td>28.148861</td>\n",
              "      <td>2.105710</td>\n",
              "      <td>8.707259</td>\n",
              "      <td>168.537116</td>\n",
              "      <td>2.164946</td>\n",
              "      <td>91.294864</td>\n",
              "      <td>7.141062</td>\n",
              "      <td>9.197104</td>\n",
              "    </tr>\n",
              "    <tr>\n",
              "      <th>min</th>\n",
              "      <td>0.006320</td>\n",
              "      <td>0.000000</td>\n",
              "      <td>0.460000</td>\n",
              "      <td>0.000000</td>\n",
              "      <td>0.385000</td>\n",
              "      <td>3.561000</td>\n",
              "      <td>2.900000</td>\n",
              "      <td>1.129600</td>\n",
              "      <td>1.000000</td>\n",
              "      <td>187.000000</td>\n",
              "      <td>12.600000</td>\n",
              "      <td>0.320000</td>\n",
              "      <td>1.730000</td>\n",
              "      <td>5.000000</td>\n",
              "    </tr>\n",
              "    <tr>\n",
              "      <th>25%</th>\n",
              "      <td>0.082045</td>\n",
              "      <td>0.000000</td>\n",
              "      <td>5.190000</td>\n",
              "      <td>0.000000</td>\n",
              "      <td>0.449000</td>\n",
              "      <td>5.885500</td>\n",
              "      <td>45.025000</td>\n",
              "      <td>2.100175</td>\n",
              "      <td>4.000000</td>\n",
              "      <td>279.000000</td>\n",
              "      <td>17.400000</td>\n",
              "      <td>375.377500</td>\n",
              "      <td>6.950000</td>\n",
              "      <td>17.025000</td>\n",
              "    </tr>\n",
              "    <tr>\n",
              "      <th>50%</th>\n",
              "      <td>0.256510</td>\n",
              "      <td>0.000000</td>\n",
              "      <td>9.690000</td>\n",
              "      <td>0.000000</td>\n",
              "      <td>0.538000</td>\n",
              "      <td>6.208500</td>\n",
              "      <td>77.500000</td>\n",
              "      <td>3.207450</td>\n",
              "      <td>5.000000</td>\n",
              "      <td>330.000000</td>\n",
              "      <td>19.050000</td>\n",
              "      <td>391.440000</td>\n",
              "      <td>11.360000</td>\n",
              "      <td>21.200000</td>\n",
              "    </tr>\n",
              "    <tr>\n",
              "      <th>75%</th>\n",
              "      <td>3.677083</td>\n",
              "      <td>12.500000</td>\n",
              "      <td>18.100000</td>\n",
              "      <td>0.000000</td>\n",
              "      <td>0.624000</td>\n",
              "      <td>6.623500</td>\n",
              "      <td>94.075000</td>\n",
              "      <td>5.188425</td>\n",
              "      <td>24.000000</td>\n",
              "      <td>666.000000</td>\n",
              "      <td>20.200000</td>\n",
              "      <td>396.225000</td>\n",
              "      <td>16.955000</td>\n",
              "      <td>25.000000</td>\n",
              "    </tr>\n",
              "    <tr>\n",
              "      <th>max</th>\n",
              "      <td>88.976200</td>\n",
              "      <td>100.000000</td>\n",
              "      <td>27.740000</td>\n",
              "      <td>1.000000</td>\n",
              "      <td>0.871000</td>\n",
              "      <td>8.780000</td>\n",
              "      <td>100.000000</td>\n",
              "      <td>12.126500</td>\n",
              "      <td>24.000000</td>\n",
              "      <td>711.000000</td>\n",
              "      <td>22.000000</td>\n",
              "      <td>396.900000</td>\n",
              "      <td>37.970000</td>\n",
              "      <td>50.000000</td>\n",
              "    </tr>\n",
              "  </tbody>\n",
              "</table>\n",
              "</div>\n",
              "      <button class=\"colab-df-convert\" onclick=\"convertToInteractive('df-f9f0ebe2-065b-408e-8225-93e1eace39b5')\"\n",
              "              title=\"Convert this dataframe to an interactive table.\"\n",
              "              style=\"display:none;\">\n",
              "        \n",
              "  <svg xmlns=\"http://www.w3.org/2000/svg\" height=\"24px\"viewBox=\"0 0 24 24\"\n",
              "       width=\"24px\">\n",
              "    <path d=\"M0 0h24v24H0V0z\" fill=\"none\"/>\n",
              "    <path d=\"M18.56 5.44l.94 2.06.94-2.06 2.06-.94-2.06-.94-.94-2.06-.94 2.06-2.06.94zm-11 1L8.5 8.5l.94-2.06 2.06-.94-2.06-.94L8.5 2.5l-.94 2.06-2.06.94zm10 10l.94 2.06.94-2.06 2.06-.94-2.06-.94-.94-2.06-.94 2.06-2.06.94z\"/><path d=\"M17.41 7.96l-1.37-1.37c-.4-.4-.92-.59-1.43-.59-.52 0-1.04.2-1.43.59L10.3 9.45l-7.72 7.72c-.78.78-.78 2.05 0 2.83L4 21.41c.39.39.9.59 1.41.59.51 0 1.02-.2 1.41-.59l7.78-7.78 2.81-2.81c.8-.78.8-2.07 0-2.86zM5.41 20L4 18.59l7.72-7.72 1.47 1.35L5.41 20z\"/>\n",
              "  </svg>\n",
              "      </button>\n",
              "      \n",
              "  <style>\n",
              "    .colab-df-container {\n",
              "      display:flex;\n",
              "      flex-wrap:wrap;\n",
              "      gap: 12px;\n",
              "    }\n",
              "\n",
              "    .colab-df-convert {\n",
              "      background-color: #E8F0FE;\n",
              "      border: none;\n",
              "      border-radius: 50%;\n",
              "      cursor: pointer;\n",
              "      display: none;\n",
              "      fill: #1967D2;\n",
              "      height: 32px;\n",
              "      padding: 0 0 0 0;\n",
              "      width: 32px;\n",
              "    }\n",
              "\n",
              "    .colab-df-convert:hover {\n",
              "      background-color: #E2EBFA;\n",
              "      box-shadow: 0px 1px 2px rgba(60, 64, 67, 0.3), 0px 1px 3px 1px rgba(60, 64, 67, 0.15);\n",
              "      fill: #174EA6;\n",
              "    }\n",
              "\n",
              "    [theme=dark] .colab-df-convert {\n",
              "      background-color: #3B4455;\n",
              "      fill: #D2E3FC;\n",
              "    }\n",
              "\n",
              "    [theme=dark] .colab-df-convert:hover {\n",
              "      background-color: #434B5C;\n",
              "      box-shadow: 0px 1px 3px 1px rgba(0, 0, 0, 0.15);\n",
              "      filter: drop-shadow(0px 1px 2px rgba(0, 0, 0, 0.3));\n",
              "      fill: #FFFFFF;\n",
              "    }\n",
              "  </style>\n",
              "\n",
              "      <script>\n",
              "        const buttonEl =\n",
              "          document.querySelector('#df-f9f0ebe2-065b-408e-8225-93e1eace39b5 button.colab-df-convert');\n",
              "        buttonEl.style.display =\n",
              "          google.colab.kernel.accessAllowed ? 'block' : 'none';\n",
              "\n",
              "        async function convertToInteractive(key) {\n",
              "          const element = document.querySelector('#df-f9f0ebe2-065b-408e-8225-93e1eace39b5');\n",
              "          const dataTable =\n",
              "            await google.colab.kernel.invokeFunction('convertToInteractive',\n",
              "                                                     [key], {});\n",
              "          if (!dataTable) return;\n",
              "\n",
              "          const docLinkHtml = 'Like what you see? Visit the ' +\n",
              "            '<a target=\"_blank\" href=https://colab.research.google.com/notebooks/data_table.ipynb>data table notebook</a>'\n",
              "            + ' to learn more about interactive tables.';\n",
              "          element.innerHTML = '';\n",
              "          dataTable['output_type'] = 'display_data';\n",
              "          await google.colab.output.renderOutput(dataTable, element);\n",
              "          const docLink = document.createElement('div');\n",
              "          docLink.innerHTML = docLinkHtml;\n",
              "          element.appendChild(docLink);\n",
              "        }\n",
              "      </script>\n",
              "    </div>\n",
              "  </div>\n",
              "  "
            ],
            "text/plain": [
              "             CRIM          ZN       INDUS        CHAS         NOX          RM  \\\n",
              "count  506.000000  506.000000  506.000000  506.000000  506.000000  506.000000   \n",
              "mean     3.613524   11.363636   11.136779    0.069170    0.554695    6.284634   \n",
              "std      8.601545   23.322453    6.860353    0.253994    0.115878    0.702617   \n",
              "min      0.006320    0.000000    0.460000    0.000000    0.385000    3.561000   \n",
              "25%      0.082045    0.000000    5.190000    0.000000    0.449000    5.885500   \n",
              "50%      0.256510    0.000000    9.690000    0.000000    0.538000    6.208500   \n",
              "75%      3.677083   12.500000   18.100000    0.000000    0.624000    6.623500   \n",
              "max     88.976200  100.000000   27.740000    1.000000    0.871000    8.780000   \n",
              "\n",
              "              AGE         DIS         RAD         TAX     PTRATIO           B  \\\n",
              "count  506.000000  506.000000  506.000000  506.000000  506.000000  506.000000   \n",
              "mean    68.574901    3.795043    9.549407  408.237154   18.455534  356.674032   \n",
              "std     28.148861    2.105710    8.707259  168.537116    2.164946   91.294864   \n",
              "min      2.900000    1.129600    1.000000  187.000000   12.600000    0.320000   \n",
              "25%     45.025000    2.100175    4.000000  279.000000   17.400000  375.377500   \n",
              "50%     77.500000    3.207450    5.000000  330.000000   19.050000  391.440000   \n",
              "75%     94.075000    5.188425   24.000000  666.000000   20.200000  396.225000   \n",
              "max    100.000000   12.126500   24.000000  711.000000   22.000000  396.900000   \n",
              "\n",
              "            LSTAT        MEDV  \n",
              "count  506.000000  506.000000  \n",
              "mean    12.653063   22.532806  \n",
              "std      7.141062    9.197104  \n",
              "min      1.730000    5.000000  \n",
              "25%      6.950000   17.025000  \n",
              "50%     11.360000   21.200000  \n",
              "75%     16.955000   25.000000  \n",
              "max     37.970000   50.000000  "
            ]
          },
          "execution_count": 7,
          "metadata": {},
          "output_type": "execute_result"
        }
      ],
      "source": [
        "data.describe()"
      ]
    },
    {
      "cell_type": "code",
      "execution_count": null,
      "metadata": {
        "id": "TckBY1p8yZ-Q"
      },
      "outputs": [],
      "source": [
        "#!pip install https://github.com/pandas-profiling/pandas-profiling/archive/master.zip\n",
        "#from pandas_profiling import ProfileReport"
      ]
    },
    {
      "cell_type": "code",
      "execution_count": null,
      "metadata": {
        "id": "s42XmdLH0EMc"
      },
      "outputs": [],
      "source": [
        "#profile = ProfileReport(data, title=\"Relatorio - pandas profiling\")"
      ]
    },
    {
      "cell_type": "code",
      "execution_count": null,
      "metadata": {
        "id": "kI2a5grw0bwy"
      },
      "outputs": [],
      "source": [
        "#profile"
      ]
    },
    {
      "cell_type": "code",
      "execution_count": null,
      "metadata": {
        "id": "zXOh8toPHXCd"
      },
      "outputs": [],
      "source": [
        "#profile.to_file(output_file=\"relatorioboston.html\")"
      ]
    },
    {
      "cell_type": "markdown",
      "metadata": {
        "id": "-tys5lxlIn5i"
      },
      "source": [
        "Segunda parte"
      ]
    },
    {
      "cell_type": "code",
      "execution_count": null,
      "metadata": {
        "colab": {
          "base_uri": "https://localhost:8080/"
        },
        "id": "vr25UihsIsLi",
        "outputId": "e73dd57a-dece-4816-8fbd-e0794b8f2db8"
      },
      "outputs": [
        {
          "data": {
            "text/plain": [
              "CRIM       0\n",
              "ZN         0\n",
              "INDUS      0\n",
              "CHAS       0\n",
              "NOX        0\n",
              "RM         0\n",
              "AGE        0\n",
              "DIS        0\n",
              "RAD        0\n",
              "TAX        0\n",
              "PTRATIO    0\n",
              "B          0\n",
              "LSTAT      0\n",
              "MEDV       0\n",
              "dtype: int64"
            ]
          },
          "execution_count": 12,
          "metadata": {},
          "output_type": "execute_result"
        }
      ],
      "source": [
        "data.isnull().sum()"
      ]
    },
    {
      "cell_type": "code",
      "execution_count": null,
      "metadata": {
        "colab": {
          "base_uri": "https://localhost:8080/",
          "height": 364
        },
        "id": "ewHQNzH-I1sA",
        "outputId": "145c18e7-e511-4b55-8560-009b338b2a6c"
      },
      "outputs": [
        {
          "data": {
            "text/html": [
              "\n",
              "  <div id=\"df-a9e046ff-0f80-4303-8db5-b657646650f9\">\n",
              "    <div class=\"colab-df-container\">\n",
              "      <div>\n",
              "<style scoped>\n",
              "    .dataframe tbody tr th:only-of-type {\n",
              "        vertical-align: middle;\n",
              "    }\n",
              "\n",
              "    .dataframe tbody tr th {\n",
              "        vertical-align: top;\n",
              "    }\n",
              "\n",
              "    .dataframe thead th {\n",
              "        text-align: right;\n",
              "    }\n",
              "</style>\n",
              "<table border=\"1\" class=\"dataframe\">\n",
              "  <thead>\n",
              "    <tr style=\"text-align: right;\">\n",
              "      <th></th>\n",
              "      <th>CRIM</th>\n",
              "      <th>ZN</th>\n",
              "      <th>INDUS</th>\n",
              "      <th>CHAS</th>\n",
              "      <th>NOX</th>\n",
              "      <th>RM</th>\n",
              "      <th>AGE</th>\n",
              "      <th>DIS</th>\n",
              "      <th>RAD</th>\n",
              "      <th>TAX</th>\n",
              "      <th>PTRATIO</th>\n",
              "      <th>B</th>\n",
              "      <th>LSTAT</th>\n",
              "      <th>MEDV</th>\n",
              "    </tr>\n",
              "  </thead>\n",
              "  <tbody>\n",
              "    <tr>\n",
              "      <th>count</th>\n",
              "      <td>506.000000</td>\n",
              "      <td>506.000000</td>\n",
              "      <td>506.000000</td>\n",
              "      <td>506.000000</td>\n",
              "      <td>506.000000</td>\n",
              "      <td>506.000000</td>\n",
              "      <td>506.000000</td>\n",
              "      <td>506.000000</td>\n",
              "      <td>506.000000</td>\n",
              "      <td>506.000000</td>\n",
              "      <td>506.000000</td>\n",
              "      <td>506.000000</td>\n",
              "      <td>506.000000</td>\n",
              "      <td>506.000000</td>\n",
              "    </tr>\n",
              "    <tr>\n",
              "      <th>mean</th>\n",
              "      <td>3.613524</td>\n",
              "      <td>11.363636</td>\n",
              "      <td>11.136779</td>\n",
              "      <td>0.069170</td>\n",
              "      <td>0.554695</td>\n",
              "      <td>6.284634</td>\n",
              "      <td>68.574901</td>\n",
              "      <td>3.795043</td>\n",
              "      <td>9.549407</td>\n",
              "      <td>408.237154</td>\n",
              "      <td>18.455534</td>\n",
              "      <td>356.674032</td>\n",
              "      <td>12.653063</td>\n",
              "      <td>22.532806</td>\n",
              "    </tr>\n",
              "    <tr>\n",
              "      <th>std</th>\n",
              "      <td>8.601545</td>\n",
              "      <td>23.322453</td>\n",
              "      <td>6.860353</td>\n",
              "      <td>0.253994</td>\n",
              "      <td>0.115878</td>\n",
              "      <td>0.702617</td>\n",
              "      <td>28.148861</td>\n",
              "      <td>2.105710</td>\n",
              "      <td>8.707259</td>\n",
              "      <td>168.537116</td>\n",
              "      <td>2.164946</td>\n",
              "      <td>91.294864</td>\n",
              "      <td>7.141062</td>\n",
              "      <td>9.197104</td>\n",
              "    </tr>\n",
              "    <tr>\n",
              "      <th>min</th>\n",
              "      <td>0.006320</td>\n",
              "      <td>0.000000</td>\n",
              "      <td>0.460000</td>\n",
              "      <td>0.000000</td>\n",
              "      <td>0.385000</td>\n",
              "      <td>3.561000</td>\n",
              "      <td>2.900000</td>\n",
              "      <td>1.129600</td>\n",
              "      <td>1.000000</td>\n",
              "      <td>187.000000</td>\n",
              "      <td>12.600000</td>\n",
              "      <td>0.320000</td>\n",
              "      <td>1.730000</td>\n",
              "      <td>5.000000</td>\n",
              "    </tr>\n",
              "    <tr>\n",
              "      <th>25%</th>\n",
              "      <td>0.082045</td>\n",
              "      <td>0.000000</td>\n",
              "      <td>5.190000</td>\n",
              "      <td>0.000000</td>\n",
              "      <td>0.449000</td>\n",
              "      <td>5.885500</td>\n",
              "      <td>45.025000</td>\n",
              "      <td>2.100175</td>\n",
              "      <td>4.000000</td>\n",
              "      <td>279.000000</td>\n",
              "      <td>17.400000</td>\n",
              "      <td>375.377500</td>\n",
              "      <td>6.950000</td>\n",
              "      <td>17.025000</td>\n",
              "    </tr>\n",
              "    <tr>\n",
              "      <th>50%</th>\n",
              "      <td>0.256510</td>\n",
              "      <td>0.000000</td>\n",
              "      <td>9.690000</td>\n",
              "      <td>0.000000</td>\n",
              "      <td>0.538000</td>\n",
              "      <td>6.208500</td>\n",
              "      <td>77.500000</td>\n",
              "      <td>3.207450</td>\n",
              "      <td>5.000000</td>\n",
              "      <td>330.000000</td>\n",
              "      <td>19.050000</td>\n",
              "      <td>391.440000</td>\n",
              "      <td>11.360000</td>\n",
              "      <td>21.200000</td>\n",
              "    </tr>\n",
              "    <tr>\n",
              "      <th>75%</th>\n",
              "      <td>3.677083</td>\n",
              "      <td>12.500000</td>\n",
              "      <td>18.100000</td>\n",
              "      <td>0.000000</td>\n",
              "      <td>0.624000</td>\n",
              "      <td>6.623500</td>\n",
              "      <td>94.075000</td>\n",
              "      <td>5.188425</td>\n",
              "      <td>24.000000</td>\n",
              "      <td>666.000000</td>\n",
              "      <td>20.200000</td>\n",
              "      <td>396.225000</td>\n",
              "      <td>16.955000</td>\n",
              "      <td>25.000000</td>\n",
              "    </tr>\n",
              "    <tr>\n",
              "      <th>max</th>\n",
              "      <td>88.976200</td>\n",
              "      <td>100.000000</td>\n",
              "      <td>27.740000</td>\n",
              "      <td>1.000000</td>\n",
              "      <td>0.871000</td>\n",
              "      <td>8.780000</td>\n",
              "      <td>100.000000</td>\n",
              "      <td>12.126500</td>\n",
              "      <td>24.000000</td>\n",
              "      <td>711.000000</td>\n",
              "      <td>22.000000</td>\n",
              "      <td>396.900000</td>\n",
              "      <td>37.970000</td>\n",
              "      <td>50.000000</td>\n",
              "    </tr>\n",
              "  </tbody>\n",
              "</table>\n",
              "</div>\n",
              "      <button class=\"colab-df-convert\" onclick=\"convertToInteractive('df-a9e046ff-0f80-4303-8db5-b657646650f9')\"\n",
              "              title=\"Convert this dataframe to an interactive table.\"\n",
              "              style=\"display:none;\">\n",
              "        \n",
              "  <svg xmlns=\"http://www.w3.org/2000/svg\" height=\"24px\"viewBox=\"0 0 24 24\"\n",
              "       width=\"24px\">\n",
              "    <path d=\"M0 0h24v24H0V0z\" fill=\"none\"/>\n",
              "    <path d=\"M18.56 5.44l.94 2.06.94-2.06 2.06-.94-2.06-.94-.94-2.06-.94 2.06-2.06.94zm-11 1L8.5 8.5l.94-2.06 2.06-.94-2.06-.94L8.5 2.5l-.94 2.06-2.06.94zm10 10l.94 2.06.94-2.06 2.06-.94-2.06-.94-.94-2.06-.94 2.06-2.06.94z\"/><path d=\"M17.41 7.96l-1.37-1.37c-.4-.4-.92-.59-1.43-.59-.52 0-1.04.2-1.43.59L10.3 9.45l-7.72 7.72c-.78.78-.78 2.05 0 2.83L4 21.41c.39.39.9.59 1.41.59.51 0 1.02-.2 1.41-.59l7.78-7.78 2.81-2.81c.8-.78.8-2.07 0-2.86zM5.41 20L4 18.59l7.72-7.72 1.47 1.35L5.41 20z\"/>\n",
              "  </svg>\n",
              "      </button>\n",
              "      \n",
              "  <style>\n",
              "    .colab-df-container {\n",
              "      display:flex;\n",
              "      flex-wrap:wrap;\n",
              "      gap: 12px;\n",
              "    }\n",
              "\n",
              "    .colab-df-convert {\n",
              "      background-color: #E8F0FE;\n",
              "      border: none;\n",
              "      border-radius: 50%;\n",
              "      cursor: pointer;\n",
              "      display: none;\n",
              "      fill: #1967D2;\n",
              "      height: 32px;\n",
              "      padding: 0 0 0 0;\n",
              "      width: 32px;\n",
              "    }\n",
              "\n",
              "    .colab-df-convert:hover {\n",
              "      background-color: #E2EBFA;\n",
              "      box-shadow: 0px 1px 2px rgba(60, 64, 67, 0.3), 0px 1px 3px 1px rgba(60, 64, 67, 0.15);\n",
              "      fill: #174EA6;\n",
              "    }\n",
              "\n",
              "    [theme=dark] .colab-df-convert {\n",
              "      background-color: #3B4455;\n",
              "      fill: #D2E3FC;\n",
              "    }\n",
              "\n",
              "    [theme=dark] .colab-df-convert:hover {\n",
              "      background-color: #434B5C;\n",
              "      box-shadow: 0px 1px 3px 1px rgba(0, 0, 0, 0.15);\n",
              "      filter: drop-shadow(0px 1px 2px rgba(0, 0, 0, 0.3));\n",
              "      fill: #FFFFFF;\n",
              "    }\n",
              "  </style>\n",
              "\n",
              "      <script>\n",
              "        const buttonEl =\n",
              "          document.querySelector('#df-a9e046ff-0f80-4303-8db5-b657646650f9 button.colab-df-convert');\n",
              "        buttonEl.style.display =\n",
              "          google.colab.kernel.accessAllowed ? 'block' : 'none';\n",
              "\n",
              "        async function convertToInteractive(key) {\n",
              "          const element = document.querySelector('#df-a9e046ff-0f80-4303-8db5-b657646650f9');\n",
              "          const dataTable =\n",
              "            await google.colab.kernel.invokeFunction('convertToInteractive',\n",
              "                                                     [key], {});\n",
              "          if (!dataTable) return;\n",
              "\n",
              "          const docLinkHtml = 'Like what you see? Visit the ' +\n",
              "            '<a target=\"_blank\" href=https://colab.research.google.com/notebooks/data_table.ipynb>data table notebook</a>'\n",
              "            + ' to learn more about interactive tables.';\n",
              "          element.innerHTML = '';\n",
              "          dataTable['output_type'] = 'display_data';\n",
              "          await google.colab.output.renderOutput(dataTable, element);\n",
              "          const docLink = document.createElement('div');\n",
              "          docLink.innerHTML = docLinkHtml;\n",
              "          element.appendChild(docLink);\n",
              "        }\n",
              "      </script>\n",
              "    </div>\n",
              "  </div>\n",
              "  "
            ],
            "text/plain": [
              "             CRIM          ZN       INDUS        CHAS         NOX          RM  \\\n",
              "count  506.000000  506.000000  506.000000  506.000000  506.000000  506.000000   \n",
              "mean     3.613524   11.363636   11.136779    0.069170    0.554695    6.284634   \n",
              "std      8.601545   23.322453    6.860353    0.253994    0.115878    0.702617   \n",
              "min      0.006320    0.000000    0.460000    0.000000    0.385000    3.561000   \n",
              "25%      0.082045    0.000000    5.190000    0.000000    0.449000    5.885500   \n",
              "50%      0.256510    0.000000    9.690000    0.000000    0.538000    6.208500   \n",
              "75%      3.677083   12.500000   18.100000    0.000000    0.624000    6.623500   \n",
              "max     88.976200  100.000000   27.740000    1.000000    0.871000    8.780000   \n",
              "\n",
              "              AGE         DIS         RAD         TAX     PTRATIO           B  \\\n",
              "count  506.000000  506.000000  506.000000  506.000000  506.000000  506.000000   \n",
              "mean    68.574901    3.795043    9.549407  408.237154   18.455534  356.674032   \n",
              "std     28.148861    2.105710    8.707259  168.537116    2.164946   91.294864   \n",
              "min      2.900000    1.129600    1.000000  187.000000   12.600000    0.320000   \n",
              "25%     45.025000    2.100175    4.000000  279.000000   17.400000  375.377500   \n",
              "50%     77.500000    3.207450    5.000000  330.000000   19.050000  391.440000   \n",
              "75%     94.075000    5.188425   24.000000  666.000000   20.200000  396.225000   \n",
              "max    100.000000   12.126500   24.000000  711.000000   22.000000  396.900000   \n",
              "\n",
              "            LSTAT        MEDV  \n",
              "count  506.000000  506.000000  \n",
              "mean    12.653063   22.532806  \n",
              "std      7.141062    9.197104  \n",
              "min      1.730000    5.000000  \n",
              "25%      6.950000   17.025000  \n",
              "50%     11.360000   21.200000  \n",
              "75%     16.955000   25.000000  \n",
              "max     37.970000   50.000000  "
            ]
          },
          "execution_count": 13,
          "metadata": {},
          "output_type": "execute_result"
        }
      ],
      "source": [
        "data.describe()"
      ]
    },
    {
      "cell_type": "code",
      "execution_count": null,
      "metadata": {
        "id": "70SVcj4XI_0r"
      },
      "outputs": [],
      "source": [
        "correlacoes = data.corr()"
      ]
    },
    {
      "cell_type": "code",
      "execution_count": null,
      "metadata": {
        "colab": {
          "base_uri": "https://localhost:8080/",
          "height": 167
        },
        "id": "JFQjR7FKJpdd",
        "outputId": "8b2e80f7-ed23-4133-b693-95c48fb510a1"
      },
      "outputs": [
        {
          "data": {
            "text/plain": [
              "<matplotlib.axes._subplots.AxesSubplot at 0x7fdebfdb88d0>"
            ]
          },
          "execution_count": 15,
          "metadata": {},
          "output_type": "execute_result"
        },
        {
          "data": {
            "image/png": "[encoded data removed]",
            "text/plain": [
              "<Figure size 1152x432 with 2 Axes>"
            ]
          },
          "metadata": {},
          "output_type": "display_data"
        }
      ],
      "source": [
        "\n",
        "#Grafico de calor\n",
        "plt.figure(figsize=(16,6))\n",
        "sns.heatmap(data=correlacoes, annot =True)"
      ]
    },
    {
      "cell_type": "code",
      "execution_count": null,
      "metadata": {
        "colab": {
          "base_uri": "https://localhost:8080/",
          "height": 631
        },
        "id": "klzz-YZXLG12",
        "outputId": "2a622d58-ea14-40ae-dd40-3e7a697b7da7"
      },
      "outputs": [
        {
          "name": "stdout",
          "output_type": "stream",
          "text": [
            "Looking in indexes: https://pypi.org/simple, https://us-python.pkg.dev/colab-wheels/public/simple/\n",
            "Requirement already satisfied: pyyaml==5.4.1 in /usr/local/lib/python3.7/dist-packages (5.4.1)\n"
          ]
        },
        {
          "name": "stderr",
          "output_type": "stream",
          "text": [
            "/usr/local/lib/python3.7/dist-packages/distributed/config.py:20: YAMLLoadWarning: calling yaml.load() without Loader=... is deprecated, as the default Loader is unsafe. Please read https://msg.pyyaml.org/load for full details.\n",
            "  defaults = yaml.load(f)\n"
          ]
        },
        {
          "data": {
            "text/html": [
              "<html>\n",
              "<head><meta charset=\"utf-8\" /></head>\n",
              "<body>\n",
              "    <div>            <script src=\"https://cdnjs.cloudflare.com/ajax/libs/mathjax/2.7.5/MathJax.js?config=TeX-AMS-MML_SVG\"></script><script type=\"text/javascript\">if (window.MathJax) {MathJax.Hub.Config({SVG: {font: \"STIX-Web\"}});}</script>                <script type=\"text/javascript\">window.PlotlyConfig = {MathJaxConfig: 'local'};</script>\n",
              "        <script src=\"https://cdn.plot.ly/plotly-2.8.3.min.js\"></script>                <div id=\"06c35c31-aa39-473f-9e07-c0d6f4804b01\" class=\"plotly-graph-div\" style=\"height:525px; width:100%;\"></div>            <script type=\"text/javascript\">                                    window.PLOTLYENV=window.PLOTLYENV || {};                                    if (document.getElementById(\"06c35c31-aa39-473f-9e07-c0d6f4804b01\")) {                    Plotly.newPlot(                        \"06c35c31-aa39-473f-9e07-c0d6f4804b01\",                        [{\"hovertemplate\":\"RM=%{x}<br>MEDV=%{y}<extra></extra>\",\"legendgroup\":\"\",\"marker\":{\"color\":\"#636efa\",\"symbol\":\"circle\"},\"mode\":\"markers\",\"name\":\"\",\"orientation\":\"v\",\"showlegend\":false,\"x\":[6.575,6.421,7.185,6.998,7.147,6.43,6.012,6.172,5.631,6.004,6.377,6.009,5.889,5.949,6.096,5.834,5.935,5.99,5.456,5.727,5.57,5.965,6.142,5.813,5.924,5.599,5.813,6.047,6.495,6.674,5.713,6.072,5.95,5.701,6.096,5.933,5.841,5.85,5.966,6.595,7.024,6.77,6.169,6.211,6.069,5.682,5.786,6.03,5.399,5.602,5.963,6.115,6.511,5.998,5.888,7.249,6.383,6.816,6.145,5.927,5.741,5.966,6.456,6.762,7.104,6.29,5.787,5.878,5.594,5.885,6.417,5.961,6.065,6.245,6.273,6.286,6.279,6.14,6.232,5.874,6.727,6.619,6.302,6.167,6.389,6.63,6.015,6.121,7.007,7.079,6.417,6.405,6.442,6.211,6.249,6.625,6.163,8.069,7.82,7.416,6.727,6.781,6.405,6.137,6.167,5.851,5.836,6.127,6.474,6.229,6.195,6.715,5.913,6.092,6.254,5.928,6.176,6.021,5.872,5.731,5.87,6.004,5.961,5.856,5.879,5.986,5.613,5.693,6.431,5.637,6.458,6.326,6.372,5.822,5.757,6.335,5.942,6.454,5.857,6.151,6.174,5.019,5.403,5.468,4.903,6.13,5.628,4.926,5.186,5.597,6.122,5.404,5.012,5.709,6.129,6.152,5.272,6.943,6.066,6.51,6.25,7.489,7.802,8.375,5.854,6.101,7.929,5.877,6.319,6.402,5.875,5.88,5.572,6.416,5.859,6.546,6.02,6.315,6.86,6.98,7.765,6.144,7.155,6.563,5.604,6.153,7.831,6.782,6.556,7.185,6.951,6.739,7.178,6.8,6.604,7.875,7.287,7.107,7.274,6.975,7.135,6.162,7.61,7.853,8.034,5.891,6.326,5.783,6.064,5.344,5.96,5.404,5.807,6.375,5.412,6.182,5.888,6.642,5.951,6.373,6.951,6.164,6.879,6.618,8.266,8.725,8.04,7.163,7.686,6.552,5.981,7.412,8.337,8.247,6.726,6.086,6.631,7.358,6.481,6.606,6.897,6.095,6.358,6.393,5.593,5.605,6.108,6.226,6.433,6.718,6.487,6.438,6.957,8.259,6.108,5.876,7.454,8.704,7.333,6.842,7.203,7.52,8.398,7.327,7.206,5.56,7.014,8.297,7.47,5.92,5.856,6.24,6.538,7.691,6.758,6.854,7.267,6.826,6.482,6.812,7.82,6.968,7.645,7.923,7.088,6.453,6.23,6.209,6.315,6.565,6.861,7.148,6.63,6.127,6.009,6.678,6.549,5.79,6.345,7.041,6.871,6.59,6.495,6.982,7.236,6.616,7.42,6.849,6.635,5.972,4.973,6.122,6.023,6.266,6.567,5.705,5.914,5.782,6.382,6.113,6.426,6.376,6.041,5.708,6.415,6.431,6.312,6.083,5.868,6.333,6.144,5.706,6.031,6.316,6.31,6.037,5.869,5.895,6.059,5.985,5.968,7.241,6.54,6.696,6.874,6.014,5.898,6.516,6.635,6.939,6.49,6.579,5.884,6.728,5.663,5.936,6.212,6.395,6.127,6.112,6.398,6.251,5.362,5.803,8.78,3.561,4.963,3.863,4.97,6.683,7.016,6.216,5.875,4.906,4.138,7.313,6.649,6.794,6.38,6.223,6.968,6.545,5.536,5.52,4.368,5.277,4.652,5.0,4.88,5.39,5.713,6.051,5.036,6.193,5.887,6.471,6.405,5.747,5.453,5.852,5.987,6.343,6.404,5.349,5.531,5.683,4.138,5.608,5.617,6.852,5.757,6.657,4.628,5.155,4.519,6.434,6.782,5.304,5.957,6.824,6.411,6.006,5.648,6.103,5.565,5.896,5.837,6.202,6.193,6.38,6.348,6.833,6.425,6.436,6.208,6.629,6.461,6.152,5.935,5.627,5.818,6.406,6.219,6.485,5.854,6.459,6.341,6.251,6.185,6.417,6.749,6.655,6.297,7.393,6.728,6.525,5.976,5.936,6.301,6.081,6.701,6.376,6.317,6.513,6.209,5.759,5.952,6.003,5.926,5.713,6.167,6.229,6.437,6.98,5.427,6.162,6.484,5.304,6.185,6.229,6.242,6.75,7.061,5.762,5.871,6.312,6.114,5.905,5.454,5.414,5.093,5.983,5.983,5.707,5.926,5.67,5.39,5.794,6.019,5.569,6.027,6.593,6.12,6.976,6.794,6.03],\"xaxis\":\"x\",\"y\":[24.0,21.6,34.7,33.4,36.2,28.7,22.9,27.1,16.5,18.9,15.0,18.9,21.7,20.4,18.2,19.9,23.1,17.5,20.2,18.2,13.6,19.6,15.2,14.5,15.6,13.9,16.6,14.8,18.4,21.0,12.7,14.5,13.2,13.1,13.5,18.9,20.0,21.0,24.7,30.8,34.9,26.6,25.3,24.7,21.2,19.3,20.0,16.6,14.4,19.4,19.7,20.5,25.0,23.4,18.9,35.4,24.7,31.6,23.3,19.6,18.7,16.0,22.2,25.0,33.0,23.5,19.4,22.0,17.4,20.9,24.2,21.7,22.8,23.4,24.1,21.4,20.0,20.8,21.2,20.3,28.0,23.9,24.8,22.9,23.9,26.6,22.5,22.2,23.6,28.7,22.6,22.0,22.9,25.0,20.6,28.4,21.4,38.7,43.8,33.2,27.5,26.5,18.6,19.3,20.1,19.5,19.5,20.4,19.8,19.4,21.7,22.8,18.8,18.7,18.5,18.3,21.2,19.2,20.4,19.3,22.0,20.3,20.5,17.3,18.8,21.4,15.7,16.2,18.0,14.3,19.2,19.6,23.0,18.4,15.6,18.1,17.4,17.1,13.3,17.8,14.0,14.4,13.4,15.6,11.8,13.8,15.6,14.6,17.8,15.4,21.5,19.6,15.3,19.4,17.0,15.6,13.1,41.3,24.3,23.3,27.0,50.0,50.0,50.0,22.7,25.0,50.0,23.8,23.8,22.3,17.4,19.1,23.1,23.6,22.6,29.4,23.2,24.6,29.9,37.2,39.8,36.2,37.9,32.5,26.4,29.6,50.0,32.0,29.8,34.9,37.0,30.5,36.4,31.1,29.1,50.0,33.3,30.3,34.6,34.9,32.9,24.1,42.3,48.5,50.0,22.6,24.4,22.5,24.4,20.0,21.7,19.3,22.4,28.1,23.7,25.0,23.3,28.7,21.5,23.0,26.7,21.7,27.5,30.1,44.8,50.0,37.6,31.6,46.7,31.5,24.3,31.7,41.7,48.3,29.0,24.0,25.1,31.5,23.7,23.3,22.0,20.1,22.2,23.7,17.6,18.5,24.3,20.5,24.5,26.2,24.4,24.8,29.6,42.8,21.9,20.9,44.0,50.0,36.0,30.1,33.8,43.1,48.8,31.0,36.5,22.8,30.7,50.0,43.5,20.7,21.1,25.2,24.4,35.2,32.4,32.0,33.2,33.1,29.1,35.1,45.4,35.4,46.0,50.0,32.2,22.0,20.1,23.2,22.3,24.8,28.5,37.3,27.9,23.9,21.7,28.6,27.1,20.3,22.5,29.0,24.8,22.0,26.4,33.1,36.1,28.4,33.4,28.2,22.8,20.3,16.1,22.1,19.4,21.6,23.8,16.2,17.8,19.8,23.1,21.0,23.8,23.1,20.4,18.5,25.0,24.6,23.0,22.2,19.3,22.6,19.8,17.1,19.4,22.2,20.7,21.1,19.5,18.5,20.6,19.0,18.7,32.7,16.5,23.9,31.2,17.5,17.2,23.1,24.5,26.6,22.9,24.1,18.6,30.1,18.2,20.6,17.8,21.7,22.7,22.6,25.0,19.9,20.8,16.8,21.9,27.5,21.9,23.1,50.0,50.0,50.0,50.0,50.0,13.8,13.8,15.0,13.9,13.3,13.1,10.2,10.4,10.9,11.3,12.3,8.8,7.2,10.5,7.4,10.2,11.5,15.1,23.2,9.7,13.8,12.7,13.1,12.5,8.5,5.0,6.3,5.6,7.2,12.1,8.3,8.5,5.0,11.9,27.9,17.2,27.5,15.0,17.2,17.9,16.3,7.0,7.2,7.5,10.4,8.8,8.4,16.7,14.2,20.8,13.4,11.7,8.3,10.2,10.9,11.0,9.5,14.5,14.1,16.1,14.3,11.7,13.4,9.6,8.7,8.4,12.8,10.5,17.1,18.4,15.4,10.8,11.8,14.9,12.6,14.1,13.0,13.4,15.2,16.1,17.8,14.9,14.1,12.7,13.5,14.9,20.0,16.4,17.7,19.5,20.2,21.4,19.9,19.0,19.1,19.1,20.1,19.9,19.6,23.2,29.8,13.8,13.3,16.7,12.0,14.6,21.4,23.0,23.7,25.0,21.8,20.6,21.2,19.1,20.6,15.2,7.0,8.1,13.6,20.1,21.8,24.5,23.1,19.7,18.3,21.2,17.5,16.8,22.4,20.6,23.9,22.0,11.9],\"yaxis\":\"y\",\"type\":\"scatter\"}],                        {\"template\":{\"data\":{\"bar\":[{\"error_x\":{\"color\":\"#2a3f5f\"},\"error_y\":{\"color\":\"#2a3f5f\"},\"marker\":{\"line\":{\"color\":\"#E5ECF6\",\"width\":0.5},\"pattern\":{\"fillmode\":\"overlay\",\"size\":10,\"solidity\":0.2}},\"type\":\"bar\"}],\"barpolar\":[{\"marker\":{\"line\":{\"color\":\"#E5ECF6\",\"width\":0.5},\"pattern\":{\"fillmode\":\"overlay\",\"size\":10,\"solidity\":0.2}},\"type\":\"barpolar\"}],\"carpet\":[{\"aaxis\":{\"endlinecolor\":\"#2a3f5f\",\"gridcolor\":\"white\",\"linecolor\":\"white\",\"minorgridcolor\":\"white\",\"startlinecolor\":\"#2a3f5f\"},\"baxis\":{\"endlinecolor\":\"#2a3f5f\",\"gridcolor\":\"white\",\"linecolor\":\"white\",\"minorgridcolor\":\"white\",\"startlinecolor\":\"#2a3f5f\"},\"type\":\"carpet\"}],\"choropleth\":[{\"colorbar\":{\"outlinewidth\":0,\"ticks\":\"\"},\"type\":\"choropleth\"}],\"contour\":[{\"colorbar\":{\"outlinewidth\":0,\"ticks\":\"\"},\"colorscale\":[[0.0,\"#0d0887\"],[0.1111111111111111,\"#46039f\"],[0.2222222222222222,\"#7201a8\"],[0.3333333333333333,\"#9c179e\"],[0.4444444444444444,\"#bd3786\"],[0.5555555555555556,\"#d8576b\"],[0.6666666666666666,\"#ed7953\"],[0.7777777777777778,\"#fb9f3a\"],[0.8888888888888888,\"#fdca26\"],[1.0,\"#f0f921\"]],\"type\":\"contour\"}],\"contourcarpet\":[{\"colorbar\":{\"outlinewidth\":0,\"ticks\":\"\"},\"type\":\"contourcarpet\"}],\"heatmap\":[{\"colorbar\":{\"outlinewidth\":0,\"ticks\":\"\"},\"colorscale\":[[0.0,\"#0d0887\"],[0.1111111111111111,\"#46039f\"],[0.2222222222222222,\"#7201a8\"],[0.3333333333333333,\"#9c179e\"],[0.4444444444444444,\"#bd3786\"],[0.5555555555555556,\"#d8576b\"],[0.6666666666666666,\"#ed7953\"],[0.7777777777777778,\"#fb9f3a\"],[0.8888888888888888,\"#fdca26\"],[1.0,\"#f0f921\"]],\"type\":\"heatmap\"}],\"heatmapgl\":[{\"colorbar\":{\"outlinewidth\":0,\"ticks\":\"\"},\"colorscale\":[[0.0,\"#0d0887\"],[0.1111111111111111,\"#46039f\"],[0.2222222222222222,\"#7201a8\"],[0.3333333333333333,\"#9c179e\"],[0.4444444444444444,\"#bd3786\"],[0.5555555555555556,\"#d8576b\"],[0.6666666666666666,\"#ed7953\"],[0.7777777777777778,\"#fb9f3a\"],[0.8888888888888888,\"#fdca26\"],[1.0,\"#f0f921\"]],\"type\":\"heatmapgl\"}],\"histogram\":[{\"marker\":{\"pattern\":{\"fillmode\":\"overlay\",\"size\":10,\"solidity\":0.2}},\"type\":\"histogram\"}],\"histogram2d\":[{\"colorbar\":{\"outlinewidth\":0,\"ticks\":\"\"},\"colorscale\":[[0.0,\"#0d0887\"],[0.1111111111111111,\"#46039f\"],[0.2222222222222222,\"#7201a8\"],[0.3333333333333333,\"#9c179e\"],[0.4444444444444444,\"#bd3786\"],[0.5555555555555556,\"#d8576b\"],[0.6666666666666666,\"#ed7953\"],[0.7777777777777778,\"#fb9f3a\"],[0.8888888888888888,\"#fdca26\"],[1.0,\"#f0f921\"]],\"type\":\"histogram2d\"}],\"histogram2dcontour\":[{\"colorbar\":{\"outlinewidth\":0,\"ticks\":\"\"},\"colorscale\":[[0.0,\"#0d0887\"],[0.1111111111111111,\"#46039f\"],[0.2222222222222222,\"#7201a8\"],[0.3333333333333333,\"#9c179e\"],[0.4444444444444444,\"#bd3786\"],[0.5555555555555556,\"#d8576b\"],[0.6666666666666666,\"#ed7953\"],[0.7777777777777778,\"#fb9f3a\"],[0.8888888888888888,\"#fdca26\"],[1.0,\"#f0f921\"]],\"type\":\"histogram2dcontour\"}],\"mesh3d\":[{\"colorbar\":{\"outlinewidth\":0,\"ticks\":\"\"},\"type\":\"mesh3d\"}],\"parcoords\":[{\"line\":{\"colorbar\":{\"outlinewidth\":0,\"ticks\":\"\"}},\"type\":\"parcoords\"}],\"pie\":[{\"automargin\":true,\"type\":\"pie\"}],\"scatter\":[{\"marker\":{\"colorbar\":{\"outlinewidth\":0,\"ticks\":\"\"}},\"type\":\"scatter\"}],\"scatter3d\":[{\"line\":{\"colorbar\":{\"outlinewidth\":0,\"ticks\":\"\"}},\"marker\":{\"colorbar\":{\"outlinewidth\":0,\"ticks\":\"\"}},\"type\":\"scatter3d\"}],\"scattercarpet\":[{\"marker\":{\"colorbar\":{\"outlinewidth\":0,\"ticks\":\"\"}},\"type\":\"scattercarpet\"}],\"scattergeo\":[{\"marker\":{\"colorbar\":{\"outlinewidth\":0,\"ticks\":\"\"}},\"type\":\"scattergeo\"}],\"scattergl\":[{\"marker\":{\"colorbar\":{\"outlinewidth\":0,\"ticks\":\"\"}},\"type\":\"scattergl\"}],\"scattermapbox\":[{\"marker\":{\"colorbar\":{\"outlinewidth\":0,\"ticks\":\"\"}},\"type\":\"scattermapbox\"}],\"scatterpolar\":[{\"marker\":{\"colorbar\":{\"outlinewidth\":0,\"ticks\":\"\"}},\"type\":\"scatterpolar\"}],\"scatterpolargl\":[{\"marker\":{\"colorbar\":{\"outlinewidth\":0,\"ticks\":\"\"}},\"type\":\"scatterpolargl\"}],\"scatterternary\":[{\"marker\":{\"colorbar\":{\"outlinewidth\":0,\"ticks\":\"\"}},\"type\":\"scatterternary\"}],\"surface\":[{\"colorbar\":{\"outlinewidth\":0,\"ticks\":\"\"},\"colorscale\":[[0.0,\"#0d0887\"],[0.1111111111111111,\"#46039f\"],[0.2222222222222222,\"#7201a8\"],[0.3333333333333333,\"#9c179e\"],[0.4444444444444444,\"#bd3786\"],[0.5555555555555556,\"#d8576b\"],[0.6666666666666666,\"#ed7953\"],[0.7777777777777778,\"#fb9f3a\"],[0.8888888888888888,\"#fdca26\"],[1.0,\"#f0f921\"]],\"type\":\"surface\"}],\"table\":[{\"cells\":{\"fill\":{\"color\":\"#EBF0F8\"},\"line\":{\"color\":\"white\"}},\"header\":{\"fill\":{\"color\":\"#C8D4E3\"},\"line\":{\"color\":\"white\"}},\"type\":\"table\"}]},\"layout\":{\"annotationdefaults\":{\"arrowcolor\":\"#2a3f5f\",\"arrowhead\":0,\"arrowwidth\":1},\"autotypenumbers\":\"strict\",\"coloraxis\":{\"colorbar\":{\"outlinewidth\":0,\"ticks\":\"\"}},\"colorscale\":{\"diverging\":[[0,\"#8e0152\"],[0.1,\"#c51b7d\"],[0.2,\"#de77ae\"],[0.3,\"#f1b6da\"],[0.4,\"#fde0ef\"],[0.5,\"#f7f7f7\"],[0.6,\"#e6f5d0\"],[0.7,\"#b8e186\"],[0.8,\"#7fbc41\"],[0.9,\"#4d9221\"],[1,\"#276419\"]],\"sequential\":[[0.0,\"#0d0887\"],[0.1111111111111111,\"#46039f\"],[0.2222222222222222,\"#7201a8\"],[0.3333333333333333,\"#9c179e\"],[0.4444444444444444,\"#bd3786\"],[0.5555555555555556,\"#d8576b\"],[0.6666666666666666,\"#ed7953\"],[0.7777777777777778,\"#fb9f3a\"],[0.8888888888888888,\"#fdca26\"],[1.0,\"#f0f921\"]],\"sequentialminus\":[[0.0,\"#0d0887\"],[0.1111111111111111,\"#46039f\"],[0.2222222222222222,\"#7201a8\"],[0.3333333333333333,\"#9c179e\"],[0.4444444444444444,\"#bd3786\"],[0.5555555555555556,\"#d8576b\"],[0.6666666666666666,\"#ed7953\"],[0.7777777777777778,\"#fb9f3a\"],[0.8888888888888888,\"#fdca26\"],[1.0,\"#f0f921\"]]},\"colorway\":[\"#636efa\",\"#EF553B\",\"#00cc96\",\"#ab63fa\",\"#FFA15A\",\"#19d3f3\",\"#FF6692\",\"#B6E880\",\"#FF97FF\",\"#FECB52\"],\"font\":{\"color\":\"#2a3f5f\"},\"geo\":{\"bgcolor\":\"white\",\"lakecolor\":\"white\",\"landcolor\":\"#E5ECF6\",\"showlakes\":true,\"showland\":true,\"subunitcolor\":\"white\"},\"hoverlabel\":{\"align\":\"left\"},\"hovermode\":\"closest\",\"mapbox\":{\"style\":\"light\"},\"paper_bgcolor\":\"white\",\"plot_bgcolor\":\"#E5ECF6\",\"polar\":{\"angularaxis\":{\"gridcolor\":\"white\",\"linecolor\":\"white\",\"ticks\":\"\"},\"bgcolor\":\"#E5ECF6\",\"radialaxis\":{\"gridcolor\":\"white\",\"linecolor\":\"white\",\"ticks\":\"\"}},\"scene\":{\"xaxis\":{\"backgroundcolor\":\"#E5ECF6\",\"gridcolor\":\"white\",\"gridwidth\":2,\"linecolor\":\"white\",\"showbackground\":true,\"ticks\":\"\",\"zerolinecolor\":\"white\"},\"yaxis\":{\"backgroundcolor\":\"#E5ECF6\",\"gridcolor\":\"white\",\"gridwidth\":2,\"linecolor\":\"white\",\"showbackground\":true,\"ticks\":\"\",\"zerolinecolor\":\"white\"},\"zaxis\":{\"backgroundcolor\":\"#E5ECF6\",\"gridcolor\":\"white\",\"gridwidth\":2,\"linecolor\":\"white\",\"showbackground\":true,\"ticks\":\"\",\"zerolinecolor\":\"white\"}},\"shapedefaults\":{\"line\":{\"color\":\"#2a3f5f\"}},\"ternary\":{\"aaxis\":{\"gridcolor\":\"white\",\"linecolor\":\"white\",\"ticks\":\"\"},\"baxis\":{\"gridcolor\":\"white\",\"linecolor\":\"white\",\"ticks\":\"\"},\"bgcolor\":\"#E5ECF6\",\"caxis\":{\"gridcolor\":\"white\",\"linecolor\":\"white\",\"ticks\":\"\"}},\"title\":{\"x\":0.05},\"xaxis\":{\"automargin\":true,\"gridcolor\":\"white\",\"linecolor\":\"white\",\"ticks\":\"\",\"title\":{\"standoff\":15},\"zerolinecolor\":\"white\",\"zerolinewidth\":2},\"yaxis\":{\"automargin\":true,\"gridcolor\":\"white\",\"linecolor\":\"white\",\"ticks\":\"\",\"title\":{\"standoff\":15},\"zerolinecolor\":\"white\",\"zerolinewidth\":2}}},\"xaxis\":{\"anchor\":\"y\",\"domain\":[0.0,1.0],\"title\":{\"text\":\"RM\"}},\"yaxis\":{\"anchor\":\"x\",\"domain\":[0.0,1.0],\"title\":{\"text\":\"MEDV\"}},\"legend\":{\"tracegroupgap\":0},\"margin\":{\"t\":60}},                        {\"responsive\": true}                    ).then(function(){\n",
              "                            \n",
              "var gd = document.getElementById('06c35c31-aa39-473f-9e07-c0d6f4804b01');\n",
              "var x = new MutationObserver(function (mutations, observer) {{\n",
              "        var display = window.getComputedStyle(gd).display;\n",
              "        if (!display || display === 'none') {{\n",
              "            console.log([gd, 'removed!']);\n",
              "            Plotly.purge(gd);\n",
              "            observer.disconnect();\n",
              "        }}\n",
              "}});\n",
              "\n",
              "// Listen for the removal of the full notebook cells\n",
              "var notebookContainer = gd.closest('#notebook-container');\n",
              "if (notebookContainer) {{\n",
              "    x.observe(notebookContainer, {childList: true});\n",
              "}}\n",
              "\n",
              "// Listen for the clearing of the current output cell\n",
              "var outputEl = gd.closest('.output');\n",
              "if (outputEl) {{\n",
              "    x.observe(outputEl, {childList: true});\n",
              "}}\n",
              "\n",
              "                        })                };                            </script>        </div>\n",
              "</body>\n",
              "</html>"
            ]
          },
          "metadata": {},
          "output_type": "display_data"
        }
      ],
      "source": [
        "!pip install pyyaml==5.4.1\n",
        "import plotly.express as px\n",
        "fig = px.scatter(data, x=data.RM, y=data.MEDV)\n",
        "fig.show()"
      ]
    },
    {
      "cell_type": "code",
      "execution_count": null,
      "metadata": {
        "colab": {
          "base_uri": "https://localhost:8080/",
          "height": 542
        },
        "id": "4jH6qiNGUPc9",
        "outputId": "7b99224e-f9c0-4919-cc48-60c2160480ca"
      },
      "outputs": [
        {
          "data": {
            "text/html": [
              "<html>\n",
              "<head><meta charset=\"utf-8\" /></head>\n",
              "<body>\n",
              "    <div>            <script src=\"https://cdnjs.cloudflare.com/ajax/libs/mathjax/2.7.5/MathJax.js?config=TeX-AMS-MML_SVG\"></script><script type=\"text/javascript\">if (window.MathJax) {MathJax.Hub.Config({SVG: {font: \"STIX-Web\"}});}</script>                <script type=\"text/javascript\">window.PlotlyConfig = {MathJaxConfig: 'local'};</script>\n",
              "        <script src=\"https://cdn.plot.ly/plotly-2.8.3.min.js\"></script>                <div id=\"8c907c77-742a-442d-95f4-3d197e96d89f\" class=\"plotly-graph-div\" style=\"height:525px; width:100%;\"></div>            <script type=\"text/javascript\">                                    window.PLOTLYENV=window.PLOTLYENV || {};                                    if (document.getElementById(\"8c907c77-742a-442d-95f4-3d197e96d89f\")) {                    Plotly.newPlot(                        \"8c907c77-742a-442d-95f4-3d197e96d89f\",                        [{\"hovertemplate\":\"LSTAT=%{x}<br>MEDV=%{y}<extra></extra>\",\"legendgroup\":\"\",\"marker\":{\"color\":\"#636efa\",\"symbol\":\"circle\"},\"mode\":\"markers\",\"name\":\"\",\"orientation\":\"v\",\"showlegend\":false,\"x\":[4.98,9.14,4.03,2.94,5.33,5.21,12.43,19.15,29.93,17.1,20.45,13.27,15.71,8.26,10.26,8.47,6.58,14.67,11.69,11.28,21.02,13.83,18.72,19.88,16.3,16.51,14.81,17.28,12.8,11.98,22.6,13.04,27.71,18.35,20.34,9.68,11.41,8.77,10.13,4.32,1.98,4.84,5.81,7.44,9.55,10.21,14.15,18.8,30.81,16.2,13.45,9.43,5.28,8.43,14.8,4.81,5.77,3.95,6.86,9.22,13.15,14.44,6.73,9.5,8.05,4.67,10.24,8.1,13.09,8.79,6.72,9.88,5.52,7.54,6.78,8.94,11.97,10.27,12.34,9.1,5.29,7.22,6.72,7.51,9.62,6.53,12.86,8.44,5.5,5.7,8.81,8.2,8.16,6.21,10.59,6.65,11.34,4.21,3.57,6.19,9.42,7.67,10.63,13.44,12.33,16.47,18.66,14.09,12.27,15.55,13.0,10.16,16.21,17.09,10.45,15.76,12.04,10.3,15.37,13.61,14.37,14.27,17.93,25.41,17.58,14.81,27.26,17.19,15.39,18.34,12.6,12.26,11.12,15.03,17.31,16.96,16.9,14.59,21.32,18.46,24.16,34.41,26.82,26.42,29.29,27.8,16.65,29.53,28.32,21.45,14.1,13.28,12.12,15.79,15.12,15.02,16.14,4.59,6.43,7.39,5.5,1.73,1.92,3.32,11.64,9.81,3.7,12.14,11.1,11.32,14.43,12.03,14.69,9.04,9.64,5.33,10.11,6.29,6.92,5.04,7.56,9.45,4.82,5.68,13.98,13.15,4.45,6.68,4.56,5.39,5.1,4.69,2.87,5.03,4.38,2.97,4.08,8.61,6.62,4.56,4.45,7.43,3.11,3.81,2.88,10.87,10.97,18.06,14.66,23.09,17.27,23.98,16.03,9.38,29.55,9.47,13.51,9.69,17.92,10.5,9.71,21.46,9.93,7.6,4.14,4.63,3.13,6.36,3.92,3.76,11.65,5.25,2.47,3.95,8.05,10.88,9.54,4.73,6.36,7.37,11.38,12.4,11.22,5.19,12.5,18.46,9.16,10.15,9.52,6.56,5.9,3.59,3.53,3.54,6.57,9.25,3.11,5.12,7.79,6.9,9.59,7.26,5.91,11.25,8.1,10.45,14.79,7.44,3.16,13.65,13.0,6.59,7.73,6.58,3.53,2.98,6.05,4.16,7.19,4.85,3.76,4.59,3.01,3.16,7.85,8.23,12.93,7.14,7.6,9.51,3.33,3.56,4.7,8.58,10.4,6.27,7.39,15.84,4.97,4.74,6.07,9.5,8.67,4.86,6.93,8.93,6.47,7.53,4.54,9.97,12.64,5.98,11.72,7.9,9.28,11.5,18.33,15.94,10.36,12.73,7.2,6.87,7.7,11.74,6.12,5.08,6.15,12.79,9.97,7.34,9.09,12.43,7.83,5.68,6.75,8.01,9.8,10.56,8.51,9.74,9.29,5.49,8.65,7.18,4.61,10.53,12.67,6.36,5.99,5.89,5.98,5.49,7.79,4.5,8.05,5.57,17.6,13.27,11.48,12.67,7.79,14.19,10.19,14.64,5.29,7.12,14.0,13.33,3.26,3.73,2.96,9.53,8.88,34.77,37.97,13.44,23.24,21.24,23.69,21.78,17.21,21.08,23.6,24.56,30.63,30.81,28.28,31.99,30.62,20.85,17.11,18.76,25.68,15.17,16.35,17.12,19.37,19.92,30.59,29.97,26.77,20.32,20.31,19.77,27.38,22.98,23.34,12.13,26.4,19.78,10.11,21.22,34.37,20.08,36.98,29.05,25.79,26.64,20.62,22.74,15.02,15.7,14.1,23.29,17.16,24.39,15.69,14.52,21.52,24.08,17.64,19.69,12.03,16.22,15.17,23.27,18.05,26.45,34.02,22.88,22.11,19.52,16.59,18.85,23.79,23.98,17.79,16.44,18.13,19.31,17.44,17.73,17.27,16.74,18.71,18.13,19.01,16.94,16.23,14.7,16.42,14.65,13.99,10.29,13.22,14.13,17.15,21.32,18.13,14.76,16.29,12.87,14.36,11.66,18.14,24.1,18.68,24.91,18.03,13.11,10.74,7.74,7.01,10.42,13.34,10.58,14.98,11.45,18.06,23.97,29.68,18.07,13.35,12.01,13.59,17.6,21.14,14.1,12.92,15.1,14.33,9.67,9.08,5.64,6.48,7.88],\"xaxis\":\"x\",\"y\":[24.0,21.6,34.7,33.4,36.2,28.7,22.9,27.1,16.5,18.9,15.0,18.9,21.7,20.4,18.2,19.9,23.1,17.5,20.2,18.2,13.6,19.6,15.2,14.5,15.6,13.9,16.6,14.8,18.4,21.0,12.7,14.5,13.2,13.1,13.5,18.9,20.0,21.0,24.7,30.8,34.9,26.6,25.3,24.7,21.2,19.3,20.0,16.6,14.4,19.4,19.7,20.5,25.0,23.4,18.9,35.4,24.7,31.6,23.3,19.6,18.7,16.0,22.2,25.0,33.0,23.5,19.4,22.0,17.4,20.9,24.2,21.7,22.8,23.4,24.1,21.4,20.0,20.8,21.2,20.3,28.0,23.9,24.8,22.9,23.9,26.6,22.5,22.2,23.6,28.7,22.6,22.0,22.9,25.0,20.6,28.4,21.4,38.7,43.8,33.2,27.5,26.5,18.6,19.3,20.1,19.5,19.5,20.4,19.8,19.4,21.7,22.8,18.8,18.7,18.5,18.3,21.2,19.2,20.4,19.3,22.0,20.3,20.5,17.3,18.8,21.4,15.7,16.2,18.0,14.3,19.2,19.6,23.0,18.4,15.6,18.1,17.4,17.1,13.3,17.8,14.0,14.4,13.4,15.6,11.8,13.8,15.6,14.6,17.8,15.4,21.5,19.6,15.3,19.4,17.0,15.6,13.1,41.3,24.3,23.3,27.0,50.0,50.0,50.0,22.7,25.0,50.0,23.8,23.8,22.3,17.4,19.1,23.1,23.6,22.6,29.4,23.2,24.6,29.9,37.2,39.8,36.2,37.9,32.5,26.4,29.6,50.0,32.0,29.8,34.9,37.0,30.5,36.4,31.1,29.1,50.0,33.3,30.3,34.6,34.9,32.9,24.1,42.3,48.5,50.0,22.6,24.4,22.5,24.4,20.0,21.7,19.3,22.4,28.1,23.7,25.0,23.3,28.7,21.5,23.0,26.7,21.7,27.5,30.1,44.8,50.0,37.6,31.6,46.7,31.5,24.3,31.7,41.7,48.3,29.0,24.0,25.1,31.5,23.7,23.3,22.0,20.1,22.2,23.7,17.6,18.5,24.3,20.5,24.5,26.2,24.4,24.8,29.6,42.8,21.9,20.9,44.0,50.0,36.0,30.1,33.8,43.1,48.8,31.0,36.5,22.8,30.7,50.0,43.5,20.7,21.1,25.2,24.4,35.2,32.4,32.0,33.2,33.1,29.1,35.1,45.4,35.4,46.0,50.0,32.2,22.0,20.1,23.2,22.3,24.8,28.5,37.3,27.9,23.9,21.7,28.6,27.1,20.3,22.5,29.0,24.8,22.0,26.4,33.1,36.1,28.4,33.4,28.2,22.8,20.3,16.1,22.1,19.4,21.6,23.8,16.2,17.8,19.8,23.1,21.0,23.8,23.1,20.4,18.5,25.0,24.6,23.0,22.2,19.3,22.6,19.8,17.1,19.4,22.2,20.7,21.1,19.5,18.5,20.6,19.0,18.7,32.7,16.5,23.9,31.2,17.5,17.2,23.1,24.5,26.6,22.9,24.1,18.6,30.1,18.2,20.6,17.8,21.7,22.7,22.6,25.0,19.9,20.8,16.8,21.9,27.5,21.9,23.1,50.0,50.0,50.0,50.0,50.0,13.8,13.8,15.0,13.9,13.3,13.1,10.2,10.4,10.9,11.3,12.3,8.8,7.2,10.5,7.4,10.2,11.5,15.1,23.2,9.7,13.8,12.7,13.1,12.5,8.5,5.0,6.3,5.6,7.2,12.1,8.3,8.5,5.0,11.9,27.9,17.2,27.5,15.0,17.2,17.9,16.3,7.0,7.2,7.5,10.4,8.8,8.4,16.7,14.2,20.8,13.4,11.7,8.3,10.2,10.9,11.0,9.5,14.5,14.1,16.1,14.3,11.7,13.4,9.6,8.7,8.4,12.8,10.5,17.1,18.4,15.4,10.8,11.8,14.9,12.6,14.1,13.0,13.4,15.2,16.1,17.8,14.9,14.1,12.7,13.5,14.9,20.0,16.4,17.7,19.5,20.2,21.4,19.9,19.0,19.1,19.1,20.1,19.9,19.6,23.2,29.8,13.8,13.3,16.7,12.0,14.6,21.4,23.0,23.7,25.0,21.8,20.6,21.2,19.1,20.6,15.2,7.0,8.1,13.6,20.1,21.8,24.5,23.1,19.7,18.3,21.2,17.5,16.8,22.4,20.6,23.9,22.0,11.9],\"yaxis\":\"y\",\"type\":\"scatter\"}],                        {\"template\":{\"data\":{\"bar\":[{\"error_x\":{\"color\":\"#2a3f5f\"},\"error_y\":{\"color\":\"#2a3f5f\"},\"marker\":{\"line\":{\"color\":\"#E5ECF6\",\"width\":0.5},\"pattern\":{\"fillmode\":\"overlay\",\"size\":10,\"solidity\":0.2}},\"type\":\"bar\"}],\"barpolar\":[{\"marker\":{\"line\":{\"color\":\"#E5ECF6\",\"width\":0.5},\"pattern\":{\"fillmode\":\"overlay\",\"size\":10,\"solidity\":0.2}},\"type\":\"barpolar\"}],\"carpet\":[{\"aaxis\":{\"endlinecolor\":\"#2a3f5f\",\"gridcolor\":\"white\",\"linecolor\":\"white\",\"minorgridcolor\":\"white\",\"startlinecolor\":\"#2a3f5f\"},\"baxis\":{\"endlinecolor\":\"#2a3f5f\",\"gridcolor\":\"white\",\"linecolor\":\"white\",\"minorgridcolor\":\"white\",\"startlinecolor\":\"#2a3f5f\"},\"type\":\"carpet\"}],\"choropleth\":[{\"colorbar\":{\"outlinewidth\":0,\"ticks\":\"\"},\"type\":\"choropleth\"}],\"contour\":[{\"colorbar\":{\"outlinewidth\":0,\"ticks\":\"\"},\"colorscale\":[[0.0,\"#0d0887\"],[0.1111111111111111,\"#46039f\"],[0.2222222222222222,\"#7201a8\"],[0.3333333333333333,\"#9c179e\"],[0.4444444444444444,\"#bd3786\"],[0.5555555555555556,\"#d8576b\"],[0.6666666666666666,\"#ed7953\"],[0.7777777777777778,\"#fb9f3a\"],[0.8888888888888888,\"#fdca26\"],[1.0,\"#f0f921\"]],\"type\":\"contour\"}],\"contourcarpet\":[{\"colorbar\":{\"outlinewidth\":0,\"ticks\":\"\"},\"type\":\"contourcarpet\"}],\"heatmap\":[{\"colorbar\":{\"outlinewidth\":0,\"ticks\":\"\"},\"colorscale\":[[0.0,\"#0d0887\"],[0.1111111111111111,\"#46039f\"],[0.2222222222222222,\"#7201a8\"],[0.3333333333333333,\"#9c179e\"],[0.4444444444444444,\"#bd3786\"],[0.5555555555555556,\"#d8576b\"],[0.6666666666666666,\"#ed7953\"],[0.7777777777777778,\"#fb9f3a\"],[0.8888888888888888,\"#fdca26\"],[1.0,\"#f0f921\"]],\"type\":\"heatmap\"}],\"heatmapgl\":[{\"colorbar\":{\"outlinewidth\":0,\"ticks\":\"\"},\"colorscale\":[[0.0,\"#0d0887\"],[0.1111111111111111,\"#46039f\"],[0.2222222222222222,\"#7201a8\"],[0.3333333333333333,\"#9c179e\"],[0.4444444444444444,\"#bd3786\"],[0.5555555555555556,\"#d8576b\"],[0.6666666666666666,\"#ed7953\"],[0.7777777777777778,\"#fb9f3a\"],[0.8888888888888888,\"#fdca26\"],[1.0,\"#f0f921\"]],\"type\":\"heatmapgl\"}],\"histogram\":[{\"marker\":{\"pattern\":{\"fillmode\":\"overlay\",\"size\":10,\"solidity\":0.2}},\"type\":\"histogram\"}],\"histogram2d\":[{\"colorbar\":{\"outlinewidth\":0,\"ticks\":\"\"},\"colorscale\":[[0.0,\"#0d0887\"],[0.1111111111111111,\"#46039f\"],[0.2222222222222222,\"#7201a8\"],[0.3333333333333333,\"#9c179e\"],[0.4444444444444444,\"#bd3786\"],[0.5555555555555556,\"#d8576b\"],[0.6666666666666666,\"#ed7953\"],[0.7777777777777778,\"#fb9f3a\"],[0.8888888888888888,\"#fdca26\"],[1.0,\"#f0f921\"]],\"type\":\"histogram2d\"}],\"histogram2dcontour\":[{\"colorbar\":{\"outlinewidth\":0,\"ticks\":\"\"},\"colorscale\":[[0.0,\"#0d0887\"],[0.1111111111111111,\"#46039f\"],[0.2222222222222222,\"#7201a8\"],[0.3333333333333333,\"#9c179e\"],[0.4444444444444444,\"#bd3786\"],[0.5555555555555556,\"#d8576b\"],[0.6666666666666666,\"#ed7953\"],[0.7777777777777778,\"#fb9f3a\"],[0.8888888888888888,\"#fdca26\"],[1.0,\"#f0f921\"]],\"type\":\"histogram2dcontour\"}],\"mesh3d\":[{\"colorbar\":{\"outlinewidth\":0,\"ticks\":\"\"},\"type\":\"mesh3d\"}],\"parcoords\":[{\"line\":{\"colorbar\":{\"outlinewidth\":0,\"ticks\":\"\"}},\"type\":\"parcoords\"}],\"pie\":[{\"automargin\":true,\"type\":\"pie\"}],\"scatter\":[{\"marker\":{\"colorbar\":{\"outlinewidth\":0,\"ticks\":\"\"}},\"type\":\"scatter\"}],\"scatter3d\":[{\"line\":{\"colorbar\":{\"outlinewidth\":0,\"ticks\":\"\"}},\"marker\":{\"colorbar\":{\"outlinewidth\":0,\"ticks\":\"\"}},\"type\":\"scatter3d\"}],\"scattercarpet\":[{\"marker\":{\"colorbar\":{\"outlinewidth\":0,\"ticks\":\"\"}},\"type\":\"scattercarpet\"}],\"scattergeo\":[{\"marker\":{\"colorbar\":{\"outlinewidth\":0,\"ticks\":\"\"}},\"type\":\"scattergeo\"}],\"scattergl\":[{\"marker\":{\"colorbar\":{\"outlinewidth\":0,\"ticks\":\"\"}},\"type\":\"scattergl\"}],\"scattermapbox\":[{\"marker\":{\"colorbar\":{\"outlinewidth\":0,\"ticks\":\"\"}},\"type\":\"scattermapbox\"}],\"scatterpolar\":[{\"marker\":{\"colorbar\":{\"outlinewidth\":0,\"ticks\":\"\"}},\"type\":\"scatterpolar\"}],\"scatterpolargl\":[{\"marker\":{\"colorbar\":{\"outlinewidth\":0,\"ticks\":\"\"}},\"type\":\"scatterpolargl\"}],\"scatterternary\":[{\"marker\":{\"colorbar\":{\"outlinewidth\":0,\"ticks\":\"\"}},\"type\":\"scatterternary\"}],\"surface\":[{\"colorbar\":{\"outlinewidth\":0,\"ticks\":\"\"},\"colorscale\":[[0.0,\"#0d0887\"],[0.1111111111111111,\"#46039f\"],[0.2222222222222222,\"#7201a8\"],[0.3333333333333333,\"#9c179e\"],[0.4444444444444444,\"#bd3786\"],[0.5555555555555556,\"#d8576b\"],[0.6666666666666666,\"#ed7953\"],[0.7777777777777778,\"#fb9f3a\"],[0.8888888888888888,\"#fdca26\"],[1.0,\"#f0f921\"]],\"type\":\"surface\"}],\"table\":[{\"cells\":{\"fill\":{\"color\":\"#EBF0F8\"},\"line\":{\"color\":\"white\"}},\"header\":{\"fill\":{\"color\":\"#C8D4E3\"},\"line\":{\"color\":\"white\"}},\"type\":\"table\"}]},\"layout\":{\"annotationdefaults\":{\"arrowcolor\":\"#2a3f5f\",\"arrowhead\":0,\"arrowwidth\":1},\"autotypenumbers\":\"strict\",\"coloraxis\":{\"colorbar\":{\"outlinewidth\":0,\"ticks\":\"\"}},\"colorscale\":{\"diverging\":[[0,\"#8e0152\"],[0.1,\"#c51b7d\"],[0.2,\"#de77ae\"],[0.3,\"#f1b6da\"],[0.4,\"#fde0ef\"],[0.5,\"#f7f7f7\"],[0.6,\"#e6f5d0\"],[0.7,\"#b8e186\"],[0.8,\"#7fbc41\"],[0.9,\"#4d9221\"],[1,\"#276419\"]],\"sequential\":[[0.0,\"#0d0887\"],[0.1111111111111111,\"#46039f\"],[0.2222222222222222,\"#7201a8\"],[0.3333333333333333,\"#9c179e\"],[0.4444444444444444,\"#bd3786\"],[0.5555555555555556,\"#d8576b\"],[0.6666666666666666,\"#ed7953\"],[0.7777777777777778,\"#fb9f3a\"],[0.8888888888888888,\"#fdca26\"],[1.0,\"#f0f921\"]],\"sequentialminus\":[[0.0,\"#0d0887\"],[0.1111111111111111,\"#46039f\"],[0.2222222222222222,\"#7201a8\"],[0.3333333333333333,\"#9c179e\"],[0.4444444444444444,\"#bd3786\"],[0.5555555555555556,\"#d8576b\"],[0.6666666666666666,\"#ed7953\"],[0.7777777777777778,\"#fb9f3a\"],[0.8888888888888888,\"#fdca26\"],[1.0,\"#f0f921\"]]},\"colorway\":[\"#636efa\",\"#EF553B\",\"#00cc96\",\"#ab63fa\",\"#FFA15A\",\"#19d3f3\",\"#FF6692\",\"#B6E880\",\"#FF97FF\",\"#FECB52\"],\"font\":{\"color\":\"#2a3f5f\"},\"geo\":{\"bgcolor\":\"white\",\"lakecolor\":\"white\",\"landcolor\":\"#E5ECF6\",\"showlakes\":true,\"showland\":true,\"subunitcolor\":\"white\"},\"hoverlabel\":{\"align\":\"left\"},\"hovermode\":\"closest\",\"mapbox\":{\"style\":\"light\"},\"paper_bgcolor\":\"white\",\"plot_bgcolor\":\"#E5ECF6\",\"polar\":{\"angularaxis\":{\"gridcolor\":\"white\",\"linecolor\":\"white\",\"ticks\":\"\"},\"bgcolor\":\"#E5ECF6\",\"radialaxis\":{\"gridcolor\":\"white\",\"linecolor\":\"white\",\"ticks\":\"\"}},\"scene\":{\"xaxis\":{\"backgroundcolor\":\"#E5ECF6\",\"gridcolor\":\"white\",\"gridwidth\":2,\"linecolor\":\"white\",\"showbackground\":true,\"ticks\":\"\",\"zerolinecolor\":\"white\"},\"yaxis\":{\"backgroundcolor\":\"#E5ECF6\",\"gridcolor\":\"white\",\"gridwidth\":2,\"linecolor\":\"white\",\"showbackground\":true,\"ticks\":\"\",\"zerolinecolor\":\"white\"},\"zaxis\":{\"backgroundcolor\":\"#E5ECF6\",\"gridcolor\":\"white\",\"gridwidth\":2,\"linecolor\":\"white\",\"showbackground\":true,\"ticks\":\"\",\"zerolinecolor\":\"white\"}},\"shapedefaults\":{\"line\":{\"color\":\"#2a3f5f\"}},\"ternary\":{\"aaxis\":{\"gridcolor\":\"white\",\"linecolor\":\"white\",\"ticks\":\"\"},\"baxis\":{\"gridcolor\":\"white\",\"linecolor\":\"white\",\"ticks\":\"\"},\"bgcolor\":\"#E5ECF6\",\"caxis\":{\"gridcolor\":\"white\",\"linecolor\":\"white\",\"ticks\":\"\"}},\"title\":{\"x\":0.05},\"xaxis\":{\"automargin\":true,\"gridcolor\":\"white\",\"linecolor\":\"white\",\"ticks\":\"\",\"title\":{\"standoff\":15},\"zerolinecolor\":\"white\",\"zerolinewidth\":2},\"yaxis\":{\"automargin\":true,\"gridcolor\":\"white\",\"linecolor\":\"white\",\"ticks\":\"\",\"title\":{\"standoff\":15},\"zerolinecolor\":\"white\",\"zerolinewidth\":2}}},\"xaxis\":{\"anchor\":\"y\",\"domain\":[0.0,1.0],\"title\":{\"text\":\"LSTAT\"}},\"yaxis\":{\"anchor\":\"x\",\"domain\":[0.0,1.0],\"title\":{\"text\":\"MEDV\"}},\"legend\":{\"tracegroupgap\":0},\"margin\":{\"t\":60}},                        {\"responsive\": true}                    ).then(function(){\n",
              "                            \n",
              "var gd = document.getElementById('8c907c77-742a-442d-95f4-3d197e96d89f');\n",
              "var x = new MutationObserver(function (mutations, observer) {{\n",
              "        var display = window.getComputedStyle(gd).display;\n",
              "        if (!display || display === 'none') {{\n",
              "            console.log([gd, 'removed!']);\n",
              "            Plotly.purge(gd);\n",
              "            observer.disconnect();\n",
              "        }}\n",
              "}});\n",
              "\n",
              "// Listen for the removal of the full notebook cells\n",
              "var notebookContainer = gd.closest('#notebook-container');\n",
              "if (notebookContainer) {{\n",
              "    x.observe(notebookContainer, {childList: true});\n",
              "}}\n",
              "\n",
              "// Listen for the clearing of the current output cell\n",
              "var outputEl = gd.closest('.output');\n",
              "if (outputEl) {{\n",
              "    x.observe(outputEl, {childList: true});\n",
              "}}\n",
              "\n",
              "                        })                };                            </script>        </div>\n",
              "</body>\n",
              "</html>"
            ]
          },
          "metadata": {},
          "output_type": "display_data"
        }
      ],
      "source": [
        "fig = px.scatter(data, x=data.LSTAT, y=data.MEDV)\n",
        "fig.show()"
      ]
    },
    {
      "cell_type": "code",
      "execution_count": null,
      "metadata": {
        "colab": {
          "base_uri": "https://localhost:8080/",
          "height": 542
        },
        "id": "YTnUz-jCVGJG",
        "outputId": "2efb1004-04c3-4d76-d3fc-d216d4254f8d"
      },
      "outputs": [
        {
          "data": {
            "text/html": [
              "<html>\n",
              "<head><meta charset=\"utf-8\" /></head>\n",
              "<body>\n",
              "    <div>            <script src=\"https://cdnjs.cloudflare.com/ajax/libs/mathjax/2.7.5/MathJax.js?config=TeX-AMS-MML_SVG\"></script><script type=\"text/javascript\">if (window.MathJax) {MathJax.Hub.Config({SVG: {font: \"STIX-Web\"}});}</script>                <script type=\"text/javascript\">window.PlotlyConfig = {MathJaxConfig: 'local'};</script>\n",
              "        <script src=\"https://cdn.plot.ly/plotly-2.8.3.min.js\"></script>                <div id=\"cfb6d5d4-14dd-4306-856e-cc53f5ebcde9\" class=\"plotly-graph-div\" style=\"height:525px; width:100%;\"></div>            <script type=\"text/javascript\">                                    window.PLOTLYENV=window.PLOTLYENV || {};                                    if (document.getElementById(\"cfb6d5d4-14dd-4306-856e-cc53f5ebcde9\")) {                    Plotly.newPlot(                        \"cfb6d5d4-14dd-4306-856e-cc53f5ebcde9\",                        [{\"hovertemplate\":\"CHAS=%{x}<br>MEDV=%{y}<extra></extra>\",\"legendgroup\":\"\",\"marker\":{\"color\":\"#636efa\",\"symbol\":\"circle\"},\"mode\":\"markers\",\"name\":\"\",\"orientation\":\"v\",\"showlegend\":false,\"x\":[0.0,0.0,0.0,0.0,0.0,0.0,0.0,0.0,0.0,0.0,0.0,0.0,0.0,0.0,0.0,0.0,0.0,0.0,0.0,0.0,0.0,0.0,0.0,0.0,0.0,0.0,0.0,0.0,0.0,0.0,0.0,0.0,0.0,0.0,0.0,0.0,0.0,0.0,0.0,0.0,0.0,0.0,0.0,0.0,0.0,0.0,0.0,0.0,0.0,0.0,0.0,0.0,0.0,0.0,0.0,0.0,0.0,0.0,0.0,0.0,0.0,0.0,0.0,0.0,0.0,0.0,0.0,0.0,0.0,0.0,0.0,0.0,0.0,0.0,0.0,0.0,0.0,0.0,0.0,0.0,0.0,0.0,0.0,0.0,0.0,0.0,0.0,0.0,0.0,0.0,0.0,0.0,0.0,0.0,0.0,0.0,0.0,0.0,0.0,0.0,0.0,0.0,0.0,0.0,0.0,0.0,0.0,0.0,0.0,0.0,0.0,0.0,0.0,0.0,0.0,0.0,0.0,0.0,0.0,0.0,0.0,0.0,0.0,0.0,0.0,0.0,0.0,0.0,0.0,0.0,0.0,0.0,0.0,0.0,0.0,0.0,0.0,0.0,0.0,0.0,0.0,0.0,1.0,0.0,0.0,0.0,0.0,0.0,0.0,0.0,0.0,0.0,1.0,0.0,1.0,1.0,0.0,0.0,0.0,0.0,1.0,0.0,1.0,1.0,0.0,0.0,0.0,0.0,0.0,0.0,0.0,0.0,0.0,0.0,0.0,0.0,0.0,0.0,0.0,0.0,0.0,0.0,0.0,0.0,0.0,0.0,0.0,0.0,0.0,0.0,0.0,0.0,0.0,0.0,0.0,0.0,0.0,0.0,0.0,0.0,0.0,0.0,0.0,0.0,0.0,0.0,0.0,0.0,1.0,1.0,1.0,1.0,1.0,0.0,0.0,0.0,1.0,0.0,1.0,1.0,1.0,1.0,1.0,0.0,0.0,0.0,0.0,0.0,0.0,0.0,0.0,0.0,0.0,0.0,1.0,0.0,1.0,0.0,0.0,0.0,0.0,0.0,0.0,0.0,0.0,0.0,0.0,0.0,0.0,0.0,0.0,0.0,0.0,0.0,0.0,0.0,0.0,0.0,0.0,0.0,0.0,0.0,0.0,0.0,0.0,0.0,0.0,0.0,0.0,1.0,0.0,0.0,0.0,1.0,1.0,0.0,1.0,1.0,0.0,0.0,0.0,0.0,1.0,1.0,0.0,0.0,0.0,0.0,0.0,0.0,0.0,0.0,0.0,0.0,0.0,0.0,0.0,0.0,0.0,0.0,0.0,0.0,0.0,0.0,0.0,0.0,0.0,0.0,0.0,0.0,0.0,0.0,0.0,0.0,0.0,0.0,0.0,0.0,0.0,0.0,0.0,0.0,0.0,0.0,0.0,0.0,0.0,0.0,0.0,0.0,0.0,0.0,0.0,0.0,0.0,0.0,0.0,0.0,0.0,0.0,0.0,0.0,0.0,0.0,0.0,0.0,0.0,0.0,0.0,0.0,0.0,0.0,0.0,0.0,0.0,0.0,1.0,1.0,1.0,0.0,0.0,0.0,0.0,1.0,1.0,0.0,0.0,0.0,0.0,1.0,1.0,0.0,1.0,0.0,0.0,0.0,0.0,0.0,0.0,0.0,0.0,0.0,0.0,0.0,0.0,0.0,0.0,0.0,0.0,0.0,0.0,0.0,0.0,0.0,0.0,0.0,0.0,0.0,0.0,0.0,0.0,0.0,0.0,0.0,0.0,0.0,0.0,0.0,0.0,0.0,0.0,0.0,0.0,0.0,0.0,0.0,0.0,0.0,0.0,0.0,0.0,0.0,0.0,0.0,0.0,0.0,0.0,0.0,0.0,0.0,0.0,0.0,0.0,0.0,0.0,0.0,0.0,0.0,0.0,0.0,0.0,0.0,0.0,0.0,0.0,0.0,0.0,0.0,0.0,0.0,0.0,0.0,0.0,0.0,0.0,0.0,0.0,0.0,0.0,0.0,0.0,0.0,0.0,0.0,0.0,0.0,0.0,0.0,0.0,0.0,0.0,0.0,0.0,0.0,0.0,0.0,0.0,0.0,0.0,0.0,0.0,0.0,0.0,0.0,0.0,0.0,0.0,0.0,0.0,0.0,0.0,0.0,0.0,0.0,0.0,0.0,0.0,0.0,0.0,0.0,0.0,0.0,0.0,0.0,0.0,0.0],\"xaxis\":\"x\",\"y\":[24.0,21.6,34.7,33.4,36.2,28.7,22.9,27.1,16.5,18.9,15.0,18.9,21.7,20.4,18.2,19.9,23.1,17.5,20.2,18.2,13.6,19.6,15.2,14.5,15.6,13.9,16.6,14.8,18.4,21.0,12.7,14.5,13.2,13.1,13.5,18.9,20.0,21.0,24.7,30.8,34.9,26.6,25.3,24.7,21.2,19.3,20.0,16.6,14.4,19.4,19.7,20.5,25.0,23.4,18.9,35.4,24.7,31.6,23.3,19.6,18.7,16.0,22.2,25.0,33.0,23.5,19.4,22.0,17.4,20.9,24.2,21.7,22.8,23.4,24.1,21.4,20.0,20.8,21.2,20.3,28.0,23.9,24.8,22.9,23.9,26.6,22.5,22.2,23.6,28.7,22.6,22.0,22.9,25.0,20.6,28.4,21.4,38.7,43.8,33.2,27.5,26.5,18.6,19.3,20.1,19.5,19.5,20.4,19.8,19.4,21.7,22.8,18.8,18.7,18.5,18.3,21.2,19.2,20.4,19.3,22.0,20.3,20.5,17.3,18.8,21.4,15.7,16.2,18.0,14.3,19.2,19.6,23.0,18.4,15.6,18.1,17.4,17.1,13.3,17.8,14.0,14.4,13.4,15.6,11.8,13.8,15.6,14.6,17.8,15.4,21.5,19.6,15.3,19.4,17.0,15.6,13.1,41.3,24.3,23.3,27.0,50.0,50.0,50.0,22.7,25.0,50.0,23.8,23.8,22.3,17.4,19.1,23.1,23.6,22.6,29.4,23.2,24.6,29.9,37.2,39.8,36.2,37.9,32.5,26.4,29.6,50.0,32.0,29.8,34.9,37.0,30.5,36.4,31.1,29.1,50.0,33.3,30.3,34.6,34.9,32.9,24.1,42.3,48.5,50.0,22.6,24.4,22.5,24.4,20.0,21.7,19.3,22.4,28.1,23.7,25.0,23.3,28.7,21.5,23.0,26.7,21.7,27.5,30.1,44.8,50.0,37.6,31.6,46.7,31.5,24.3,31.7,41.7,48.3,29.0,24.0,25.1,31.5,23.7,23.3,22.0,20.1,22.2,23.7,17.6,18.5,24.3,20.5,24.5,26.2,24.4,24.8,29.6,42.8,21.9,20.9,44.0,50.0,36.0,30.1,33.8,43.1,48.8,31.0,36.5,22.8,30.7,50.0,43.5,20.7,21.1,25.2,24.4,35.2,32.4,32.0,33.2,33.1,29.1,35.1,45.4,35.4,46.0,50.0,32.2,22.0,20.1,23.2,22.3,24.8,28.5,37.3,27.9,23.9,21.7,28.6,27.1,20.3,22.5,29.0,24.8,22.0,26.4,33.1,36.1,28.4,33.4,28.2,22.8,20.3,16.1,22.1,19.4,21.6,23.8,16.2,17.8,19.8,23.1,21.0,23.8,23.1,20.4,18.5,25.0,24.6,23.0,22.2,19.3,22.6,19.8,17.1,19.4,22.2,20.7,21.1,19.5,18.5,20.6,19.0,18.7,32.7,16.5,23.9,31.2,17.5,17.2,23.1,24.5,26.6,22.9,24.1,18.6,30.1,18.2,20.6,17.8,21.7,22.7,22.6,25.0,19.9,20.8,16.8,21.9,27.5,21.9,23.1,50.0,50.0,50.0,50.0,50.0,13.8,13.8,15.0,13.9,13.3,13.1,10.2,10.4,10.9,11.3,12.3,8.8,7.2,10.5,7.4,10.2,11.5,15.1,23.2,9.7,13.8,12.7,13.1,12.5,8.5,5.0,6.3,5.6,7.2,12.1,8.3,8.5,5.0,11.9,27.9,17.2,27.5,15.0,17.2,17.9,16.3,7.0,7.2,7.5,10.4,8.8,8.4,16.7,14.2,20.8,13.4,11.7,8.3,10.2,10.9,11.0,9.5,14.5,14.1,16.1,14.3,11.7,13.4,9.6,8.7,8.4,12.8,10.5,17.1,18.4,15.4,10.8,11.8,14.9,12.6,14.1,13.0,13.4,15.2,16.1,17.8,14.9,14.1,12.7,13.5,14.9,20.0,16.4,17.7,19.5,20.2,21.4,19.9,19.0,19.1,19.1,20.1,19.9,19.6,23.2,29.8,13.8,13.3,16.7,12.0,14.6,21.4,23.0,23.7,25.0,21.8,20.6,21.2,19.1,20.6,15.2,7.0,8.1,13.6,20.1,21.8,24.5,23.1,19.7,18.3,21.2,17.5,16.8,22.4,20.6,23.9,22.0,11.9],\"yaxis\":\"y\",\"type\":\"scatter\"}],                        {\"template\":{\"data\":{\"bar\":[{\"error_x\":{\"color\":\"#2a3f5f\"},\"error_y\":{\"color\":\"#2a3f5f\"},\"marker\":{\"line\":{\"color\":\"#E5ECF6\",\"width\":0.5},\"pattern\":{\"fillmode\":\"overlay\",\"size\":10,\"solidity\":0.2}},\"type\":\"bar\"}],\"barpolar\":[{\"marker\":{\"line\":{\"color\":\"#E5ECF6\",\"width\":0.5},\"pattern\":{\"fillmode\":\"overlay\",\"size\":10,\"solidity\":0.2}},\"type\":\"barpolar\"}],\"carpet\":[{\"aaxis\":{\"endlinecolor\":\"#2a3f5f\",\"gridcolor\":\"white\",\"linecolor\":\"white\",\"minorgridcolor\":\"white\",\"startlinecolor\":\"#2a3f5f\"},\"baxis\":{\"endlinecolor\":\"#2a3f5f\",\"gridcolor\":\"white\",\"linecolor\":\"white\",\"minorgridcolor\":\"white\",\"startlinecolor\":\"#2a3f5f\"},\"type\":\"carpet\"}],\"choropleth\":[{\"colorbar\":{\"outlinewidth\":0,\"ticks\":\"\"},\"type\":\"choropleth\"}],\"contour\":[{\"colorbar\":{\"outlinewidth\":0,\"ticks\":\"\"},\"colorscale\":[[0.0,\"#0d0887\"],[0.1111111111111111,\"#46039f\"],[0.2222222222222222,\"#7201a8\"],[0.3333333333333333,\"#9c179e\"],[0.4444444444444444,\"#bd3786\"],[0.5555555555555556,\"#d8576b\"],[0.6666666666666666,\"#ed7953\"],[0.7777777777777778,\"#fb9f3a\"],[0.8888888888888888,\"#fdca26\"],[1.0,\"#f0f921\"]],\"type\":\"contour\"}],\"contourcarpet\":[{\"colorbar\":{\"outlinewidth\":0,\"ticks\":\"\"},\"type\":\"contourcarpet\"}],\"heatmap\":[{\"colorbar\":{\"outlinewidth\":0,\"ticks\":\"\"},\"colorscale\":[[0.0,\"#0d0887\"],[0.1111111111111111,\"#46039f\"],[0.2222222222222222,\"#7201a8\"],[0.3333333333333333,\"#9c179e\"],[0.4444444444444444,\"#bd3786\"],[0.5555555555555556,\"#d8576b\"],[0.6666666666666666,\"#ed7953\"],[0.7777777777777778,\"#fb9f3a\"],[0.8888888888888888,\"#fdca26\"],[1.0,\"#f0f921\"]],\"type\":\"heatmap\"}],\"heatmapgl\":[{\"colorbar\":{\"outlinewidth\":0,\"ticks\":\"\"},\"colorscale\":[[0.0,\"#0d0887\"],[0.1111111111111111,\"#46039f\"],[0.2222222222222222,\"#7201a8\"],[0.3333333333333333,\"#9c179e\"],[0.4444444444444444,\"#bd3786\"],[0.5555555555555556,\"#d8576b\"],[0.6666666666666666,\"#ed7953\"],[0.7777777777777778,\"#fb9f3a\"],[0.8888888888888888,\"#fdca26\"],[1.0,\"#f0f921\"]],\"type\":\"heatmapgl\"}],\"histogram\":[{\"marker\":{\"pattern\":{\"fillmode\":\"overlay\",\"size\":10,\"solidity\":0.2}},\"type\":\"histogram\"}],\"histogram2d\":[{\"colorbar\":{\"outlinewidth\":0,\"ticks\":\"\"},\"colorscale\":[[0.0,\"#0d0887\"],[0.1111111111111111,\"#46039f\"],[0.2222222222222222,\"#7201a8\"],[0.3333333333333333,\"#9c179e\"],[0.4444444444444444,\"#bd3786\"],[0.5555555555555556,\"#d8576b\"],[0.6666666666666666,\"#ed7953\"],[0.7777777777777778,\"#fb9f3a\"],[0.8888888888888888,\"#fdca26\"],[1.0,\"#f0f921\"]],\"type\":\"histogram2d\"}],\"histogram2dcontour\":[{\"colorbar\":{\"outlinewidth\":0,\"ticks\":\"\"},\"colorscale\":[[0.0,\"#0d0887\"],[0.1111111111111111,\"#46039f\"],[0.2222222222222222,\"#7201a8\"],[0.3333333333333333,\"#9c179e\"],[0.4444444444444444,\"#bd3786\"],[0.5555555555555556,\"#d8576b\"],[0.6666666666666666,\"#ed7953\"],[0.7777777777777778,\"#fb9f3a\"],[0.8888888888888888,\"#fdca26\"],[1.0,\"#f0f921\"]],\"type\":\"histogram2dcontour\"}],\"mesh3d\":[{\"colorbar\":{\"outlinewidth\":0,\"ticks\":\"\"},\"type\":\"mesh3d\"}],\"parcoords\":[{\"line\":{\"colorbar\":{\"outlinewidth\":0,\"ticks\":\"\"}},\"type\":\"parcoords\"}],\"pie\":[{\"automargin\":true,\"type\":\"pie\"}],\"scatter\":[{\"marker\":{\"colorbar\":{\"outlinewidth\":0,\"ticks\":\"\"}},\"type\":\"scatter\"}],\"scatter3d\":[{\"line\":{\"colorbar\":{\"outlinewidth\":0,\"ticks\":\"\"}},\"marker\":{\"colorbar\":{\"outlinewidth\":0,\"ticks\":\"\"}},\"type\":\"scatter3d\"}],\"scattercarpet\":[{\"marker\":{\"colorbar\":{\"outlinewidth\":0,\"ticks\":\"\"}},\"type\":\"scattercarpet\"}],\"scattergeo\":[{\"marker\":{\"colorbar\":{\"outlinewidth\":0,\"ticks\":\"\"}},\"type\":\"scattergeo\"}],\"scattergl\":[{\"marker\":{\"colorbar\":{\"outlinewidth\":0,\"ticks\":\"\"}},\"type\":\"scattergl\"}],\"scattermapbox\":[{\"marker\":{\"colorbar\":{\"outlinewidth\":0,\"ticks\":\"\"}},\"type\":\"scattermapbox\"}],\"scatterpolar\":[{\"marker\":{\"colorbar\":{\"outlinewidth\":0,\"ticks\":\"\"}},\"type\":\"scatterpolar\"}],\"scatterpolargl\":[{\"marker\":{\"colorbar\":{\"outlinewidth\":0,\"ticks\":\"\"}},\"type\":\"scatterpolargl\"}],\"scatterternary\":[{\"marker\":{\"colorbar\":{\"outlinewidth\":0,\"ticks\":\"\"}},\"type\":\"scatterternary\"}],\"surface\":[{\"colorbar\":{\"outlinewidth\":0,\"ticks\":\"\"},\"colorscale\":[[0.0,\"#0d0887\"],[0.1111111111111111,\"#46039f\"],[0.2222222222222222,\"#7201a8\"],[0.3333333333333333,\"#9c179e\"],[0.4444444444444444,\"#bd3786\"],[0.5555555555555556,\"#d8576b\"],[0.6666666666666666,\"#ed7953\"],[0.7777777777777778,\"#fb9f3a\"],[0.8888888888888888,\"#fdca26\"],[1.0,\"#f0f921\"]],\"type\":\"surface\"}],\"table\":[{\"cells\":{\"fill\":{\"color\":\"#EBF0F8\"},\"line\":{\"color\":\"white\"}},\"header\":{\"fill\":{\"color\":\"#C8D4E3\"},\"line\":{\"color\":\"white\"}},\"type\":\"table\"}]},\"layout\":{\"annotationdefaults\":{\"arrowcolor\":\"#2a3f5f\",\"arrowhead\":0,\"arrowwidth\":1},\"autotypenumbers\":\"strict\",\"coloraxis\":{\"colorbar\":{\"outlinewidth\":0,\"ticks\":\"\"}},\"colorscale\":{\"diverging\":[[0,\"#8e0152\"],[0.1,\"#c51b7d\"],[0.2,\"#de77ae\"],[0.3,\"#f1b6da\"],[0.4,\"#fde0ef\"],[0.5,\"#f7f7f7\"],[0.6,\"#e6f5d0\"],[0.7,\"#b8e186\"],[0.8,\"#7fbc41\"],[0.9,\"#4d9221\"],[1,\"#276419\"]],\"sequential\":[[0.0,\"#0d0887\"],[0.1111111111111111,\"#46039f\"],[0.2222222222222222,\"#7201a8\"],[0.3333333333333333,\"#9c179e\"],[0.4444444444444444,\"#bd3786\"],[0.5555555555555556,\"#d8576b\"],[0.6666666666666666,\"#ed7953\"],[0.7777777777777778,\"#fb9f3a\"],[0.8888888888888888,\"#fdca26\"],[1.0,\"#f0f921\"]],\"sequentialminus\":[[0.0,\"#0d0887\"],[0.1111111111111111,\"#46039f\"],[0.2222222222222222,\"#7201a8\"],[0.3333333333333333,\"#9c179e\"],[0.4444444444444444,\"#bd3786\"],[0.5555555555555556,\"#d8576b\"],[0.6666666666666666,\"#ed7953\"],[0.7777777777777778,\"#fb9f3a\"],[0.8888888888888888,\"#fdca26\"],[1.0,\"#f0f921\"]]},\"colorway\":[\"#636efa\",\"#EF553B\",\"#00cc96\",\"#ab63fa\",\"#FFA15A\",\"#19d3f3\",\"#FF6692\",\"#B6E880\",\"#FF97FF\",\"#FECB52\"],\"font\":{\"color\":\"#2a3f5f\"},\"geo\":{\"bgcolor\":\"white\",\"lakecolor\":\"white\",\"landcolor\":\"#E5ECF6\",\"showlakes\":true,\"showland\":true,\"subunitcolor\":\"white\"},\"hoverlabel\":{\"align\":\"left\"},\"hovermode\":\"closest\",\"mapbox\":{\"style\":\"light\"},\"paper_bgcolor\":\"white\",\"plot_bgcolor\":\"#E5ECF6\",\"polar\":{\"angularaxis\":{\"gridcolor\":\"white\",\"linecolor\":\"white\",\"ticks\":\"\"},\"bgcolor\":\"#E5ECF6\",\"radialaxis\":{\"gridcolor\":\"white\",\"linecolor\":\"white\",\"ticks\":\"\"}},\"scene\":{\"xaxis\":{\"backgroundcolor\":\"#E5ECF6\",\"gridcolor\":\"white\",\"gridwidth\":2,\"linecolor\":\"white\",\"showbackground\":true,\"ticks\":\"\",\"zerolinecolor\":\"white\"},\"yaxis\":{\"backgroundcolor\":\"#E5ECF6\",\"gridcolor\":\"white\",\"gridwidth\":2,\"linecolor\":\"white\",\"showbackground\":true,\"ticks\":\"\",\"zerolinecolor\":\"white\"},\"zaxis\":{\"backgroundcolor\":\"#E5ECF6\",\"gridcolor\":\"white\",\"gridwidth\":2,\"linecolor\":\"white\",\"showbackground\":true,\"ticks\":\"\",\"zerolinecolor\":\"white\"}},\"shapedefaults\":{\"line\":{\"color\":\"#2a3f5f\"}},\"ternary\":{\"aaxis\":{\"gridcolor\":\"white\",\"linecolor\":\"white\",\"ticks\":\"\"},\"baxis\":{\"gridcolor\":\"white\",\"linecolor\":\"white\",\"ticks\":\"\"},\"bgcolor\":\"#E5ECF6\",\"caxis\":{\"gridcolor\":\"white\",\"linecolor\":\"white\",\"ticks\":\"\"}},\"title\":{\"x\":0.05},\"xaxis\":{\"automargin\":true,\"gridcolor\":\"white\",\"linecolor\":\"white\",\"ticks\":\"\",\"title\":{\"standoff\":15},\"zerolinecolor\":\"white\",\"zerolinewidth\":2},\"yaxis\":{\"automargin\":true,\"gridcolor\":\"white\",\"linecolor\":\"white\",\"ticks\":\"\",\"title\":{\"standoff\":15},\"zerolinecolor\":\"white\",\"zerolinewidth\":2}}},\"xaxis\":{\"anchor\":\"y\",\"domain\":[0.0,1.0],\"title\":{\"text\":\"CHAS\"}},\"yaxis\":{\"anchor\":\"x\",\"domain\":[0.0,1.0],\"title\":{\"text\":\"MEDV\"}},\"legend\":{\"tracegroupgap\":0},\"margin\":{\"t\":60}},                        {\"responsive\": true}                    ).then(function(){\n",
              "                            \n",
              "var gd = document.getElementById('cfb6d5d4-14dd-4306-856e-cc53f5ebcde9');\n",
              "var x = new MutationObserver(function (mutations, observer) {{\n",
              "        var display = window.getComputedStyle(gd).display;\n",
              "        if (!display || display === 'none') {{\n",
              "            console.log([gd, 'removed!']);\n",
              "            Plotly.purge(gd);\n",
              "            observer.disconnect();\n",
              "        }}\n",
              "}});\n",
              "\n",
              "// Listen for the removal of the full notebook cells\n",
              "var notebookContainer = gd.closest('#notebook-container');\n",
              "if (notebookContainer) {{\n",
              "    x.observe(notebookContainer, {childList: true});\n",
              "}}\n",
              "\n",
              "// Listen for the clearing of the current output cell\n",
              "var outputEl = gd.closest('.output');\n",
              "if (outputEl) {{\n",
              "    x.observe(outputEl, {childList: true});\n",
              "}}\n",
              "\n",
              "                        })                };                            </script>        </div>\n",
              "</body>\n",
              "</html>"
            ]
          },
          "metadata": {},
          "output_type": "display_data"
        }
      ],
      "source": [
        "fig = px.scatter(data, x=data.CHAS, y=data.MEDV)\n",
        "fig.show()"
      ]
    },
    {
      "cell_type": "code",
      "execution_count": null,
      "metadata": {
        "colab": {
          "base_uri": "https://localhost:8080/",
          "height": 542
        },
        "id": "O8Adlir8V_Wf",
        "outputId": "6a14aae5-3bc8-413c-bb85-3971d1aedf7d"
      },
      "outputs": [
        {
          "data": {
            "text/html": [
              "<html>\n",
              "<head><meta charset=\"utf-8\" /></head>\n",
              "<body>\n",
              "    <div>            <script src=\"https://cdnjs.cloudflare.com/ajax/libs/mathjax/2.7.5/MathJax.js?config=TeX-AMS-MML_SVG\"></script><script type=\"text/javascript\">if (window.MathJax) {MathJax.Hub.Config({SVG: {font: \"STIX-Web\"}});}</script>                <script type=\"text/javascript\">window.PlotlyConfig = {MathJaxConfig: 'local'};</script>\n",
              "        <script src=\"https://cdn.plot.ly/plotly-2.8.3.min.js\"></script>                <div id=\"ee9ccf4c-3265-4392-b76b-2e9ca21ec166\" class=\"plotly-graph-div\" style=\"height:525px; width:100%;\"></div>            <script type=\"text/javascript\">                                    window.PLOTLYENV=window.PLOTLYENV || {};                                    if (document.getElementById(\"ee9ccf4c-3265-4392-b76b-2e9ca21ec166\")) {                    Plotly.newPlot(                        \"ee9ccf4c-3265-4392-b76b-2e9ca21ec166\",                        [{\"hovertemplate\":\"PTRATIO=%{x}<br>MEDV=%{y}<extra></extra>\",\"legendgroup\":\"\",\"marker\":{\"color\":\"#636efa\",\"symbol\":\"circle\"},\"mode\":\"markers\",\"name\":\"\",\"orientation\":\"v\",\"showlegend\":false,\"x\":[15.3,17.8,17.8,18.7,18.7,18.7,15.2,15.2,15.2,15.2,15.2,15.2,15.2,21.0,21.0,21.0,21.0,21.0,21.0,21.0,21.0,21.0,21.0,21.0,21.0,21.0,21.0,21.0,21.0,21.0,21.0,21.0,21.0,21.0,21.0,19.2,19.2,19.2,19.2,18.3,18.3,17.9,17.9,17.9,17.9,17.9,17.9,17.9,17.9,17.9,16.8,16.8,16.8,16.8,21.1,17.9,17.3,15.1,19.7,19.7,19.7,19.7,19.7,19.7,18.6,16.1,16.1,18.9,18.9,18.9,19.2,19.2,19.2,19.2,18.7,18.7,18.7,18.7,18.7,18.7,19.0,19.0,19.0,19.0,18.5,18.5,18.5,18.5,17.8,17.8,17.8,17.8,18.2,18.2,18.2,18.0,18.0,18.0,18.0,18.0,20.9,20.9,20.9,20.9,20.9,20.9,20.9,20.9,20.9,20.9,20.9,17.8,17.8,17.8,17.8,17.8,17.8,17.8,17.8,17.8,19.1,19.1,19.1,19.1,19.1,19.1,19.1,21.2,21.2,21.2,21.2,21.2,21.2,21.2,21.2,21.2,21.2,21.2,21.2,21.2,21.2,21.2,14.7,14.7,14.7,14.7,14.7,14.7,14.7,14.7,14.7,14.7,14.7,14.7,14.7,14.7,14.7,14.7,14.7,14.7,14.7,14.7,14.7,14.7,14.7,14.7,14.7,14.7,14.7,14.7,14.7,14.7,16.6,16.6,16.6,16.6,16.6,16.6,16.6,17.8,17.8,17.8,17.8,17.8,17.8,17.8,17.8,15.2,15.2,15.2,15.2,15.2,15.2,15.6,15.6,14.4,12.6,12.6,12.6,17.0,17.0,14.7,14.7,14.7,14.7,18.6,18.6,18.6,18.6,18.6,18.6,18.6,18.6,18.6,18.6,18.6,16.4,16.4,16.4,16.4,17.4,17.4,17.4,17.4,17.4,17.4,17.4,17.4,17.4,17.4,17.4,17.4,17.4,17.4,17.4,17.4,17.4,17.4,16.6,16.6,16.6,16.6,16.6,16.6,19.1,19.1,19.1,19.1,19.1,19.1,19.1,19.1,19.1,19.1,16.4,16.4,15.9,13.0,13.0,13.0,13.0,13.0,13.0,13.0,13.0,13.0,13.0,13.0,13.0,18.6,18.6,18.6,18.6,18.6,17.6,17.6,17.6,17.6,17.6,14.9,14.9,14.9,14.9,13.6,15.3,15.3,18.2,16.6,16.6,16.6,19.2,19.2,19.2,16.0,16.0,16.0,16.0,16.0,14.8,14.8,14.8,16.1,16.1,16.1,18.4,18.4,18.4,18.4,18.4,18.4,18.4,18.4,18.4,18.4,18.4,18.4,18.4,18.4,18.4,18.4,19.6,19.6,19.6,19.6,19.6,19.6,19.6,19.6,16.9,16.9,16.9,16.9,16.9,20.2,20.2,20.2,20.2,20.2,20.2,20.2,20.2,15.5,15.9,17.6,17.6,18.8,18.8,17.9,17.0,19.7,19.7,18.3,18.3,17.0,22.0,22.0,20.2,20.2,20.2,20.2,20.2,20.2,20.2,20.2,20.2,20.2,20.2,20.2,20.2,20.2,20.2,20.2,20.2,20.2,20.2,20.2,20.2,20.2,20.2,20.2,20.2,20.2,20.2,20.2,20.2,20.2,20.2,20.2,20.2,20.2,20.2,20.2,20.2,20.2,20.2,20.2,20.2,20.2,20.2,20.2,20.2,20.2,20.2,20.2,20.2,20.2,20.2,20.2,20.2,20.2,20.2,20.2,20.2,20.2,20.2,20.2,20.2,20.2,20.2,20.2,20.2,20.2,20.2,20.2,20.2,20.2,20.2,20.2,20.2,20.2,20.2,20.2,20.2,20.2,20.2,20.2,20.2,20.2,20.2,20.2,20.2,20.2,20.2,20.2,20.2,20.2,20.2,20.2,20.2,20.2,20.2,20.2,20.2,20.2,20.2,20.2,20.2,20.2,20.2,20.2,20.2,20.2,20.2,20.2,20.2,20.2,20.2,20.2,20.2,20.2,20.2,20.2,20.2,20.2,20.2,20.2,20.2,20.2,20.2,20.2,20.2,20.2,20.2,20.2,20.2,20.2,20.2,20.2,20.1,20.1,20.1,20.1,20.1,19.2,19.2,19.2,19.2,19.2,19.2,19.2,19.2,21.0,21.0,21.0,21.0,21.0],\"xaxis\":\"x\",\"y\":[24.0,21.6,34.7,33.4,36.2,28.7,22.9,27.1,16.5,18.9,15.0,18.9,21.7,20.4,18.2,19.9,23.1,17.5,20.2,18.2,13.6,19.6,15.2,14.5,15.6,13.9,16.6,14.8,18.4,21.0,12.7,14.5,13.2,13.1,13.5,18.9,20.0,21.0,24.7,30.8,34.9,26.6,25.3,24.7,21.2,19.3,20.0,16.6,14.4,19.4,19.7,20.5,25.0,23.4,18.9,35.4,24.7,31.6,23.3,19.6,18.7,16.0,22.2,25.0,33.0,23.5,19.4,22.0,17.4,20.9,24.2,21.7,22.8,23.4,24.1,21.4,20.0,20.8,21.2,20.3,28.0,23.9,24.8,22.9,23.9,26.6,22.5,22.2,23.6,28.7,22.6,22.0,22.9,25.0,20.6,28.4,21.4,38.7,43.8,33.2,27.5,26.5,18.6,19.3,20.1,19.5,19.5,20.4,19.8,19.4,21.7,22.8,18.8,18.7,18.5,18.3,21.2,19.2,20.4,19.3,22.0,20.3,20.5,17.3,18.8,21.4,15.7,16.2,18.0,14.3,19.2,19.6,23.0,18.4,15.6,18.1,17.4,17.1,13.3,17.8,14.0,14.4,13.4,15.6,11.8,13.8,15.6,14.6,17.8,15.4,21.5,19.6,15.3,19.4,17.0,15.6,13.1,41.3,24.3,23.3,27.0,50.0,50.0,50.0,22.7,25.0,50.0,23.8,23.8,22.3,17.4,19.1,23.1,23.6,22.6,29.4,23.2,24.6,29.9,37.2,39.8,36.2,37.9,32.5,26.4,29.6,50.0,32.0,29.8,34.9,37.0,30.5,36.4,31.1,29.1,50.0,33.3,30.3,34.6,34.9,32.9,24.1,42.3,48.5,50.0,22.6,24.4,22.5,24.4,20.0,21.7,19.3,22.4,28.1,23.7,25.0,23.3,28.7,21.5,23.0,26.7,21.7,27.5,30.1,44.8,50.0,37.6,31.6,46.7,31.5,24.3,31.7,41.7,48.3,29.0,24.0,25.1,31.5,23.7,23.3,22.0,20.1,22.2,23.7,17.6,18.5,24.3,20.5,24.5,26.2,24.4,24.8,29.6,42.8,21.9,20.9,44.0,50.0,36.0,30.1,33.8,43.1,48.8,31.0,36.5,22.8,30.7,50.0,43.5,20.7,21.1,25.2,24.4,35.2,32.4,32.0,33.2,33.1,29.1,35.1,45.4,35.4,46.0,50.0,32.2,22.0,20.1,23.2,22.3,24.8,28.5,37.3,27.9,23.9,21.7,28.6,27.1,20.3,22.5,29.0,24.8,22.0,26.4,33.1,36.1,28.4,33.4,28.2,22.8,20.3,16.1,22.1,19.4,21.6,23.8,16.2,17.8,19.8,23.1,21.0,23.8,23.1,20.4,18.5,25.0,24.6,23.0,22.2,19.3,22.6,19.8,17.1,19.4,22.2,20.7,21.1,19.5,18.5,20.6,19.0,18.7,32.7,16.5,23.9,31.2,17.5,17.2,23.1,24.5,26.6,22.9,24.1,18.6,30.1,18.2,20.6,17.8,21.7,22.7,22.6,25.0,19.9,20.8,16.8,21.9,27.5,21.9,23.1,50.0,50.0,50.0,50.0,50.0,13.8,13.8,15.0,13.9,13.3,13.1,10.2,10.4,10.9,11.3,12.3,8.8,7.2,10.5,7.4,10.2,11.5,15.1,23.2,9.7,13.8,12.7,13.1,12.5,8.5,5.0,6.3,5.6,7.2,12.1,8.3,8.5,5.0,11.9,27.9,17.2,27.5,15.0,17.2,17.9,16.3,7.0,7.2,7.5,10.4,8.8,8.4,16.7,14.2,20.8,13.4,11.7,8.3,10.2,10.9,11.0,9.5,14.5,14.1,16.1,14.3,11.7,13.4,9.6,8.7,8.4,12.8,10.5,17.1,18.4,15.4,10.8,11.8,14.9,12.6,14.1,13.0,13.4,15.2,16.1,17.8,14.9,14.1,12.7,13.5,14.9,20.0,16.4,17.7,19.5,20.2,21.4,19.9,19.0,19.1,19.1,20.1,19.9,19.6,23.2,29.8,13.8,13.3,16.7,12.0,14.6,21.4,23.0,23.7,25.0,21.8,20.6,21.2,19.1,20.6,15.2,7.0,8.1,13.6,20.1,21.8,24.5,23.1,19.7,18.3,21.2,17.5,16.8,22.4,20.6,23.9,22.0,11.9],\"yaxis\":\"y\",\"type\":\"scatter\"}],                        {\"template\":{\"data\":{\"bar\":[{\"error_x\":{\"color\":\"#2a3f5f\"},\"error_y\":{\"color\":\"#2a3f5f\"},\"marker\":{\"line\":{\"color\":\"#E5ECF6\",\"width\":0.5},\"pattern\":{\"fillmode\":\"overlay\",\"size\":10,\"solidity\":0.2}},\"type\":\"bar\"}],\"barpolar\":[{\"marker\":{\"line\":{\"color\":\"#E5ECF6\",\"width\":0.5},\"pattern\":{\"fillmode\":\"overlay\",\"size\":10,\"solidity\":0.2}},\"type\":\"barpolar\"}],\"carpet\":[{\"aaxis\":{\"endlinecolor\":\"#2a3f5f\",\"gridcolor\":\"white\",\"linecolor\":\"white\",\"minorgridcolor\":\"white\",\"startlinecolor\":\"#2a3f5f\"},\"baxis\":{\"endlinecolor\":\"#2a3f5f\",\"gridcolor\":\"white\",\"linecolor\":\"white\",\"minorgridcolor\":\"white\",\"startlinecolor\":\"#2a3f5f\"},\"type\":\"carpet\"}],\"choropleth\":[{\"colorbar\":{\"outlinewidth\":0,\"ticks\":\"\"},\"type\":\"choropleth\"}],\"contour\":[{\"colorbar\":{\"outlinewidth\":0,\"ticks\":\"\"},\"colorscale\":[[0.0,\"#0d0887\"],[0.1111111111111111,\"#46039f\"],[0.2222222222222222,\"#7201a8\"],[0.3333333333333333,\"#9c179e\"],[0.4444444444444444,\"#bd3786\"],[0.5555555555555556,\"#d8576b\"],[0.6666666666666666,\"#ed7953\"],[0.7777777777777778,\"#fb9f3a\"],[0.8888888888888888,\"#fdca26\"],[1.0,\"#f0f921\"]],\"type\":\"contour\"}],\"contourcarpet\":[{\"colorbar\":{\"outlinewidth\":0,\"ticks\":\"\"},\"type\":\"contourcarpet\"}],\"heatmap\":[{\"colorbar\":{\"outlinewidth\":0,\"ticks\":\"\"},\"colorscale\":[[0.0,\"#0d0887\"],[0.1111111111111111,\"#46039f\"],[0.2222222222222222,\"#7201a8\"],[0.3333333333333333,\"#9c179e\"],[0.4444444444444444,\"#bd3786\"],[0.5555555555555556,\"#d8576b\"],[0.6666666666666666,\"#ed7953\"],[0.7777777777777778,\"#fb9f3a\"],[0.8888888888888888,\"#fdca26\"],[1.0,\"#f0f921\"]],\"type\":\"heatmap\"}],\"heatmapgl\":[{\"colorbar\":{\"outlinewidth\":0,\"ticks\":\"\"},\"colorscale\":[[0.0,\"#0d0887\"],[0.1111111111111111,\"#46039f\"],[0.2222222222222222,\"#7201a8\"],[0.3333333333333333,\"#9c179e\"],[0.4444444444444444,\"#bd3786\"],[0.5555555555555556,\"#d8576b\"],[0.6666666666666666,\"#ed7953\"],[0.7777777777777778,\"#fb9f3a\"],[0.8888888888888888,\"#fdca26\"],[1.0,\"#f0f921\"]],\"type\":\"heatmapgl\"}],\"histogram\":[{\"marker\":{\"pattern\":{\"fillmode\":\"overlay\",\"size\":10,\"solidity\":0.2}},\"type\":\"histogram\"}],\"histogram2d\":[{\"colorbar\":{\"outlinewidth\":0,\"ticks\":\"\"},\"colorscale\":[[0.0,\"#0d0887\"],[0.1111111111111111,\"#46039f\"],[0.2222222222222222,\"#7201a8\"],[0.3333333333333333,\"#9c179e\"],[0.4444444444444444,\"#bd3786\"],[0.5555555555555556,\"#d8576b\"],[0.6666666666666666,\"#ed7953\"],[0.7777777777777778,\"#fb9f3a\"],[0.8888888888888888,\"#fdca26\"],[1.0,\"#f0f921\"]],\"type\":\"histogram2d\"}],\"histogram2dcontour\":[{\"colorbar\":{\"outlinewidth\":0,\"ticks\":\"\"},\"colorscale\":[[0.0,\"#0d0887\"],[0.1111111111111111,\"#46039f\"],[0.2222222222222222,\"#7201a8\"],[0.3333333333333333,\"#9c179e\"],[0.4444444444444444,\"#bd3786\"],[0.5555555555555556,\"#d8576b\"],[0.6666666666666666,\"#ed7953\"],[0.7777777777777778,\"#fb9f3a\"],[0.8888888888888888,\"#fdca26\"],[1.0,\"#f0f921\"]],\"type\":\"histogram2dcontour\"}],\"mesh3d\":[{\"colorbar\":{\"outlinewidth\":0,\"ticks\":\"\"},\"type\":\"mesh3d\"}],\"parcoords\":[{\"line\":{\"colorbar\":{\"outlinewidth\":0,\"ticks\":\"\"}},\"type\":\"parcoords\"}],\"pie\":[{\"automargin\":true,\"type\":\"pie\"}],\"scatter\":[{\"marker\":{\"colorbar\":{\"outlinewidth\":0,\"ticks\":\"\"}},\"type\":\"scatter\"}],\"scatter3d\":[{\"line\":{\"colorbar\":{\"outlinewidth\":0,\"ticks\":\"\"}},\"marker\":{\"colorbar\":{\"outlinewidth\":0,\"ticks\":\"\"}},\"type\":\"scatter3d\"}],\"scattercarpet\":[{\"marker\":{\"colorbar\":{\"outlinewidth\":0,\"ticks\":\"\"}},\"type\":\"scattercarpet\"}],\"scattergeo\":[{\"marker\":{\"colorbar\":{\"outlinewidth\":0,\"ticks\":\"\"}},\"type\":\"scattergeo\"}],\"scattergl\":[{\"marker\":{\"colorbar\":{\"outlinewidth\":0,\"ticks\":\"\"}},\"type\":\"scattergl\"}],\"scattermapbox\":[{\"marker\":{\"colorbar\":{\"outlinewidth\":0,\"ticks\":\"\"}},\"type\":\"scattermapbox\"}],\"scatterpolar\":[{\"marker\":{\"colorbar\":{\"outlinewidth\":0,\"ticks\":\"\"}},\"type\":\"scatterpolar\"}],\"scatterpolargl\":[{\"marker\":{\"colorbar\":{\"outlinewidth\":0,\"ticks\":\"\"}},\"type\":\"scatterpolargl\"}],\"scatterternary\":[{\"marker\":{\"colorbar\":{\"outlinewidth\":0,\"ticks\":\"\"}},\"type\":\"scatterternary\"}],\"surface\":[{\"colorbar\":{\"outlinewidth\":0,\"ticks\":\"\"},\"colorscale\":[[0.0,\"#0d0887\"],[0.1111111111111111,\"#46039f\"],[0.2222222222222222,\"#7201a8\"],[0.3333333333333333,\"#9c179e\"],[0.4444444444444444,\"#bd3786\"],[0.5555555555555556,\"#d8576b\"],[0.6666666666666666,\"#ed7953\"],[0.7777777777777778,\"#fb9f3a\"],[0.8888888888888888,\"#fdca26\"],[1.0,\"#f0f921\"]],\"type\":\"surface\"}],\"table\":[{\"cells\":{\"fill\":{\"color\":\"#EBF0F8\"},\"line\":{\"color\":\"white\"}},\"header\":{\"fill\":{\"color\":\"#C8D4E3\"},\"line\":{\"color\":\"white\"}},\"type\":\"table\"}]},\"layout\":{\"annotationdefaults\":{\"arrowcolor\":\"#2a3f5f\",\"arrowhead\":0,\"arrowwidth\":1},\"autotypenumbers\":\"strict\",\"coloraxis\":{\"colorbar\":{\"outlinewidth\":0,\"ticks\":\"\"}},\"colorscale\":{\"diverging\":[[0,\"#8e0152\"],[0.1,\"#c51b7d\"],[0.2,\"#de77ae\"],[0.3,\"#f1b6da\"],[0.4,\"#fde0ef\"],[0.5,\"#f7f7f7\"],[0.6,\"#e6f5d0\"],[0.7,\"#b8e186\"],[0.8,\"#7fbc41\"],[0.9,\"#4d9221\"],[1,\"#276419\"]],\"sequential\":[[0.0,\"#0d0887\"],[0.1111111111111111,\"#46039f\"],[0.2222222222222222,\"#7201a8\"],[0.3333333333333333,\"#9c179e\"],[0.4444444444444444,\"#bd3786\"],[0.5555555555555556,\"#d8576b\"],[0.6666666666666666,\"#ed7953\"],[0.7777777777777778,\"#fb9f3a\"],[0.8888888888888888,\"#fdca26\"],[1.0,\"#f0f921\"]],\"sequentialminus\":[[0.0,\"#0d0887\"],[0.1111111111111111,\"#46039f\"],[0.2222222222222222,\"#7201a8\"],[0.3333333333333333,\"#9c179e\"],[0.4444444444444444,\"#bd3786\"],[0.5555555555555556,\"#d8576b\"],[0.6666666666666666,\"#ed7953\"],[0.7777777777777778,\"#fb9f3a\"],[0.8888888888888888,\"#fdca26\"],[1.0,\"#f0f921\"]]},\"colorway\":[\"#636efa\",\"#EF553B\",\"#00cc96\",\"#ab63fa\",\"#FFA15A\",\"#19d3f3\",\"#FF6692\",\"#B6E880\",\"#FF97FF\",\"#FECB52\"],\"font\":{\"color\":\"#2a3f5f\"},\"geo\":{\"bgcolor\":\"white\",\"lakecolor\":\"white\",\"landcolor\":\"#E5ECF6\",\"showlakes\":true,\"showland\":true,\"subunitcolor\":\"white\"},\"hoverlabel\":{\"align\":\"left\"},\"hovermode\":\"closest\",\"mapbox\":{\"style\":\"light\"},\"paper_bgcolor\":\"white\",\"plot_bgcolor\":\"#E5ECF6\",\"polar\":{\"angularaxis\":{\"gridcolor\":\"white\",\"linecolor\":\"white\",\"ticks\":\"\"},\"bgcolor\":\"#E5ECF6\",\"radialaxis\":{\"gridcolor\":\"white\",\"linecolor\":\"white\",\"ticks\":\"\"}},\"scene\":{\"xaxis\":{\"backgroundcolor\":\"#E5ECF6\",\"gridcolor\":\"white\",\"gridwidth\":2,\"linecolor\":\"white\",\"showbackground\":true,\"ticks\":\"\",\"zerolinecolor\":\"white\"},\"yaxis\":{\"backgroundcolor\":\"#E5ECF6\",\"gridcolor\":\"white\",\"gridwidth\":2,\"linecolor\":\"white\",\"showbackground\":true,\"ticks\":\"\",\"zerolinecolor\":\"white\"},\"zaxis\":{\"backgroundcolor\":\"#E5ECF6\",\"gridcolor\":\"white\",\"gridwidth\":2,\"linecolor\":\"white\",\"showbackground\":true,\"ticks\":\"\",\"zerolinecolor\":\"white\"}},\"shapedefaults\":{\"line\":{\"color\":\"#2a3f5f\"}},\"ternary\":{\"aaxis\":{\"gridcolor\":\"white\",\"linecolor\":\"white\",\"ticks\":\"\"},\"baxis\":{\"gridcolor\":\"white\",\"linecolor\":\"white\",\"ticks\":\"\"},\"bgcolor\":\"#E5ECF6\",\"caxis\":{\"gridcolor\":\"white\",\"linecolor\":\"white\",\"ticks\":\"\"}},\"title\":{\"x\":0.05},\"xaxis\":{\"automargin\":true,\"gridcolor\":\"white\",\"linecolor\":\"white\",\"ticks\":\"\",\"title\":{\"standoff\":15},\"zerolinecolor\":\"white\",\"zerolinewidth\":2},\"yaxis\":{\"automargin\":true,\"gridcolor\":\"white\",\"linecolor\":\"white\",\"ticks\":\"\",\"title\":{\"standoff\":15},\"zerolinecolor\":\"white\",\"zerolinewidth\":2}}},\"xaxis\":{\"anchor\":\"y\",\"domain\":[0.0,1.0],\"title\":{\"text\":\"PTRATIO\"}},\"yaxis\":{\"anchor\":\"x\",\"domain\":[0.0,1.0],\"title\":{\"text\":\"MEDV\"}},\"legend\":{\"tracegroupgap\":0},\"margin\":{\"t\":60}},                        {\"responsive\": true}                    ).then(function(){\n",
              "                            \n",
              "var gd = document.getElementById('ee9ccf4c-3265-4392-b76b-2e9ca21ec166');\n",
              "var x = new MutationObserver(function (mutations, observer) {{\n",
              "        var display = window.getComputedStyle(gd).display;\n",
              "        if (!display || display === 'none') {{\n",
              "            console.log([gd, 'removed!']);\n",
              "            Plotly.purge(gd);\n",
              "            observer.disconnect();\n",
              "        }}\n",
              "}});\n",
              "\n",
              "// Listen for the removal of the full notebook cells\n",
              "var notebookContainer = gd.closest('#notebook-container');\n",
              "if (notebookContainer) {{\n",
              "    x.observe(notebookContainer, {childList: true});\n",
              "}}\n",
              "\n",
              "// Listen for the clearing of the current output cell\n",
              "var outputEl = gd.closest('.output');\n",
              "if (outputEl) {{\n",
              "    x.observe(outputEl, {childList: true});\n",
              "}}\n",
              "\n",
              "                        })                };                            </script>        </div>\n",
              "</body>\n",
              "</html>"
            ]
          },
          "metadata": {},
          "output_type": "display_data"
        }
      ],
      "source": [
        "fig = px.scatter(data, x=data.PTRATIO, y=data.MEDV)\n",
        "fig.show()"
      ]
    },
    {
      "cell_type": "code",
      "execution_count": null,
      "metadata": {
        "colab": {
          "base_uri": "https://localhost:8080/"
        },
        "id": "zSzLhBHxWQQy",
        "outputId": "b60d51b5-ec06-44ad-de99-c284ebd64d23"
      },
      "outputs": [
        {
          "data": {
            "text/plain": [
              "count    506.000000\n",
              "mean       6.284634\n",
              "std        0.702617\n",
              "min        3.561000\n",
              "25%        5.885500\n",
              "50%        6.208500\n",
              "75%        6.623500\n",
              "max        8.780000\n",
              "Name: RM, dtype: float64"
            ]
          },
          "execution_count": 20,
          "metadata": {},
          "output_type": "execute_result"
        }
      ],
      "source": [
        "data.RM.describe()"
      ]
    },
    {
      "cell_type": "code",
      "execution_count": null,
      "metadata": {
        "colab": {
          "base_uri": "https://localhost:8080/",
          "height": 542
        },
        "id": "TcJjkS_IWdTl",
        "outputId": "abbeb4aa-0ddf-418f-d6f7-905875e82316"
      },
      "outputs": [
        {
          "data": {
            "text/html": [
              "<html>\n",
              "<head><meta charset=\"utf-8\" /></head>\n",
              "<body>\n",
              "    <div>            <script src=\"https://cdnjs.cloudflare.com/ajax/libs/mathjax/2.7.5/MathJax.js?config=TeX-AMS-MML_SVG\"></script><script type=\"text/javascript\">if (window.MathJax) {MathJax.Hub.Config({SVG: {font: \"STIX-Web\"}});}</script>                <script type=\"text/javascript\">window.PlotlyConfig = {MathJaxConfig: 'local'};</script>\n",
              "        <script src=\"https://cdn.plot.ly/plotly-2.8.3.min.js\"></script>                <div id=\"38ff194a-ff38-4c2f-9b9e-0702eb82322c\" class=\"plotly-graph-div\" style=\"height:525px; width:100%;\"></div>            <script type=\"text/javascript\">                                    window.PLOTLYENV=window.PLOTLYENV || {};                                    if (document.getElementById(\"38ff194a-ff38-4c2f-9b9e-0702eb82322c\")) {                    Plotly.newPlot(                        \"38ff194a-ff38-4c2f-9b9e-0702eb82322c\",                        [{\"autobinx\":false,\"histnorm\":\"probability density\",\"legendgroup\":\"Distribui\\u00e7\\u00e3o da vari\\u00e1vel RM (n\\u00famero m\\u00e9dio de quartos)\",\"marker\":{\"color\":\"rgb(31, 119, 180)\"},\"name\":\"Distribui\\u00e7\\u00e3o da vari\\u00e1vel RM (n\\u00famero m\\u00e9dio de quartos)\",\"opacity\":0.7,\"x\":[6.575,6.421,7.185,6.998,7.147,6.43,6.012,6.172,5.631,6.004,6.377,6.009,5.889,5.949,6.096,5.834,5.935,5.99,5.456,5.727,5.57,5.965,6.142,5.813,5.924,5.599,5.813,6.047,6.495,6.674,5.713,6.072,5.95,5.701,6.096,5.933,5.841,5.85,5.966,6.595,7.024,6.77,6.169,6.211,6.069,5.682,5.786,6.03,5.399,5.602,5.963,6.115,6.511,5.998,5.888,7.249,6.383,6.816,6.145,5.927,5.741,5.966,6.456,6.762,7.104,6.29,5.787,5.878,5.594,5.885,6.417,5.961,6.065,6.245,6.273,6.286,6.279,6.14,6.232,5.874,6.727,6.619,6.302,6.167,6.389,6.63,6.015,6.121,7.007,7.079,6.417,6.405,6.442,6.211,6.249,6.625,6.163,8.069,7.82,7.416,6.727,6.781,6.405,6.137,6.167,5.851,5.836,6.127,6.474,6.229,6.195,6.715,5.913,6.092,6.254,5.928,6.176,6.021,5.872,5.731,5.87,6.004,5.961,5.856,5.879,5.986,5.613,5.693,6.431,5.637,6.458,6.326,6.372,5.822,5.757,6.335,5.942,6.454,5.857,6.151,6.174,5.019,5.403,5.468,4.903,6.13,5.628,4.926,5.186,5.597,6.122,5.404,5.012,5.709,6.129,6.152,5.272,6.943,6.066,6.51,6.25,7.489,7.802,8.375,5.854,6.101,7.929,5.877,6.319,6.402,5.875,5.88,5.572,6.416,5.859,6.546,6.02,6.315,6.86,6.98,7.765,6.144,7.155,6.563,5.604,6.153,7.831,6.782,6.556,7.185,6.951,6.739,7.178,6.8,6.604,7.875,7.287,7.107,7.274,6.975,7.135,6.162,7.61,7.853,8.034,5.891,6.326,5.783,6.064,5.344,5.96,5.404,5.807,6.375,5.412,6.182,5.888,6.642,5.951,6.373,6.951,6.164,6.879,6.618,8.266,8.725,8.04,7.163,7.686,6.552,5.981,7.412,8.337,8.247,6.726,6.086,6.631,7.358,6.481,6.606,6.897,6.095,6.358,6.393,5.593,5.605,6.108,6.226,6.433,6.718,6.487,6.438,6.957,8.259,6.108,5.876,7.454,8.704,7.333,6.842,7.203,7.52,8.398,7.327,7.206,5.56,7.014,8.297,7.47,5.92,5.856,6.24,6.538,7.691,6.758,6.854,7.267,6.826,6.482,6.812,7.82,6.968,7.645,7.923,7.088,6.453,6.23,6.209,6.315,6.565,6.861,7.148,6.63,6.127,6.009,6.678,6.549,5.79,6.345,7.041,6.871,6.59,6.495,6.982,7.236,6.616,7.42,6.849,6.635,5.972,4.973,6.122,6.023,6.266,6.567,5.705,5.914,5.782,6.382,6.113,6.426,6.376,6.041,5.708,6.415,6.431,6.312,6.083,5.868,6.333,6.144,5.706,6.031,6.316,6.31,6.037,5.869,5.895,6.059,5.985,5.968,7.241,6.54,6.696,6.874,6.014,5.898,6.516,6.635,6.939,6.49,6.579,5.884,6.728,5.663,5.936,6.212,6.395,6.127,6.112,6.398,6.251,5.362,5.803,8.78,3.561,4.963,3.863,4.97,6.683,7.016,6.216,5.875,4.906,4.138,7.313,6.649,6.794,6.38,6.223,6.968,6.545,5.536,5.52,4.368,5.277,4.652,5.0,4.88,5.39,5.713,6.051,5.036,6.193,5.887,6.471,6.405,5.747,5.453,5.852,5.987,6.343,6.404,5.349,5.531,5.683,4.138,5.608,5.617,6.852,5.757,6.657,4.628,5.155,4.519,6.434,6.782,5.304,5.957,6.824,6.411,6.006,5.648,6.103,5.565,5.896,5.837,6.202,6.193,6.38,6.348,6.833,6.425,6.436,6.208,6.629,6.461,6.152,5.935,5.627,5.818,6.406,6.219,6.485,5.854,6.459,6.341,6.251,6.185,6.417,6.749,6.655,6.297,7.393,6.728,6.525,5.976,5.936,6.301,6.081,6.701,6.376,6.317,6.513,6.209,5.759,5.952,6.003,5.926,5.713,6.167,6.229,6.437,6.98,5.427,6.162,6.484,5.304,6.185,6.229,6.242,6.75,7.061,5.762,5.871,6.312,6.114,5.905,5.454,5.414,5.093,5.983,5.983,5.707,5.926,5.67,5.39,5.794,6.019,5.569,6.027,6.593,6.12,6.976,6.794,6.03],\"xaxis\":\"x\",\"xbins\":{\"end\":8.78,\"size\":0.2,\"start\":3.561},\"yaxis\":\"y\",\"type\":\"histogram\"},{\"legendgroup\":\"Distribui\\u00e7\\u00e3o da vari\\u00e1vel RM (n\\u00famero m\\u00e9dio de quartos)\",\"marker\":{\"color\":\"rgb(31, 119, 180)\"},\"mode\":\"lines\",\"name\":\"Distribui\\u00e7\\u00e3o da vari\\u00e1vel RM (n\\u00famero m\\u00e9dio de quartos)\",\"showlegend\":false,\"x\":[3.561,3.571438,3.581876,3.592314,3.6027519999999997,3.61319,3.623628,3.634066,3.644504,3.654942,3.66538,3.675818,3.6862559999999998,3.696694,3.707132,3.71757,3.728008,3.7384459999999997,3.748884,3.759322,3.7697599999999998,3.780198,3.790636,3.801074,3.811512,3.82195,3.832388,3.842826,3.853264,3.863702,3.8741399999999997,3.884578,3.895016,3.9054539999999998,3.915892,3.92633,3.936768,3.947206,3.9576439999999997,3.968082,3.97852,3.988958,3.999396,4.009834,4.020272,4.03071,4.041148,4.051586,4.062024,4.072462,4.0829,4.093338,4.103776,4.114214,4.124652,4.13509,4.145528,4.155965999999999,4.166404,4.176842,4.1872799999999994,4.197718,4.208156,4.2185939999999995,4.229032,4.23947,4.249908,4.260346,4.270784,4.281222,4.29166,4.302098,4.312536,4.322974,4.333412,4.34385,4.3542879999999995,4.364726,4.375164,4.385602,4.39604,4.406478,4.416916,4.427354,4.437792,4.44823,4.458667999999999,4.469106,4.479544,4.4899819999999995,4.50042,4.510858,4.5212959999999995,4.531734,4.542172,4.55261,4.563048,4.573486,4.583924,4.594362,4.6048,4.615238,4.625676,4.636114,4.646552,4.6569899999999995,4.667428,4.677866,4.688304,4.698742,4.70918,4.719618,4.730055999999999,4.740494,4.750932,4.761369999999999,4.771808,4.782246,4.7926839999999995,4.803122,4.81356,4.823998,4.834436,4.844874,4.855312,4.86575,4.876188,4.886626,4.897064,4.907502,4.91794,4.928378,4.938815999999999,4.949254,4.9596919999999995,4.970129999999999,4.980568,4.991006,5.001443999999999,5.011882,5.02232,5.032757999999999,5.043196,5.053634,5.0640719999999995,5.07451,5.084948,5.0953859999999995,5.105824,5.116262,5.1267,5.137138,5.147576,5.158014,5.168452,5.17889,5.189328,5.199766,5.210203999999999,5.220642,5.23108,5.241517999999999,5.251956,5.262394,5.272831999999999,5.28327,5.293708,5.304145999999999,5.314584,5.325022,5.335459999999999,5.345898,5.356336,5.3667739999999995,5.377212,5.38765,5.3980879999999996,5.408526,5.418964,5.429402,5.439839999999999,5.450278,5.460716,5.471153999999999,5.481592,5.49203,5.5024679999999995,5.512905999999999,5.523344,5.5337819999999995,5.544219999999999,5.554658,5.565096,5.575533999999999,5.585972,5.59641,5.606847999999999,5.617286,5.627724,5.6381619999999995,5.6486,5.659037999999999,5.6694759999999995,5.679914,5.690352,5.70079,5.711228,5.721665999999999,5.732104,5.742542,5.752979999999999,5.763418,5.773856,5.784293999999999,5.794732,5.8051699999999995,5.815607999999999,5.826046,5.8364840000000004,5.846921999999999,5.85736,5.867798,5.878235999999999,5.888674,5.899112,5.909549999999999,5.919988,5.930426,5.9408639999999995,5.951302,5.96174,5.9721779999999995,5.982615999999999,5.993053999999999,6.003492,6.01393,6.024368,6.034806,6.045244,6.055681999999999,6.06612,6.0765579999999995,6.086995999999999,6.097434,6.107872,6.118309999999999,6.128748,6.139186,6.149623999999999,6.160062,6.1705,6.180937999999999,6.191376,6.201814,6.212251999999999,6.22269,6.233128,6.2435659999999995,6.254004,6.264441999999999,6.27488,6.285318,6.295756,6.306194,6.316631999999999,6.327069999999999,6.337508,6.347946,6.358383999999999,6.368822,6.3792599999999995,6.389697999999999,6.400136,6.4105739999999996,6.421011999999999,6.43145,6.441888,6.452325999999999,6.462764,6.473202,6.483639999999999,6.494078,6.504516,6.5149539999999995,6.525392,6.535829999999999,6.5462679999999995,6.556706,6.567144,6.577582,6.588019999999999,6.598457999999999,6.608896,6.619334,6.629771999999999,6.64021,6.6506479999999994,6.661085999999999,6.671524,6.6819619999999995,6.692399999999999,6.702838,6.713276,6.723713999999999,6.734152,6.74459,6.755027999999999,6.765466,6.775904,6.786341999999999,6.79678,6.807218,6.8176559999999995,6.828094,6.838532,6.84897,6.859407999999999,6.869845999999999,6.880284,6.890722,6.90116,6.911598,6.922035999999999,6.932473999999999,6.942912,6.9533499999999995,6.963787999999999,6.974226,6.9846639999999995,6.995101999999999,7.00554,7.015978,7.026415999999999,7.036854,7.047291999999999,7.057729999999999,7.068168,7.078606,7.0890439999999995,7.099482,7.109919999999999,7.1203579999999995,7.130796,7.141233999999999,7.151672,7.16211,7.172548,7.182986,7.193423999999999,7.203861999999999,7.2143,7.224737999999999,7.235175999999999,7.245614,7.2560519999999995,7.266489999999999,7.276928,7.287366,7.297803999999999,7.308242,7.318679999999999,7.329117999999999,7.339556,7.349994,7.360431999999999,7.37087,7.381307999999999,7.3917459999999995,7.402184,7.412621999999999,7.4230599999999995,7.433498,7.443935999999999,7.454374,7.464811999999999,7.475249999999999,7.485688,7.496126,7.506563999999999,7.517002,7.5274399999999995,7.537877999999999,7.548316,7.5587539999999995,7.569191999999999,7.57963,7.590068,7.600505999999999,7.610943999999999,7.621382,7.631819999999999,7.642257999999999,7.652696,7.6631339999999994,7.673571999999999,7.684009999999999,7.6944479999999995,7.704885999999999,7.715324,7.725762,7.7362,7.746638,7.757075999999999,7.767513999999999,7.777951999999999,7.78839,7.798827999999999,7.809265999999999,7.819704,7.8301419999999995,7.84058,7.851017999999999,7.8614559999999996,7.871893999999999,7.882331999999999,7.89277,7.903207999999999,7.913646,7.924084,7.934522,7.944959999999999,7.955397999999999,7.9658359999999995,7.976273999999999,7.986712,7.9971499999999995,8.007587999999998,8.018025999999999,8.028464,8.038902,8.049339999999999,8.059778,8.070215999999999,8.080654,8.091092,8.10153,8.111968000000001,8.122405999999998,8.132843999999999,8.143282,8.15372,8.164158,8.174596,8.185034,8.195471999999999,8.20591,8.216348,8.226785999999999,8.237224,8.247661999999998,8.258099999999999,8.268538,8.278976,8.289414,8.299852,8.310289999999998,8.320727999999999,8.331166,8.341604,8.352041999999999,8.36248,8.372917999999999,8.383356,8.393794,8.404231999999999,8.41467,8.425107999999998,8.435545999999999,8.445984,8.456422,8.46686,8.477298,8.487736,8.498173999999999,8.508612,8.51905,8.529488,8.539926,8.550363999999998,8.560801999999999,8.57124,8.581678,8.592115999999999,8.602553999999998,8.612991999999998,8.623429999999999,8.633868,8.644306,8.654744,8.665182,8.675619999999999,8.686058,8.696496,8.706934,8.717372,8.72781,8.738247999999999,8.748686,8.759124,8.769561999999999],\"xaxis\":\"x\",\"y\":[0.005311409187177656,0.005428056001875272,0.0055412058304871266,0.00565101543619811,0.005757692039482319,0.005861490052469539,0.005962707164097594,0.0060616798500851285,0.006158778389700189,0.006254401476954018,0.0063489705171729,0.006442923700934874,0.006536709946227863,0.00663078279659241,0.006725594358221726,0.006821589352826069,0.0069191993558824615,0.007018837282064626,0.007120892171560252,0.0072257243229982985,0.00733366081115917,0.007444991420807075,0.007559965022087576,0.007678786408120961,0.007801613611763039,0.007928555715984323,0.008059671170844633,0.008194966629441032,0.00833439631525136,0.008477861933694509,0.008625213141159889,0.008776248584881177,0.008930717526501392,0.009088322060682275,0.009248719937367826,0.009411527992104362,0.00957632618299856,0.009742662225401637,0.009910056806277408,0.010078009349575623,0.010246004292021658,0.010413517815870717,0.010580024971764782,0.010745007111344917,0.010907959536234375,0.011068399257968963,0.011225872752970342,0.011379963588274021,0.011530299787937723,0.011676560807301738,0.011818483982900476,0.01195587033008203,0.012088589568409296,0.01221658426669447,0.01233987301493091,0.012458552549168085,0.012572798777140022,0.01268286667669361,0.01278908906516287,0.012891874265095755,0.012991702719400717,0.013089122636232426,0.013184744769958224,0.013279236468522995,0.013373315138678763,0.013467741298144782,0.013563311397169852,0.013660850600640496,0.013761205725393025,0.013865238525452302,0.01397381951038617,0.01408782246883185,0.014208119850671008,0.014335579137604597,0.014471060303458103,0.014615414433018548,0.014769483532282924,0.014934101524515318,0.015110096386393643,0.015298293337788897,0.015499518958426018,0.015714606065936016,0.01594439915374389,0.016189760154956625,0.016451574270997846,0.01673075558219079,0.017028252142743932,0.01734505025545229,0.0176821776225579,0.018040705079114736,0.018421746634186092,0.018826457573367046,0.019256030413340626,0.01971168854507488,0.020194677456230607,0.020706253484504764,0.02124767012085969,0.021820161953529368,0.022424926418770856,0.02306310360076823,0.023735754398970292,0.0244438374543968,0.025188185294955933,0.025969480221444914,0.026788230508546104,0.027644747536789836,0.028539124500303575,0.029471217349595208,0.030440628627323066,0.03144669483701278,0.03248847794942752,0.033564761598651106,0.03467405245022646,0.03581458713773733,0.03698434506332174,0.0381810672435511,0.03940228125712813,0.04064533221759701,0.04190741955572115,0.043185639255639015,0.04447703104986447,0.04577862994424317,0.04708752131873322,0.04840089873688565,0.04971612349949631,0.05103078489913314,0.05234276007479009,0.05365027233195017,0.054951946784498606,0.05624686219223213,0.05753459791150975,0.05881527494655142,0.060089590183980524,0.061358843011708505,0.06262495366277429,0.06389047278234677,0.06515858188820796,0.06643308457775284,0.0677183885235424,0.06901947849020952,0.0703418807934079,0.07169161980189176,0.07307516725222797,0.0744993852978769,0.07597146434658726,0.07749885684889442,0.0790892082832327,0.08075028663766082,0.08248991171306168,0.08431588556729276,0.08623592538424418,0.0882575999870147,0.09038827112207129,0.09263504052363213,0.09500470362753222,0.09750371064497866,0.10013813553278426,0.1029136532120755,0.10583552519660168,0.1089085935990818,0.11213728329401686,0.11552561183241657,0.11907720653194437,0.12279532800879447,0.12668289927844117,0.13074253943387873,0.1349766008143383,0.13938720850620134,0.1439763009718609,0.14874567058195196,0.15369700283138826,0.15883191304918262,0.16415197946485827,0.1696587715686002,0.1753538727961464,0.1812388966804707,0.1873154957380713,0.19358536249555222,0.20005022220959826,0.20671181698780675,0.21357188117662737,0.22063210804359923,0.22789410794187276,0.2353593583036884,0.24302914596412037,0.25090450246531387,0.2589861331330171,0.2672743408499087,0.27576894557272574,0.2844692007509611,0.2933737079026971,0.30248033068644853,0.3117861098753886,0.32128718069054124,0.3309786939809666,0.3408547427503466,0.3509082955191999,0.361131137979091,0.37151382433861174,0.38204563967981786,0.39271457453779196,0.40350731278512264,0.4144092337478809,0.42540442930108635,0.4364757364916389,0.44760478601730674,0.4587720666548028,0.4699570054817778,0.4811380634809285,0.4922928458539945,0.503398226114513,0.5144304827759152,0.525365447211671,0.536178661042167,0.5468455412040817,0.5573415506873153,0.5676423727865167,0.5777240866125636,0.5875633415472603,0.5971375283038887,0.6064249442783057,0.6154049509400322,0.6240581211192997,0.6323663741921471,0.6403130973485436,0.6478832513441996,0.655063459380532,0.6618420780240292,0.6682092493601999,0.6741569338724575,0.6796789238365826,0.6847708373208232,0.6894300931744062,0.6936558676679481,0.6974490337129671,0.700812083830246,0.7037490382545036,0.7062653397528809,0.7083677368949483,0.7100641576409231,0.7113635752117425,0.7122758682694791,0.712811677469728,0.7129822604498621,0.7127993472897696,0.7122749984263099,0.7114214669210761,0.7102510668749689,0.7087760496546002,0.7070084894466862,0.7049601794894526,0.7026425401468006,0.7000665397937372,0.6972426292726366,0.6941806904615839,0.6908899992709465,0.6873792031549533,0.6836563129944281,0.6797287089778841,0.6756031598842394,0.6712858549548687,0.666782447339201,0.6620981079101235,0.6572375880768866,0.6522052900774188,0.6470053431123669,0.6416416835928105,0.6361181377149914,0.6304385045505939,0.6246066378514377,0.6186265248135328,0.6125023601269329,0.6062386137537562,0.5998400910249212,0.5933119838237786,0.5866599118281438,0.5798899530067184,0.5730086628064559,0.5660230817184171,0.5589407311650404,0.5517695979054544,0.5445181074012374,0.5371950868170342,0.5298097185429559,0.5223714853139217,0.514890108160483,0.5073754785529252,0.49983758619289637,0.49228644396297444,0.4847320115638577,0.47718411935188537,0.4696523938376389,0.46214618622209586,0.45467450523325936,0.447245955387356,0.4398686816391407,0.43255032121035775,0.42529796319915264,0.4181181163815283,0.41101668542372216,0.4039989555367331,0.3970695854255743,0.3902326082202708,0.3834914399265879,0.3768488948048819,0.3703072069773605,0.36386805747887924,0.3575326059050037,0.3513015257733062,0.34517504269929783,0.3391529744957824,0.3332347723321079,0.32741956213567514,0.32170618547982605,0.316093239277067,0.310579113681888,0.30516202770026857,0.29984006210050823,0.2946111893196327,0.289473300158728,0.2844242271567637,0.2794617646238226,0.2745836853992613,0.26978775447670966,0.2650717397048835,0.2604334198299667,0.25587059019130026,0.2513810664170477,0.2469626864903287,0.24261331156926552,0.23833082594700192,0.2341131365305236,0.22995817220095507,0.2258638833937713,0.22182824220608505,0.2178492433009115,0.21392490583625307,0.21005327660102627,0.20623243449152143,0.20246049641229105,0.1987356246351686,0.19505603560057705,0.19142001009731535,0.18782590471143656,0.18427216439248612,0.1807573359468678,0.1772800822340059,0.1738391968117988,0.17043361875392235,0.16706244734310582,0.16372495633176223,0.16042060745437986,0.15714906287482355,0.15391019625616975,0.15070410215064767,0.14753110342257375,0.14439175643753946,0.14128685377627362,0.13821742426118971,0.13518473011733756,0.13219026112681972,0.12923572567637953,0.12632303864132444,0.12345430609469439,0.12063180687822336,0.11785797112049937,0.11513535583732275,0.11246661779892975,0.10985448389784357,0.10730171929895183,0.10481109369923537,0.10238534606767695,0.10002714827539082,0.09773906806125227,0.09552353180837711,0.09338278763097442,0.09131886928865734,0.08933356145550174,0.08742836687345575,0.08560447591357695,0.08386273905368392,0.08220364275705296,0.08062728920380459,0.07913338028461056,0.07772120621570454,0.07638963907534964,0.07513713149561209,0.07396172067041572,0.07286103776247611,0.07183232270908459,0.07087244434122728,0.06997792564369813,0.06914497389730144,0.06836951535960543,0.06764723405967611,0.06697361420646161,0.06634398564159667,0.06575357170686591,0.06519753884576181,0.06467104721869693,0.06416930158346158,0.06368760167723889,0.06322139133440172,0.06276630558569139,0.06231821500919354,0.06187326664150488,0.061427920808081106,0.06097898329415778,0.0605236323508175,0.06005944011346688,0.059584388100755205,0.05909687655920076,0.05859572752076295,0.05808018154549523,0.057549888227344144,0.057004890646246,0.0564456040520213,0.05587278916335391,0.05528752055662135,0.05469115070287236,0.05408527028533803,0.053471665493172234,0.05285227303850585,0.052229133682403554,0.05160434508021661,0.050980014767613546,0.05035821410497534,0.04974093397984245,0.04913004303490097,0.04852724914305926,0.04793406479218825,0.04735177697100488,0.04678142206551251,0.04622376618373732,0.045679291226758775,0.045148186917935665,0.04463034889165823,0.04412538282986876,0.043632614521083225,0.043151105604818454,0.042679674656332815,0.04221692316453311,0.041761265861838585,0.041310964780652354,0.04086416633867434,0.04041894069616621,0.03997332258382336,0.03952535277118863,0.0390731193333389,0.03861479787833845,0.0381486899197572,0.03767325861714708,0.037187161162084884,0.03668927715723879,0.03617873241952663,0.035654917734119294,0.03511750219183215,0.034566440856091965,0.0340019766247366,0.03342463627381349,0.032835220792597854,0.03223479023857361,0.03162464345541764,0.031006293103579313,0.030381436549428306,0.029751923243037076,0.029119719284568836,0.028486869933433207,0.027855460851691764,0.027227578892853693,0.026605273248889894,0.025990517752061508,0.02538517509454907,0.024790963678780066,0.024209427746112903,0.023641911352799538,0.02308953667188283,0.022553187000129524,0.02203349474265723,0.02153083453716652,0.0210453215672437,0.020576815002699252,0.020124926396915533,0.019689032769122174,0.019268294005666813,0.018861674130691574,0.01846796592490242,0.018085818312709084,0.017713765893971195,0.01735025996756679,0.016993700380298182,0.01664246753616085,0.016294953917261407,0.015949594497867394,0.015604895476066164,0.015259460801895086,0.014912016044926545,0.014561429216311494,0.014206728238244573,0.013847114835647474],\"yaxis\":\"y\",\"type\":\"scatter\"},{\"legendgroup\":\"Distribui\\u00e7\\u00e3o da vari\\u00e1vel RM (n\\u00famero m\\u00e9dio de quartos)\",\"marker\":{\"color\":\"rgb(31, 119, 180)\",\"symbol\":\"line-ns-open\"},\"mode\":\"markers\",\"name\":\"Distribui\\u00e7\\u00e3o da vari\\u00e1vel RM (n\\u00famero m\\u00e9dio de quartos)\",\"showlegend\":false,\"x\":[6.575,6.421,7.185,6.998,7.147,6.43,6.012,6.172,5.631,6.004,6.377,6.009,5.889,5.949,6.096,5.834,5.935,5.99,5.456,5.727,5.57,5.965,6.142,5.813,5.924,5.599,5.813,6.047,6.495,6.674,5.713,6.072,5.95,5.701,6.096,5.933,5.841,5.85,5.966,6.595,7.024,6.77,6.169,6.211,6.069,5.682,5.786,6.03,5.399,5.602,5.963,6.115,6.511,5.998,5.888,7.249,6.383,6.816,6.145,5.927,5.741,5.966,6.456,6.762,7.104,6.29,5.787,5.878,5.594,5.885,6.417,5.961,6.065,6.245,6.273,6.286,6.279,6.14,6.232,5.874,6.727,6.619,6.302,6.167,6.389,6.63,6.015,6.121,7.007,7.079,6.417,6.405,6.442,6.211,6.249,6.625,6.163,8.069,7.82,7.416,6.727,6.781,6.405,6.137,6.167,5.851,5.836,6.127,6.474,6.229,6.195,6.715,5.913,6.092,6.254,5.928,6.176,6.021,5.872,5.731,5.87,6.004,5.961,5.856,5.879,5.986,5.613,5.693,6.431,5.637,6.458,6.326,6.372,5.822,5.757,6.335,5.942,6.454,5.857,6.151,6.174,5.019,5.403,5.468,4.903,6.13,5.628,4.926,5.186,5.597,6.122,5.404,5.012,5.709,6.129,6.152,5.272,6.943,6.066,6.51,6.25,7.489,7.802,8.375,5.854,6.101,7.929,5.877,6.319,6.402,5.875,5.88,5.572,6.416,5.859,6.546,6.02,6.315,6.86,6.98,7.765,6.144,7.155,6.563,5.604,6.153,7.831,6.782,6.556,7.185,6.951,6.739,7.178,6.8,6.604,7.875,7.287,7.107,7.274,6.975,7.135,6.162,7.61,7.853,8.034,5.891,6.326,5.783,6.064,5.344,5.96,5.404,5.807,6.375,5.412,6.182,5.888,6.642,5.951,6.373,6.951,6.164,6.879,6.618,8.266,8.725,8.04,7.163,7.686,6.552,5.981,7.412,8.337,8.247,6.726,6.086,6.631,7.358,6.481,6.606,6.897,6.095,6.358,6.393,5.593,5.605,6.108,6.226,6.433,6.718,6.487,6.438,6.957,8.259,6.108,5.876,7.454,8.704,7.333,6.842,7.203,7.52,8.398,7.327,7.206,5.56,7.014,8.297,7.47,5.92,5.856,6.24,6.538,7.691,6.758,6.854,7.267,6.826,6.482,6.812,7.82,6.968,7.645,7.923,7.088,6.453,6.23,6.209,6.315,6.565,6.861,7.148,6.63,6.127,6.009,6.678,6.549,5.79,6.345,7.041,6.871,6.59,6.495,6.982,7.236,6.616,7.42,6.849,6.635,5.972,4.973,6.122,6.023,6.266,6.567,5.705,5.914,5.782,6.382,6.113,6.426,6.376,6.041,5.708,6.415,6.431,6.312,6.083,5.868,6.333,6.144,5.706,6.031,6.316,6.31,6.037,5.869,5.895,6.059,5.985,5.968,7.241,6.54,6.696,6.874,6.014,5.898,6.516,6.635,6.939,6.49,6.579,5.884,6.728,5.663,5.936,6.212,6.395,6.127,6.112,6.398,6.251,5.362,5.803,8.78,3.561,4.963,3.863,4.97,6.683,7.016,6.216,5.875,4.906,4.138,7.313,6.649,6.794,6.38,6.223,6.968,6.545,5.536,5.52,4.368,5.277,4.652,5.0,4.88,5.39,5.713,6.051,5.036,6.193,5.887,6.471,6.405,5.747,5.453,5.852,5.987,6.343,6.404,5.349,5.531,5.683,4.138,5.608,5.617,6.852,5.757,6.657,4.628,5.155,4.519,6.434,6.782,5.304,5.957,6.824,6.411,6.006,5.648,6.103,5.565,5.896,5.837,6.202,6.193,6.38,6.348,6.833,6.425,6.436,6.208,6.629,6.461,6.152,5.935,5.627,5.818,6.406,6.219,6.485,5.854,6.459,6.341,6.251,6.185,6.417,6.749,6.655,6.297,7.393,6.728,6.525,5.976,5.936,6.301,6.081,6.701,6.376,6.317,6.513,6.209,5.759,5.952,6.003,5.926,5.713,6.167,6.229,6.437,6.98,5.427,6.162,6.484,5.304,6.185,6.229,6.242,6.75,7.061,5.762,5.871,6.312,6.114,5.905,5.454,5.414,5.093,5.983,5.983,5.707,5.926,5.67,5.39,5.794,6.019,5.569,6.027,6.593,6.12,6.976,6.794,6.03],\"xaxis\":\"x\",\"y\":[\"Distribui\\u00e7\\u00e3o da vari\\u00e1vel RM (n\\u00famero m\\u00e9dio de quartos)\",\"Distribui\\u00e7\\u00e3o da vari\\u00e1vel RM (n\\u00famero m\\u00e9dio de quartos)\",\"Distribui\\u00e7\\u00e3o da vari\\u00e1vel RM (n\\u00famero m\\u00e9dio de quartos)\",\"Distribui\\u00e7\\u00e3o da vari\\u00e1vel RM (n\\u00famero m\\u00e9dio de quartos)\",\"Distribui\\u00e7\\u00e3o da vari\\u00e1vel RM (n\\u00famero m\\u00e9dio de quartos)\",\"Distribui\\u00e7\\u00e3o da vari\\u00e1vel RM (n\\u00famero m\\u00e9dio de quartos)\",\"Distribui\\u00e7\\u00e3o da vari\\u00e1vel RM (n\\u00famero m\\u00e9dio de quartos)\",\"Distribui\\u00e7\\u00e3o da vari\\u00e1vel RM (n\\u00famero m\\u00e9dio de quartos)\",\"Distribui\\u00e7\\u00e3o da vari\\u00e1vel RM (n\\u00famero m\\u00e9dio de quartos)\",\"Distribui\\u00e7\\u00e3o da vari\\u00e1vel RM (n\\u00famero m\\u00e9dio de quartos)\",\"Distribui\\u00e7\\u00e3o da vari\\u00e1vel RM (n\\u00famero m\\u00e9dio de quartos)\",\"Distribui\\u00e7\\u00e3o da vari\\u00e1vel RM (n\\u00famero m\\u00e9dio de quartos)\",\"Distribui\\u00e7\\u00e3o da vari\\u00e1vel RM (n\\u00famero m\\u00e9dio de quartos)\",\"Distribui\\u00e7\\u00e3o da vari\\u00e1vel RM (n\\u00famero m\\u00e9dio de quartos)\",\"Distribui\\u00e7\\u00e3o da vari\\u00e1vel RM (n\\u00famero m\\u00e9dio de quartos)\",\"Distribui\\u00e7\\u00e3o da vari\\u00e1vel RM (n\\u00famero m\\u00e9dio de quartos)\",\"Distribui\\u00e7\\u00e3o da vari\\u00e1vel RM (n\\u00famero m\\u00e9dio de quartos)\",\"Distribui\\u00e7\\u00e3o da vari\\u00e1vel RM (n\\u00famero m\\u00e9dio de quartos)\",\"Distribui\\u00e7\\u00e3o da vari\\u00e1vel RM (n\\u00famero m\\u00e9dio de quartos)\",\"Distribui\\u00e7\\u00e3o da vari\\u00e1vel RM (n\\u00famero m\\u00e9dio de quartos)\",\"Distribui\\u00e7\\u00e3o da vari\\u00e1vel RM (n\\u00famero m\\u00e9dio de quartos)\",\"Distribui\\u00e7\\u00e3o da vari\\u00e1vel RM (n\\u00famero m\\u00e9dio de quartos)\",\"Distribui\\u00e7\\u00e3o da vari\\u00e1vel RM (n\\u00famero m\\u00e9dio de quartos)\",\"Distribui\\u00e7\\u00e3o da vari\\u00e1vel RM (n\\u00famero m\\u00e9dio de quartos)\",\"Distribui\\u00e7\\u00e3o da vari\\u00e1vel RM (n\\u00famero m\\u00e9dio de quartos)\",\"Distribui\\u00e7\\u00e3o da vari\\u00e1vel RM (n\\u00famero m\\u00e9dio de quartos)\",\"Distribui\\u00e7\\u00e3o da vari\\u00e1vel RM (n\\u00famero m\\u00e9dio de quartos)\",\"Distribui\\u00e7\\u00e3o da vari\\u00e1vel RM (n\\u00famero m\\u00e9dio de quartos)\",\"Distribui\\u00e7\\u00e3o da vari\\u00e1vel RM (n\\u00famero m\\u00e9dio de quartos)\",\"Distribui\\u00e7\\u00e3o da vari\\u00e1vel RM (n\\u00famero m\\u00e9dio de quartos)\",\"Distribui\\u00e7\\u00e3o da vari\\u00e1vel RM (n\\u00famero m\\u00e9dio de quartos)\",\"Distribui\\u00e7\\u00e3o da vari\\u00e1vel RM (n\\u00famero m\\u00e9dio de quartos)\",\"Distribui\\u00e7\\u00e3o da vari\\u00e1vel RM (n\\u00famero m\\u00e9dio de quartos)\",\"Distribui\\u00e7\\u00e3o da vari\\u00e1vel RM (n\\u00famero m\\u00e9dio de quartos)\",\"Distribui\\u00e7\\u00e3o da vari\\u00e1vel RM (n\\u00famero m\\u00e9dio de quartos)\",\"Distribui\\u00e7\\u00e3o da vari\\u00e1vel RM (n\\u00famero m\\u00e9dio de quartos)\",\"Distribui\\u00e7\\u00e3o da vari\\u00e1vel RM (n\\u00famero m\\u00e9dio de quartos)\",\"Distribui\\u00e7\\u00e3o da vari\\u00e1vel RM (n\\u00famero m\\u00e9dio de quartos)\",\"Distribui\\u00e7\\u00e3o da vari\\u00e1vel RM (n\\u00famero m\\u00e9dio de quartos)\",\"Distribui\\u00e7\\u00e3o da vari\\u00e1vel RM (n\\u00famero m\\u00e9dio de quartos)\",\"Distribui\\u00e7\\u00e3o da vari\\u00e1vel RM (n\\u00famero m\\u00e9dio de quartos)\",\"Distribui\\u00e7\\u00e3o da vari\\u00e1vel RM (n\\u00famero m\\u00e9dio de quartos)\",\"Distribui\\u00e7\\u00e3o da vari\\u00e1vel RM (n\\u00famero m\\u00e9dio de quartos)\",\"Distribui\\u00e7\\u00e3o da vari\\u00e1vel RM (n\\u00famero m\\u00e9dio de quartos)\",\"Distribui\\u00e7\\u00e3o da vari\\u00e1vel RM (n\\u00famero m\\u00e9dio de quartos)\",\"Distribui\\u00e7\\u00e3o da vari\\u00e1vel RM (n\\u00famero m\\u00e9dio de quartos)\",\"Distribui\\u00e7\\u00e3o da vari\\u00e1vel RM (n\\u00famero m\\u00e9dio de quartos)\",\"Distribui\\u00e7\\u00e3o da vari\\u00e1vel RM (n\\u00famero m\\u00e9dio de quartos)\",\"Distribui\\u00e7\\u00e3o da vari\\u00e1vel RM (n\\u00famero m\\u00e9dio de quartos)\",\"Distribui\\u00e7\\u00e3o da vari\\u00e1vel RM (n\\u00famero m\\u00e9dio de quartos)\",\"Distribui\\u00e7\\u00e3o da vari\\u00e1vel RM (n\\u00famero m\\u00e9dio de quartos)\",\"Distribui\\u00e7\\u00e3o da vari\\u00e1vel RM (n\\u00famero m\\u00e9dio de quartos)\",\"Distribui\\u00e7\\u00e3o da vari\\u00e1vel RM (n\\u00famero m\\u00e9dio de quartos)\",\"Distribui\\u00e7\\u00e3o da vari\\u00e1vel RM (n\\u00famero m\\u00e9dio de quartos)\",\"Distribui\\u00e7\\u00e3o da vari\\u00e1vel RM (n\\u00famero m\\u00e9dio de quartos)\",\"Distribui\\u00e7\\u00e3o da vari\\u00e1vel RM (n\\u00famero m\\u00e9dio de quartos)\",\"Distribui\\u00e7\\u00e3o da vari\\u00e1vel RM (n\\u00famero m\\u00e9dio de quartos)\",\"Distribui\\u00e7\\u00e3o da vari\\u00e1vel RM (n\\u00famero m\\u00e9dio de quartos)\",\"Distribui\\u00e7\\u00e3o da vari\\u00e1vel RM (n\\u00famero m\\u00e9dio de quartos)\",\"Distribui\\u00e7\\u00e3o da vari\\u00e1vel RM (n\\u00famero m\\u00e9dio de quartos)\",\"Distribui\\u00e7\\u00e3o da vari\\u00e1vel RM (n\\u00famero m\\u00e9dio de quartos)\",\"Distribui\\u00e7\\u00e3o da vari\\u00e1vel RM (n\\u00famero m\\u00e9dio de quartos)\",\"Distribui\\u00e7\\u00e3o da vari\\u00e1vel RM (n\\u00famero m\\u00e9dio de quartos)\",\"Distribui\\u00e7\\u00e3o da vari\\u00e1vel RM (n\\u00famero m\\u00e9dio de quartos)\",\"Distribui\\u00e7\\u00e3o da vari\\u00e1vel RM (n\\u00famero m\\u00e9dio de quartos)\",\"Distribui\\u00e7\\u00e3o da vari\\u00e1vel RM (n\\u00famero m\\u00e9dio de quartos)\",\"Distribui\\u00e7\\u00e3o da vari\\u00e1vel RM (n\\u00famero m\\u00e9dio de quartos)\",\"Distribui\\u00e7\\u00e3o da vari\\u00e1vel RM (n\\u00famero m\\u00e9dio de quartos)\",\"Distribui\\u00e7\\u00e3o da vari\\u00e1vel RM (n\\u00famero m\\u00e9dio de quartos)\",\"Distribui\\u00e7\\u00e3o da vari\\u00e1vel RM (n\\u00famero m\\u00e9dio de quartos)\",\"Distribui\\u00e7\\u00e3o da vari\\u00e1vel RM (n\\u00famero m\\u00e9dio de quartos)\",\"Distribui\\u00e7\\u00e3o da vari\\u00e1vel RM (n\\u00famero m\\u00e9dio de quartos)\",\"Distribui\\u00e7\\u00e3o da vari\\u00e1vel RM (n\\u00famero m\\u00e9dio de quartos)\",\"Distribui\\u00e7\\u00e3o da vari\\u00e1vel RM (n\\u00famero m\\u00e9dio de quartos)\",\"Distribui\\u00e7\\u00e3o da vari\\u00e1vel RM (n\\u00famero m\\u00e9dio de quartos)\",\"Distribui\\u00e7\\u00e3o da vari\\u00e1vel RM (n\\u00famero m\\u00e9dio de quartos)\",\"Distribui\\u00e7\\u00e3o da vari\\u00e1vel RM (n\\u00famero m\\u00e9dio de quartos)\",\"Distribui\\u00e7\\u00e3o da vari\\u00e1vel RM (n\\u00famero m\\u00e9dio de quartos)\",\"Distribui\\u00e7\\u00e3o da vari\\u00e1vel RM (n\\u00famero m\\u00e9dio de quartos)\",\"Distribui\\u00e7\\u00e3o da vari\\u00e1vel RM (n\\u00famero m\\u00e9dio de quartos)\",\"Distribui\\u00e7\\u00e3o da vari\\u00e1vel RM (n\\u00famero m\\u00e9dio de quartos)\",\"Distribui\\u00e7\\u00e3o da vari\\u00e1vel RM (n\\u00famero m\\u00e9dio de quartos)\",\"Distribui\\u00e7\\u00e3o da vari\\u00e1vel RM (n\\u00famero m\\u00e9dio de quartos)\",\"Distribui\\u00e7\\u00e3o da vari\\u00e1vel RM (n\\u00famero m\\u00e9dio de quartos)\",\"Distribui\\u00e7\\u00e3o da vari\\u00e1vel RM (n\\u00famero m\\u00e9dio de quartos)\",\"Distribui\\u00e7\\u00e3o da vari\\u00e1vel RM (n\\u00famero m\\u00e9dio de quartos)\",\"Distribui\\u00e7\\u00e3o da vari\\u00e1vel RM (n\\u00famero m\\u00e9dio de quartos)\",\"Distribui\\u00e7\\u00e3o da vari\\u00e1vel RM (n\\u00famero m\\u00e9dio de quartos)\",\"Distribui\\u00e7\\u00e3o da vari\\u00e1vel RM (n\\u00famero m\\u00e9dio de quartos)\",\"Distribui\\u00e7\\u00e3o da vari\\u00e1vel RM (n\\u00famero m\\u00e9dio de quartos)\",\"Distribui\\u00e7\\u00e3o da vari\\u00e1vel RM (n\\u00famero m\\u00e9dio de quartos)\",\"Distribui\\u00e7\\u00e3o da vari\\u00e1vel RM (n\\u00famero m\\u00e9dio de quartos)\",\"Distribui\\u00e7\\u00e3o da vari\\u00e1vel RM (n\\u00famero m\\u00e9dio de quartos)\",\"Distribui\\u00e7\\u00e3o da vari\\u00e1vel RM (n\\u00famero m\\u00e9dio de quartos)\",\"Distribui\\u00e7\\u00e3o da vari\\u00e1vel RM (n\\u00famero m\\u00e9dio de quartos)\",\"Distribui\\u00e7\\u00e3o da vari\\u00e1vel RM (n\\u00famero m\\u00e9dio de quartos)\",\"Distribui\\u00e7\\u00e3o da vari\\u00e1vel RM (n\\u00famero m\\u00e9dio de quartos)\",\"Distribui\\u00e7\\u00e3o da vari\\u00e1vel RM (n\\u00famero m\\u00e9dio de quartos)\",\"Distribui\\u00e7\\u00e3o da vari\\u00e1vel RM (n\\u00famero m\\u00e9dio de quartos)\",\"Distribui\\u00e7\\u00e3o da vari\\u00e1vel RM (n\\u00famero m\\u00e9dio de quartos)\",\"Distribui\\u00e7\\u00e3o da vari\\u00e1vel RM (n\\u00famero m\\u00e9dio de quartos)\",\"Distribui\\u00e7\\u00e3o da vari\\u00e1vel RM (n\\u00famero m\\u00e9dio de quartos)\",\"Distribui\\u00e7\\u00e3o da vari\\u00e1vel RM (n\\u00famero m\\u00e9dio de quartos)\",\"Distribui\\u00e7\\u00e3o da vari\\u00e1vel RM (n\\u00famero m\\u00e9dio de quartos)\",\"Distribui\\u00e7\\u00e3o da vari\\u00e1vel RM (n\\u00famero m\\u00e9dio de quartos)\",\"Distribui\\u00e7\\u00e3o da vari\\u00e1vel RM (n\\u00famero m\\u00e9dio de quartos)\",\"Distribui\\u00e7\\u00e3o da vari\\u00e1vel RM (n\\u00famero m\\u00e9dio de quartos)\",\"Distribui\\u00e7\\u00e3o da vari\\u00e1vel RM (n\\u00famero m\\u00e9dio de quartos)\",\"Distribui\\u00e7\\u00e3o da vari\\u00e1vel RM (n\\u00famero m\\u00e9dio de quartos)\",\"Distribui\\u00e7\\u00e3o da vari\\u00e1vel RM (n\\u00famero m\\u00e9dio de quartos)\",\"Distribui\\u00e7\\u00e3o da vari\\u00e1vel RM (n\\u00famero m\\u00e9dio de quartos)\",\"Distribui\\u00e7\\u00e3o da vari\\u00e1vel RM (n\\u00famero m\\u00e9dio de quartos)\",\"Distribui\\u00e7\\u00e3o da vari\\u00e1vel RM (n\\u00famero m\\u00e9dio de quartos)\",\"Distribui\\u00e7\\u00e3o da vari\\u00e1vel RM (n\\u00famero m\\u00e9dio de quartos)\",\"Distribui\\u00e7\\u00e3o da vari\\u00e1vel RM (n\\u00famero m\\u00e9dio de quartos)\",\"Distribui\\u00e7\\u00e3o da vari\\u00e1vel RM (n\\u00famero m\\u00e9dio de quartos)\",\"Distribui\\u00e7\\u00e3o da vari\\u00e1vel RM (n\\u00famero m\\u00e9dio de quartos)\",\"Distribui\\u00e7\\u00e3o da vari\\u00e1vel RM (n\\u00famero m\\u00e9dio de quartos)\",\"Distribui\\u00e7\\u00e3o da vari\\u00e1vel RM (n\\u00famero m\\u00e9dio de quartos)\",\"Distribui\\u00e7\\u00e3o da vari\\u00e1vel RM (n\\u00famero m\\u00e9dio de quartos)\",\"Distribui\\u00e7\\u00e3o da vari\\u00e1vel RM (n\\u00famero m\\u00e9dio de quartos)\",\"Distribui\\u00e7\\u00e3o da vari\\u00e1vel RM (n\\u00famero m\\u00e9dio de quartos)\",\"Distribui\\u00e7\\u00e3o da vari\\u00e1vel RM (n\\u00famero m\\u00e9dio de quartos)\",\"Distribui\\u00e7\\u00e3o da vari\\u00e1vel RM (n\\u00famero m\\u00e9dio de quartos)\",\"Distribui\\u00e7\\u00e3o da vari\\u00e1vel RM (n\\u00famero m\\u00e9dio de quartos)\",\"Distribui\\u00e7\\u00e3o da vari\\u00e1vel RM (n\\u00famero m\\u00e9dio de quartos)\",\"Distribui\\u00e7\\u00e3o da vari\\u00e1vel RM (n\\u00famero m\\u00e9dio de quartos)\",\"Distribui\\u00e7\\u00e3o da vari\\u00e1vel RM (n\\u00famero m\\u00e9dio de quartos)\",\"Distribui\\u00e7\\u00e3o da vari\\u00e1vel RM (n\\u00famero m\\u00e9dio de quartos)\",\"Distribui\\u00e7\\u00e3o da vari\\u00e1vel RM (n\\u00famero m\\u00e9dio de quartos)\",\"Distribui\\u00e7\\u00e3o da vari\\u00e1vel RM (n\\u00famero m\\u00e9dio de quartos)\",\"Distribui\\u00e7\\u00e3o da vari\\u00e1vel RM (n\\u00famero m\\u00e9dio de quartos)\",\"Distribui\\u00e7\\u00e3o da vari\\u00e1vel RM (n\\u00famero m\\u00e9dio de quartos)\",\"Distribui\\u00e7\\u00e3o da vari\\u00e1vel RM (n\\u00famero m\\u00e9dio de quartos)\",\"Distribui\\u00e7\\u00e3o da vari\\u00e1vel RM (n\\u00famero m\\u00e9dio de quartos)\",\"Distribui\\u00e7\\u00e3o da vari\\u00e1vel RM (n\\u00famero m\\u00e9dio de quartos)\",\"Distribui\\u00e7\\u00e3o da vari\\u00e1vel RM (n\\u00famero m\\u00e9dio de quartos)\",\"Distribui\\u00e7\\u00e3o da vari\\u00e1vel RM (n\\u00famero m\\u00e9dio de quartos)\",\"Distribui\\u00e7\\u00e3o da vari\\u00e1vel RM (n\\u00famero m\\u00e9dio de quartos)\",\"Distribui\\u00e7\\u00e3o da vari\\u00e1vel RM (n\\u00famero m\\u00e9dio de quartos)\",\"Distribui\\u00e7\\u00e3o da vari\\u00e1vel RM (n\\u00famero m\\u00e9dio de quartos)\",\"Distribui\\u00e7\\u00e3o da vari\\u00e1vel RM (n\\u00famero m\\u00e9dio de quartos)\",\"Distribui\\u00e7\\u00e3o da vari\\u00e1vel RM (n\\u00famero m\\u00e9dio de quartos)\",\"Distribui\\u00e7\\u00e3o da vari\\u00e1vel RM (n\\u00famero m\\u00e9dio de quartos)\",\"Distribui\\u00e7\\u00e3o da vari\\u00e1vel RM (n\\u00famero m\\u00e9dio de quartos)\",\"Distribui\\u00e7\\u00e3o da vari\\u00e1vel RM (n\\u00famero m\\u00e9dio de quartos)\",\"Distribui\\u00e7\\u00e3o da vari\\u00e1vel RM (n\\u00famero m\\u00e9dio de quartos)\",\"Distribui\\u00e7\\u00e3o da vari\\u00e1vel RM (n\\u00famero m\\u00e9dio de quartos)\",\"Distribui\\u00e7\\u00e3o da vari\\u00e1vel RM (n\\u00famero m\\u00e9dio de quartos)\",\"Distribui\\u00e7\\u00e3o da vari\\u00e1vel RM (n\\u00famero m\\u00e9dio de quartos)\",\"Distribui\\u00e7\\u00e3o da vari\\u00e1vel RM (n\\u00famero m\\u00e9dio de quartos)\",\"Distribui\\u00e7\\u00e3o da vari\\u00e1vel RM (n\\u00famero m\\u00e9dio de quartos)\",\"Distribui\\u00e7\\u00e3o da vari\\u00e1vel RM (n\\u00famero m\\u00e9dio de quartos)\",\"Distribui\\u00e7\\u00e3o da vari\\u00e1vel RM (n\\u00famero m\\u00e9dio de quartos)\",\"Distribui\\u00e7\\u00e3o da vari\\u00e1vel RM (n\\u00famero m\\u00e9dio de quartos)\",\"Distribui\\u00e7\\u00e3o da vari\\u00e1vel RM (n\\u00famero m\\u00e9dio de quartos)\",\"Distribui\\u00e7\\u00e3o da vari\\u00e1vel RM (n\\u00famero m\\u00e9dio de quartos)\",\"Distribui\\u00e7\\u00e3o da vari\\u00e1vel RM (n\\u00famero m\\u00e9dio de quartos)\",\"Distribui\\u00e7\\u00e3o da vari\\u00e1vel RM (n\\u00famero m\\u00e9dio de quartos)\",\"Distribui\\u00e7\\u00e3o da vari\\u00e1vel RM (n\\u00famero m\\u00e9dio de quartos)\",\"Distribui\\u00e7\\u00e3o da vari\\u00e1vel RM (n\\u00famero m\\u00e9dio de quartos)\",\"Distribui\\u00e7\\u00e3o da vari\\u00e1vel RM (n\\u00famero m\\u00e9dio de quartos)\",\"Distribui\\u00e7\\u00e3o da vari\\u00e1vel RM (n\\u00famero m\\u00e9dio de quartos)\",\"Distribui\\u00e7\\u00e3o da vari\\u00e1vel RM (n\\u00famero m\\u00e9dio de quartos)\",\"Distribui\\u00e7\\u00e3o da vari\\u00e1vel RM (n\\u00famero m\\u00e9dio de quartos)\",\"Distribui\\u00e7\\u00e3o da vari\\u00e1vel RM (n\\u00famero m\\u00e9dio de quartos)\",\"Distribui\\u00e7\\u00e3o da vari\\u00e1vel RM (n\\u00famero m\\u00e9dio de quartos)\",\"Distribui\\u00e7\\u00e3o da vari\\u00e1vel RM (n\\u00famero m\\u00e9dio de quartos)\",\"Distribui\\u00e7\\u00e3o da vari\\u00e1vel RM (n\\u00famero m\\u00e9dio de quartos)\",\"Distribui\\u00e7\\u00e3o da vari\\u00e1vel RM (n\\u00famero m\\u00e9dio de quartos)\",\"Distribui\\u00e7\\u00e3o da vari\\u00e1vel RM (n\\u00famero m\\u00e9dio de quartos)\",\"Distribui\\u00e7\\u00e3o da vari\\u00e1vel RM (n\\u00famero m\\u00e9dio de quartos)\",\"Distribui\\u00e7\\u00e3o da vari\\u00e1vel RM (n\\u00famero m\\u00e9dio de quartos)\",\"Distribui\\u00e7\\u00e3o da vari\\u00e1vel RM (n\\u00famero m\\u00e9dio de quartos)\",\"Distribui\\u00e7\\u00e3o da vari\\u00e1vel RM (n\\u00famero m\\u00e9dio de quartos)\",\"Distribui\\u00e7\\u00e3o da vari\\u00e1vel RM (n\\u00famero m\\u00e9dio de quartos)\",\"Distribui\\u00e7\\u00e3o da vari\\u00e1vel RM (n\\u00famero m\\u00e9dio de quartos)\",\"Distribui\\u00e7\\u00e3o da vari\\u00e1vel RM (n\\u00famero m\\u00e9dio de quartos)\",\"Distribui\\u00e7\\u00e3o da vari\\u00e1vel RM (n\\u00famero m\\u00e9dio de quartos)\",\"Distribui\\u00e7\\u00e3o da vari\\u00e1vel RM (n\\u00famero m\\u00e9dio de quartos)\",\"Distribui\\u00e7\\u00e3o da vari\\u00e1vel RM (n\\u00famero m\\u00e9dio de quartos)\",\"Distribui\\u00e7\\u00e3o da vari\\u00e1vel RM (n\\u00famero m\\u00e9dio de quartos)\",\"Distribui\\u00e7\\u00e3o da vari\\u00e1vel RM (n\\u00famero m\\u00e9dio de quartos)\",\"Distribui\\u00e7\\u00e3o da vari\\u00e1vel RM (n\\u00famero m\\u00e9dio de quartos)\",\"Distribui\\u00e7\\u00e3o da vari\\u00e1vel RM (n\\u00famero m\\u00e9dio de quartos)\",\"Distribui\\u00e7\\u00e3o da vari\\u00e1vel RM (n\\u00famero m\\u00e9dio de quartos)\",\"Distribui\\u00e7\\u00e3o da vari\\u00e1vel RM (n\\u00famero m\\u00e9dio de quartos)\",\"Distribui\\u00e7\\u00e3o da vari\\u00e1vel RM (n\\u00famero m\\u00e9dio de quartos)\",\"Distribui\\u00e7\\u00e3o da vari\\u00e1vel RM (n\\u00famero m\\u00e9dio de quartos)\",\"Distribui\\u00e7\\u00e3o da vari\\u00e1vel RM (n\\u00famero m\\u00e9dio de quartos)\",\"Distribui\\u00e7\\u00e3o da vari\\u00e1vel RM (n\\u00famero m\\u00e9dio de quartos)\",\"Distribui\\u00e7\\u00e3o da vari\\u00e1vel RM (n\\u00famero m\\u00e9dio de quartos)\",\"Distribui\\u00e7\\u00e3o da vari\\u00e1vel RM (n\\u00famero m\\u00e9dio de quartos)\",\"Distribui\\u00e7\\u00e3o da vari\\u00e1vel RM (n\\u00famero m\\u00e9dio de quartos)\",\"Distribui\\u00e7\\u00e3o da vari\\u00e1vel RM (n\\u00famero m\\u00e9dio de quartos)\",\"Distribui\\u00e7\\u00e3o da vari\\u00e1vel RM (n\\u00famero m\\u00e9dio de quartos)\",\"Distribui\\u00e7\\u00e3o da vari\\u00e1vel RM (n\\u00famero m\\u00e9dio de quartos)\",\"Distribui\\u00e7\\u00e3o da vari\\u00e1vel RM (n\\u00famero m\\u00e9dio de quartos)\",\"Distribui\\u00e7\\u00e3o da vari\\u00e1vel RM (n\\u00famero m\\u00e9dio de quartos)\",\"Distribui\\u00e7\\u00e3o da vari\\u00e1vel RM (n\\u00famero m\\u00e9dio de quartos)\",\"Distribui\\u00e7\\u00e3o da vari\\u00e1vel RM (n\\u00famero m\\u00e9dio de quartos)\",\"Distribui\\u00e7\\u00e3o da vari\\u00e1vel RM (n\\u00famero m\\u00e9dio de quartos)\",\"Distribui\\u00e7\\u00e3o da vari\\u00e1vel RM (n\\u00famero m\\u00e9dio de quartos)\",\"Distribui\\u00e7\\u00e3o da vari\\u00e1vel RM (n\\u00famero m\\u00e9dio de quartos)\",\"Distribui\\u00e7\\u00e3o da vari\\u00e1vel RM (n\\u00famero m\\u00e9dio de quartos)\",\"Distribui\\u00e7\\u00e3o da vari\\u00e1vel RM (n\\u00famero m\\u00e9dio de quartos)\",\"Distribui\\u00e7\\u00e3o da vari\\u00e1vel RM (n\\u00famero m\\u00e9dio de quartos)\",\"Distribui\\u00e7\\u00e3o da vari\\u00e1vel RM (n\\u00famero m\\u00e9dio de quartos)\",\"Distribui\\u00e7\\u00e3o da vari\\u00e1vel RM (n\\u00famero m\\u00e9dio de quartos)\",\"Distribui\\u00e7\\u00e3o da vari\\u00e1vel RM (n\\u00famero m\\u00e9dio de quartos)\",\"Distribui\\u00e7\\u00e3o da vari\\u00e1vel RM (n\\u00famero m\\u00e9dio de quartos)\",\"Distribui\\u00e7\\u00e3o da vari\\u00e1vel RM (n\\u00famero m\\u00e9dio de quartos)\",\"Distribui\\u00e7\\u00e3o da vari\\u00e1vel RM (n\\u00famero m\\u00e9dio de quartos)\",\"Distribui\\u00e7\\u00e3o da vari\\u00e1vel RM (n\\u00famero m\\u00e9dio de quartos)\",\"Distribui\\u00e7\\u00e3o da vari\\u00e1vel RM (n\\u00famero m\\u00e9dio de quartos)\",\"Distribui\\u00e7\\u00e3o da vari\\u00e1vel RM (n\\u00famero m\\u00e9dio de quartos)\",\"Distribui\\u00e7\\u00e3o da vari\\u00e1vel RM (n\\u00famero m\\u00e9dio de quartos)\",\"Distribui\\u00e7\\u00e3o da vari\\u00e1vel RM (n\\u00famero m\\u00e9dio de quartos)\",\"Distribui\\u00e7\\u00e3o da vari\\u00e1vel RM (n\\u00famero m\\u00e9dio de quartos)\",\"Distribui\\u00e7\\u00e3o da vari\\u00e1vel RM (n\\u00famero m\\u00e9dio de quartos)\",\"Distribui\\u00e7\\u00e3o da vari\\u00e1vel RM (n\\u00famero m\\u00e9dio de quartos)\",\"Distribui\\u00e7\\u00e3o da vari\\u00e1vel RM (n\\u00famero m\\u00e9dio de quartos)\",\"Distribui\\u00e7\\u00e3o da vari\\u00e1vel RM (n\\u00famero m\\u00e9dio de quartos)\",\"Distribui\\u00e7\\u00e3o da vari\\u00e1vel RM (n\\u00famero m\\u00e9dio de quartos)\",\"Distribui\\u00e7\\u00e3o da vari\\u00e1vel RM (n\\u00famero m\\u00e9dio de quartos)\",\"Distribui\\u00e7\\u00e3o da vari\\u00e1vel RM (n\\u00famero m\\u00e9dio de quartos)\",\"Distribui\\u00e7\\u00e3o da vari\\u00e1vel RM (n\\u00famero m\\u00e9dio de quartos)\",\"Distribui\\u00e7\\u00e3o da vari\\u00e1vel RM (n\\u00famero m\\u00e9dio de quartos)\",\"Distribui\\u00e7\\u00e3o da vari\\u00e1vel RM (n\\u00famero m\\u00e9dio de quartos)\",\"Distribui\\u00e7\\u00e3o da vari\\u00e1vel RM (n\\u00famero m\\u00e9dio de quartos)\",\"Distribui\\u00e7\\u00e3o da vari\\u00e1vel RM (n\\u00famero m\\u00e9dio de quartos)\",\"Distribui\\u00e7\\u00e3o da vari\\u00e1vel RM (n\\u00famero m\\u00e9dio de quartos)\",\"Distribui\\u00e7\\u00e3o da vari\\u00e1vel RM (n\\u00famero m\\u00e9dio de quartos)\",\"Distribui\\u00e7\\u00e3o da vari\\u00e1vel RM (n\\u00famero m\\u00e9dio de quartos)\",\"Distribui\\u00e7\\u00e3o da vari\\u00e1vel RM (n\\u00famero m\\u00e9dio de quartos)\",\"Distribui\\u00e7\\u00e3o da vari\\u00e1vel RM (n\\u00famero m\\u00e9dio de quartos)\",\"Distribui\\u00e7\\u00e3o da vari\\u00e1vel RM (n\\u00famero m\\u00e9dio de quartos)\",\"Distribui\\u00e7\\u00e3o da vari\\u00e1vel RM (n\\u00famero m\\u00e9dio de quartos)\",\"Distribui\\u00e7\\u00e3o da vari\\u00e1vel RM (n\\u00famero m\\u00e9dio de quartos)\",\"Distribui\\u00e7\\u00e3o da vari\\u00e1vel RM (n\\u00famero m\\u00e9dio de quartos)\",\"Distribui\\u00e7\\u00e3o da vari\\u00e1vel RM (n\\u00famero m\\u00e9dio de quartos)\",\"Distribui\\u00e7\\u00e3o da vari\\u00e1vel RM (n\\u00famero m\\u00e9dio de quartos)\",\"Distribui\\u00e7\\u00e3o da vari\\u00e1vel RM (n\\u00famero m\\u00e9dio de quartos)\",\"Distribui\\u00e7\\u00e3o da vari\\u00e1vel RM (n\\u00famero m\\u00e9dio de quartos)\",\"Distribui\\u00e7\\u00e3o da vari\\u00e1vel RM (n\\u00famero m\\u00e9dio de quartos)\",\"Distribui\\u00e7\\u00e3o da vari\\u00e1vel RM (n\\u00famero m\\u00e9dio de quartos)\",\"Distribui\\u00e7\\u00e3o da vari\\u00e1vel RM (n\\u00famero m\\u00e9dio de quartos)\",\"Distribui\\u00e7\\u00e3o da vari\\u00e1vel RM (n\\u00famero m\\u00e9dio de quartos)\",\"Distribui\\u00e7\\u00e3o da vari\\u00e1vel RM (n\\u00famero m\\u00e9dio de quartos)\",\"Distribui\\u00e7\\u00e3o da vari\\u00e1vel RM (n\\u00famero m\\u00e9dio de quartos)\",\"Distribui\\u00e7\\u00e3o da vari\\u00e1vel RM (n\\u00famero m\\u00e9dio de quartos)\",\"Distribui\\u00e7\\u00e3o da vari\\u00e1vel RM (n\\u00famero m\\u00e9dio de quartos)\",\"Distribui\\u00e7\\u00e3o da vari\\u00e1vel RM (n\\u00famero m\\u00e9dio de quartos)\",\"Distribui\\u00e7\\u00e3o da vari\\u00e1vel RM (n\\u00famero m\\u00e9dio de quartos)\",\"Distribui\\u00e7\\u00e3o da vari\\u00e1vel RM (n\\u00famero m\\u00e9dio de quartos)\",\"Distribui\\u00e7\\u00e3o da vari\\u00e1vel RM (n\\u00famero m\\u00e9dio de quartos)\",\"Distribui\\u00e7\\u00e3o da vari\\u00e1vel RM (n\\u00famero m\\u00e9dio de quartos)\",\"Distribui\\u00e7\\u00e3o da vari\\u00e1vel RM (n\\u00famero m\\u00e9dio de quartos)\",\"Distribui\\u00e7\\u00e3o da vari\\u00e1vel RM (n\\u00famero m\\u00e9dio de quartos)\",\"Distribui\\u00e7\\u00e3o da vari\\u00e1vel RM (n\\u00famero m\\u00e9dio de quartos)\",\"Distribui\\u00e7\\u00e3o da vari\\u00e1vel RM (n\\u00famero m\\u00e9dio de quartos)\",\"Distribui\\u00e7\\u00e3o da vari\\u00e1vel RM (n\\u00famero m\\u00e9dio de quartos)\",\"Distribui\\u00e7\\u00e3o da vari\\u00e1vel RM (n\\u00famero m\\u00e9dio de quartos)\",\"Distribui\\u00e7\\u00e3o da vari\\u00e1vel RM (n\\u00famero m\\u00e9dio de quartos)\",\"Distribui\\u00e7\\u00e3o da vari\\u00e1vel RM (n\\u00famero m\\u00e9dio de quartos)\",\"Distribui\\u00e7\\u00e3o da vari\\u00e1vel RM (n\\u00famero m\\u00e9dio de quartos)\",\"Distribui\\u00e7\\u00e3o da vari\\u00e1vel RM (n\\u00famero m\\u00e9dio de quartos)\",\"Distribui\\u00e7\\u00e3o da vari\\u00e1vel RM (n\\u00famero m\\u00e9dio de quartos)\",\"Distribui\\u00e7\\u00e3o da vari\\u00e1vel RM (n\\u00famero m\\u00e9dio de quartos)\",\"Distribui\\u00e7\\u00e3o da vari\\u00e1vel RM (n\\u00famero m\\u00e9dio de quartos)\",\"Distribui\\u00e7\\u00e3o da vari\\u00e1vel RM (n\\u00famero m\\u00e9dio de quartos)\",\"Distribui\\u00e7\\u00e3o da vari\\u00e1vel RM (n\\u00famero m\\u00e9dio de quartos)\",\"Distribui\\u00e7\\u00e3o da vari\\u00e1vel RM (n\\u00famero m\\u00e9dio de quartos)\",\"Distribui\\u00e7\\u00e3o da vari\\u00e1vel RM (n\\u00famero m\\u00e9dio de quartos)\",\"Distribui\\u00e7\\u00e3o da vari\\u00e1vel RM (n\\u00famero m\\u00e9dio de quartos)\",\"Distribui\\u00e7\\u00e3o da vari\\u00e1vel RM (n\\u00famero m\\u00e9dio de quartos)\",\"Distribui\\u00e7\\u00e3o da vari\\u00e1vel RM (n\\u00famero m\\u00e9dio de quartos)\",\"Distribui\\u00e7\\u00e3o da vari\\u00e1vel RM (n\\u00famero m\\u00e9dio de quartos)\",\"Distribui\\u00e7\\u00e3o da vari\\u00e1vel RM (n\\u00famero m\\u00e9dio de quartos)\",\"Distribui\\u00e7\\u00e3o da vari\\u00e1vel RM (n\\u00famero m\\u00e9dio de quartos)\",\"Distribui\\u00e7\\u00e3o da vari\\u00e1vel RM (n\\u00famero m\\u00e9dio de quartos)\",\"Distribui\\u00e7\\u00e3o da vari\\u00e1vel RM (n\\u00famero m\\u00e9dio de quartos)\",\"Distribui\\u00e7\\u00e3o da vari\\u00e1vel RM (n\\u00famero m\\u00e9dio de quartos)\",\"Distribui\\u00e7\\u00e3o da vari\\u00e1vel RM (n\\u00famero m\\u00e9dio de quartos)\",\"Distribui\\u00e7\\u00e3o da vari\\u00e1vel RM (n\\u00famero m\\u00e9dio de quartos)\",\"Distribui\\u00e7\\u00e3o da vari\\u00e1vel RM (n\\u00famero m\\u00e9dio de quartos)\",\"Distribui\\u00e7\\u00e3o da vari\\u00e1vel RM (n\\u00famero m\\u00e9dio de quartos)\",\"Distribui\\u00e7\\u00e3o da vari\\u00e1vel RM (n\\u00famero m\\u00e9dio de quartos)\",\"Distribui\\u00e7\\u00e3o da vari\\u00e1vel RM (n\\u00famero m\\u00e9dio de quartos)\",\"Distribui\\u00e7\\u00e3o da vari\\u00e1vel RM (n\\u00famero m\\u00e9dio de quartos)\",\"Distribui\\u00e7\\u00e3o da vari\\u00e1vel RM (n\\u00famero m\\u00e9dio de quartos)\",\"Distribui\\u00e7\\u00e3o da vari\\u00e1vel RM (n\\u00famero m\\u00e9dio de quartos)\",\"Distribui\\u00e7\\u00e3o da vari\\u00e1vel RM (n\\u00famero m\\u00e9dio de quartos)\",\"Distribui\\u00e7\\u00e3o da vari\\u00e1vel RM (n\\u00famero m\\u00e9dio de quartos)\",\"Distribui\\u00e7\\u00e3o da vari\\u00e1vel RM (n\\u00famero m\\u00e9dio de quartos)\",\"Distribui\\u00e7\\u00e3o da vari\\u00e1vel RM (n\\u00famero m\\u00e9dio de quartos)\",\"Distribui\\u00e7\\u00e3o da vari\\u00e1vel RM (n\\u00famero m\\u00e9dio de quartos)\",\"Distribui\\u00e7\\u00e3o da vari\\u00e1vel RM (n\\u00famero m\\u00e9dio de quartos)\",\"Distribui\\u00e7\\u00e3o da vari\\u00e1vel RM (n\\u00famero m\\u00e9dio de quartos)\",\"Distribui\\u00e7\\u00e3o da vari\\u00e1vel RM (n\\u00famero m\\u00e9dio de quartos)\",\"Distribui\\u00e7\\u00e3o da vari\\u00e1vel RM (n\\u00famero m\\u00e9dio de quartos)\",\"Distribui\\u00e7\\u00e3o da vari\\u00e1vel RM (n\\u00famero m\\u00e9dio de quartos)\",\"Distribui\\u00e7\\u00e3o da vari\\u00e1vel RM (n\\u00famero m\\u00e9dio de quartos)\",\"Distribui\\u00e7\\u00e3o da vari\\u00e1vel RM (n\\u00famero m\\u00e9dio de quartos)\",\"Distribui\\u00e7\\u00e3o da vari\\u00e1vel RM (n\\u00famero m\\u00e9dio de quartos)\",\"Distribui\\u00e7\\u00e3o da vari\\u00e1vel RM (n\\u00famero m\\u00e9dio de quartos)\",\"Distribui\\u00e7\\u00e3o da vari\\u00e1vel RM (n\\u00famero m\\u00e9dio de quartos)\",\"Distribui\\u00e7\\u00e3o da vari\\u00e1vel RM (n\\u00famero m\\u00e9dio de quartos)\",\"Distribui\\u00e7\\u00e3o da vari\\u00e1vel RM (n\\u00famero m\\u00e9dio de quartos)\",\"Distribui\\u00e7\\u00e3o da vari\\u00e1vel RM (n\\u00famero m\\u00e9dio de quartos)\",\"Distribui\\u00e7\\u00e3o da vari\\u00e1vel RM (n\\u00famero m\\u00e9dio de quartos)\",\"Distribui\\u00e7\\u00e3o da vari\\u00e1vel RM (n\\u00famero m\\u00e9dio de quartos)\",\"Distribui\\u00e7\\u00e3o da vari\\u00e1vel RM (n\\u00famero m\\u00e9dio de quartos)\",\"Distribui\\u00e7\\u00e3o da vari\\u00e1vel RM (n\\u00famero m\\u00e9dio de quartos)\",\"Distribui\\u00e7\\u00e3o da vari\\u00e1vel RM (n\\u00famero m\\u00e9dio de quartos)\",\"Distribui\\u00e7\\u00e3o da vari\\u00e1vel RM (n\\u00famero m\\u00e9dio de quartos)\",\"Distribui\\u00e7\\u00e3o da vari\\u00e1vel RM (n\\u00famero m\\u00e9dio de quartos)\",\"Distribui\\u00e7\\u00e3o da vari\\u00e1vel RM (n\\u00famero m\\u00e9dio de quartos)\",\"Distribui\\u00e7\\u00e3o da vari\\u00e1vel RM (n\\u00famero m\\u00e9dio de quartos)\",\"Distribui\\u00e7\\u00e3o da vari\\u00e1vel RM (n\\u00famero m\\u00e9dio de quartos)\",\"Distribui\\u00e7\\u00e3o da vari\\u00e1vel RM (n\\u00famero m\\u00e9dio de quartos)\",\"Distribui\\u00e7\\u00e3o da vari\\u00e1vel RM (n\\u00famero m\\u00e9dio de quartos)\",\"Distribui\\u00e7\\u00e3o da vari\\u00e1vel RM (n\\u00famero m\\u00e9dio de quartos)\",\"Distribui\\u00e7\\u00e3o da vari\\u00e1vel RM (n\\u00famero m\\u00e9dio de quartos)\",\"Distribui\\u00e7\\u00e3o da vari\\u00e1vel RM (n\\u00famero m\\u00e9dio de quartos)\",\"Distribui\\u00e7\\u00e3o da vari\\u00e1vel RM (n\\u00famero m\\u00e9dio de quartos)\",\"Distribui\\u00e7\\u00e3o da vari\\u00e1vel RM (n\\u00famero m\\u00e9dio de quartos)\",\"Distribui\\u00e7\\u00e3o da vari\\u00e1vel RM (n\\u00famero m\\u00e9dio de quartos)\",\"Distribui\\u00e7\\u00e3o da vari\\u00e1vel RM (n\\u00famero m\\u00e9dio de quartos)\",\"Distribui\\u00e7\\u00e3o da vari\\u00e1vel RM (n\\u00famero m\\u00e9dio de quartos)\",\"Distribui\\u00e7\\u00e3o da vari\\u00e1vel RM (n\\u00famero m\\u00e9dio de quartos)\",\"Distribui\\u00e7\\u00e3o da vari\\u00e1vel RM (n\\u00famero m\\u00e9dio de quartos)\",\"Distribui\\u00e7\\u00e3o da vari\\u00e1vel RM (n\\u00famero m\\u00e9dio de quartos)\",\"Distribui\\u00e7\\u00e3o da vari\\u00e1vel RM (n\\u00famero m\\u00e9dio de quartos)\",\"Distribui\\u00e7\\u00e3o da vari\\u00e1vel RM (n\\u00famero m\\u00e9dio de quartos)\",\"Distribui\\u00e7\\u00e3o da vari\\u00e1vel RM (n\\u00famero m\\u00e9dio de quartos)\",\"Distribui\\u00e7\\u00e3o da vari\\u00e1vel RM (n\\u00famero m\\u00e9dio de quartos)\",\"Distribui\\u00e7\\u00e3o da vari\\u00e1vel RM (n\\u00famero m\\u00e9dio de quartos)\",\"Distribui\\u00e7\\u00e3o da vari\\u00e1vel RM (n\\u00famero m\\u00e9dio de quartos)\",\"Distribui\\u00e7\\u00e3o da vari\\u00e1vel RM (n\\u00famero m\\u00e9dio de quartos)\",\"Distribui\\u00e7\\u00e3o da vari\\u00e1vel RM (n\\u00famero m\\u00e9dio de quartos)\",\"Distribui\\u00e7\\u00e3o da vari\\u00e1vel RM (n\\u00famero m\\u00e9dio de quartos)\",\"Distribui\\u00e7\\u00e3o da vari\\u00e1vel RM (n\\u00famero m\\u00e9dio de quartos)\",\"Distribui\\u00e7\\u00e3o da vari\\u00e1vel RM (n\\u00famero m\\u00e9dio de quartos)\",\"Distribui\\u00e7\\u00e3o da vari\\u00e1vel RM (n\\u00famero m\\u00e9dio de quartos)\",\"Distribui\\u00e7\\u00e3o da vari\\u00e1vel RM (n\\u00famero m\\u00e9dio de quartos)\",\"Distribui\\u00e7\\u00e3o da vari\\u00e1vel RM (n\\u00famero m\\u00e9dio de quartos)\",\"Distribui\\u00e7\\u00e3o da vari\\u00e1vel RM (n\\u00famero m\\u00e9dio de quartos)\",\"Distribui\\u00e7\\u00e3o da vari\\u00e1vel RM (n\\u00famero m\\u00e9dio de quartos)\",\"Distribui\\u00e7\\u00e3o da vari\\u00e1vel RM (n\\u00famero m\\u00e9dio de quartos)\",\"Distribui\\u00e7\\u00e3o da vari\\u00e1vel RM (n\\u00famero m\\u00e9dio de quartos)\",\"Distribui\\u00e7\\u00e3o da vari\\u00e1vel RM (n\\u00famero m\\u00e9dio de quartos)\",\"Distribui\\u00e7\\u00e3o da vari\\u00e1vel RM (n\\u00famero m\\u00e9dio de quartos)\",\"Distribui\\u00e7\\u00e3o da vari\\u00e1vel RM (n\\u00famero m\\u00e9dio de quartos)\",\"Distribui\\u00e7\\u00e3o da vari\\u00e1vel RM (n\\u00famero m\\u00e9dio de quartos)\",\"Distribui\\u00e7\\u00e3o da vari\\u00e1vel RM (n\\u00famero m\\u00e9dio de quartos)\",\"Distribui\\u00e7\\u00e3o da vari\\u00e1vel RM (n\\u00famero m\\u00e9dio de quartos)\",\"Distribui\\u00e7\\u00e3o da vari\\u00e1vel RM (n\\u00famero m\\u00e9dio de quartos)\",\"Distribui\\u00e7\\u00e3o da vari\\u00e1vel RM (n\\u00famero m\\u00e9dio de quartos)\",\"Distribui\\u00e7\\u00e3o da vari\\u00e1vel RM (n\\u00famero m\\u00e9dio de quartos)\",\"Distribui\\u00e7\\u00e3o da vari\\u00e1vel RM (n\\u00famero m\\u00e9dio de quartos)\",\"Distribui\\u00e7\\u00e3o da vari\\u00e1vel RM (n\\u00famero m\\u00e9dio de quartos)\",\"Distribui\\u00e7\\u00e3o da vari\\u00e1vel RM (n\\u00famero m\\u00e9dio de quartos)\",\"Distribui\\u00e7\\u00e3o da vari\\u00e1vel RM (n\\u00famero m\\u00e9dio de quartos)\",\"Distribui\\u00e7\\u00e3o da vari\\u00e1vel RM (n\\u00famero m\\u00e9dio de quartos)\",\"Distribui\\u00e7\\u00e3o da vari\\u00e1vel RM (n\\u00famero m\\u00e9dio de quartos)\",\"Distribui\\u00e7\\u00e3o da vari\\u00e1vel RM (n\\u00famero m\\u00e9dio de quartos)\",\"Distribui\\u00e7\\u00e3o da vari\\u00e1vel RM (n\\u00famero m\\u00e9dio de quartos)\",\"Distribui\\u00e7\\u00e3o da vari\\u00e1vel RM (n\\u00famero m\\u00e9dio de quartos)\",\"Distribui\\u00e7\\u00e3o da vari\\u00e1vel RM (n\\u00famero m\\u00e9dio de quartos)\",\"Distribui\\u00e7\\u00e3o da vari\\u00e1vel RM (n\\u00famero m\\u00e9dio de quartos)\",\"Distribui\\u00e7\\u00e3o da vari\\u00e1vel RM (n\\u00famero m\\u00e9dio de quartos)\",\"Distribui\\u00e7\\u00e3o da vari\\u00e1vel RM (n\\u00famero m\\u00e9dio de quartos)\",\"Distribui\\u00e7\\u00e3o da vari\\u00e1vel RM (n\\u00famero m\\u00e9dio de quartos)\",\"Distribui\\u00e7\\u00e3o da vari\\u00e1vel RM (n\\u00famero m\\u00e9dio de quartos)\",\"Distribui\\u00e7\\u00e3o da vari\\u00e1vel RM (n\\u00famero m\\u00e9dio de quartos)\",\"Distribui\\u00e7\\u00e3o da vari\\u00e1vel RM (n\\u00famero m\\u00e9dio de quartos)\",\"Distribui\\u00e7\\u00e3o da vari\\u00e1vel RM (n\\u00famero m\\u00e9dio de quartos)\",\"Distribui\\u00e7\\u00e3o da vari\\u00e1vel RM (n\\u00famero m\\u00e9dio de quartos)\",\"Distribui\\u00e7\\u00e3o da vari\\u00e1vel RM (n\\u00famero m\\u00e9dio de quartos)\",\"Distribui\\u00e7\\u00e3o da vari\\u00e1vel RM (n\\u00famero m\\u00e9dio de quartos)\",\"Distribui\\u00e7\\u00e3o da vari\\u00e1vel RM (n\\u00famero m\\u00e9dio de quartos)\",\"Distribui\\u00e7\\u00e3o da vari\\u00e1vel RM (n\\u00famero m\\u00e9dio de quartos)\",\"Distribui\\u00e7\\u00e3o da vari\\u00e1vel RM (n\\u00famero m\\u00e9dio de quartos)\",\"Distribui\\u00e7\\u00e3o da vari\\u00e1vel RM (n\\u00famero m\\u00e9dio de quartos)\",\"Distribui\\u00e7\\u00e3o da vari\\u00e1vel RM (n\\u00famero m\\u00e9dio de quartos)\",\"Distribui\\u00e7\\u00e3o da vari\\u00e1vel RM (n\\u00famero m\\u00e9dio de quartos)\",\"Distribui\\u00e7\\u00e3o da vari\\u00e1vel RM (n\\u00famero m\\u00e9dio de quartos)\",\"Distribui\\u00e7\\u00e3o da vari\\u00e1vel RM (n\\u00famero m\\u00e9dio de quartos)\",\"Distribui\\u00e7\\u00e3o da vari\\u00e1vel RM (n\\u00famero m\\u00e9dio de quartos)\",\"Distribui\\u00e7\\u00e3o da vari\\u00e1vel RM (n\\u00famero m\\u00e9dio de quartos)\",\"Distribui\\u00e7\\u00e3o da vari\\u00e1vel RM (n\\u00famero m\\u00e9dio de quartos)\",\"Distribui\\u00e7\\u00e3o da vari\\u00e1vel RM (n\\u00famero m\\u00e9dio de quartos)\",\"Distribui\\u00e7\\u00e3o da vari\\u00e1vel RM (n\\u00famero m\\u00e9dio de quartos)\",\"Distribui\\u00e7\\u00e3o da vari\\u00e1vel RM (n\\u00famero m\\u00e9dio de quartos)\",\"Distribui\\u00e7\\u00e3o da vari\\u00e1vel RM (n\\u00famero m\\u00e9dio de quartos)\",\"Distribui\\u00e7\\u00e3o da vari\\u00e1vel RM (n\\u00famero m\\u00e9dio de quartos)\",\"Distribui\\u00e7\\u00e3o da vari\\u00e1vel RM (n\\u00famero m\\u00e9dio de quartos)\",\"Distribui\\u00e7\\u00e3o da vari\\u00e1vel RM (n\\u00famero m\\u00e9dio de quartos)\",\"Distribui\\u00e7\\u00e3o da vari\\u00e1vel RM (n\\u00famero m\\u00e9dio de quartos)\",\"Distribui\\u00e7\\u00e3o da vari\\u00e1vel RM (n\\u00famero m\\u00e9dio de quartos)\",\"Distribui\\u00e7\\u00e3o da vari\\u00e1vel RM (n\\u00famero m\\u00e9dio de quartos)\",\"Distribui\\u00e7\\u00e3o da vari\\u00e1vel RM (n\\u00famero m\\u00e9dio de quartos)\",\"Distribui\\u00e7\\u00e3o da vari\\u00e1vel RM (n\\u00famero m\\u00e9dio de quartos)\",\"Distribui\\u00e7\\u00e3o da vari\\u00e1vel RM (n\\u00famero m\\u00e9dio de quartos)\",\"Distribui\\u00e7\\u00e3o da vari\\u00e1vel RM (n\\u00famero m\\u00e9dio de quartos)\",\"Distribui\\u00e7\\u00e3o da vari\\u00e1vel RM (n\\u00famero m\\u00e9dio de quartos)\",\"Distribui\\u00e7\\u00e3o da vari\\u00e1vel RM (n\\u00famero m\\u00e9dio de quartos)\",\"Distribui\\u00e7\\u00e3o da vari\\u00e1vel RM (n\\u00famero m\\u00e9dio de quartos)\",\"Distribui\\u00e7\\u00e3o da vari\\u00e1vel RM (n\\u00famero m\\u00e9dio de quartos)\",\"Distribui\\u00e7\\u00e3o da vari\\u00e1vel RM (n\\u00famero m\\u00e9dio de quartos)\",\"Distribui\\u00e7\\u00e3o da vari\\u00e1vel RM (n\\u00famero m\\u00e9dio de quartos)\",\"Distribui\\u00e7\\u00e3o da vari\\u00e1vel RM (n\\u00famero m\\u00e9dio de quartos)\",\"Distribui\\u00e7\\u00e3o da vari\\u00e1vel RM (n\\u00famero m\\u00e9dio de quartos)\",\"Distribui\\u00e7\\u00e3o da vari\\u00e1vel RM (n\\u00famero m\\u00e9dio de quartos)\",\"Distribui\\u00e7\\u00e3o da vari\\u00e1vel RM (n\\u00famero m\\u00e9dio de quartos)\",\"Distribui\\u00e7\\u00e3o da vari\\u00e1vel RM (n\\u00famero m\\u00e9dio de quartos)\",\"Distribui\\u00e7\\u00e3o da vari\\u00e1vel RM (n\\u00famero m\\u00e9dio de quartos)\",\"Distribui\\u00e7\\u00e3o da vari\\u00e1vel RM (n\\u00famero m\\u00e9dio de quartos)\",\"Distribui\\u00e7\\u00e3o da vari\\u00e1vel RM (n\\u00famero m\\u00e9dio de quartos)\",\"Distribui\\u00e7\\u00e3o da vari\\u00e1vel RM (n\\u00famero m\\u00e9dio de quartos)\",\"Distribui\\u00e7\\u00e3o da vari\\u00e1vel RM (n\\u00famero m\\u00e9dio de quartos)\",\"Distribui\\u00e7\\u00e3o da vari\\u00e1vel RM (n\\u00famero m\\u00e9dio de quartos)\",\"Distribui\\u00e7\\u00e3o da vari\\u00e1vel RM (n\\u00famero m\\u00e9dio de quartos)\",\"Distribui\\u00e7\\u00e3o da vari\\u00e1vel RM (n\\u00famero m\\u00e9dio de quartos)\",\"Distribui\\u00e7\\u00e3o da vari\\u00e1vel RM (n\\u00famero m\\u00e9dio de quartos)\",\"Distribui\\u00e7\\u00e3o da vari\\u00e1vel RM (n\\u00famero m\\u00e9dio de quartos)\",\"Distribui\\u00e7\\u00e3o da vari\\u00e1vel RM (n\\u00famero m\\u00e9dio de quartos)\",\"Distribui\\u00e7\\u00e3o da vari\\u00e1vel RM (n\\u00famero m\\u00e9dio de quartos)\",\"Distribui\\u00e7\\u00e3o da vari\\u00e1vel RM (n\\u00famero m\\u00e9dio de quartos)\",\"Distribui\\u00e7\\u00e3o da vari\\u00e1vel RM (n\\u00famero m\\u00e9dio de quartos)\",\"Distribui\\u00e7\\u00e3o da vari\\u00e1vel RM (n\\u00famero m\\u00e9dio de quartos)\",\"Distribui\\u00e7\\u00e3o da vari\\u00e1vel RM (n\\u00famero m\\u00e9dio de quartos)\",\"Distribui\\u00e7\\u00e3o da vari\\u00e1vel RM (n\\u00famero m\\u00e9dio de quartos)\",\"Distribui\\u00e7\\u00e3o da vari\\u00e1vel RM (n\\u00famero m\\u00e9dio de quartos)\",\"Distribui\\u00e7\\u00e3o da vari\\u00e1vel RM (n\\u00famero m\\u00e9dio de quartos)\",\"Distribui\\u00e7\\u00e3o da vari\\u00e1vel RM (n\\u00famero m\\u00e9dio de quartos)\",\"Distribui\\u00e7\\u00e3o da vari\\u00e1vel RM (n\\u00famero m\\u00e9dio de quartos)\",\"Distribui\\u00e7\\u00e3o da vari\\u00e1vel RM (n\\u00famero m\\u00e9dio de quartos)\",\"Distribui\\u00e7\\u00e3o da vari\\u00e1vel RM (n\\u00famero m\\u00e9dio de quartos)\",\"Distribui\\u00e7\\u00e3o da vari\\u00e1vel RM (n\\u00famero m\\u00e9dio de quartos)\",\"Distribui\\u00e7\\u00e3o da vari\\u00e1vel RM (n\\u00famero m\\u00e9dio de quartos)\",\"Distribui\\u00e7\\u00e3o da vari\\u00e1vel RM (n\\u00famero m\\u00e9dio de quartos)\",\"Distribui\\u00e7\\u00e3o da vari\\u00e1vel RM (n\\u00famero m\\u00e9dio de quartos)\",\"Distribui\\u00e7\\u00e3o da vari\\u00e1vel RM (n\\u00famero m\\u00e9dio de quartos)\",\"Distribui\\u00e7\\u00e3o da vari\\u00e1vel RM (n\\u00famero m\\u00e9dio de quartos)\",\"Distribui\\u00e7\\u00e3o da vari\\u00e1vel RM (n\\u00famero m\\u00e9dio de quartos)\",\"Distribui\\u00e7\\u00e3o da vari\\u00e1vel RM (n\\u00famero m\\u00e9dio de quartos)\",\"Distribui\\u00e7\\u00e3o da vari\\u00e1vel RM (n\\u00famero m\\u00e9dio de quartos)\",\"Distribui\\u00e7\\u00e3o da vari\\u00e1vel RM (n\\u00famero m\\u00e9dio de quartos)\",\"Distribui\\u00e7\\u00e3o da vari\\u00e1vel RM (n\\u00famero m\\u00e9dio de quartos)\",\"Distribui\\u00e7\\u00e3o da vari\\u00e1vel RM (n\\u00famero m\\u00e9dio de quartos)\",\"Distribui\\u00e7\\u00e3o da vari\\u00e1vel RM (n\\u00famero m\\u00e9dio de quartos)\",\"Distribui\\u00e7\\u00e3o da vari\\u00e1vel RM (n\\u00famero m\\u00e9dio de quartos)\",\"Distribui\\u00e7\\u00e3o da vari\\u00e1vel RM (n\\u00famero m\\u00e9dio de quartos)\",\"Distribui\\u00e7\\u00e3o da vari\\u00e1vel RM (n\\u00famero m\\u00e9dio de quartos)\",\"Distribui\\u00e7\\u00e3o da vari\\u00e1vel RM (n\\u00famero m\\u00e9dio de quartos)\",\"Distribui\\u00e7\\u00e3o da vari\\u00e1vel RM (n\\u00famero m\\u00e9dio de quartos)\",\"Distribui\\u00e7\\u00e3o da vari\\u00e1vel RM (n\\u00famero m\\u00e9dio de quartos)\",\"Distribui\\u00e7\\u00e3o da vari\\u00e1vel RM (n\\u00famero m\\u00e9dio de quartos)\",\"Distribui\\u00e7\\u00e3o da vari\\u00e1vel RM (n\\u00famero m\\u00e9dio de quartos)\",\"Distribui\\u00e7\\u00e3o da vari\\u00e1vel RM (n\\u00famero m\\u00e9dio de quartos)\",\"Distribui\\u00e7\\u00e3o da vari\\u00e1vel RM (n\\u00famero m\\u00e9dio de quartos)\",\"Distribui\\u00e7\\u00e3o da vari\\u00e1vel RM (n\\u00famero m\\u00e9dio de quartos)\",\"Distribui\\u00e7\\u00e3o da vari\\u00e1vel RM (n\\u00famero m\\u00e9dio de quartos)\",\"Distribui\\u00e7\\u00e3o da vari\\u00e1vel RM (n\\u00famero m\\u00e9dio de quartos)\",\"Distribui\\u00e7\\u00e3o da vari\\u00e1vel RM (n\\u00famero m\\u00e9dio de quartos)\",\"Distribui\\u00e7\\u00e3o da vari\\u00e1vel RM (n\\u00famero m\\u00e9dio de quartos)\",\"Distribui\\u00e7\\u00e3o da vari\\u00e1vel RM (n\\u00famero m\\u00e9dio de quartos)\",\"Distribui\\u00e7\\u00e3o da vari\\u00e1vel RM (n\\u00famero m\\u00e9dio de quartos)\",\"Distribui\\u00e7\\u00e3o da vari\\u00e1vel RM (n\\u00famero m\\u00e9dio de quartos)\",\"Distribui\\u00e7\\u00e3o da vari\\u00e1vel RM (n\\u00famero m\\u00e9dio de quartos)\",\"Distribui\\u00e7\\u00e3o da vari\\u00e1vel RM (n\\u00famero m\\u00e9dio de quartos)\",\"Distribui\\u00e7\\u00e3o da vari\\u00e1vel RM (n\\u00famero m\\u00e9dio de quartos)\",\"Distribui\\u00e7\\u00e3o da vari\\u00e1vel RM (n\\u00famero m\\u00e9dio de quartos)\",\"Distribui\\u00e7\\u00e3o da vari\\u00e1vel RM (n\\u00famero m\\u00e9dio de quartos)\",\"Distribui\\u00e7\\u00e3o da vari\\u00e1vel RM (n\\u00famero m\\u00e9dio de quartos)\",\"Distribui\\u00e7\\u00e3o da vari\\u00e1vel RM (n\\u00famero m\\u00e9dio de quartos)\",\"Distribui\\u00e7\\u00e3o da vari\\u00e1vel RM (n\\u00famero m\\u00e9dio de quartos)\",\"Distribui\\u00e7\\u00e3o da vari\\u00e1vel RM (n\\u00famero m\\u00e9dio de quartos)\",\"Distribui\\u00e7\\u00e3o da vari\\u00e1vel RM (n\\u00famero m\\u00e9dio de quartos)\",\"Distribui\\u00e7\\u00e3o da vari\\u00e1vel RM (n\\u00famero m\\u00e9dio de quartos)\",\"Distribui\\u00e7\\u00e3o da vari\\u00e1vel RM (n\\u00famero m\\u00e9dio de quartos)\",\"Distribui\\u00e7\\u00e3o da vari\\u00e1vel RM (n\\u00famero m\\u00e9dio de quartos)\",\"Distribui\\u00e7\\u00e3o da vari\\u00e1vel RM (n\\u00famero m\\u00e9dio de quartos)\",\"Distribui\\u00e7\\u00e3o da vari\\u00e1vel RM (n\\u00famero m\\u00e9dio de quartos)\",\"Distribui\\u00e7\\u00e3o da vari\\u00e1vel RM (n\\u00famero m\\u00e9dio de quartos)\",\"Distribui\\u00e7\\u00e3o da vari\\u00e1vel RM (n\\u00famero m\\u00e9dio de quartos)\",\"Distribui\\u00e7\\u00e3o da vari\\u00e1vel RM (n\\u00famero m\\u00e9dio de quartos)\",\"Distribui\\u00e7\\u00e3o da vari\\u00e1vel RM (n\\u00famero m\\u00e9dio de quartos)\",\"Distribui\\u00e7\\u00e3o da vari\\u00e1vel RM (n\\u00famero m\\u00e9dio de quartos)\",\"Distribui\\u00e7\\u00e3o da vari\\u00e1vel RM (n\\u00famero m\\u00e9dio de quartos)\",\"Distribui\\u00e7\\u00e3o da vari\\u00e1vel RM (n\\u00famero m\\u00e9dio de quartos)\",\"Distribui\\u00e7\\u00e3o da vari\\u00e1vel RM (n\\u00famero m\\u00e9dio de quartos)\",\"Distribui\\u00e7\\u00e3o da vari\\u00e1vel RM (n\\u00famero m\\u00e9dio de quartos)\",\"Distribui\\u00e7\\u00e3o da vari\\u00e1vel RM (n\\u00famero m\\u00e9dio de quartos)\",\"Distribui\\u00e7\\u00e3o da vari\\u00e1vel RM (n\\u00famero m\\u00e9dio de quartos)\",\"Distribui\\u00e7\\u00e3o da vari\\u00e1vel RM (n\\u00famero m\\u00e9dio de quartos)\",\"Distribui\\u00e7\\u00e3o da vari\\u00e1vel RM (n\\u00famero m\\u00e9dio de quartos)\",\"Distribui\\u00e7\\u00e3o da vari\\u00e1vel RM (n\\u00famero m\\u00e9dio de quartos)\",\"Distribui\\u00e7\\u00e3o da vari\\u00e1vel RM (n\\u00famero m\\u00e9dio de quartos)\",\"Distribui\\u00e7\\u00e3o da vari\\u00e1vel RM (n\\u00famero m\\u00e9dio de quartos)\",\"Distribui\\u00e7\\u00e3o da vari\\u00e1vel RM (n\\u00famero m\\u00e9dio de quartos)\",\"Distribui\\u00e7\\u00e3o da vari\\u00e1vel RM (n\\u00famero m\\u00e9dio de quartos)\",\"Distribui\\u00e7\\u00e3o da vari\\u00e1vel RM (n\\u00famero m\\u00e9dio de quartos)\",\"Distribui\\u00e7\\u00e3o da vari\\u00e1vel RM (n\\u00famero m\\u00e9dio de quartos)\"],\"yaxis\":\"y2\",\"type\":\"scatter\"}],                        {\"barmode\":\"overlay\",\"hovermode\":\"closest\",\"legend\":{\"traceorder\":\"reversed\"},\"xaxis\":{\"anchor\":\"y2\",\"domain\":[0.0,1.0],\"zeroline\":false},\"yaxis\":{\"anchor\":\"free\",\"domain\":[0.35,1],\"position\":0.0},\"yaxis2\":{\"anchor\":\"x\",\"domain\":[0,0.25],\"dtick\":1,\"showticklabels\":false},\"template\":{\"data\":{\"bar\":[{\"error_x\":{\"color\":\"#2a3f5f\"},\"error_y\":{\"color\":\"#2a3f5f\"},\"marker\":{\"line\":{\"color\":\"#E5ECF6\",\"width\":0.5},\"pattern\":{\"fillmode\":\"overlay\",\"size\":10,\"solidity\":0.2}},\"type\":\"bar\"}],\"barpolar\":[{\"marker\":{\"line\":{\"color\":\"#E5ECF6\",\"width\":0.5},\"pattern\":{\"fillmode\":\"overlay\",\"size\":10,\"solidity\":0.2}},\"type\":\"barpolar\"}],\"carpet\":[{\"aaxis\":{\"endlinecolor\":\"#2a3f5f\",\"gridcolor\":\"white\",\"linecolor\":\"white\",\"minorgridcolor\":\"white\",\"startlinecolor\":\"#2a3f5f\"},\"baxis\":{\"endlinecolor\":\"#2a3f5f\",\"gridcolor\":\"white\",\"linecolor\":\"white\",\"minorgridcolor\":\"white\",\"startlinecolor\":\"#2a3f5f\"},\"type\":\"carpet\"}],\"choropleth\":[{\"colorbar\":{\"outlinewidth\":0,\"ticks\":\"\"},\"type\":\"choropleth\"}],\"contour\":[{\"colorbar\":{\"outlinewidth\":0,\"ticks\":\"\"},\"colorscale\":[[0.0,\"#0d0887\"],[0.1111111111111111,\"#46039f\"],[0.2222222222222222,\"#7201a8\"],[0.3333333333333333,\"#9c179e\"],[0.4444444444444444,\"#bd3786\"],[0.5555555555555556,\"#d8576b\"],[0.6666666666666666,\"#ed7953\"],[0.7777777777777778,\"#fb9f3a\"],[0.8888888888888888,\"#fdca26\"],[1.0,\"#f0f921\"]],\"type\":\"contour\"}],\"contourcarpet\":[{\"colorbar\":{\"outlinewidth\":0,\"ticks\":\"\"},\"type\":\"contourcarpet\"}],\"heatmap\":[{\"colorbar\":{\"outlinewidth\":0,\"ticks\":\"\"},\"colorscale\":[[0.0,\"#0d0887\"],[0.1111111111111111,\"#46039f\"],[0.2222222222222222,\"#7201a8\"],[0.3333333333333333,\"#9c179e\"],[0.4444444444444444,\"#bd3786\"],[0.5555555555555556,\"#d8576b\"],[0.6666666666666666,\"#ed7953\"],[0.7777777777777778,\"#fb9f3a\"],[0.8888888888888888,\"#fdca26\"],[1.0,\"#f0f921\"]],\"type\":\"heatmap\"}],\"heatmapgl\":[{\"colorbar\":{\"outlinewidth\":0,\"ticks\":\"\"},\"colorscale\":[[0.0,\"#0d0887\"],[0.1111111111111111,\"#46039f\"],[0.2222222222222222,\"#7201a8\"],[0.3333333333333333,\"#9c179e\"],[0.4444444444444444,\"#bd3786\"],[0.5555555555555556,\"#d8576b\"],[0.6666666666666666,\"#ed7953\"],[0.7777777777777778,\"#fb9f3a\"],[0.8888888888888888,\"#fdca26\"],[1.0,\"#f0f921\"]],\"type\":\"heatmapgl\"}],\"histogram\":[{\"marker\":{\"pattern\":{\"fillmode\":\"overlay\",\"size\":10,\"solidity\":0.2}},\"type\":\"histogram\"}],\"histogram2d\":[{\"colorbar\":{\"outlinewidth\":0,\"ticks\":\"\"},\"colorscale\":[[0.0,\"#0d0887\"],[0.1111111111111111,\"#46039f\"],[0.2222222222222222,\"#7201a8\"],[0.3333333333333333,\"#9c179e\"],[0.4444444444444444,\"#bd3786\"],[0.5555555555555556,\"#d8576b\"],[0.6666666666666666,\"#ed7953\"],[0.7777777777777778,\"#fb9f3a\"],[0.8888888888888888,\"#fdca26\"],[1.0,\"#f0f921\"]],\"type\":\"histogram2d\"}],\"histogram2dcontour\":[{\"colorbar\":{\"outlinewidth\":0,\"ticks\":\"\"},\"colorscale\":[[0.0,\"#0d0887\"],[0.1111111111111111,\"#46039f\"],[0.2222222222222222,\"#7201a8\"],[0.3333333333333333,\"#9c179e\"],[0.4444444444444444,\"#bd3786\"],[0.5555555555555556,\"#d8576b\"],[0.6666666666666666,\"#ed7953\"],[0.7777777777777778,\"#fb9f3a\"],[0.8888888888888888,\"#fdca26\"],[1.0,\"#f0f921\"]],\"type\":\"histogram2dcontour\"}],\"mesh3d\":[{\"colorbar\":{\"outlinewidth\":0,\"ticks\":\"\"},\"type\":\"mesh3d\"}],\"parcoords\":[{\"line\":{\"colorbar\":{\"outlinewidth\":0,\"ticks\":\"\"}},\"type\":\"parcoords\"}],\"pie\":[{\"automargin\":true,\"type\":\"pie\"}],\"scatter\":[{\"marker\":{\"colorbar\":{\"outlinewidth\":0,\"ticks\":\"\"}},\"type\":\"scatter\"}],\"scatter3d\":[{\"line\":{\"colorbar\":{\"outlinewidth\":0,\"ticks\":\"\"}},\"marker\":{\"colorbar\":{\"outlinewidth\":0,\"ticks\":\"\"}},\"type\":\"scatter3d\"}],\"scattercarpet\":[{\"marker\":{\"colorbar\":{\"outlinewidth\":0,\"ticks\":\"\"}},\"type\":\"scattercarpet\"}],\"scattergeo\":[{\"marker\":{\"colorbar\":{\"outlinewidth\":0,\"ticks\":\"\"}},\"type\":\"scattergeo\"}],\"scattergl\":[{\"marker\":{\"colorbar\":{\"outlinewidth\":0,\"ticks\":\"\"}},\"type\":\"scattergl\"}],\"scattermapbox\":[{\"marker\":{\"colorbar\":{\"outlinewidth\":0,\"ticks\":\"\"}},\"type\":\"scattermapbox\"}],\"scatterpolar\":[{\"marker\":{\"colorbar\":{\"outlinewidth\":0,\"ticks\":\"\"}},\"type\":\"scatterpolar\"}],\"scatterpolargl\":[{\"marker\":{\"colorbar\":{\"outlinewidth\":0,\"ticks\":\"\"}},\"type\":\"scatterpolargl\"}],\"scatterternary\":[{\"marker\":{\"colorbar\":{\"outlinewidth\":0,\"ticks\":\"\"}},\"type\":\"scatterternary\"}],\"surface\":[{\"colorbar\":{\"outlinewidth\":0,\"ticks\":\"\"},\"colorscale\":[[0.0,\"#0d0887\"],[0.1111111111111111,\"#46039f\"],[0.2222222222222222,\"#7201a8\"],[0.3333333333333333,\"#9c179e\"],[0.4444444444444444,\"#bd3786\"],[0.5555555555555556,\"#d8576b\"],[0.6666666666666666,\"#ed7953\"],[0.7777777777777778,\"#fb9f3a\"],[0.8888888888888888,\"#fdca26\"],[1.0,\"#f0f921\"]],\"type\":\"surface\"}],\"table\":[{\"cells\":{\"fill\":{\"color\":\"#EBF0F8\"},\"line\":{\"color\":\"white\"}},\"header\":{\"fill\":{\"color\":\"#C8D4E3\"},\"line\":{\"color\":\"white\"}},\"type\":\"table\"}]},\"layout\":{\"annotationdefaults\":{\"arrowcolor\":\"#2a3f5f\",\"arrowhead\":0,\"arrowwidth\":1},\"autotypenumbers\":\"strict\",\"coloraxis\":{\"colorbar\":{\"outlinewidth\":0,\"ticks\":\"\"}},\"colorscale\":{\"diverging\":[[0,\"#8e0152\"],[0.1,\"#c51b7d\"],[0.2,\"#de77ae\"],[0.3,\"#f1b6da\"],[0.4,\"#fde0ef\"],[0.5,\"#f7f7f7\"],[0.6,\"#e6f5d0\"],[0.7,\"#b8e186\"],[0.8,\"#7fbc41\"],[0.9,\"#4d9221\"],[1,\"#276419\"]],\"sequential\":[[0.0,\"#0d0887\"],[0.1111111111111111,\"#46039f\"],[0.2222222222222222,\"#7201a8\"],[0.3333333333333333,\"#9c179e\"],[0.4444444444444444,\"#bd3786\"],[0.5555555555555556,\"#d8576b\"],[0.6666666666666666,\"#ed7953\"],[0.7777777777777778,\"#fb9f3a\"],[0.8888888888888888,\"#fdca26\"],[1.0,\"#f0f921\"]],\"sequentialminus\":[[0.0,\"#0d0887\"],[0.1111111111111111,\"#46039f\"],[0.2222222222222222,\"#7201a8\"],[0.3333333333333333,\"#9c179e\"],[0.4444444444444444,\"#bd3786\"],[0.5555555555555556,\"#d8576b\"],[0.6666666666666666,\"#ed7953\"],[0.7777777777777778,\"#fb9f3a\"],[0.8888888888888888,\"#fdca26\"],[1.0,\"#f0f921\"]]},\"colorway\":[\"#636efa\",\"#EF553B\",\"#00cc96\",\"#ab63fa\",\"#FFA15A\",\"#19d3f3\",\"#FF6692\",\"#B6E880\",\"#FF97FF\",\"#FECB52\"],\"font\":{\"color\":\"#2a3f5f\"},\"geo\":{\"bgcolor\":\"white\",\"lakecolor\":\"white\",\"landcolor\":\"#E5ECF6\",\"showlakes\":true,\"showland\":true,\"subunitcolor\":\"white\"},\"hoverlabel\":{\"align\":\"left\"},\"hovermode\":\"closest\",\"mapbox\":{\"style\":\"light\"},\"paper_bgcolor\":\"white\",\"plot_bgcolor\":\"#E5ECF6\",\"polar\":{\"angularaxis\":{\"gridcolor\":\"white\",\"linecolor\":\"white\",\"ticks\":\"\"},\"bgcolor\":\"#E5ECF6\",\"radialaxis\":{\"gridcolor\":\"white\",\"linecolor\":\"white\",\"ticks\":\"\"}},\"scene\":{\"xaxis\":{\"backgroundcolor\":\"#E5ECF6\",\"gridcolor\":\"white\",\"gridwidth\":2,\"linecolor\":\"white\",\"showbackground\":true,\"ticks\":\"\",\"zerolinecolor\":\"white\"},\"yaxis\":{\"backgroundcolor\":\"#E5ECF6\",\"gridcolor\":\"white\",\"gridwidth\":2,\"linecolor\":\"white\",\"showbackground\":true,\"ticks\":\"\",\"zerolinecolor\":\"white\"},\"zaxis\":{\"backgroundcolor\":\"#E5ECF6\",\"gridcolor\":\"white\",\"gridwidth\":2,\"linecolor\":\"white\",\"showbackground\":true,\"ticks\":\"\",\"zerolinecolor\":\"white\"}},\"shapedefaults\":{\"line\":{\"color\":\"#2a3f5f\"}},\"ternary\":{\"aaxis\":{\"gridcolor\":\"white\",\"linecolor\":\"white\",\"ticks\":\"\"},\"baxis\":{\"gridcolor\":\"white\",\"linecolor\":\"white\",\"ticks\":\"\"},\"bgcolor\":\"#E5ECF6\",\"caxis\":{\"gridcolor\":\"white\",\"linecolor\":\"white\",\"ticks\":\"\"}},\"title\":{\"x\":0.05},\"xaxis\":{\"automargin\":true,\"gridcolor\":\"white\",\"linecolor\":\"white\",\"ticks\":\"\",\"title\":{\"standoff\":15},\"zerolinecolor\":\"white\",\"zerolinewidth\":2},\"yaxis\":{\"automargin\":true,\"gridcolor\":\"white\",\"linecolor\":\"white\",\"ticks\":\"\",\"title\":{\"standoff\":15},\"zerolinecolor\":\"white\",\"zerolinewidth\":2}}}},                        {\"responsive\": true}                    ).then(function(){\n",
              "                            \n",
              "var gd = document.getElementById('38ff194a-ff38-4c2f-9b9e-0702eb82322c');\n",
              "var x = new MutationObserver(function (mutations, observer) {{\n",
              "        var display = window.getComputedStyle(gd).display;\n",
              "        if (!display || display === 'none') {{\n",
              "            console.log([gd, 'removed!']);\n",
              "            Plotly.purge(gd);\n",
              "            observer.disconnect();\n",
              "        }}\n",
              "}});\n",
              "\n",
              "// Listen for the removal of the full notebook cells\n",
              "var notebookContainer = gd.closest('#notebook-container');\n",
              "if (notebookContainer) {{\n",
              "    x.observe(notebookContainer, {childList: true});\n",
              "}}\n",
              "\n",
              "// Listen for the clearing of the current output cell\n",
              "var outputEl = gd.closest('.output');\n",
              "if (outputEl) {{\n",
              "    x.observe(outputEl, {childList: true});\n",
              "}}\n",
              "\n",
              "                        })                };                            </script>        </div>\n",
              "</body>\n",
              "</html>"
            ]
          },
          "metadata": {},
          "output_type": "display_data"
        }
      ],
      "source": [
        "import plotly.figure_factory as ff\n",
        "labels = ['Distribuição da variável RM (número médio de quartos)']\n",
        "fig = ff.create_distplot([data.RM], labels, bin_size=.2)\n",
        "fig.show()"
      ]
    },
    {
      "cell_type": "code",
      "execution_count": null,
      "metadata": {
        "colab": {
          "base_uri": "https://localhost:8080/",
          "height": 837
        },
        "id": "EMdi1w6YY96z",
        "outputId": "1a202adf-b927-4c38-b580-ae76a20d51a2"
      },
      "outputs": [
        {
          "data": {
            "text/html": [
              "<html>\n",
              "<head><meta charset=\"utf-8\" /></head>\n",
              "<body>\n",
              "    <div>            <script src=\"https://cdnjs.cloudflare.com/ajax/libs/mathjax/2.7.5/MathJax.js?config=TeX-AMS-MML_SVG\"></script><script type=\"text/javascript\">if (window.MathJax) {MathJax.Hub.Config({SVG: {font: \"STIX-Web\"}});}</script>                <script type=\"text/javascript\">window.PlotlyConfig = {MathJaxConfig: 'local'};</script>\n",
              "        <script src=\"https://cdn.plot.ly/plotly-2.8.3.min.js\"></script>                <div id=\"9f2d37a4-ae68-4abc-a836-89e5537deaa6\" class=\"plotly-graph-div\" style=\"height:800px; width:800px;\"></div>            <script type=\"text/javascript\">                                    window.PLOTLYENV=window.PLOTLYENV || {};                                    if (document.getElementById(\"9f2d37a4-ae68-4abc-a836-89e5537deaa6\")) {                    Plotly.newPlot(                        \"9f2d37a4-ae68-4abc-a836-89e5537deaa6\",                        [{\"alignmentgroup\":\"True\",\"hovertemplate\":\"RM=%{y}<extra></extra>\",\"legendgroup\":\"\",\"marker\":{\"color\":\"#636efa\"},\"name\":\"\",\"notched\":false,\"offsetgroup\":\"\",\"orientation\":\"v\",\"showlegend\":false,\"x0\":\" \",\"xaxis\":\"x\",\"y\":[6.575,6.421,7.185,6.998,7.147,6.43,6.012,6.172,5.631,6.004,6.377,6.009,5.889,5.949,6.096,5.834,5.935,5.99,5.456,5.727,5.57,5.965,6.142,5.813,5.924,5.599,5.813,6.047,6.495,6.674,5.713,6.072,5.95,5.701,6.096,5.933,5.841,5.85,5.966,6.595,7.024,6.77,6.169,6.211,6.069,5.682,5.786,6.03,5.399,5.602,5.963,6.115,6.511,5.998,5.888,7.249,6.383,6.816,6.145,5.927,5.741,5.966,6.456,6.762,7.104,6.29,5.787,5.878,5.594,5.885,6.417,5.961,6.065,6.245,6.273,6.286,6.279,6.14,6.232,5.874,6.727,6.619,6.302,6.167,6.389,6.63,6.015,6.121,7.007,7.079,6.417,6.405,6.442,6.211,6.249,6.625,6.163,8.069,7.82,7.416,6.727,6.781,6.405,6.137,6.167,5.851,5.836,6.127,6.474,6.229,6.195,6.715,5.913,6.092,6.254,5.928,6.176,6.021,5.872,5.731,5.87,6.004,5.961,5.856,5.879,5.986,5.613,5.693,6.431,5.637,6.458,6.326,6.372,5.822,5.757,6.335,5.942,6.454,5.857,6.151,6.174,5.019,5.403,5.468,4.903,6.13,5.628,4.926,5.186,5.597,6.122,5.404,5.012,5.709,6.129,6.152,5.272,6.943,6.066,6.51,6.25,7.489,7.802,8.375,5.854,6.101,7.929,5.877,6.319,6.402,5.875,5.88,5.572,6.416,5.859,6.546,6.02,6.315,6.86,6.98,7.765,6.144,7.155,6.563,5.604,6.153,7.831,6.782,6.556,7.185,6.951,6.739,7.178,6.8,6.604,7.875,7.287,7.107,7.274,6.975,7.135,6.162,7.61,7.853,8.034,5.891,6.326,5.783,6.064,5.344,5.96,5.404,5.807,6.375,5.412,6.182,5.888,6.642,5.951,6.373,6.951,6.164,6.879,6.618,8.266,8.725,8.04,7.163,7.686,6.552,5.981,7.412,8.337,8.247,6.726,6.086,6.631,7.358,6.481,6.606,6.897,6.095,6.358,6.393,5.593,5.605,6.108,6.226,6.433,6.718,6.487,6.438,6.957,8.259,6.108,5.876,7.454,8.704,7.333,6.842,7.203,7.52,8.398,7.327,7.206,5.56,7.014,8.297,7.47,5.92,5.856,6.24,6.538,7.691,6.758,6.854,7.267,6.826,6.482,6.812,7.82,6.968,7.645,7.923,7.088,6.453,6.23,6.209,6.315,6.565,6.861,7.148,6.63,6.127,6.009,6.678,6.549,5.79,6.345,7.041,6.871,6.59,6.495,6.982,7.236,6.616,7.42,6.849,6.635,5.972,4.973,6.122,6.023,6.266,6.567,5.705,5.914,5.782,6.382,6.113,6.426,6.376,6.041,5.708,6.415,6.431,6.312,6.083,5.868,6.333,6.144,5.706,6.031,6.316,6.31,6.037,5.869,5.895,6.059,5.985,5.968,7.241,6.54,6.696,6.874,6.014,5.898,6.516,6.635,6.939,6.49,6.579,5.884,6.728,5.663,5.936,6.212,6.395,6.127,6.112,6.398,6.251,5.362,5.803,8.78,3.561,4.963,3.863,4.97,6.683,7.016,6.216,5.875,4.906,4.138,7.313,6.649,6.794,6.38,6.223,6.968,6.545,5.536,5.52,4.368,5.277,4.652,5.0,4.88,5.39,5.713,6.051,5.036,6.193,5.887,6.471,6.405,5.747,5.453,5.852,5.987,6.343,6.404,5.349,5.531,5.683,4.138,5.608,5.617,6.852,5.757,6.657,4.628,5.155,4.519,6.434,6.782,5.304,5.957,6.824,6.411,6.006,5.648,6.103,5.565,5.896,5.837,6.202,6.193,6.38,6.348,6.833,6.425,6.436,6.208,6.629,6.461,6.152,5.935,5.627,5.818,6.406,6.219,6.485,5.854,6.459,6.341,6.251,6.185,6.417,6.749,6.655,6.297,7.393,6.728,6.525,5.976,5.936,6.301,6.081,6.701,6.376,6.317,6.513,6.209,5.759,5.952,6.003,5.926,5.713,6.167,6.229,6.437,6.98,5.427,6.162,6.484,5.304,6.185,6.229,6.242,6.75,7.061,5.762,5.871,6.312,6.114,5.905,5.454,5.414,5.093,5.983,5.983,5.707,5.926,5.67,5.39,5.794,6.019,5.569,6.027,6.593,6.12,6.976,6.794,6.03],\"y0\":\" \",\"yaxis\":\"y\",\"type\":\"box\"}],                        {\"template\":{\"data\":{\"bar\":[{\"error_x\":{\"color\":\"#2a3f5f\"},\"error_y\":{\"color\":\"#2a3f5f\"},\"marker\":{\"line\":{\"color\":\"#E5ECF6\",\"width\":0.5},\"pattern\":{\"fillmode\":\"overlay\",\"size\":10,\"solidity\":0.2}},\"type\":\"bar\"}],\"barpolar\":[{\"marker\":{\"line\":{\"color\":\"#E5ECF6\",\"width\":0.5},\"pattern\":{\"fillmode\":\"overlay\",\"size\":10,\"solidity\":0.2}},\"type\":\"barpolar\"}],\"carpet\":[{\"aaxis\":{\"endlinecolor\":\"#2a3f5f\",\"gridcolor\":\"white\",\"linecolor\":\"white\",\"minorgridcolor\":\"white\",\"startlinecolor\":\"#2a3f5f\"},\"baxis\":{\"endlinecolor\":\"#2a3f5f\",\"gridcolor\":\"white\",\"linecolor\":\"white\",\"minorgridcolor\":\"white\",\"startlinecolor\":\"#2a3f5f\"},\"type\":\"carpet\"}],\"choropleth\":[{\"colorbar\":{\"outlinewidth\":0,\"ticks\":\"\"},\"type\":\"choropleth\"}],\"contour\":[{\"colorbar\":{\"outlinewidth\":0,\"ticks\":\"\"},\"colorscale\":[[0.0,\"#0d0887\"],[0.1111111111111111,\"#46039f\"],[0.2222222222222222,\"#7201a8\"],[0.3333333333333333,\"#9c179e\"],[0.4444444444444444,\"#bd3786\"],[0.5555555555555556,\"#d8576b\"],[0.6666666666666666,\"#ed7953\"],[0.7777777777777778,\"#fb9f3a\"],[0.8888888888888888,\"#fdca26\"],[1.0,\"#f0f921\"]],\"type\":\"contour\"}],\"contourcarpet\":[{\"colorbar\":{\"outlinewidth\":0,\"ticks\":\"\"},\"type\":\"contourcarpet\"}],\"heatmap\":[{\"colorbar\":{\"outlinewidth\":0,\"ticks\":\"\"},\"colorscale\":[[0.0,\"#0d0887\"],[0.1111111111111111,\"#46039f\"],[0.2222222222222222,\"#7201a8\"],[0.3333333333333333,\"#9c179e\"],[0.4444444444444444,\"#bd3786\"],[0.5555555555555556,\"#d8576b\"],[0.6666666666666666,\"#ed7953\"],[0.7777777777777778,\"#fb9f3a\"],[0.8888888888888888,\"#fdca26\"],[1.0,\"#f0f921\"]],\"type\":\"heatmap\"}],\"heatmapgl\":[{\"colorbar\":{\"outlinewidth\":0,\"ticks\":\"\"},\"colorscale\":[[0.0,\"#0d0887\"],[0.1111111111111111,\"#46039f\"],[0.2222222222222222,\"#7201a8\"],[0.3333333333333333,\"#9c179e\"],[0.4444444444444444,\"#bd3786\"],[0.5555555555555556,\"#d8576b\"],[0.6666666666666666,\"#ed7953\"],[0.7777777777777778,\"#fb9f3a\"],[0.8888888888888888,\"#fdca26\"],[1.0,\"#f0f921\"]],\"type\":\"heatmapgl\"}],\"histogram\":[{\"marker\":{\"pattern\":{\"fillmode\":\"overlay\",\"size\":10,\"solidity\":0.2}},\"type\":\"histogram\"}],\"histogram2d\":[{\"colorbar\":{\"outlinewidth\":0,\"ticks\":\"\"},\"colorscale\":[[0.0,\"#0d0887\"],[0.1111111111111111,\"#46039f\"],[0.2222222222222222,\"#7201a8\"],[0.3333333333333333,\"#9c179e\"],[0.4444444444444444,\"#bd3786\"],[0.5555555555555556,\"#d8576b\"],[0.6666666666666666,\"#ed7953\"],[0.7777777777777778,\"#fb9f3a\"],[0.8888888888888888,\"#fdca26\"],[1.0,\"#f0f921\"]],\"type\":\"histogram2d\"}],\"histogram2dcontour\":[{\"colorbar\":{\"outlinewidth\":0,\"ticks\":\"\"},\"colorscale\":[[0.0,\"#0d0887\"],[0.1111111111111111,\"#46039f\"],[0.2222222222222222,\"#7201a8\"],[0.3333333333333333,\"#9c179e\"],[0.4444444444444444,\"#bd3786\"],[0.5555555555555556,\"#d8576b\"],[0.6666666666666666,\"#ed7953\"],[0.7777777777777778,\"#fb9f3a\"],[0.8888888888888888,\"#fdca26\"],[1.0,\"#f0f921\"]],\"type\":\"histogram2dcontour\"}],\"mesh3d\":[{\"colorbar\":{\"outlinewidth\":0,\"ticks\":\"\"},\"type\":\"mesh3d\"}],\"parcoords\":[{\"line\":{\"colorbar\":{\"outlinewidth\":0,\"ticks\":\"\"}},\"type\":\"parcoords\"}],\"pie\":[{\"automargin\":true,\"type\":\"pie\"}],\"scatter\":[{\"marker\":{\"colorbar\":{\"outlinewidth\":0,\"ticks\":\"\"}},\"type\":\"scatter\"}],\"scatter3d\":[{\"line\":{\"colorbar\":{\"outlinewidth\":0,\"ticks\":\"\"}},\"marker\":{\"colorbar\":{\"outlinewidth\":0,\"ticks\":\"\"}},\"type\":\"scatter3d\"}],\"scattercarpet\":[{\"marker\":{\"colorbar\":{\"outlinewidth\":0,\"ticks\":\"\"}},\"type\":\"scattercarpet\"}],\"scattergeo\":[{\"marker\":{\"colorbar\":{\"outlinewidth\":0,\"ticks\":\"\"}},\"type\":\"scattergeo\"}],\"scattergl\":[{\"marker\":{\"colorbar\":{\"outlinewidth\":0,\"ticks\":\"\"}},\"type\":\"scattergl\"}],\"scattermapbox\":[{\"marker\":{\"colorbar\":{\"outlinewidth\":0,\"ticks\":\"\"}},\"type\":\"scattermapbox\"}],\"scatterpolar\":[{\"marker\":{\"colorbar\":{\"outlinewidth\":0,\"ticks\":\"\"}},\"type\":\"scatterpolar\"}],\"scatterpolargl\":[{\"marker\":{\"colorbar\":{\"outlinewidth\":0,\"ticks\":\"\"}},\"type\":\"scatterpolargl\"}],\"scatterternary\":[{\"marker\":{\"colorbar\":{\"outlinewidth\":0,\"ticks\":\"\"}},\"type\":\"scatterternary\"}],\"surface\":[{\"colorbar\":{\"outlinewidth\":0,\"ticks\":\"\"},\"colorscale\":[[0.0,\"#0d0887\"],[0.1111111111111111,\"#46039f\"],[0.2222222222222222,\"#7201a8\"],[0.3333333333333333,\"#9c179e\"],[0.4444444444444444,\"#bd3786\"],[0.5555555555555556,\"#d8576b\"],[0.6666666666666666,\"#ed7953\"],[0.7777777777777778,\"#fb9f3a\"],[0.8888888888888888,\"#fdca26\"],[1.0,\"#f0f921\"]],\"type\":\"surface\"}],\"table\":[{\"cells\":{\"fill\":{\"color\":\"#EBF0F8\"},\"line\":{\"color\":\"white\"}},\"header\":{\"fill\":{\"color\":\"#C8D4E3\"},\"line\":{\"color\":\"white\"}},\"type\":\"table\"}]},\"layout\":{\"annotationdefaults\":{\"arrowcolor\":\"#2a3f5f\",\"arrowhead\":0,\"arrowwidth\":1},\"autotypenumbers\":\"strict\",\"coloraxis\":{\"colorbar\":{\"outlinewidth\":0,\"ticks\":\"\"}},\"colorscale\":{\"diverging\":[[0,\"#8e0152\"],[0.1,\"#c51b7d\"],[0.2,\"#de77ae\"],[0.3,\"#f1b6da\"],[0.4,\"#fde0ef\"],[0.5,\"#f7f7f7\"],[0.6,\"#e6f5d0\"],[0.7,\"#b8e186\"],[0.8,\"#7fbc41\"],[0.9,\"#4d9221\"],[1,\"#276419\"]],\"sequential\":[[0.0,\"#0d0887\"],[0.1111111111111111,\"#46039f\"],[0.2222222222222222,\"#7201a8\"],[0.3333333333333333,\"#9c179e\"],[0.4444444444444444,\"#bd3786\"],[0.5555555555555556,\"#d8576b\"],[0.6666666666666666,\"#ed7953\"],[0.7777777777777778,\"#fb9f3a\"],[0.8888888888888888,\"#fdca26\"],[1.0,\"#f0f921\"]],\"sequentialminus\":[[0.0,\"#0d0887\"],[0.1111111111111111,\"#46039f\"],[0.2222222222222222,\"#7201a8\"],[0.3333333333333333,\"#9c179e\"],[0.4444444444444444,\"#bd3786\"],[0.5555555555555556,\"#d8576b\"],[0.6666666666666666,\"#ed7953\"],[0.7777777777777778,\"#fb9f3a\"],[0.8888888888888888,\"#fdca26\"],[1.0,\"#f0f921\"]]},\"colorway\":[\"#636efa\",\"#EF553B\",\"#00cc96\",\"#ab63fa\",\"#FFA15A\",\"#19d3f3\",\"#FF6692\",\"#B6E880\",\"#FF97FF\",\"#FECB52\"],\"font\":{\"color\":\"#2a3f5f\"},\"geo\":{\"bgcolor\":\"white\",\"lakecolor\":\"white\",\"landcolor\":\"#E5ECF6\",\"showlakes\":true,\"showland\":true,\"subunitcolor\":\"white\"},\"hoverlabel\":{\"align\":\"left\"},\"hovermode\":\"closest\",\"mapbox\":{\"style\":\"light\"},\"paper_bgcolor\":\"white\",\"plot_bgcolor\":\"#E5ECF6\",\"polar\":{\"angularaxis\":{\"gridcolor\":\"white\",\"linecolor\":\"white\",\"ticks\":\"\"},\"bgcolor\":\"#E5ECF6\",\"radialaxis\":{\"gridcolor\":\"white\",\"linecolor\":\"white\",\"ticks\":\"\"}},\"scene\":{\"xaxis\":{\"backgroundcolor\":\"#E5ECF6\",\"gridcolor\":\"white\",\"gridwidth\":2,\"linecolor\":\"white\",\"showbackground\":true,\"ticks\":\"\",\"zerolinecolor\":\"white\"},\"yaxis\":{\"backgroundcolor\":\"#E5ECF6\",\"gridcolor\":\"white\",\"gridwidth\":2,\"linecolor\":\"white\",\"showbackground\":true,\"ticks\":\"\",\"zerolinecolor\":\"white\"},\"zaxis\":{\"backgroundcolor\":\"#E5ECF6\",\"gridcolor\":\"white\",\"gridwidth\":2,\"linecolor\":\"white\",\"showbackground\":true,\"ticks\":\"\",\"zerolinecolor\":\"white\"}},\"shapedefaults\":{\"line\":{\"color\":\"#2a3f5f\"}},\"ternary\":{\"aaxis\":{\"gridcolor\":\"white\",\"linecolor\":\"white\",\"ticks\":\"\"},\"baxis\":{\"gridcolor\":\"white\",\"linecolor\":\"white\",\"ticks\":\"\"},\"bgcolor\":\"#E5ECF6\",\"caxis\":{\"gridcolor\":\"white\",\"linecolor\":\"white\",\"ticks\":\"\"}},\"title\":{\"x\":0.05},\"xaxis\":{\"automargin\":true,\"gridcolor\":\"white\",\"linecolor\":\"white\",\"ticks\":\"\",\"title\":{\"standoff\":15},\"zerolinecolor\":\"white\",\"zerolinewidth\":2},\"yaxis\":{\"automargin\":true,\"gridcolor\":\"white\",\"linecolor\":\"white\",\"ticks\":\"\",\"title\":{\"standoff\":15},\"zerolinecolor\":\"white\",\"zerolinewidth\":2}}},\"xaxis\":{\"anchor\":\"y\",\"domain\":[0.0,1.0]},\"yaxis\":{\"anchor\":\"x\",\"domain\":[0.0,1.0],\"title\":{\"text\":\"RM\"}},\"legend\":{\"tracegroupgap\":0},\"margin\":{\"t\":60},\"boxmode\":\"group\",\"width\":800,\"height\":800},                        {\"responsive\": true}                    ).then(function(){\n",
              "                            \n",
              "var gd = document.getElementById('9f2d37a4-ae68-4abc-a836-89e5537deaa6');\n",
              "var x = new MutationObserver(function (mutations, observer) {{\n",
              "        var display = window.getComputedStyle(gd).display;\n",
              "        if (!display || display === 'none') {{\n",
              "            console.log([gd, 'removed!']);\n",
              "            Plotly.purge(gd);\n",
              "            observer.disconnect();\n",
              "        }}\n",
              "}});\n",
              "\n",
              "// Listen for the removal of the full notebook cells\n",
              "var notebookContainer = gd.closest('#notebook-container');\n",
              "if (notebookContainer) {{\n",
              "    x.observe(notebookContainer, {childList: true});\n",
              "}}\n",
              "\n",
              "// Listen for the clearing of the current output cell\n",
              "var outputEl = gd.closest('.output');\n",
              "if (outputEl) {{\n",
              "    x.observe(outputEl, {childList: true});\n",
              "}}\n",
              "\n",
              "                        })                };                            </script>        </div>\n",
              "</body>\n",
              "</html>"
            ]
          },
          "metadata": {},
          "output_type": "display_data"
        }
      ],
      "source": [
        "fig = px.box(data, y=\"RM\")\n",
        "fig.update_layout(width=800, height=800)\n",
        "fig.show()"
      ]
    },
    {
      "cell_type": "code",
      "execution_count": null,
      "metadata": {
        "colab": {
          "base_uri": "https://localhost:8080/"
        },
        "id": "aDLznyzmaE5T",
        "outputId": "21580c58-a2a7-446a-9f31-cd3501c9e52b"
      },
      "outputs": [
        {
          "data": {
            "text/plain": [
              "count    506.000000\n",
              "mean      22.532806\n",
              "std        9.197104\n",
              "min        5.000000\n",
              "25%       17.025000\n",
              "50%       21.200000\n",
              "75%       25.000000\n",
              "max       50.000000\n",
              "Name: MEDV, dtype: float64"
            ]
          },
          "execution_count": 23,
          "metadata": {},
          "output_type": "execute_result"
        }
      ],
      "source": [
        "#Estatistica descritiva da variável MEDV\n",
        "data.MEDV.describe()"
      ]
    },
    {
      "cell_type": "code",
      "execution_count": null,
      "metadata": {
        "colab": {
          "base_uri": "https://localhost:8080/",
          "height": 542
        },
        "id": "N_DOOjhRaaGa",
        "outputId": "5d63436c-6e3e-4855-d573-c77b94862a16"
      },
      "outputs": [
        {
          "data": {
            "text/html": [
              "<html>\n",
              "<head><meta charset=\"utf-8\" /></head>\n",
              "<body>\n",
              "    <div>            <script src=\"https://cdnjs.cloudflare.com/ajax/libs/mathjax/2.7.5/MathJax.js?config=TeX-AMS-MML_SVG\"></script><script type=\"text/javascript\">if (window.MathJax) {MathJax.Hub.Config({SVG: {font: \"STIX-Web\"}});}</script>                <script type=\"text/javascript\">window.PlotlyConfig = {MathJaxConfig: 'local'};</script>\n",
              "        <script src=\"https://cdn.plot.ly/plotly-2.8.3.min.js\"></script>                <div id=\"8f856ba8-760e-466c-b614-a5609e61c731\" class=\"plotly-graph-div\" style=\"height:525px; width:100%;\"></div>            <script type=\"text/javascript\">                                    window.PLOTLYENV=window.PLOTLYENV || {};                                    if (document.getElementById(\"8f856ba8-760e-466c-b614-a5609e61c731\")) {                    Plotly.newPlot(                        \"8f856ba8-760e-466c-b614-a5609e61c731\",                        [{\"autobinx\":false,\"histnorm\":\"probability density\",\"legendgroup\":\"distribui\\u00e7\\u00e3o da vari\\u00e1vel MEDV\",\"marker\":{\"color\":\"rgb(31, 119, 180)\"},\"name\":\"distribui\\u00e7\\u00e3o da vari\\u00e1vel MEDV\",\"opacity\":0.7,\"x\":[24.0,21.6,34.7,33.4,36.2,28.7,22.9,27.1,16.5,18.9,15.0,18.9,21.7,20.4,18.2,19.9,23.1,17.5,20.2,18.2,13.6,19.6,15.2,14.5,15.6,13.9,16.6,14.8,18.4,21.0,12.7,14.5,13.2,13.1,13.5,18.9,20.0,21.0,24.7,30.8,34.9,26.6,25.3,24.7,21.2,19.3,20.0,16.6,14.4,19.4,19.7,20.5,25.0,23.4,18.9,35.4,24.7,31.6,23.3,19.6,18.7,16.0,22.2,25.0,33.0,23.5,19.4,22.0,17.4,20.9,24.2,21.7,22.8,23.4,24.1,21.4,20.0,20.8,21.2,20.3,28.0,23.9,24.8,22.9,23.9,26.6,22.5,22.2,23.6,28.7,22.6,22.0,22.9,25.0,20.6,28.4,21.4,38.7,43.8,33.2,27.5,26.5,18.6,19.3,20.1,19.5,19.5,20.4,19.8,19.4,21.7,22.8,18.8,18.7,18.5,18.3,21.2,19.2,20.4,19.3,22.0,20.3,20.5,17.3,18.8,21.4,15.7,16.2,18.0,14.3,19.2,19.6,23.0,18.4,15.6,18.1,17.4,17.1,13.3,17.8,14.0,14.4,13.4,15.6,11.8,13.8,15.6,14.6,17.8,15.4,21.5,19.6,15.3,19.4,17.0,15.6,13.1,41.3,24.3,23.3,27.0,50.0,50.0,50.0,22.7,25.0,50.0,23.8,23.8,22.3,17.4,19.1,23.1,23.6,22.6,29.4,23.2,24.6,29.9,37.2,39.8,36.2,37.9,32.5,26.4,29.6,50.0,32.0,29.8,34.9,37.0,30.5,36.4,31.1,29.1,50.0,33.3,30.3,34.6,34.9,32.9,24.1,42.3,48.5,50.0,22.6,24.4,22.5,24.4,20.0,21.7,19.3,22.4,28.1,23.7,25.0,23.3,28.7,21.5,23.0,26.7,21.7,27.5,30.1,44.8,50.0,37.6,31.6,46.7,31.5,24.3,31.7,41.7,48.3,29.0,24.0,25.1,31.5,23.7,23.3,22.0,20.1,22.2,23.7,17.6,18.5,24.3,20.5,24.5,26.2,24.4,24.8,29.6,42.8,21.9,20.9,44.0,50.0,36.0,30.1,33.8,43.1,48.8,31.0,36.5,22.8,30.7,50.0,43.5,20.7,21.1,25.2,24.4,35.2,32.4,32.0,33.2,33.1,29.1,35.1,45.4,35.4,46.0,50.0,32.2,22.0,20.1,23.2,22.3,24.8,28.5,37.3,27.9,23.9,21.7,28.6,27.1,20.3,22.5,29.0,24.8,22.0,26.4,33.1,36.1,28.4,33.4,28.2,22.8,20.3,16.1,22.1,19.4,21.6,23.8,16.2,17.8,19.8,23.1,21.0,23.8,23.1,20.4,18.5,25.0,24.6,23.0,22.2,19.3,22.6,19.8,17.1,19.4,22.2,20.7,21.1,19.5,18.5,20.6,19.0,18.7,32.7,16.5,23.9,31.2,17.5,17.2,23.1,24.5,26.6,22.9,24.1,18.6,30.1,18.2,20.6,17.8,21.7,22.7,22.6,25.0,19.9,20.8,16.8,21.9,27.5,21.9,23.1,50.0,50.0,50.0,50.0,50.0,13.8,13.8,15.0,13.9,13.3,13.1,10.2,10.4,10.9,11.3,12.3,8.8,7.2,10.5,7.4,10.2,11.5,15.1,23.2,9.7,13.8,12.7,13.1,12.5,8.5,5.0,6.3,5.6,7.2,12.1,8.3,8.5,5.0,11.9,27.9,17.2,27.5,15.0,17.2,17.9,16.3,7.0,7.2,7.5,10.4,8.8,8.4,16.7,14.2,20.8,13.4,11.7,8.3,10.2,10.9,11.0,9.5,14.5,14.1,16.1,14.3,11.7,13.4,9.6,8.7,8.4,12.8,10.5,17.1,18.4,15.4,10.8,11.8,14.9,12.6,14.1,13.0,13.4,15.2,16.1,17.8,14.9,14.1,12.7,13.5,14.9,20.0,16.4,17.7,19.5,20.2,21.4,19.9,19.0,19.1,19.1,20.1,19.9,19.6,23.2,29.8,13.8,13.3,16.7,12.0,14.6,21.4,23.0,23.7,25.0,21.8,20.6,21.2,19.1,20.6,15.2,7.0,8.1,13.6,20.1,21.8,24.5,23.1,19.7,18.3,21.2,17.5,16.8,22.4,20.6,23.9,22.0,11.9],\"xaxis\":\"x\",\"xbins\":{\"end\":50.0,\"size\":0.2,\"start\":5.0},\"yaxis\":\"y\",\"type\":\"histogram\"},{\"legendgroup\":\"distribui\\u00e7\\u00e3o da vari\\u00e1vel MEDV\",\"marker\":{\"color\":\"rgb(31, 119, 180)\"},\"mode\":\"lines\",\"name\":\"distribui\\u00e7\\u00e3o da vari\\u00e1vel MEDV\",\"showlegend\":false,\"x\":[5.0,5.09,5.18,5.27,5.36,5.45,5.54,5.63,5.72,5.8100000000000005,5.9,5.99,6.08,6.17,6.26,6.35,6.4399999999999995,6.53,6.62,6.71,6.8,6.89,6.98,7.07,7.16,7.25,7.34,7.43,7.52,7.609999999999999,7.7,7.79,7.88,7.970000000000001,8.06,8.15,8.24,8.33,8.42,8.51,8.6,8.69,8.78,8.870000000000001,8.96,9.05,9.14,9.23,9.32,9.41,9.5,9.59,9.68,9.77,9.86,9.95,10.04,10.129999999999999,10.219999999999999,10.309999999999999,10.4,10.49,10.58,10.67,10.76,10.85,10.940000000000001,11.030000000000001,11.120000000000001,11.21,11.3,11.39,11.48,11.57,11.66,11.75,11.84,11.93,12.02,12.11,12.2,12.29,12.379999999999999,12.469999999999999,12.559999999999999,12.65,12.74,12.83,12.92,13.01,13.1,13.19,13.28,13.37,13.46,13.55,13.64,13.73,13.82,13.91,14.0,14.09,14.18,14.27,14.36,14.45,14.54,14.63,14.72,14.81,14.9,14.99,15.08,15.17,15.26,15.35,15.44,15.53,15.62,15.71,15.8,15.89,15.98,16.07,16.16,16.25,16.34,16.43,16.52,16.61,16.7,16.79,16.880000000000003,16.97,17.060000000000002,17.15,17.240000000000002,17.33,17.42,17.509999999999998,17.6,17.689999999999998,17.78,17.869999999999997,17.96,18.05,18.14,18.23,18.32,18.41,18.5,18.59,18.68,18.77,18.86,18.95,19.04,19.130000000000003,19.22,19.310000000000002,19.4,19.490000000000002,19.58,19.67,19.759999999999998,19.85,19.939999999999998,20.03,20.119999999999997,20.21,20.3,20.39,20.48,20.57,20.66,20.75,20.84,20.93,21.02,21.11,21.2,21.29,21.38,21.47,21.56,21.65,21.74,21.83,21.92,22.01,22.1,22.19,22.28,22.37,22.46,22.55,22.64,22.73,22.82,22.91,23.0,23.09,23.18,23.27,23.36,23.45,23.54,23.63,23.72,23.81,23.9,23.99,24.08,24.17,24.26,24.35,24.44,24.53,24.62,24.71,24.8,24.89,24.98,25.07,25.16,25.25,25.34,25.43,25.52,25.61,25.7,25.79,25.88,25.97,26.06,26.15,26.24,26.33,26.42,26.51,26.6,26.69,26.78,26.87,26.96,27.05,27.14,27.23,27.32,27.41,27.5,27.59,27.68,27.77,27.86,27.95,28.04,28.13,28.22,28.31,28.4,28.49,28.58,28.67,28.76,28.85,28.94,29.03,29.12,29.21,29.3,29.39,29.48,29.57,29.66,29.75,29.84,29.93,30.02,30.11,30.2,30.29,30.38,30.47,30.56,30.65,30.74,30.83,30.92,31.01,31.1,31.19,31.28,31.37,31.46,31.55,31.64,31.73,31.82,31.91,32.0,32.09,32.18,32.269999999999996,32.36,32.45,32.54,32.629999999999995,32.72,32.81,32.9,32.989999999999995,33.08,33.17,33.260000000000005,33.35,33.44,33.53,33.620000000000005,33.71,33.8,33.89,33.980000000000004,34.07,34.16,34.25,34.34,34.43,34.519999999999996,34.61,34.7,34.79,34.879999999999995,34.97,35.06,35.15,35.239999999999995,35.33,35.42,35.510000000000005,35.6,35.69,35.78,35.870000000000005,35.96,36.05,36.14,36.230000000000004,36.32,36.41,36.5,36.59,36.68,36.769999999999996,36.86,36.95,37.04,37.13,37.22,37.31,37.4,37.49,37.58,37.67,37.76,37.85,37.94,38.03,38.12,38.21,38.3,38.39,38.48,38.57,38.66,38.75,38.84,38.93,39.02,39.11,39.2,39.29,39.38,39.47,39.56,39.65,39.74,39.83,39.92,40.01,40.1,40.19,40.28,40.37,40.46,40.55,40.64,40.73,40.82,40.91,41.0,41.09,41.18,41.27,41.36,41.45,41.54,41.63,41.72,41.81,41.9,41.99,42.08,42.17,42.26,42.35,42.44,42.53,42.62,42.71,42.8,42.89,42.98,43.07,43.16,43.25,43.34,43.43,43.52,43.61,43.7,43.79,43.88,43.97,44.06,44.15,44.24,44.33,44.42,44.51,44.6,44.69,44.78,44.87,44.96,45.05,45.14,45.23,45.32,45.41,45.5,45.59,45.68,45.77,45.86,45.95,46.04,46.13,46.22,46.31,46.4,46.49,46.58,46.67,46.76,46.85,46.94,47.03,47.12,47.21,47.3,47.39,47.48,47.57,47.66,47.75,47.84,47.93,48.02,48.11,48.2,48.29,48.38,48.47,48.56,48.65,48.74,48.83,48.92,49.01,49.1,49.19,49.28,49.37,49.46,49.55,49.64,49.73,49.82,49.91],\"xaxis\":\"x\",\"y\":[0.004654501269325038,0.004817597615044198,0.0049834657544565635,0.0051520479046582475,0.0053232851656982915,0.005497117926215968,0.005673486282360313,0.005852330467446344,0.006033591289607829,0.006217210574525057,0.006403131610140187,0.006591299590125024,0.006781662052738092,0.006974169311602868,0.007168774874858018,0.0073654358490762625,0.007564113324322467,0.007764772736725352,0.007967384204972606,0.008171922837206757,0.008378369004900504,0.008586708580425371,0.008796933135197296,0.009009040095486812,0.009223032853219753,0.009438920829365958,0.009656719487817511,0.009876450297993137,0.010098140644769582,0.010321823684732315,0.010547538148154017,0.010775328086547246,0.011005242566094562,0.011237335307731253,0.011471664275139525,0.011708291212404107,0.011947281133573658,0.012188701766865824,0.01243262295674128,0.01267911602754949,0.012928253112910803,0.013180106455441461,0.0134347476818451,0.013692247058781732,0.013952672735278046,0.014216089977757095,0.014482560404036261,0.01475214122286604,0.015024884485754817,0.015300836357942998,0.015580036415450499,0.015862516975122403,0.016148302464536007,0.016437408838507403,0.016729843048745762,0.01702560257294834,0.017324675009309048,0.01762703774202902,0.017932657682970116,0.018241491094084412,0.01855348349468619,0.018868569657012366,0.019186673692845317,0.019507709233254348,0.019831579702753274,0.02015817868837777,0.02048739040336302,0.020819090244257533,0.02115314543944876,0.021489415786208898,0.02182775447250222,0.02216800897893671,0.022510022055401042,0.02285363276611116,0.02319867759600714,0.023544991610699346,0.023892409661470444,0.024240767626205046,0.024589903676548643,0.024939659561099593,0.0252898818940177,0.02564042343809789,0.02599114437111107,0.026341913524062427,0.026692609579962844,0.027043122221755325,0.02739335321818644,0.027743217436664604,0.028092643772501546,0.028441575984390215,0.028789973426529187,0.029137811668456914,0.02948508299440547,0.029831796774816868,0.030177979703579928,0.03052367589553446,0.030868946839845313,0.03121387120596135,0.031558544500035604,0.03190307857088226,0.032247600965772324,0.03259225413761326,0.0329371945063058,0.0332825913783125,0.03362862572969657,0.03397548885908214,0.03432338091814012,0.03467250932830274,0.03502308709344627,0.03537533101924407,0.03572945985077081,0.03608569234072596,0.03644424526133055,0.03680533137353091,0.03716915736760752,0.03753592178963434,0.037905812968458165,0.038279006957966356,0.03865566550938418,0.03903593408818899,0.039419939949948996,0.03980779028899273,0.040199570473293075,0.04059534237831531,0.040995142831834336,0.04139898218088273,0.04180684299105441,0.04221867888736954,0.04263441354481393,0.043053939835511854,0.04347711913828688,0.04390378081512241,0.04433372185776501,0.04476670670643175,0.045202467241301024,0.04564070294619594,0.04608108124262534,0.04652323799113852,0.046966778155791915,0.04741127662642518,0.04785627919241638,0.04830130366063461,0.04874584110944799,0.04918935726987702,0.049631294024319775,0.05007107101271485,0.050508087335561135,0.050941723342875715,0.05137134249794873,0.05179629330464328,0.05221591128698893,0.05262952100992509,0.053036438130262084,0.05343597146723625,0.05382742508243403,0.05421010035934257,0.054583298073338844,0.054946320443549454,0.05529847315868522,0.05563906736967126,0.05596742164263799,0.056282863866606955,0.05658473311097677,0.056872381428686926,0.057145175601690516,0.05740249882609756,0.05764375233504214,0.057868356957974314,0.058075754615668905,0.05826540975077385,0.05843681069417984,0.05858947096787978,0.05872293052529272,0.058836756930251935,0.05893054647599934,0.05900392524558659,0.05905655011506041,0.059088109700707526,0.059098325251457355,0.05908695148729415,0.059053777384220726,0.05899862690595083,0.05892135968209627,0.05882187163216685,0.058700095534225734,0.058556001536552924,0.05838959761017407,0.05820092993962313,0.057990083248838156,0.05775718105864779,0.05750238587190758,0.057225899281994674,0.05692796200008272,0.05660885379639917,0.056268893350527004,0.055908438005756046,0.055527883422522635,0.055127663126104245,0.05470824794396008,0.05427014532843197,0.05381389856094083,0.05334008583433104,0.05284931921062629,0.05234224345215844,0.05181953472481193,0.05128189917298199,0.050730071366764974,0.05016481262287663,0.04958690920181418,0.04899717038483335,0.04839642643538403,0.047785526450730594,0.04716533611055688,0.04653673533041089,0.045900615828865135,0.045257878618242264,0.04460943142967107,0.043956186084078266,0.043299055821480845,0.04263895260160662,0.04197678438943073,0.041313452439662716,0.040649848594546734,0.03998685260954013,0.039325329521509626,0.038666127074026044,0.03801007321414866,0.03735797367476759,0.036710609656121114,0.03606873561952747,0.03543307720567256,0.03480432928898399,0.034183154178704565,0.03357017997626593,0.03296599909746401,0.03237116696676503,0.03178620088983596,0.031211579109108913,0.03064774004586839,0.030095081731008347,0.029553961425253444,0.029024695428294053,0.0285075590749554,0.02800278691522534,0.027510573073712925,0.027031071782913065,0.02656439808352293,0.026110628684002834,0.025669802970607076,0.025241924158237096,0.024826960571695963,0.02442484704625614,0.024035486435894718,0.02365875121710536,0.023294485175865253,0.022942505165118046,0.02260260292003011,0.02227454691828367,0.021958084272784086,0.02165294264437475,0.02135883216246584,0.02107544734188699,0.02080246898476052,0.020539566056754256,0.02028639752770218,0.0200426141672686,0.019807860287068386,0.019581775421432145,0.019363995939812507,0.019154156584656468,0.018951891929409315,0.01875683775216098,0.01856863232128512,0.018386917590249154,0.018211340299581127,0.018041552984760338,0.01787721488954749,0.01771799278498073,0.017563561694932266,0.017413605529742228,0.01726781763001874,0.017125901223214213,0.016987569796054904,0.016852547386314053,0.0167205687977774,0.01659137974255436,0.0164647369151394,0.016340408002827832,0.016218171637240403,0.016097817291813508,0.01597914513017024,0.015861965810303857,0.015746100249483527,0.015631379354734957,0.015517643723660204,0.015404743320243818,0.015292537130150871,0.01518089279985917,0.015069686263786559,0.014958801363377211,0.014848129461901954,0.014737569058508608,0.014627025404832057,0.01451641012724237,0.014405640857574661,0.014294640874947823,0.0141833387610427,0.014071668070974748,0.013959567021662345,0.013846978199360668,0.01373384828780327,0.013620127818168909,0.013505770941871057,0.013390735226950773,0.013274981478641557,0.01315847358446701,0.013041178384028369,0.012923065563439766,0.012804107574174467,0.01268427957589498,0.012563559402654967,0.012441927551680545,0.012319367193764195,0.012195864204135686,0.01207140721251294,0.011945987670880802,0.01181959993739969,0.011692241374708107,0.011563912460756259,0.011434616910190884,0.011304361804207498,0.011173157726694385,0.011041018904416089,0.010907963348921669,0.010774012997817838,0.010639193853018002,0.010503536113568274,0.010367074300659381,0.010229847372461194,0.010091898826463575,0.009953276787075022,0.009814034076317429,0.009674228265563077,0.009533921706386424,0.009393181538749532,0.00925207967490378,0.00911069275757237,0.008969102091175109,0.008827393545069551,0.008685657428007343,0.008543988333241647,0.008402484953966845,0.008261249869025392,0.008120389299074673,0.007980012833668426,0.007840233129968547,0.007701165584063644,0.0075629279761259835,0.007425640090888427,0.007289423315162497,0.007154400214349013,0.007020694090107741,0.0068884285215542185,0.006757726892534536,0.006628711907694289,0.006501505100201213,0.006376226334104101,0.006252993304408973,0.006131921038029677,0.006013121398819861,0.00589670259991964,0.005782768726649606,0.005671419273160318,0.005562748695994227,0.00545684598764251,0.005353794273079136,0.0052536704321326875,0.005156544750410869,0.005062480601327162,0.00497153416159351,0.004883754162338823,0.00479918167779341,0.0047178499532438975,0.0046397842737157646,0.004565001874581145,0.00449351189502205,0.004425315375003455,0.004360405296131013,0.004298766666484288,0.0042403766492324245,0.004185204734555056,0.004133212954110686,0.004084356137017982,0.0040385822060455805,0.00399583251244343,0.003956042207596329,0.003919140649438234,0.003885051841336871,0.0038536949009420874,0.003824984556290687,0.003798831666274975,0.0037751437624139943,0.0037538256087152034,0.003734779776281728,0.003717907229206214,0.003703107918197624,0.003690281378312278,0.003679327327105297,0.0036701462594837006,0.0036626400355277253,0.0036567124575525916,0.00365226983270892,0.003649221517466157,0.003647480440389579,0.003646963599707564,0.003647592532271457,0.0036492937506353174,0.0036519991451267764,0.003655646347942616,0.0036601790564832833,0.003665547313338663,0.0036717077405527283,0.003678623726026392,0.003686265560165538,0.003694610521143963,0.003703642907428228,0.0037133540165021355,0.0037237420690320903,0.003734812078029714,0.003746575662893855,0.003759050808549264,0.003772261570242496,0.003786237724905498,0.0038010143703524316,0.0038166314739338006,0.003833133372632175,0.003850568226943635,0.0038689874312466477,0.003888444983712959,0.003908996819161093,0.003930700108589562,0.003953612529451496,0.0039777915110421015,0.004003293459662859,0.004030172968498134,0.004058482017388864,0.00408826916791036,0.004119578759355016,0.004152450111382194,0.004186916739224661,0.004223005587430472,0.004260736288169009,0.004300120450137372,0.004341160984066785,0.004383851470745662,0.004428175577345986,0.004474106527660266,0.004521606631628286,0.00457062687925432,0.004621106603688097,0.004672973217865855,0.004726142028683729,0.004780516132204985,0.004835986392888756,0.004892431509272383,0.004949718167947056,0.00500770128703946,0.005066224349756725,0.005125119827871296,0.005184209694323432,0.005243306023406152,0.005302211676278269,0.005360721068830642,0.005418621018217207,0.005475691663661123,0.005531707456466072,0.005586438213508803,0.005639650227870069,0.005691107429682576,0.005740572589743962,0.005787808557966347,0.005832579528316927,0.00587465232155284,0.005913797676771873,0.005949791542593686,0.005982416358656668,0.006011462318066907,0.006036728601469094,0.006058024573526216,0.006075170932795196,0.00608800080626893,0.006096360780219075,0.006100111859416672,0.0060991303473248,0.00609330864044536,0.00608255593065487,0.006066798810076303,0.006045981773798579,0.00602006761656481,0.005989037720397379],\"yaxis\":\"y\",\"type\":\"scatter\"},{\"legendgroup\":\"distribui\\u00e7\\u00e3o da vari\\u00e1vel MEDV\",\"marker\":{\"color\":\"rgb(31, 119, 180)\",\"symbol\":\"line-ns-open\"},\"mode\":\"markers\",\"name\":\"distribui\\u00e7\\u00e3o da vari\\u00e1vel MEDV\",\"showlegend\":false,\"x\":[24.0,21.6,34.7,33.4,36.2,28.7,22.9,27.1,16.5,18.9,15.0,18.9,21.7,20.4,18.2,19.9,23.1,17.5,20.2,18.2,13.6,19.6,15.2,14.5,15.6,13.9,16.6,14.8,18.4,21.0,12.7,14.5,13.2,13.1,13.5,18.9,20.0,21.0,24.7,30.8,34.9,26.6,25.3,24.7,21.2,19.3,20.0,16.6,14.4,19.4,19.7,20.5,25.0,23.4,18.9,35.4,24.7,31.6,23.3,19.6,18.7,16.0,22.2,25.0,33.0,23.5,19.4,22.0,17.4,20.9,24.2,21.7,22.8,23.4,24.1,21.4,20.0,20.8,21.2,20.3,28.0,23.9,24.8,22.9,23.9,26.6,22.5,22.2,23.6,28.7,22.6,22.0,22.9,25.0,20.6,28.4,21.4,38.7,43.8,33.2,27.5,26.5,18.6,19.3,20.1,19.5,19.5,20.4,19.8,19.4,21.7,22.8,18.8,18.7,18.5,18.3,21.2,19.2,20.4,19.3,22.0,20.3,20.5,17.3,18.8,21.4,15.7,16.2,18.0,14.3,19.2,19.6,23.0,18.4,15.6,18.1,17.4,17.1,13.3,17.8,14.0,14.4,13.4,15.6,11.8,13.8,15.6,14.6,17.8,15.4,21.5,19.6,15.3,19.4,17.0,15.6,13.1,41.3,24.3,23.3,27.0,50.0,50.0,50.0,22.7,25.0,50.0,23.8,23.8,22.3,17.4,19.1,23.1,23.6,22.6,29.4,23.2,24.6,29.9,37.2,39.8,36.2,37.9,32.5,26.4,29.6,50.0,32.0,29.8,34.9,37.0,30.5,36.4,31.1,29.1,50.0,33.3,30.3,34.6,34.9,32.9,24.1,42.3,48.5,50.0,22.6,24.4,22.5,24.4,20.0,21.7,19.3,22.4,28.1,23.7,25.0,23.3,28.7,21.5,23.0,26.7,21.7,27.5,30.1,44.8,50.0,37.6,31.6,46.7,31.5,24.3,31.7,41.7,48.3,29.0,24.0,25.1,31.5,23.7,23.3,22.0,20.1,22.2,23.7,17.6,18.5,24.3,20.5,24.5,26.2,24.4,24.8,29.6,42.8,21.9,20.9,44.0,50.0,36.0,30.1,33.8,43.1,48.8,31.0,36.5,22.8,30.7,50.0,43.5,20.7,21.1,25.2,24.4,35.2,32.4,32.0,33.2,33.1,29.1,35.1,45.4,35.4,46.0,50.0,32.2,22.0,20.1,23.2,22.3,24.8,28.5,37.3,27.9,23.9,21.7,28.6,27.1,20.3,22.5,29.0,24.8,22.0,26.4,33.1,36.1,28.4,33.4,28.2,22.8,20.3,16.1,22.1,19.4,21.6,23.8,16.2,17.8,19.8,23.1,21.0,23.8,23.1,20.4,18.5,25.0,24.6,23.0,22.2,19.3,22.6,19.8,17.1,19.4,22.2,20.7,21.1,19.5,18.5,20.6,19.0,18.7,32.7,16.5,23.9,31.2,17.5,17.2,23.1,24.5,26.6,22.9,24.1,18.6,30.1,18.2,20.6,17.8,21.7,22.7,22.6,25.0,19.9,20.8,16.8,21.9,27.5,21.9,23.1,50.0,50.0,50.0,50.0,50.0,13.8,13.8,15.0,13.9,13.3,13.1,10.2,10.4,10.9,11.3,12.3,8.8,7.2,10.5,7.4,10.2,11.5,15.1,23.2,9.7,13.8,12.7,13.1,12.5,8.5,5.0,6.3,5.6,7.2,12.1,8.3,8.5,5.0,11.9,27.9,17.2,27.5,15.0,17.2,17.9,16.3,7.0,7.2,7.5,10.4,8.8,8.4,16.7,14.2,20.8,13.4,11.7,8.3,10.2,10.9,11.0,9.5,14.5,14.1,16.1,14.3,11.7,13.4,9.6,8.7,8.4,12.8,10.5,17.1,18.4,15.4,10.8,11.8,14.9,12.6,14.1,13.0,13.4,15.2,16.1,17.8,14.9,14.1,12.7,13.5,14.9,20.0,16.4,17.7,19.5,20.2,21.4,19.9,19.0,19.1,19.1,20.1,19.9,19.6,23.2,29.8,13.8,13.3,16.7,12.0,14.6,21.4,23.0,23.7,25.0,21.8,20.6,21.2,19.1,20.6,15.2,7.0,8.1,13.6,20.1,21.8,24.5,23.1,19.7,18.3,21.2,17.5,16.8,22.4,20.6,23.9,22.0,11.9],\"xaxis\":\"x\",\"y\":[\"distribui\\u00e7\\u00e3o da vari\\u00e1vel MEDV\",\"distribui\\u00e7\\u00e3o da vari\\u00e1vel MEDV\",\"distribui\\u00e7\\u00e3o da vari\\u00e1vel MEDV\",\"distribui\\u00e7\\u00e3o da vari\\u00e1vel MEDV\",\"distribui\\u00e7\\u00e3o da vari\\u00e1vel MEDV\",\"distribui\\u00e7\\u00e3o da vari\\u00e1vel MEDV\",\"distribui\\u00e7\\u00e3o da vari\\u00e1vel MEDV\",\"distribui\\u00e7\\u00e3o da vari\\u00e1vel MEDV\",\"distribui\\u00e7\\u00e3o da vari\\u00e1vel MEDV\",\"distribui\\u00e7\\u00e3o da vari\\u00e1vel MEDV\",\"distribui\\u00e7\\u00e3o da vari\\u00e1vel MEDV\",\"distribui\\u00e7\\u00e3o da vari\\u00e1vel MEDV\",\"distribui\\u00e7\\u00e3o da vari\\u00e1vel MEDV\",\"distribui\\u00e7\\u00e3o da vari\\u00e1vel MEDV\",\"distribui\\u00e7\\u00e3o da vari\\u00e1vel MEDV\",\"distribui\\u00e7\\u00e3o da vari\\u00e1vel MEDV\",\"distribui\\u00e7\\u00e3o da vari\\u00e1vel MEDV\",\"distribui\\u00e7\\u00e3o da vari\\u00e1vel MEDV\",\"distribui\\u00e7\\u00e3o da vari\\u00e1vel MEDV\",\"distribui\\u00e7\\u00e3o da vari\\u00e1vel MEDV\",\"distribui\\u00e7\\u00e3o da vari\\u00e1vel MEDV\",\"distribui\\u00e7\\u00e3o da vari\\u00e1vel MEDV\",\"distribui\\u00e7\\u00e3o da vari\\u00e1vel MEDV\",\"distribui\\u00e7\\u00e3o da vari\\u00e1vel MEDV\",\"distribui\\u00e7\\u00e3o da vari\\u00e1vel MEDV\",\"distribui\\u00e7\\u00e3o da vari\\u00e1vel MEDV\",\"distribui\\u00e7\\u00e3o da vari\\u00e1vel MEDV\",\"distribui\\u00e7\\u00e3o da vari\\u00e1vel MEDV\",\"distribui\\u00e7\\u00e3o da vari\\u00e1vel MEDV\",\"distribui\\u00e7\\u00e3o da vari\\u00e1vel MEDV\",\"distribui\\u00e7\\u00e3o da vari\\u00e1vel MEDV\",\"distribui\\u00e7\\u00e3o da vari\\u00e1vel MEDV\",\"distribui\\u00e7\\u00e3o da vari\\u00e1vel MEDV\",\"distribui\\u00e7\\u00e3o da vari\\u00e1vel MEDV\",\"distribui\\u00e7\\u00e3o da vari\\u00e1vel MEDV\",\"distribui\\u00e7\\u00e3o da vari\\u00e1vel MEDV\",\"distribui\\u00e7\\u00e3o da vari\\u00e1vel MEDV\",\"distribui\\u00e7\\u00e3o da vari\\u00e1vel MEDV\",\"distribui\\u00e7\\u00e3o da vari\\u00e1vel MEDV\",\"distribui\\u00e7\\u00e3o da vari\\u00e1vel MEDV\",\"distribui\\u00e7\\u00e3o da vari\\u00e1vel MEDV\",\"distribui\\u00e7\\u00e3o da vari\\u00e1vel MEDV\",\"distribui\\u00e7\\u00e3o da vari\\u00e1vel MEDV\",\"distribui\\u00e7\\u00e3o da vari\\u00e1vel MEDV\",\"distribui\\u00e7\\u00e3o da vari\\u00e1vel MEDV\",\"distribui\\u00e7\\u00e3o da vari\\u00e1vel MEDV\",\"distribui\\u00e7\\u00e3o da vari\\u00e1vel MEDV\",\"distribui\\u00e7\\u00e3o da vari\\u00e1vel MEDV\",\"distribui\\u00e7\\u00e3o da vari\\u00e1vel MEDV\",\"distribui\\u00e7\\u00e3o da vari\\u00e1vel MEDV\",\"distribui\\u00e7\\u00e3o da vari\\u00e1vel MEDV\",\"distribui\\u00e7\\u00e3o da vari\\u00e1vel MEDV\",\"distribui\\u00e7\\u00e3o da vari\\u00e1vel MEDV\",\"distribui\\u00e7\\u00e3o da vari\\u00e1vel MEDV\",\"distribui\\u00e7\\u00e3o da vari\\u00e1vel MEDV\",\"distribui\\u00e7\\u00e3o da vari\\u00e1vel MEDV\",\"distribui\\u00e7\\u00e3o da vari\\u00e1vel MEDV\",\"distribui\\u00e7\\u00e3o da vari\\u00e1vel MEDV\",\"distribui\\u00e7\\u00e3o da vari\\u00e1vel MEDV\",\"distribui\\u00e7\\u00e3o da vari\\u00e1vel MEDV\",\"distribui\\u00e7\\u00e3o da vari\\u00e1vel MEDV\",\"distribui\\u00e7\\u00e3o da vari\\u00e1vel MEDV\",\"distribui\\u00e7\\u00e3o da vari\\u00e1vel MEDV\",\"distribui\\u00e7\\u00e3o da vari\\u00e1vel MEDV\",\"distribui\\u00e7\\u00e3o da vari\\u00e1vel MEDV\",\"distribui\\u00e7\\u00e3o da vari\\u00e1vel MEDV\",\"distribui\\u00e7\\u00e3o da vari\\u00e1vel MEDV\",\"distribui\\u00e7\\u00e3o da vari\\u00e1vel MEDV\",\"distribui\\u00e7\\u00e3o da vari\\u00e1vel MEDV\",\"distribui\\u00e7\\u00e3o da vari\\u00e1vel MEDV\",\"distribui\\u00e7\\u00e3o da vari\\u00e1vel MEDV\",\"distribui\\u00e7\\u00e3o da vari\\u00e1vel MEDV\",\"distribui\\u00e7\\u00e3o da vari\\u00e1vel MEDV\",\"distribui\\u00e7\\u00e3o da vari\\u00e1vel MEDV\",\"distribui\\u00e7\\u00e3o da vari\\u00e1vel MEDV\",\"distribui\\u00e7\\u00e3o da vari\\u00e1vel MEDV\",\"distribui\\u00e7\\u00e3o da vari\\u00e1vel MEDV\",\"distribui\\u00e7\\u00e3o da vari\\u00e1vel MEDV\",\"distribui\\u00e7\\u00e3o da vari\\u00e1vel MEDV\",\"distribui\\u00e7\\u00e3o da vari\\u00e1vel MEDV\",\"distribui\\u00e7\\u00e3o da vari\\u00e1vel MEDV\",\"distribui\\u00e7\\u00e3o da vari\\u00e1vel MEDV\",\"distribui\\u00e7\\u00e3o da vari\\u00e1vel MEDV\",\"distribui\\u00e7\\u00e3o da vari\\u00e1vel MEDV\",\"distribui\\u00e7\\u00e3o da vari\\u00e1vel MEDV\",\"distribui\\u00e7\\u00e3o da vari\\u00e1vel MEDV\",\"distribui\\u00e7\\u00e3o da vari\\u00e1vel MEDV\",\"distribui\\u00e7\\u00e3o da vari\\u00e1vel MEDV\",\"distribui\\u00e7\\u00e3o da vari\\u00e1vel MEDV\",\"distribui\\u00e7\\u00e3o da vari\\u00e1vel MEDV\",\"distribui\\u00e7\\u00e3o da vari\\u00e1vel MEDV\",\"distribui\\u00e7\\u00e3o da vari\\u00e1vel MEDV\",\"distribui\\u00e7\\u00e3o da vari\\u00e1vel MEDV\",\"distribui\\u00e7\\u00e3o da vari\\u00e1vel MEDV\",\"distribui\\u00e7\\u00e3o da vari\\u00e1vel MEDV\",\"distribui\\u00e7\\u00e3o da vari\\u00e1vel MEDV\",\"distribui\\u00e7\\u00e3o da vari\\u00e1vel MEDV\",\"distribui\\u00e7\\u00e3o da vari\\u00e1vel MEDV\",\"distribui\\u00e7\\u00e3o da vari\\u00e1vel MEDV\",\"distribui\\u00e7\\u00e3o da vari\\u00e1vel MEDV\",\"distribui\\u00e7\\u00e3o da vari\\u00e1vel MEDV\",\"distribui\\u00e7\\u00e3o da vari\\u00e1vel MEDV\",\"distribui\\u00e7\\u00e3o da vari\\u00e1vel MEDV\",\"distribui\\u00e7\\u00e3o da vari\\u00e1vel MEDV\",\"distribui\\u00e7\\u00e3o da vari\\u00e1vel MEDV\",\"distribui\\u00e7\\u00e3o da vari\\u00e1vel MEDV\",\"distribui\\u00e7\\u00e3o da vari\\u00e1vel MEDV\",\"distribui\\u00e7\\u00e3o da vari\\u00e1vel MEDV\",\"distribui\\u00e7\\u00e3o da vari\\u00e1vel MEDV\",\"distribui\\u00e7\\u00e3o da vari\\u00e1vel MEDV\",\"distribui\\u00e7\\u00e3o da vari\\u00e1vel MEDV\",\"distribui\\u00e7\\u00e3o da vari\\u00e1vel MEDV\",\"distribui\\u00e7\\u00e3o da vari\\u00e1vel MEDV\",\"distribui\\u00e7\\u00e3o da vari\\u00e1vel MEDV\",\"distribui\\u00e7\\u00e3o da vari\\u00e1vel MEDV\",\"distribui\\u00e7\\u00e3o da vari\\u00e1vel MEDV\",\"distribui\\u00e7\\u00e3o da vari\\u00e1vel MEDV\",\"distribui\\u00e7\\u00e3o da vari\\u00e1vel MEDV\",\"distribui\\u00e7\\u00e3o da vari\\u00e1vel MEDV\",\"distribui\\u00e7\\u00e3o da vari\\u00e1vel MEDV\",\"distribui\\u00e7\\u00e3o da vari\\u00e1vel MEDV\",\"distribui\\u00e7\\u00e3o da vari\\u00e1vel MEDV\",\"distribui\\u00e7\\u00e3o da vari\\u00e1vel MEDV\",\"distribui\\u00e7\\u00e3o da vari\\u00e1vel MEDV\",\"distribui\\u00e7\\u00e3o da vari\\u00e1vel MEDV\",\"distribui\\u00e7\\u00e3o da vari\\u00e1vel MEDV\",\"distribui\\u00e7\\u00e3o da vari\\u00e1vel MEDV\",\"distribui\\u00e7\\u00e3o da vari\\u00e1vel MEDV\",\"distribui\\u00e7\\u00e3o da vari\\u00e1vel MEDV\",\"distribui\\u00e7\\u00e3o da vari\\u00e1vel MEDV\",\"distribui\\u00e7\\u00e3o da vari\\u00e1vel MEDV\",\"distribui\\u00e7\\u00e3o da vari\\u00e1vel MEDV\",\"distribui\\u00e7\\u00e3o da vari\\u00e1vel MEDV\",\"distribui\\u00e7\\u00e3o da vari\\u00e1vel MEDV\",\"distribui\\u00e7\\u00e3o da vari\\u00e1vel MEDV\",\"distribui\\u00e7\\u00e3o da vari\\u00e1vel MEDV\",\"distribui\\u00e7\\u00e3o da vari\\u00e1vel MEDV\",\"distribui\\u00e7\\u00e3o da vari\\u00e1vel MEDV\",\"distribui\\u00e7\\u00e3o da vari\\u00e1vel MEDV\",\"distribui\\u00e7\\u00e3o da vari\\u00e1vel MEDV\",\"distribui\\u00e7\\u00e3o da vari\\u00e1vel MEDV\",\"distribui\\u00e7\\u00e3o da vari\\u00e1vel MEDV\",\"distribui\\u00e7\\u00e3o da vari\\u00e1vel MEDV\",\"distribui\\u00e7\\u00e3o da vari\\u00e1vel MEDV\",\"distribui\\u00e7\\u00e3o da vari\\u00e1vel MEDV\",\"distribui\\u00e7\\u00e3o da vari\\u00e1vel MEDV\",\"distribui\\u00e7\\u00e3o da vari\\u00e1vel MEDV\",\"distribui\\u00e7\\u00e3o da vari\\u00e1vel MEDV\",\"distribui\\u00e7\\u00e3o da vari\\u00e1vel MEDV\",\"distribui\\u00e7\\u00e3o da vari\\u00e1vel MEDV\",\"distribui\\u00e7\\u00e3o da vari\\u00e1vel MEDV\",\"distribui\\u00e7\\u00e3o da vari\\u00e1vel MEDV\",\"distribui\\u00e7\\u00e3o da vari\\u00e1vel MEDV\",\"distribui\\u00e7\\u00e3o da vari\\u00e1vel MEDV\",\"distribui\\u00e7\\u00e3o da vari\\u00e1vel MEDV\",\"distribui\\u00e7\\u00e3o da vari\\u00e1vel MEDV\",\"distribui\\u00e7\\u00e3o da vari\\u00e1vel MEDV\",\"distribui\\u00e7\\u00e3o da vari\\u00e1vel MEDV\",\"distribui\\u00e7\\u00e3o da vari\\u00e1vel MEDV\",\"distribui\\u00e7\\u00e3o da vari\\u00e1vel MEDV\",\"distribui\\u00e7\\u00e3o da vari\\u00e1vel MEDV\",\"distribui\\u00e7\\u00e3o da vari\\u00e1vel MEDV\",\"distribui\\u00e7\\u00e3o da vari\\u00e1vel MEDV\",\"distribui\\u00e7\\u00e3o da vari\\u00e1vel MEDV\",\"distribui\\u00e7\\u00e3o da vari\\u00e1vel MEDV\",\"distribui\\u00e7\\u00e3o da vari\\u00e1vel MEDV\",\"distribui\\u00e7\\u00e3o da vari\\u00e1vel MEDV\",\"distribui\\u00e7\\u00e3o da vari\\u00e1vel MEDV\",\"distribui\\u00e7\\u00e3o da vari\\u00e1vel MEDV\",\"distribui\\u00e7\\u00e3o da vari\\u00e1vel MEDV\",\"distribui\\u00e7\\u00e3o da vari\\u00e1vel MEDV\",\"distribui\\u00e7\\u00e3o da vari\\u00e1vel MEDV\",\"distribui\\u00e7\\u00e3o da vari\\u00e1vel MEDV\",\"distribui\\u00e7\\u00e3o da vari\\u00e1vel MEDV\",\"distribui\\u00e7\\u00e3o da vari\\u00e1vel MEDV\",\"distribui\\u00e7\\u00e3o da vari\\u00e1vel MEDV\",\"distribui\\u00e7\\u00e3o da vari\\u00e1vel MEDV\",\"distribui\\u00e7\\u00e3o da vari\\u00e1vel MEDV\",\"distribui\\u00e7\\u00e3o da vari\\u00e1vel MEDV\",\"distribui\\u00e7\\u00e3o da vari\\u00e1vel MEDV\",\"distribui\\u00e7\\u00e3o da vari\\u00e1vel MEDV\",\"distribui\\u00e7\\u00e3o da vari\\u00e1vel MEDV\",\"distribui\\u00e7\\u00e3o da vari\\u00e1vel MEDV\",\"distribui\\u00e7\\u00e3o da vari\\u00e1vel MEDV\",\"distribui\\u00e7\\u00e3o da vari\\u00e1vel MEDV\",\"distribui\\u00e7\\u00e3o da vari\\u00e1vel MEDV\",\"distribui\\u00e7\\u00e3o da vari\\u00e1vel MEDV\",\"distribui\\u00e7\\u00e3o da vari\\u00e1vel MEDV\",\"distribui\\u00e7\\u00e3o da vari\\u00e1vel MEDV\",\"distribui\\u00e7\\u00e3o da vari\\u00e1vel MEDV\",\"distribui\\u00e7\\u00e3o da vari\\u00e1vel MEDV\",\"distribui\\u00e7\\u00e3o da vari\\u00e1vel MEDV\",\"distribui\\u00e7\\u00e3o da vari\\u00e1vel MEDV\",\"distribui\\u00e7\\u00e3o da vari\\u00e1vel MEDV\",\"distribui\\u00e7\\u00e3o da vari\\u00e1vel MEDV\",\"distribui\\u00e7\\u00e3o da vari\\u00e1vel MEDV\",\"distribui\\u00e7\\u00e3o da vari\\u00e1vel MEDV\",\"distribui\\u00e7\\u00e3o da vari\\u00e1vel MEDV\",\"distribui\\u00e7\\u00e3o da vari\\u00e1vel MEDV\",\"distribui\\u00e7\\u00e3o da vari\\u00e1vel MEDV\",\"distribui\\u00e7\\u00e3o da vari\\u00e1vel MEDV\",\"distribui\\u00e7\\u00e3o da vari\\u00e1vel MEDV\",\"distribui\\u00e7\\u00e3o da vari\\u00e1vel MEDV\",\"distribui\\u00e7\\u00e3o da vari\\u00e1vel MEDV\",\"distribui\\u00e7\\u00e3o da vari\\u00e1vel MEDV\",\"distribui\\u00e7\\u00e3o da vari\\u00e1vel MEDV\",\"distribui\\u00e7\\u00e3o da vari\\u00e1vel MEDV\",\"distribui\\u00e7\\u00e3o da vari\\u00e1vel MEDV\",\"distribui\\u00e7\\u00e3o da vari\\u00e1vel MEDV\",\"distribui\\u00e7\\u00e3o da vari\\u00e1vel MEDV\",\"distribui\\u00e7\\u00e3o da vari\\u00e1vel MEDV\",\"distribui\\u00e7\\u00e3o da vari\\u00e1vel MEDV\",\"distribui\\u00e7\\u00e3o da vari\\u00e1vel MEDV\",\"distribui\\u00e7\\u00e3o da vari\\u00e1vel MEDV\",\"distribui\\u00e7\\u00e3o da vari\\u00e1vel MEDV\",\"distribui\\u00e7\\u00e3o da vari\\u00e1vel MEDV\",\"distribui\\u00e7\\u00e3o da vari\\u00e1vel MEDV\",\"distribui\\u00e7\\u00e3o da vari\\u00e1vel MEDV\",\"distribui\\u00e7\\u00e3o da vari\\u00e1vel MEDV\",\"distribui\\u00e7\\u00e3o da vari\\u00e1vel MEDV\",\"distribui\\u00e7\\u00e3o da vari\\u00e1vel MEDV\",\"distribui\\u00e7\\u00e3o da vari\\u00e1vel MEDV\",\"distribui\\u00e7\\u00e3o da vari\\u00e1vel MEDV\",\"distribui\\u00e7\\u00e3o da vari\\u00e1vel MEDV\",\"distribui\\u00e7\\u00e3o da vari\\u00e1vel MEDV\",\"distribui\\u00e7\\u00e3o da vari\\u00e1vel MEDV\",\"distribui\\u00e7\\u00e3o da vari\\u00e1vel MEDV\",\"distribui\\u00e7\\u00e3o da vari\\u00e1vel MEDV\",\"distribui\\u00e7\\u00e3o da vari\\u00e1vel MEDV\",\"distribui\\u00e7\\u00e3o da vari\\u00e1vel MEDV\",\"distribui\\u00e7\\u00e3o da vari\\u00e1vel MEDV\",\"distribui\\u00e7\\u00e3o da vari\\u00e1vel MEDV\",\"distribui\\u00e7\\u00e3o da vari\\u00e1vel MEDV\",\"distribui\\u00e7\\u00e3o da vari\\u00e1vel MEDV\",\"distribui\\u00e7\\u00e3o da vari\\u00e1vel MEDV\",\"distribui\\u00e7\\u00e3o da vari\\u00e1vel MEDV\",\"distribui\\u00e7\\u00e3o da vari\\u00e1vel MEDV\",\"distribui\\u00e7\\u00e3o da vari\\u00e1vel MEDV\",\"distribui\\u00e7\\u00e3o da vari\\u00e1vel MEDV\",\"distribui\\u00e7\\u00e3o da vari\\u00e1vel MEDV\",\"distribui\\u00e7\\u00e3o da vari\\u00e1vel MEDV\",\"distribui\\u00e7\\u00e3o da vari\\u00e1vel MEDV\",\"distribui\\u00e7\\u00e3o da vari\\u00e1vel MEDV\",\"distribui\\u00e7\\u00e3o da vari\\u00e1vel MEDV\",\"distribui\\u00e7\\u00e3o da vari\\u00e1vel MEDV\",\"distribui\\u00e7\\u00e3o da vari\\u00e1vel MEDV\",\"distribui\\u00e7\\u00e3o da vari\\u00e1vel MEDV\",\"distribui\\u00e7\\u00e3o da vari\\u00e1vel MEDV\",\"distribui\\u00e7\\u00e3o da vari\\u00e1vel MEDV\",\"distribui\\u00e7\\u00e3o da vari\\u00e1vel MEDV\",\"distribui\\u00e7\\u00e3o da vari\\u00e1vel MEDV\",\"distribui\\u00e7\\u00e3o da vari\\u00e1vel MEDV\",\"distribui\\u00e7\\u00e3o da vari\\u00e1vel MEDV\",\"distribui\\u00e7\\u00e3o da vari\\u00e1vel MEDV\",\"distribui\\u00e7\\u00e3o da vari\\u00e1vel MEDV\",\"distribui\\u00e7\\u00e3o da vari\\u00e1vel MEDV\",\"distribui\\u00e7\\u00e3o da vari\\u00e1vel MEDV\",\"distribui\\u00e7\\u00e3o da vari\\u00e1vel MEDV\",\"distribui\\u00e7\\u00e3o da vari\\u00e1vel MEDV\",\"distribui\\u00e7\\u00e3o da vari\\u00e1vel MEDV\",\"distribui\\u00e7\\u00e3o da vari\\u00e1vel MEDV\",\"distribui\\u00e7\\u00e3o da vari\\u00e1vel MEDV\",\"distribui\\u00e7\\u00e3o da vari\\u00e1vel MEDV\",\"distribui\\u00e7\\u00e3o da vari\\u00e1vel MEDV\",\"distribui\\u00e7\\u00e3o da vari\\u00e1vel MEDV\",\"distribui\\u00e7\\u00e3o da vari\\u00e1vel MEDV\",\"distribui\\u00e7\\u00e3o da vari\\u00e1vel MEDV\",\"distribui\\u00e7\\u00e3o da vari\\u00e1vel MEDV\",\"distribui\\u00e7\\u00e3o da vari\\u00e1vel MEDV\",\"distribui\\u00e7\\u00e3o da vari\\u00e1vel MEDV\",\"distribui\\u00e7\\u00e3o da vari\\u00e1vel MEDV\",\"distribui\\u00e7\\u00e3o da vari\\u00e1vel MEDV\",\"distribui\\u00e7\\u00e3o da vari\\u00e1vel MEDV\",\"distribui\\u00e7\\u00e3o da vari\\u00e1vel MEDV\",\"distribui\\u00e7\\u00e3o da vari\\u00e1vel MEDV\",\"distribui\\u00e7\\u00e3o da vari\\u00e1vel MEDV\",\"distribui\\u00e7\\u00e3o da vari\\u00e1vel MEDV\",\"distribui\\u00e7\\u00e3o da vari\\u00e1vel MEDV\",\"distribui\\u00e7\\u00e3o da vari\\u00e1vel MEDV\",\"distribui\\u00e7\\u00e3o da vari\\u00e1vel MEDV\",\"distribui\\u00e7\\u00e3o da vari\\u00e1vel MEDV\",\"distribui\\u00e7\\u00e3o da vari\\u00e1vel MEDV\",\"distribui\\u00e7\\u00e3o da vari\\u00e1vel MEDV\",\"distribui\\u00e7\\u00e3o da vari\\u00e1vel MEDV\",\"distribui\\u00e7\\u00e3o da vari\\u00e1vel MEDV\",\"distribui\\u00e7\\u00e3o da vari\\u00e1vel MEDV\",\"distribui\\u00e7\\u00e3o da vari\\u00e1vel MEDV\",\"distribui\\u00e7\\u00e3o da vari\\u00e1vel MEDV\",\"distribui\\u00e7\\u00e3o da vari\\u00e1vel MEDV\",\"distribui\\u00e7\\u00e3o da vari\\u00e1vel MEDV\",\"distribui\\u00e7\\u00e3o da vari\\u00e1vel MEDV\",\"distribui\\u00e7\\u00e3o da vari\\u00e1vel MEDV\",\"distribui\\u00e7\\u00e3o da vari\\u00e1vel MEDV\",\"distribui\\u00e7\\u00e3o da vari\\u00e1vel MEDV\",\"distribui\\u00e7\\u00e3o da vari\\u00e1vel MEDV\",\"distribui\\u00e7\\u00e3o da vari\\u00e1vel MEDV\",\"distribui\\u00e7\\u00e3o da vari\\u00e1vel MEDV\",\"distribui\\u00e7\\u00e3o da vari\\u00e1vel MEDV\",\"distribui\\u00e7\\u00e3o da vari\\u00e1vel MEDV\",\"distribui\\u00e7\\u00e3o da vari\\u00e1vel MEDV\",\"distribui\\u00e7\\u00e3o da vari\\u00e1vel MEDV\",\"distribui\\u00e7\\u00e3o da vari\\u00e1vel MEDV\",\"distribui\\u00e7\\u00e3o da vari\\u00e1vel MEDV\",\"distribui\\u00e7\\u00e3o da vari\\u00e1vel MEDV\",\"distribui\\u00e7\\u00e3o da vari\\u00e1vel MEDV\",\"distribui\\u00e7\\u00e3o da vari\\u00e1vel MEDV\",\"distribui\\u00e7\\u00e3o da vari\\u00e1vel MEDV\",\"distribui\\u00e7\\u00e3o da vari\\u00e1vel MEDV\",\"distribui\\u00e7\\u00e3o da vari\\u00e1vel MEDV\",\"distribui\\u00e7\\u00e3o da vari\\u00e1vel MEDV\",\"distribui\\u00e7\\u00e3o da vari\\u00e1vel MEDV\",\"distribui\\u00e7\\u00e3o da vari\\u00e1vel MEDV\",\"distribui\\u00e7\\u00e3o da vari\\u00e1vel MEDV\",\"distribui\\u00e7\\u00e3o da vari\\u00e1vel MEDV\",\"distribui\\u00e7\\u00e3o da vari\\u00e1vel MEDV\",\"distribui\\u00e7\\u00e3o da vari\\u00e1vel MEDV\",\"distribui\\u00e7\\u00e3o da vari\\u00e1vel MEDV\",\"distribui\\u00e7\\u00e3o da vari\\u00e1vel MEDV\",\"distribui\\u00e7\\u00e3o da vari\\u00e1vel MEDV\",\"distribui\\u00e7\\u00e3o da vari\\u00e1vel MEDV\",\"distribui\\u00e7\\u00e3o da vari\\u00e1vel MEDV\",\"distribui\\u00e7\\u00e3o da vari\\u00e1vel MEDV\",\"distribui\\u00e7\\u00e3o da vari\\u00e1vel MEDV\",\"distribui\\u00e7\\u00e3o da vari\\u00e1vel MEDV\",\"distribui\\u00e7\\u00e3o da vari\\u00e1vel MEDV\",\"distribui\\u00e7\\u00e3o da vari\\u00e1vel MEDV\",\"distribui\\u00e7\\u00e3o da vari\\u00e1vel MEDV\",\"distribui\\u00e7\\u00e3o da vari\\u00e1vel MEDV\",\"distribui\\u00e7\\u00e3o da vari\\u00e1vel MEDV\",\"distribui\\u00e7\\u00e3o da vari\\u00e1vel MEDV\",\"distribui\\u00e7\\u00e3o da vari\\u00e1vel MEDV\",\"distribui\\u00e7\\u00e3o da vari\\u00e1vel MEDV\",\"distribui\\u00e7\\u00e3o da vari\\u00e1vel MEDV\",\"distribui\\u00e7\\u00e3o da vari\\u00e1vel MEDV\",\"distribui\\u00e7\\u00e3o da vari\\u00e1vel MEDV\",\"distribui\\u00e7\\u00e3o da vari\\u00e1vel MEDV\",\"distribui\\u00e7\\u00e3o da vari\\u00e1vel MEDV\",\"distribui\\u00e7\\u00e3o da vari\\u00e1vel MEDV\",\"distribui\\u00e7\\u00e3o da vari\\u00e1vel MEDV\",\"distribui\\u00e7\\u00e3o da vari\\u00e1vel MEDV\",\"distribui\\u00e7\\u00e3o da vari\\u00e1vel MEDV\",\"distribui\\u00e7\\u00e3o da vari\\u00e1vel MEDV\",\"distribui\\u00e7\\u00e3o da vari\\u00e1vel MEDV\",\"distribui\\u00e7\\u00e3o da vari\\u00e1vel MEDV\",\"distribui\\u00e7\\u00e3o da vari\\u00e1vel MEDV\",\"distribui\\u00e7\\u00e3o da vari\\u00e1vel MEDV\",\"distribui\\u00e7\\u00e3o da vari\\u00e1vel MEDV\",\"distribui\\u00e7\\u00e3o da vari\\u00e1vel MEDV\",\"distribui\\u00e7\\u00e3o da vari\\u00e1vel MEDV\",\"distribui\\u00e7\\u00e3o da vari\\u00e1vel MEDV\",\"distribui\\u00e7\\u00e3o da vari\\u00e1vel MEDV\",\"distribui\\u00e7\\u00e3o da vari\\u00e1vel MEDV\",\"distribui\\u00e7\\u00e3o da vari\\u00e1vel MEDV\",\"distribui\\u00e7\\u00e3o da vari\\u00e1vel MEDV\",\"distribui\\u00e7\\u00e3o da vari\\u00e1vel MEDV\",\"distribui\\u00e7\\u00e3o da vari\\u00e1vel MEDV\",\"distribui\\u00e7\\u00e3o da vari\\u00e1vel MEDV\",\"distribui\\u00e7\\u00e3o da vari\\u00e1vel MEDV\",\"distribui\\u00e7\\u00e3o da vari\\u00e1vel MEDV\",\"distribui\\u00e7\\u00e3o da vari\\u00e1vel MEDV\",\"distribui\\u00e7\\u00e3o da vari\\u00e1vel MEDV\",\"distribui\\u00e7\\u00e3o da vari\\u00e1vel MEDV\",\"distribui\\u00e7\\u00e3o da vari\\u00e1vel MEDV\",\"distribui\\u00e7\\u00e3o da vari\\u00e1vel MEDV\",\"distribui\\u00e7\\u00e3o da vari\\u00e1vel MEDV\",\"distribui\\u00e7\\u00e3o da vari\\u00e1vel MEDV\",\"distribui\\u00e7\\u00e3o da vari\\u00e1vel MEDV\",\"distribui\\u00e7\\u00e3o da vari\\u00e1vel MEDV\",\"distribui\\u00e7\\u00e3o da vari\\u00e1vel MEDV\",\"distribui\\u00e7\\u00e3o da vari\\u00e1vel MEDV\",\"distribui\\u00e7\\u00e3o da vari\\u00e1vel MEDV\",\"distribui\\u00e7\\u00e3o da vari\\u00e1vel MEDV\",\"distribui\\u00e7\\u00e3o da vari\\u00e1vel MEDV\",\"distribui\\u00e7\\u00e3o da vari\\u00e1vel MEDV\",\"distribui\\u00e7\\u00e3o da vari\\u00e1vel MEDV\",\"distribui\\u00e7\\u00e3o da vari\\u00e1vel MEDV\",\"distribui\\u00e7\\u00e3o da vari\\u00e1vel MEDV\",\"distribui\\u00e7\\u00e3o da vari\\u00e1vel MEDV\",\"distribui\\u00e7\\u00e3o da vari\\u00e1vel MEDV\",\"distribui\\u00e7\\u00e3o da vari\\u00e1vel MEDV\",\"distribui\\u00e7\\u00e3o da vari\\u00e1vel MEDV\",\"distribui\\u00e7\\u00e3o da vari\\u00e1vel MEDV\",\"distribui\\u00e7\\u00e3o da vari\\u00e1vel MEDV\",\"distribui\\u00e7\\u00e3o da vari\\u00e1vel MEDV\",\"distribui\\u00e7\\u00e3o da vari\\u00e1vel MEDV\",\"distribui\\u00e7\\u00e3o da vari\\u00e1vel MEDV\",\"distribui\\u00e7\\u00e3o da vari\\u00e1vel MEDV\",\"distribui\\u00e7\\u00e3o da vari\\u00e1vel MEDV\",\"distribui\\u00e7\\u00e3o da vari\\u00e1vel MEDV\",\"distribui\\u00e7\\u00e3o da vari\\u00e1vel MEDV\",\"distribui\\u00e7\\u00e3o da vari\\u00e1vel MEDV\",\"distribui\\u00e7\\u00e3o da vari\\u00e1vel MEDV\",\"distribui\\u00e7\\u00e3o da vari\\u00e1vel MEDV\",\"distribui\\u00e7\\u00e3o da vari\\u00e1vel MEDV\",\"distribui\\u00e7\\u00e3o da vari\\u00e1vel MEDV\",\"distribui\\u00e7\\u00e3o da vari\\u00e1vel MEDV\",\"distribui\\u00e7\\u00e3o da vari\\u00e1vel MEDV\",\"distribui\\u00e7\\u00e3o da vari\\u00e1vel MEDV\",\"distribui\\u00e7\\u00e3o da vari\\u00e1vel MEDV\",\"distribui\\u00e7\\u00e3o da vari\\u00e1vel MEDV\",\"distribui\\u00e7\\u00e3o da vari\\u00e1vel MEDV\",\"distribui\\u00e7\\u00e3o da vari\\u00e1vel MEDV\",\"distribui\\u00e7\\u00e3o da vari\\u00e1vel MEDV\",\"distribui\\u00e7\\u00e3o da vari\\u00e1vel MEDV\",\"distribui\\u00e7\\u00e3o da vari\\u00e1vel MEDV\",\"distribui\\u00e7\\u00e3o da vari\\u00e1vel MEDV\",\"distribui\\u00e7\\u00e3o da vari\\u00e1vel MEDV\",\"distribui\\u00e7\\u00e3o da vari\\u00e1vel MEDV\",\"distribui\\u00e7\\u00e3o da vari\\u00e1vel MEDV\",\"distribui\\u00e7\\u00e3o da vari\\u00e1vel MEDV\",\"distribui\\u00e7\\u00e3o da vari\\u00e1vel MEDV\",\"distribui\\u00e7\\u00e3o da vari\\u00e1vel MEDV\",\"distribui\\u00e7\\u00e3o da vari\\u00e1vel MEDV\",\"distribui\\u00e7\\u00e3o da vari\\u00e1vel MEDV\",\"distribui\\u00e7\\u00e3o da vari\\u00e1vel MEDV\",\"distribui\\u00e7\\u00e3o da vari\\u00e1vel MEDV\",\"distribui\\u00e7\\u00e3o da vari\\u00e1vel MEDV\",\"distribui\\u00e7\\u00e3o da vari\\u00e1vel MEDV\",\"distribui\\u00e7\\u00e3o da vari\\u00e1vel MEDV\",\"distribui\\u00e7\\u00e3o da vari\\u00e1vel MEDV\",\"distribui\\u00e7\\u00e3o da vari\\u00e1vel MEDV\",\"distribui\\u00e7\\u00e3o da vari\\u00e1vel MEDV\",\"distribui\\u00e7\\u00e3o da vari\\u00e1vel MEDV\",\"distribui\\u00e7\\u00e3o da vari\\u00e1vel MEDV\",\"distribui\\u00e7\\u00e3o da vari\\u00e1vel MEDV\",\"distribui\\u00e7\\u00e3o da vari\\u00e1vel MEDV\",\"distribui\\u00e7\\u00e3o da vari\\u00e1vel MEDV\",\"distribui\\u00e7\\u00e3o da vari\\u00e1vel MEDV\",\"distribui\\u00e7\\u00e3o da vari\\u00e1vel MEDV\",\"distribui\\u00e7\\u00e3o da vari\\u00e1vel MEDV\",\"distribui\\u00e7\\u00e3o da vari\\u00e1vel MEDV\",\"distribui\\u00e7\\u00e3o da vari\\u00e1vel MEDV\",\"distribui\\u00e7\\u00e3o da vari\\u00e1vel MEDV\",\"distribui\\u00e7\\u00e3o da vari\\u00e1vel MEDV\",\"distribui\\u00e7\\u00e3o da vari\\u00e1vel MEDV\",\"distribui\\u00e7\\u00e3o da vari\\u00e1vel MEDV\",\"distribui\\u00e7\\u00e3o da vari\\u00e1vel MEDV\",\"distribui\\u00e7\\u00e3o da vari\\u00e1vel MEDV\",\"distribui\\u00e7\\u00e3o da vari\\u00e1vel MEDV\",\"distribui\\u00e7\\u00e3o da vari\\u00e1vel MEDV\",\"distribui\\u00e7\\u00e3o da vari\\u00e1vel MEDV\",\"distribui\\u00e7\\u00e3o da vari\\u00e1vel MEDV\",\"distribui\\u00e7\\u00e3o da vari\\u00e1vel MEDV\",\"distribui\\u00e7\\u00e3o da vari\\u00e1vel MEDV\",\"distribui\\u00e7\\u00e3o da vari\\u00e1vel MEDV\",\"distribui\\u00e7\\u00e3o da vari\\u00e1vel MEDV\",\"distribui\\u00e7\\u00e3o da vari\\u00e1vel MEDV\",\"distribui\\u00e7\\u00e3o da vari\\u00e1vel MEDV\",\"distribui\\u00e7\\u00e3o da vari\\u00e1vel MEDV\",\"distribui\\u00e7\\u00e3o da vari\\u00e1vel MEDV\",\"distribui\\u00e7\\u00e3o da vari\\u00e1vel MEDV\",\"distribui\\u00e7\\u00e3o da vari\\u00e1vel MEDV\",\"distribui\\u00e7\\u00e3o da vari\\u00e1vel MEDV\",\"distribui\\u00e7\\u00e3o da vari\\u00e1vel MEDV\",\"distribui\\u00e7\\u00e3o da vari\\u00e1vel MEDV\",\"distribui\\u00e7\\u00e3o da vari\\u00e1vel MEDV\",\"distribui\\u00e7\\u00e3o da vari\\u00e1vel MEDV\",\"distribui\\u00e7\\u00e3o da vari\\u00e1vel MEDV\",\"distribui\\u00e7\\u00e3o da vari\\u00e1vel MEDV\",\"distribui\\u00e7\\u00e3o da vari\\u00e1vel MEDV\",\"distribui\\u00e7\\u00e3o da vari\\u00e1vel MEDV\",\"distribui\\u00e7\\u00e3o da vari\\u00e1vel MEDV\",\"distribui\\u00e7\\u00e3o da vari\\u00e1vel MEDV\",\"distribui\\u00e7\\u00e3o da vari\\u00e1vel MEDV\",\"distribui\\u00e7\\u00e3o da vari\\u00e1vel MEDV\",\"distribui\\u00e7\\u00e3o da vari\\u00e1vel MEDV\",\"distribui\\u00e7\\u00e3o da vari\\u00e1vel MEDV\",\"distribui\\u00e7\\u00e3o da vari\\u00e1vel MEDV\",\"distribui\\u00e7\\u00e3o da vari\\u00e1vel MEDV\",\"distribui\\u00e7\\u00e3o da vari\\u00e1vel MEDV\",\"distribui\\u00e7\\u00e3o da vari\\u00e1vel MEDV\",\"distribui\\u00e7\\u00e3o da vari\\u00e1vel MEDV\",\"distribui\\u00e7\\u00e3o da vari\\u00e1vel MEDV\",\"distribui\\u00e7\\u00e3o da vari\\u00e1vel MEDV\",\"distribui\\u00e7\\u00e3o da vari\\u00e1vel MEDV\",\"distribui\\u00e7\\u00e3o da vari\\u00e1vel MEDV\",\"distribui\\u00e7\\u00e3o da vari\\u00e1vel MEDV\",\"distribui\\u00e7\\u00e3o da vari\\u00e1vel MEDV\",\"distribui\\u00e7\\u00e3o da vari\\u00e1vel MEDV\",\"distribui\\u00e7\\u00e3o da vari\\u00e1vel MEDV\",\"distribui\\u00e7\\u00e3o da vari\\u00e1vel MEDV\",\"distribui\\u00e7\\u00e3o da vari\\u00e1vel MEDV\",\"distribui\\u00e7\\u00e3o da vari\\u00e1vel MEDV\",\"distribui\\u00e7\\u00e3o da vari\\u00e1vel MEDV\",\"distribui\\u00e7\\u00e3o da vari\\u00e1vel MEDV\",\"distribui\\u00e7\\u00e3o da vari\\u00e1vel MEDV\",\"distribui\\u00e7\\u00e3o da vari\\u00e1vel MEDV\",\"distribui\\u00e7\\u00e3o da vari\\u00e1vel MEDV\",\"distribui\\u00e7\\u00e3o da vari\\u00e1vel MEDV\",\"distribui\\u00e7\\u00e3o da vari\\u00e1vel MEDV\",\"distribui\\u00e7\\u00e3o da vari\\u00e1vel MEDV\",\"distribui\\u00e7\\u00e3o da vari\\u00e1vel MEDV\",\"distribui\\u00e7\\u00e3o da vari\\u00e1vel MEDV\",\"distribui\\u00e7\\u00e3o da vari\\u00e1vel MEDV\",\"distribui\\u00e7\\u00e3o da vari\\u00e1vel MEDV\",\"distribui\\u00e7\\u00e3o da vari\\u00e1vel MEDV\",\"distribui\\u00e7\\u00e3o da vari\\u00e1vel MEDV\",\"distribui\\u00e7\\u00e3o da vari\\u00e1vel MEDV\",\"distribui\\u00e7\\u00e3o da vari\\u00e1vel MEDV\",\"distribui\\u00e7\\u00e3o da vari\\u00e1vel MEDV\",\"distribui\\u00e7\\u00e3o da vari\\u00e1vel MEDV\",\"distribui\\u00e7\\u00e3o da vari\\u00e1vel MEDV\",\"distribui\\u00e7\\u00e3o da vari\\u00e1vel MEDV\",\"distribui\\u00e7\\u00e3o da vari\\u00e1vel MEDV\",\"distribui\\u00e7\\u00e3o da vari\\u00e1vel MEDV\",\"distribui\\u00e7\\u00e3o da vari\\u00e1vel MEDV\"],\"yaxis\":\"y2\",\"type\":\"scatter\"}],                        {\"barmode\":\"overlay\",\"hovermode\":\"closest\",\"legend\":{\"traceorder\":\"reversed\"},\"xaxis\":{\"anchor\":\"y2\",\"domain\":[0.0,1.0],\"zeroline\":false},\"yaxis\":{\"anchor\":\"free\",\"domain\":[0.35,1],\"position\":0.0},\"yaxis2\":{\"anchor\":\"x\",\"domain\":[0,0.25],\"dtick\":1,\"showticklabels\":false},\"template\":{\"data\":{\"bar\":[{\"error_x\":{\"color\":\"#2a3f5f\"},\"error_y\":{\"color\":\"#2a3f5f\"},\"marker\":{\"line\":{\"color\":\"#E5ECF6\",\"width\":0.5},\"pattern\":{\"fillmode\":\"overlay\",\"size\":10,\"solidity\":0.2}},\"type\":\"bar\"}],\"barpolar\":[{\"marker\":{\"line\":{\"color\":\"#E5ECF6\",\"width\":0.5},\"pattern\":{\"fillmode\":\"overlay\",\"size\":10,\"solidity\":0.2}},\"type\":\"barpolar\"}],\"carpet\":[{\"aaxis\":{\"endlinecolor\":\"#2a3f5f\",\"gridcolor\":\"white\",\"linecolor\":\"white\",\"minorgridcolor\":\"white\",\"startlinecolor\":\"#2a3f5f\"},\"baxis\":{\"endlinecolor\":\"#2a3f5f\",\"gridcolor\":\"white\",\"linecolor\":\"white\",\"minorgridcolor\":\"white\",\"startlinecolor\":\"#2a3f5f\"},\"type\":\"carpet\"}],\"choropleth\":[{\"colorbar\":{\"outlinewidth\":0,\"ticks\":\"\"},\"type\":\"choropleth\"}],\"contour\":[{\"colorbar\":{\"outlinewidth\":0,\"ticks\":\"\"},\"colorscale\":[[0.0,\"#0d0887\"],[0.1111111111111111,\"#46039f\"],[0.2222222222222222,\"#7201a8\"],[0.3333333333333333,\"#9c179e\"],[0.4444444444444444,\"#bd3786\"],[0.5555555555555556,\"#d8576b\"],[0.6666666666666666,\"#ed7953\"],[0.7777777777777778,\"#fb9f3a\"],[0.8888888888888888,\"#fdca26\"],[1.0,\"#f0f921\"]],\"type\":\"contour\"}],\"contourcarpet\":[{\"colorbar\":{\"outlinewidth\":0,\"ticks\":\"\"},\"type\":\"contourcarpet\"}],\"heatmap\":[{\"colorbar\":{\"outlinewidth\":0,\"ticks\":\"\"},\"colorscale\":[[0.0,\"#0d0887\"],[0.1111111111111111,\"#46039f\"],[0.2222222222222222,\"#7201a8\"],[0.3333333333333333,\"#9c179e\"],[0.4444444444444444,\"#bd3786\"],[0.5555555555555556,\"#d8576b\"],[0.6666666666666666,\"#ed7953\"],[0.7777777777777778,\"#fb9f3a\"],[0.8888888888888888,\"#fdca26\"],[1.0,\"#f0f921\"]],\"type\":\"heatmap\"}],\"heatmapgl\":[{\"colorbar\":{\"outlinewidth\":0,\"ticks\":\"\"},\"colorscale\":[[0.0,\"#0d0887\"],[0.1111111111111111,\"#46039f\"],[0.2222222222222222,\"#7201a8\"],[0.3333333333333333,\"#9c179e\"],[0.4444444444444444,\"#bd3786\"],[0.5555555555555556,\"#d8576b\"],[0.6666666666666666,\"#ed7953\"],[0.7777777777777778,\"#fb9f3a\"],[0.8888888888888888,\"#fdca26\"],[1.0,\"#f0f921\"]],\"type\":\"heatmapgl\"}],\"histogram\":[{\"marker\":{\"pattern\":{\"fillmode\":\"overlay\",\"size\":10,\"solidity\":0.2}},\"type\":\"histogram\"}],\"histogram2d\":[{\"colorbar\":{\"outlinewidth\":0,\"ticks\":\"\"},\"colorscale\":[[0.0,\"#0d0887\"],[0.1111111111111111,\"#46039f\"],[0.2222222222222222,\"#7201a8\"],[0.3333333333333333,\"#9c179e\"],[0.4444444444444444,\"#bd3786\"],[0.5555555555555556,\"#d8576b\"],[0.6666666666666666,\"#ed7953\"],[0.7777777777777778,\"#fb9f3a\"],[0.8888888888888888,\"#fdca26\"],[1.0,\"#f0f921\"]],\"type\":\"histogram2d\"}],\"histogram2dcontour\":[{\"colorbar\":{\"outlinewidth\":0,\"ticks\":\"\"},\"colorscale\":[[0.0,\"#0d0887\"],[0.1111111111111111,\"#46039f\"],[0.2222222222222222,\"#7201a8\"],[0.3333333333333333,\"#9c179e\"],[0.4444444444444444,\"#bd3786\"],[0.5555555555555556,\"#d8576b\"],[0.6666666666666666,\"#ed7953\"],[0.7777777777777778,\"#fb9f3a\"],[0.8888888888888888,\"#fdca26\"],[1.0,\"#f0f921\"]],\"type\":\"histogram2dcontour\"}],\"mesh3d\":[{\"colorbar\":{\"outlinewidth\":0,\"ticks\":\"\"},\"type\":\"mesh3d\"}],\"parcoords\":[{\"line\":{\"colorbar\":{\"outlinewidth\":0,\"ticks\":\"\"}},\"type\":\"parcoords\"}],\"pie\":[{\"automargin\":true,\"type\":\"pie\"}],\"scatter\":[{\"marker\":{\"colorbar\":{\"outlinewidth\":0,\"ticks\":\"\"}},\"type\":\"scatter\"}],\"scatter3d\":[{\"line\":{\"colorbar\":{\"outlinewidth\":0,\"ticks\":\"\"}},\"marker\":{\"colorbar\":{\"outlinewidth\":0,\"ticks\":\"\"}},\"type\":\"scatter3d\"}],\"scattercarpet\":[{\"marker\":{\"colorbar\":{\"outlinewidth\":0,\"ticks\":\"\"}},\"type\":\"scattercarpet\"}],\"scattergeo\":[{\"marker\":{\"colorbar\":{\"outlinewidth\":0,\"ticks\":\"\"}},\"type\":\"scattergeo\"}],\"scattergl\":[{\"marker\":{\"colorbar\":{\"outlinewidth\":0,\"ticks\":\"\"}},\"type\":\"scattergl\"}],\"scattermapbox\":[{\"marker\":{\"colorbar\":{\"outlinewidth\":0,\"ticks\":\"\"}},\"type\":\"scattermapbox\"}],\"scatterpolar\":[{\"marker\":{\"colorbar\":{\"outlinewidth\":0,\"ticks\":\"\"}},\"type\":\"scatterpolar\"}],\"scatterpolargl\":[{\"marker\":{\"colorbar\":{\"outlinewidth\":0,\"ticks\":\"\"}},\"type\":\"scatterpolargl\"}],\"scatterternary\":[{\"marker\":{\"colorbar\":{\"outlinewidth\":0,\"ticks\":\"\"}},\"type\":\"scatterternary\"}],\"surface\":[{\"colorbar\":{\"outlinewidth\":0,\"ticks\":\"\"},\"colorscale\":[[0.0,\"#0d0887\"],[0.1111111111111111,\"#46039f\"],[0.2222222222222222,\"#7201a8\"],[0.3333333333333333,\"#9c179e\"],[0.4444444444444444,\"#bd3786\"],[0.5555555555555556,\"#d8576b\"],[0.6666666666666666,\"#ed7953\"],[0.7777777777777778,\"#fb9f3a\"],[0.8888888888888888,\"#fdca26\"],[1.0,\"#f0f921\"]],\"type\":\"surface\"}],\"table\":[{\"cells\":{\"fill\":{\"color\":\"#EBF0F8\"},\"line\":{\"color\":\"white\"}},\"header\":{\"fill\":{\"color\":\"#C8D4E3\"},\"line\":{\"color\":\"white\"}},\"type\":\"table\"}]},\"layout\":{\"annotationdefaults\":{\"arrowcolor\":\"#2a3f5f\",\"arrowhead\":0,\"arrowwidth\":1},\"autotypenumbers\":\"strict\",\"coloraxis\":{\"colorbar\":{\"outlinewidth\":0,\"ticks\":\"\"}},\"colorscale\":{\"diverging\":[[0,\"#8e0152\"],[0.1,\"#c51b7d\"],[0.2,\"#de77ae\"],[0.3,\"#f1b6da\"],[0.4,\"#fde0ef\"],[0.5,\"#f7f7f7\"],[0.6,\"#e6f5d0\"],[0.7,\"#b8e186\"],[0.8,\"#7fbc41\"],[0.9,\"#4d9221\"],[1,\"#276419\"]],\"sequential\":[[0.0,\"#0d0887\"],[0.1111111111111111,\"#46039f\"],[0.2222222222222222,\"#7201a8\"],[0.3333333333333333,\"#9c179e\"],[0.4444444444444444,\"#bd3786\"],[0.5555555555555556,\"#d8576b\"],[0.6666666666666666,\"#ed7953\"],[0.7777777777777778,\"#fb9f3a\"],[0.8888888888888888,\"#fdca26\"],[1.0,\"#f0f921\"]],\"sequentialminus\":[[0.0,\"#0d0887\"],[0.1111111111111111,\"#46039f\"],[0.2222222222222222,\"#7201a8\"],[0.3333333333333333,\"#9c179e\"],[0.4444444444444444,\"#bd3786\"],[0.5555555555555556,\"#d8576b\"],[0.6666666666666666,\"#ed7953\"],[0.7777777777777778,\"#fb9f3a\"],[0.8888888888888888,\"#fdca26\"],[1.0,\"#f0f921\"]]},\"colorway\":[\"#636efa\",\"#EF553B\",\"#00cc96\",\"#ab63fa\",\"#FFA15A\",\"#19d3f3\",\"#FF6692\",\"#B6E880\",\"#FF97FF\",\"#FECB52\"],\"font\":{\"color\":\"#2a3f5f\"},\"geo\":{\"bgcolor\":\"white\",\"lakecolor\":\"white\",\"landcolor\":\"#E5ECF6\",\"showlakes\":true,\"showland\":true,\"subunitcolor\":\"white\"},\"hoverlabel\":{\"align\":\"left\"},\"hovermode\":\"closest\",\"mapbox\":{\"style\":\"light\"},\"paper_bgcolor\":\"white\",\"plot_bgcolor\":\"#E5ECF6\",\"polar\":{\"angularaxis\":{\"gridcolor\":\"white\",\"linecolor\":\"white\",\"ticks\":\"\"},\"bgcolor\":\"#E5ECF6\",\"radialaxis\":{\"gridcolor\":\"white\",\"linecolor\":\"white\",\"ticks\":\"\"}},\"scene\":{\"xaxis\":{\"backgroundcolor\":\"#E5ECF6\",\"gridcolor\":\"white\",\"gridwidth\":2,\"linecolor\":\"white\",\"showbackground\":true,\"ticks\":\"\",\"zerolinecolor\":\"white\"},\"yaxis\":{\"backgroundcolor\":\"#E5ECF6\",\"gridcolor\":\"white\",\"gridwidth\":2,\"linecolor\":\"white\",\"showbackground\":true,\"ticks\":\"\",\"zerolinecolor\":\"white\"},\"zaxis\":{\"backgroundcolor\":\"#E5ECF6\",\"gridcolor\":\"white\",\"gridwidth\":2,\"linecolor\":\"white\",\"showbackground\":true,\"ticks\":\"\",\"zerolinecolor\":\"white\"}},\"shapedefaults\":{\"line\":{\"color\":\"#2a3f5f\"}},\"ternary\":{\"aaxis\":{\"gridcolor\":\"white\",\"linecolor\":\"white\",\"ticks\":\"\"},\"baxis\":{\"gridcolor\":\"white\",\"linecolor\":\"white\",\"ticks\":\"\"},\"bgcolor\":\"#E5ECF6\",\"caxis\":{\"gridcolor\":\"white\",\"linecolor\":\"white\",\"ticks\":\"\"}},\"title\":{\"x\":0.05},\"xaxis\":{\"automargin\":true,\"gridcolor\":\"white\",\"linecolor\":\"white\",\"ticks\":\"\",\"title\":{\"standoff\":15},\"zerolinecolor\":\"white\",\"zerolinewidth\":2},\"yaxis\":{\"automargin\":true,\"gridcolor\":\"white\",\"linecolor\":\"white\",\"ticks\":\"\",\"title\":{\"standoff\":15},\"zerolinecolor\":\"white\",\"zerolinewidth\":2}}}},                        {\"responsive\": true}                    ).then(function(){\n",
              "                            \n",
              "var gd = document.getElementById('8f856ba8-760e-466c-b614-a5609e61c731');\n",
              "var x = new MutationObserver(function (mutations, observer) {{\n",
              "        var display = window.getComputedStyle(gd).display;\n",
              "        if (!display || display === 'none') {{\n",
              "            console.log([gd, 'removed!']);\n",
              "            Plotly.purge(gd);\n",
              "            observer.disconnect();\n",
              "        }}\n",
              "}});\n",
              "\n",
              "// Listen for the removal of the full notebook cells\n",
              "var notebookContainer = gd.closest('#notebook-container');\n",
              "if (notebookContainer) {{\n",
              "    x.observe(notebookContainer, {childList: true});\n",
              "}}\n",
              "\n",
              "// Listen for the clearing of the current output cell\n",
              "var outputEl = gd.closest('.output');\n",
              "if (outputEl) {{\n",
              "    x.observe(outputEl, {childList: true});\n",
              "}}\n",
              "\n",
              "                        })                };                            </script>        </div>\n",
              "</body>\n",
              "</html>"
            ]
          },
          "metadata": {},
          "output_type": "display_data"
        }
      ],
      "source": [
        "labels = ['distribuição da variável MEDV']\n",
        "fig = ff.create_distplot([data.MEDV], labels, bin_size=.2)\n",
        "fig.show()"
      ]
    },
    {
      "cell_type": "code",
      "execution_count": null,
      "metadata": {
        "colab": {
          "base_uri": "https://localhost:8080/"
        },
        "id": "7Teg3EzkbVIS",
        "outputId": "06e2c481-d153-4b37-949b-c050dcc0afac"
      },
      "outputs": [
        {
          "data": {
            "text/plain": [
              "1.104810822864635"
            ]
          },
          "execution_count": 25,
          "metadata": {},
          "output_type": "execute_result"
        }
      ],
      "source": [
        "#carrega o método stats\n",
        "\n",
        "from scipy import stats\n",
        "#coef pearson\n",
        "stats.skew(data.MEDV)"
      ]
    },
    {
      "cell_type": "markdown",
      "metadata": {
        "id": "sMJI5Xsxbyua"
      },
      "source": [
        "##Resumo coeficiente pearson\n",
        "* Valor entre -1 e 1 - distribuição simétrica.\n",
        "* Valor maior que 1 distribuição assimétrica positiva.\n",
        "* Valor menor que -1 - distribuição assimétrica negativa"
      ]
    },
    {
      "cell_type": "code",
      "execution_count": null,
      "metadata": {
        "colab": {
          "base_uri": "https://localhost:8080/",
          "height": 542
        },
        "id": "wUAm2S4LcmhA",
        "outputId": "73f17175-2696-40ca-d1c0-7c5ddf7f0ac3"
      },
      "outputs": [
        {
          "data": {
            "text/html": [
              "<html>\n",
              "<head><meta charset=\"utf-8\" /></head>\n",
              "<body>\n",
              "    <div>            <script src=\"https://cdnjs.cloudflare.com/ajax/libs/mathjax/2.7.5/MathJax.js?config=TeX-AMS-MML_SVG\"></script><script type=\"text/javascript\">if (window.MathJax) {MathJax.Hub.Config({SVG: {font: \"STIX-Web\"}});}</script>                <script type=\"text/javascript\">window.PlotlyConfig = {MathJaxConfig: 'local'};</script>\n",
              "        <script src=\"https://cdn.plot.ly/plotly-2.8.3.min.js\"></script>                <div id=\"c7e1ec3c-9582-4b01-8299-e29db84acda7\" class=\"plotly-graph-div\" style=\"height:525px; width:100%;\"></div>            <script type=\"text/javascript\">                                    window.PLOTLYENV=window.PLOTLYENV || {};                                    if (document.getElementById(\"c7e1ec3c-9582-4b01-8299-e29db84acda7\")) {                    Plotly.newPlot(                        \"c7e1ec3c-9582-4b01-8299-e29db84acda7\",                        [{\"alignmentgroup\":\"True\",\"bingroup\":\"x\",\"hovertemplate\":\"MEDV=%{x}<br>count=%{y}<extra></extra>\",\"legendgroup\":\"\",\"marker\":{\"color\":\"#636efa\",\"opacity\":0.5,\"pattern\":{\"shape\":\"\"}},\"name\":\"\",\"nbinsx\":50,\"offsetgroup\":\"\",\"orientation\":\"v\",\"showlegend\":false,\"x\":[24.0,21.6,34.7,33.4,36.2,28.7,22.9,27.1,16.5,18.9,15.0,18.9,21.7,20.4,18.2,19.9,23.1,17.5,20.2,18.2,13.6,19.6,15.2,14.5,15.6,13.9,16.6,14.8,18.4,21.0,12.7,14.5,13.2,13.1,13.5,18.9,20.0,21.0,24.7,30.8,34.9,26.6,25.3,24.7,21.2,19.3,20.0,16.6,14.4,19.4,19.7,20.5,25.0,23.4,18.9,35.4,24.7,31.6,23.3,19.6,18.7,16.0,22.2,25.0,33.0,23.5,19.4,22.0,17.4,20.9,24.2,21.7,22.8,23.4,24.1,21.4,20.0,20.8,21.2,20.3,28.0,23.9,24.8,22.9,23.9,26.6,22.5,22.2,23.6,28.7,22.6,22.0,22.9,25.0,20.6,28.4,21.4,38.7,43.8,33.2,27.5,26.5,18.6,19.3,20.1,19.5,19.5,20.4,19.8,19.4,21.7,22.8,18.8,18.7,18.5,18.3,21.2,19.2,20.4,19.3,22.0,20.3,20.5,17.3,18.8,21.4,15.7,16.2,18.0,14.3,19.2,19.6,23.0,18.4,15.6,18.1,17.4,17.1,13.3,17.8,14.0,14.4,13.4,15.6,11.8,13.8,15.6,14.6,17.8,15.4,21.5,19.6,15.3,19.4,17.0,15.6,13.1,41.3,24.3,23.3,27.0,50.0,50.0,50.0,22.7,25.0,50.0,23.8,23.8,22.3,17.4,19.1,23.1,23.6,22.6,29.4,23.2,24.6,29.9,37.2,39.8,36.2,37.9,32.5,26.4,29.6,50.0,32.0,29.8,34.9,37.0,30.5,36.4,31.1,29.1,50.0,33.3,30.3,34.6,34.9,32.9,24.1,42.3,48.5,50.0,22.6,24.4,22.5,24.4,20.0,21.7,19.3,22.4,28.1,23.7,25.0,23.3,28.7,21.5,23.0,26.7,21.7,27.5,30.1,44.8,50.0,37.6,31.6,46.7,31.5,24.3,31.7,41.7,48.3,29.0,24.0,25.1,31.5,23.7,23.3,22.0,20.1,22.2,23.7,17.6,18.5,24.3,20.5,24.5,26.2,24.4,24.8,29.6,42.8,21.9,20.9,44.0,50.0,36.0,30.1,33.8,43.1,48.8,31.0,36.5,22.8,30.7,50.0,43.5,20.7,21.1,25.2,24.4,35.2,32.4,32.0,33.2,33.1,29.1,35.1,45.4,35.4,46.0,50.0,32.2,22.0,20.1,23.2,22.3,24.8,28.5,37.3,27.9,23.9,21.7,28.6,27.1,20.3,22.5,29.0,24.8,22.0,26.4,33.1,36.1,28.4,33.4,28.2,22.8,20.3,16.1,22.1,19.4,21.6,23.8,16.2,17.8,19.8,23.1,21.0,23.8,23.1,20.4,18.5,25.0,24.6,23.0,22.2,19.3,22.6,19.8,17.1,19.4,22.2,20.7,21.1,19.5,18.5,20.6,19.0,18.7,32.7,16.5,23.9,31.2,17.5,17.2,23.1,24.5,26.6,22.9,24.1,18.6,30.1,18.2,20.6,17.8,21.7,22.7,22.6,25.0,19.9,20.8,16.8,21.9,27.5,21.9,23.1,50.0,50.0,50.0,50.0,50.0,13.8,13.8,15.0,13.9,13.3,13.1,10.2,10.4,10.9,11.3,12.3,8.8,7.2,10.5,7.4,10.2,11.5,15.1,23.2,9.7,13.8,12.7,13.1,12.5,8.5,5.0,6.3,5.6,7.2,12.1,8.3,8.5,5.0,11.9,27.9,17.2,27.5,15.0,17.2,17.9,16.3,7.0,7.2,7.5,10.4,8.8,8.4,16.7,14.2,20.8,13.4,11.7,8.3,10.2,10.9,11.0,9.5,14.5,14.1,16.1,14.3,11.7,13.4,9.6,8.7,8.4,12.8,10.5,17.1,18.4,15.4,10.8,11.8,14.9,12.6,14.1,13.0,13.4,15.2,16.1,17.8,14.9,14.1,12.7,13.5,14.9,20.0,16.4,17.7,19.5,20.2,21.4,19.9,19.0,19.1,19.1,20.1,19.9,19.6,23.2,29.8,13.8,13.3,16.7,12.0,14.6,21.4,23.0,23.7,25.0,21.8,20.6,21.2,19.1,20.6,15.2,7.0,8.1,13.6,20.1,21.8,24.5,23.1,19.7,18.3,21.2,17.5,16.8,22.4,20.6,23.9,22.0,11.9],\"xaxis\":\"x\",\"yaxis\":\"y\",\"type\":\"histogram\"}],                        {\"template\":{\"data\":{\"bar\":[{\"error_x\":{\"color\":\"#2a3f5f\"},\"error_y\":{\"color\":\"#2a3f5f\"},\"marker\":{\"line\":{\"color\":\"#E5ECF6\",\"width\":0.5},\"pattern\":{\"fillmode\":\"overlay\",\"size\":10,\"solidity\":0.2}},\"type\":\"bar\"}],\"barpolar\":[{\"marker\":{\"line\":{\"color\":\"#E5ECF6\",\"width\":0.5},\"pattern\":{\"fillmode\":\"overlay\",\"size\":10,\"solidity\":0.2}},\"type\":\"barpolar\"}],\"carpet\":[{\"aaxis\":{\"endlinecolor\":\"#2a3f5f\",\"gridcolor\":\"white\",\"linecolor\":\"white\",\"minorgridcolor\":\"white\",\"startlinecolor\":\"#2a3f5f\"},\"baxis\":{\"endlinecolor\":\"#2a3f5f\",\"gridcolor\":\"white\",\"linecolor\":\"white\",\"minorgridcolor\":\"white\",\"startlinecolor\":\"#2a3f5f\"},\"type\":\"carpet\"}],\"choropleth\":[{\"colorbar\":{\"outlinewidth\":0,\"ticks\":\"\"},\"type\":\"choropleth\"}],\"contour\":[{\"colorbar\":{\"outlinewidth\":0,\"ticks\":\"\"},\"colorscale\":[[0.0,\"#0d0887\"],[0.1111111111111111,\"#46039f\"],[0.2222222222222222,\"#7201a8\"],[0.3333333333333333,\"#9c179e\"],[0.4444444444444444,\"#bd3786\"],[0.5555555555555556,\"#d8576b\"],[0.6666666666666666,\"#ed7953\"],[0.7777777777777778,\"#fb9f3a\"],[0.8888888888888888,\"#fdca26\"],[1.0,\"#f0f921\"]],\"type\":\"contour\"}],\"contourcarpet\":[{\"colorbar\":{\"outlinewidth\":0,\"ticks\":\"\"},\"type\":\"contourcarpet\"}],\"heatmap\":[{\"colorbar\":{\"outlinewidth\":0,\"ticks\":\"\"},\"colorscale\":[[0.0,\"#0d0887\"],[0.1111111111111111,\"#46039f\"],[0.2222222222222222,\"#7201a8\"],[0.3333333333333333,\"#9c179e\"],[0.4444444444444444,\"#bd3786\"],[0.5555555555555556,\"#d8576b\"],[0.6666666666666666,\"#ed7953\"],[0.7777777777777778,\"#fb9f3a\"],[0.8888888888888888,\"#fdca26\"],[1.0,\"#f0f921\"]],\"type\":\"heatmap\"}],\"heatmapgl\":[{\"colorbar\":{\"outlinewidth\":0,\"ticks\":\"\"},\"colorscale\":[[0.0,\"#0d0887\"],[0.1111111111111111,\"#46039f\"],[0.2222222222222222,\"#7201a8\"],[0.3333333333333333,\"#9c179e\"],[0.4444444444444444,\"#bd3786\"],[0.5555555555555556,\"#d8576b\"],[0.6666666666666666,\"#ed7953\"],[0.7777777777777778,\"#fb9f3a\"],[0.8888888888888888,\"#fdca26\"],[1.0,\"#f0f921\"]],\"type\":\"heatmapgl\"}],\"histogram\":[{\"marker\":{\"pattern\":{\"fillmode\":\"overlay\",\"size\":10,\"solidity\":0.2}},\"type\":\"histogram\"}],\"histogram2d\":[{\"colorbar\":{\"outlinewidth\":0,\"ticks\":\"\"},\"colorscale\":[[0.0,\"#0d0887\"],[0.1111111111111111,\"#46039f\"],[0.2222222222222222,\"#7201a8\"],[0.3333333333333333,\"#9c179e\"],[0.4444444444444444,\"#bd3786\"],[0.5555555555555556,\"#d8576b\"],[0.6666666666666666,\"#ed7953\"],[0.7777777777777778,\"#fb9f3a\"],[0.8888888888888888,\"#fdca26\"],[1.0,\"#f0f921\"]],\"type\":\"histogram2d\"}],\"histogram2dcontour\":[{\"colorbar\":{\"outlinewidth\":0,\"ticks\":\"\"},\"colorscale\":[[0.0,\"#0d0887\"],[0.1111111111111111,\"#46039f\"],[0.2222222222222222,\"#7201a8\"],[0.3333333333333333,\"#9c179e\"],[0.4444444444444444,\"#bd3786\"],[0.5555555555555556,\"#d8576b\"],[0.6666666666666666,\"#ed7953\"],[0.7777777777777778,\"#fb9f3a\"],[0.8888888888888888,\"#fdca26\"],[1.0,\"#f0f921\"]],\"type\":\"histogram2dcontour\"}],\"mesh3d\":[{\"colorbar\":{\"outlinewidth\":0,\"ticks\":\"\"},\"type\":\"mesh3d\"}],\"parcoords\":[{\"line\":{\"colorbar\":{\"outlinewidth\":0,\"ticks\":\"\"}},\"type\":\"parcoords\"}],\"pie\":[{\"automargin\":true,\"type\":\"pie\"}],\"scatter\":[{\"marker\":{\"colorbar\":{\"outlinewidth\":0,\"ticks\":\"\"}},\"type\":\"scatter\"}],\"scatter3d\":[{\"line\":{\"colorbar\":{\"outlinewidth\":0,\"ticks\":\"\"}},\"marker\":{\"colorbar\":{\"outlinewidth\":0,\"ticks\":\"\"}},\"type\":\"scatter3d\"}],\"scattercarpet\":[{\"marker\":{\"colorbar\":{\"outlinewidth\":0,\"ticks\":\"\"}},\"type\":\"scattercarpet\"}],\"scattergeo\":[{\"marker\":{\"colorbar\":{\"outlinewidth\":0,\"ticks\":\"\"}},\"type\":\"scattergeo\"}],\"scattergl\":[{\"marker\":{\"colorbar\":{\"outlinewidth\":0,\"ticks\":\"\"}},\"type\":\"scattergl\"}],\"scattermapbox\":[{\"marker\":{\"colorbar\":{\"outlinewidth\":0,\"ticks\":\"\"}},\"type\":\"scattermapbox\"}],\"scatterpolar\":[{\"marker\":{\"colorbar\":{\"outlinewidth\":0,\"ticks\":\"\"}},\"type\":\"scatterpolar\"}],\"scatterpolargl\":[{\"marker\":{\"colorbar\":{\"outlinewidth\":0,\"ticks\":\"\"}},\"type\":\"scatterpolargl\"}],\"scatterternary\":[{\"marker\":{\"colorbar\":{\"outlinewidth\":0,\"ticks\":\"\"}},\"type\":\"scatterternary\"}],\"surface\":[{\"colorbar\":{\"outlinewidth\":0,\"ticks\":\"\"},\"colorscale\":[[0.0,\"#0d0887\"],[0.1111111111111111,\"#46039f\"],[0.2222222222222222,\"#7201a8\"],[0.3333333333333333,\"#9c179e\"],[0.4444444444444444,\"#bd3786\"],[0.5555555555555556,\"#d8576b\"],[0.6666666666666666,\"#ed7953\"],[0.7777777777777778,\"#fb9f3a\"],[0.8888888888888888,\"#fdca26\"],[1.0,\"#f0f921\"]],\"type\":\"surface\"}],\"table\":[{\"cells\":{\"fill\":{\"color\":\"#EBF0F8\"},\"line\":{\"color\":\"white\"}},\"header\":{\"fill\":{\"color\":\"#C8D4E3\"},\"line\":{\"color\":\"white\"}},\"type\":\"table\"}]},\"layout\":{\"annotationdefaults\":{\"arrowcolor\":\"#2a3f5f\",\"arrowhead\":0,\"arrowwidth\":1},\"autotypenumbers\":\"strict\",\"coloraxis\":{\"colorbar\":{\"outlinewidth\":0,\"ticks\":\"\"}},\"colorscale\":{\"diverging\":[[0,\"#8e0152\"],[0.1,\"#c51b7d\"],[0.2,\"#de77ae\"],[0.3,\"#f1b6da\"],[0.4,\"#fde0ef\"],[0.5,\"#f7f7f7\"],[0.6,\"#e6f5d0\"],[0.7,\"#b8e186\"],[0.8,\"#7fbc41\"],[0.9,\"#4d9221\"],[1,\"#276419\"]],\"sequential\":[[0.0,\"#0d0887\"],[0.1111111111111111,\"#46039f\"],[0.2222222222222222,\"#7201a8\"],[0.3333333333333333,\"#9c179e\"],[0.4444444444444444,\"#bd3786\"],[0.5555555555555556,\"#d8576b\"],[0.6666666666666666,\"#ed7953\"],[0.7777777777777778,\"#fb9f3a\"],[0.8888888888888888,\"#fdca26\"],[1.0,\"#f0f921\"]],\"sequentialminus\":[[0.0,\"#0d0887\"],[0.1111111111111111,\"#46039f\"],[0.2222222222222222,\"#7201a8\"],[0.3333333333333333,\"#9c179e\"],[0.4444444444444444,\"#bd3786\"],[0.5555555555555556,\"#d8576b\"],[0.6666666666666666,\"#ed7953\"],[0.7777777777777778,\"#fb9f3a\"],[0.8888888888888888,\"#fdca26\"],[1.0,\"#f0f921\"]]},\"colorway\":[\"#636efa\",\"#EF553B\",\"#00cc96\",\"#ab63fa\",\"#FFA15A\",\"#19d3f3\",\"#FF6692\",\"#B6E880\",\"#FF97FF\",\"#FECB52\"],\"font\":{\"color\":\"#2a3f5f\"},\"geo\":{\"bgcolor\":\"white\",\"lakecolor\":\"white\",\"landcolor\":\"#E5ECF6\",\"showlakes\":true,\"showland\":true,\"subunitcolor\":\"white\"},\"hoverlabel\":{\"align\":\"left\"},\"hovermode\":\"closest\",\"mapbox\":{\"style\":\"light\"},\"paper_bgcolor\":\"white\",\"plot_bgcolor\":\"#E5ECF6\",\"polar\":{\"angularaxis\":{\"gridcolor\":\"white\",\"linecolor\":\"white\",\"ticks\":\"\"},\"bgcolor\":\"#E5ECF6\",\"radialaxis\":{\"gridcolor\":\"white\",\"linecolor\":\"white\",\"ticks\":\"\"}},\"scene\":{\"xaxis\":{\"backgroundcolor\":\"#E5ECF6\",\"gridcolor\":\"white\",\"gridwidth\":2,\"linecolor\":\"white\",\"showbackground\":true,\"ticks\":\"\",\"zerolinecolor\":\"white\"},\"yaxis\":{\"backgroundcolor\":\"#E5ECF6\",\"gridcolor\":\"white\",\"gridwidth\":2,\"linecolor\":\"white\",\"showbackground\":true,\"ticks\":\"\",\"zerolinecolor\":\"white\"},\"zaxis\":{\"backgroundcolor\":\"#E5ECF6\",\"gridcolor\":\"white\",\"gridwidth\":2,\"linecolor\":\"white\",\"showbackground\":true,\"ticks\":\"\",\"zerolinecolor\":\"white\"}},\"shapedefaults\":{\"line\":{\"color\":\"#2a3f5f\"}},\"ternary\":{\"aaxis\":{\"gridcolor\":\"white\",\"linecolor\":\"white\",\"ticks\":\"\"},\"baxis\":{\"gridcolor\":\"white\",\"linecolor\":\"white\",\"ticks\":\"\"},\"bgcolor\":\"#E5ECF6\",\"caxis\":{\"gridcolor\":\"white\",\"linecolor\":\"white\",\"ticks\":\"\"}},\"title\":{\"x\":0.05},\"xaxis\":{\"automargin\":true,\"gridcolor\":\"white\",\"linecolor\":\"white\",\"ticks\":\"\",\"title\":{\"standoff\":15},\"zerolinecolor\":\"white\",\"zerolinewidth\":2},\"yaxis\":{\"automargin\":true,\"gridcolor\":\"white\",\"linecolor\":\"white\",\"ticks\":\"\",\"title\":{\"standoff\":15},\"zerolinecolor\":\"white\",\"zerolinewidth\":2}}},\"xaxis\":{\"anchor\":\"y\",\"domain\":[0.0,1.0],\"title\":{\"text\":\"MEDV\"}},\"yaxis\":{\"anchor\":\"x\",\"domain\":[0.0,1.0],\"title\":{\"text\":\"count\"}},\"legend\":{\"tracegroupgap\":0},\"margin\":{\"t\":60},\"barmode\":\"relative\"},                        {\"responsive\": true}                    ).then(function(){\n",
              "                            \n",
              "var gd = document.getElementById('c7e1ec3c-9582-4b01-8299-e29db84acda7');\n",
              "var x = new MutationObserver(function (mutations, observer) {{\n",
              "        var display = window.getComputedStyle(gd).display;\n",
              "        if (!display || display === 'none') {{\n",
              "            console.log([gd, 'removed!']);\n",
              "            Plotly.purge(gd);\n",
              "            observer.disconnect();\n",
              "        }}\n",
              "}});\n",
              "\n",
              "// Listen for the removal of the full notebook cells\n",
              "var notebookContainer = gd.closest('#notebook-container');\n",
              "if (notebookContainer) {{\n",
              "    x.observe(notebookContainer, {childList: true});\n",
              "}}\n",
              "\n",
              "// Listen for the clearing of the current output cell\n",
              "var outputEl = gd.closest('.output');\n",
              "if (outputEl) {{\n",
              "    x.observe(outputEl, {childList: true});\n",
              "}}\n",
              "\n",
              "                        })                };                            </script>        </div>\n",
              "</body>\n",
              "</html>"
            ]
          },
          "metadata": {},
          "output_type": "display_data"
        }
      ],
      "source": [
        "#Histograma de MEDV\n",
        "fig = px.histogram(data, x=\"MEDV\", nbins=50, opacity=0.50)\n",
        "fig.show()"
      ]
    },
    {
      "cell_type": "code",
      "execution_count": null,
      "metadata": {
        "colab": {
          "base_uri": "https://localhost:8080/",
          "height": 837
        },
        "id": "urb1HAnrgHDO",
        "outputId": "e69dd41c-7663-4e72-b362-cf7210a6521f"
      },
      "outputs": [
        {
          "data": {
            "text/html": [
              "<html>\n",
              "<head><meta charset=\"utf-8\" /></head>\n",
              "<body>\n",
              "    <div>            <script src=\"https://cdnjs.cloudflare.com/ajax/libs/mathjax/2.7.5/MathJax.js?config=TeX-AMS-MML_SVG\"></script><script type=\"text/javascript\">if (window.MathJax) {MathJax.Hub.Config({SVG: {font: \"STIX-Web\"}});}</script>                <script type=\"text/javascript\">window.PlotlyConfig = {MathJaxConfig: 'local'};</script>\n",
              "        <script src=\"https://cdn.plot.ly/plotly-2.8.3.min.js\"></script>                <div id=\"a9419680-165d-4e65-b6ff-35d8f99ebb0f\" class=\"plotly-graph-div\" style=\"height:800px; width:800px;\"></div>            <script type=\"text/javascript\">                                    window.PLOTLYENV=window.PLOTLYENV || {};                                    if (document.getElementById(\"a9419680-165d-4e65-b6ff-35d8f99ebb0f\")) {                    Plotly.newPlot(                        \"a9419680-165d-4e65-b6ff-35d8f99ebb0f\",                        [{\"alignmentgroup\":\"True\",\"hovertemplate\":\"MEDV=%{y}<extra></extra>\",\"legendgroup\":\"\",\"marker\":{\"color\":\"#636efa\"},\"name\":\"\",\"notched\":false,\"offsetgroup\":\"\",\"orientation\":\"v\",\"showlegend\":false,\"x0\":\" \",\"xaxis\":\"x\",\"y\":[24.0,21.6,34.7,33.4,36.2,28.7,22.9,27.1,16.5,18.9,15.0,18.9,21.7,20.4,18.2,19.9,23.1,17.5,20.2,18.2,13.6,19.6,15.2,14.5,15.6,13.9,16.6,14.8,18.4,21.0,12.7,14.5,13.2,13.1,13.5,18.9,20.0,21.0,24.7,30.8,34.9,26.6,25.3,24.7,21.2,19.3,20.0,16.6,14.4,19.4,19.7,20.5,25.0,23.4,18.9,35.4,24.7,31.6,23.3,19.6,18.7,16.0,22.2,25.0,33.0,23.5,19.4,22.0,17.4,20.9,24.2,21.7,22.8,23.4,24.1,21.4,20.0,20.8,21.2,20.3,28.0,23.9,24.8,22.9,23.9,26.6,22.5,22.2,23.6,28.7,22.6,22.0,22.9,25.0,20.6,28.4,21.4,38.7,43.8,33.2,27.5,26.5,18.6,19.3,20.1,19.5,19.5,20.4,19.8,19.4,21.7,22.8,18.8,18.7,18.5,18.3,21.2,19.2,20.4,19.3,22.0,20.3,20.5,17.3,18.8,21.4,15.7,16.2,18.0,14.3,19.2,19.6,23.0,18.4,15.6,18.1,17.4,17.1,13.3,17.8,14.0,14.4,13.4,15.6,11.8,13.8,15.6,14.6,17.8,15.4,21.5,19.6,15.3,19.4,17.0,15.6,13.1,41.3,24.3,23.3,27.0,50.0,50.0,50.0,22.7,25.0,50.0,23.8,23.8,22.3,17.4,19.1,23.1,23.6,22.6,29.4,23.2,24.6,29.9,37.2,39.8,36.2,37.9,32.5,26.4,29.6,50.0,32.0,29.8,34.9,37.0,30.5,36.4,31.1,29.1,50.0,33.3,30.3,34.6,34.9,32.9,24.1,42.3,48.5,50.0,22.6,24.4,22.5,24.4,20.0,21.7,19.3,22.4,28.1,23.7,25.0,23.3,28.7,21.5,23.0,26.7,21.7,27.5,30.1,44.8,50.0,37.6,31.6,46.7,31.5,24.3,31.7,41.7,48.3,29.0,24.0,25.1,31.5,23.7,23.3,22.0,20.1,22.2,23.7,17.6,18.5,24.3,20.5,24.5,26.2,24.4,24.8,29.6,42.8,21.9,20.9,44.0,50.0,36.0,30.1,33.8,43.1,48.8,31.0,36.5,22.8,30.7,50.0,43.5,20.7,21.1,25.2,24.4,35.2,32.4,32.0,33.2,33.1,29.1,35.1,45.4,35.4,46.0,50.0,32.2,22.0,20.1,23.2,22.3,24.8,28.5,37.3,27.9,23.9,21.7,28.6,27.1,20.3,22.5,29.0,24.8,22.0,26.4,33.1,36.1,28.4,33.4,28.2,22.8,20.3,16.1,22.1,19.4,21.6,23.8,16.2,17.8,19.8,23.1,21.0,23.8,23.1,20.4,18.5,25.0,24.6,23.0,22.2,19.3,22.6,19.8,17.1,19.4,22.2,20.7,21.1,19.5,18.5,20.6,19.0,18.7,32.7,16.5,23.9,31.2,17.5,17.2,23.1,24.5,26.6,22.9,24.1,18.6,30.1,18.2,20.6,17.8,21.7,22.7,22.6,25.0,19.9,20.8,16.8,21.9,27.5,21.9,23.1,50.0,50.0,50.0,50.0,50.0,13.8,13.8,15.0,13.9,13.3,13.1,10.2,10.4,10.9,11.3,12.3,8.8,7.2,10.5,7.4,10.2,11.5,15.1,23.2,9.7,13.8,12.7,13.1,12.5,8.5,5.0,6.3,5.6,7.2,12.1,8.3,8.5,5.0,11.9,27.9,17.2,27.5,15.0,17.2,17.9,16.3,7.0,7.2,7.5,10.4,8.8,8.4,16.7,14.2,20.8,13.4,11.7,8.3,10.2,10.9,11.0,9.5,14.5,14.1,16.1,14.3,11.7,13.4,9.6,8.7,8.4,12.8,10.5,17.1,18.4,15.4,10.8,11.8,14.9,12.6,14.1,13.0,13.4,15.2,16.1,17.8,14.9,14.1,12.7,13.5,14.9,20.0,16.4,17.7,19.5,20.2,21.4,19.9,19.0,19.1,19.1,20.1,19.9,19.6,23.2,29.8,13.8,13.3,16.7,12.0,14.6,21.4,23.0,23.7,25.0,21.8,20.6,21.2,19.1,20.6,15.2,7.0,8.1,13.6,20.1,21.8,24.5,23.1,19.7,18.3,21.2,17.5,16.8,22.4,20.6,23.9,22.0,11.9],\"y0\":\" \",\"yaxis\":\"y\",\"type\":\"box\"}],                        {\"template\":{\"data\":{\"bar\":[{\"error_x\":{\"color\":\"#2a3f5f\"},\"error_y\":{\"color\":\"#2a3f5f\"},\"marker\":{\"line\":{\"color\":\"#E5ECF6\",\"width\":0.5},\"pattern\":{\"fillmode\":\"overlay\",\"size\":10,\"solidity\":0.2}},\"type\":\"bar\"}],\"barpolar\":[{\"marker\":{\"line\":{\"color\":\"#E5ECF6\",\"width\":0.5},\"pattern\":{\"fillmode\":\"overlay\",\"size\":10,\"solidity\":0.2}},\"type\":\"barpolar\"}],\"carpet\":[{\"aaxis\":{\"endlinecolor\":\"#2a3f5f\",\"gridcolor\":\"white\",\"linecolor\":\"white\",\"minorgridcolor\":\"white\",\"startlinecolor\":\"#2a3f5f\"},\"baxis\":{\"endlinecolor\":\"#2a3f5f\",\"gridcolor\":\"white\",\"linecolor\":\"white\",\"minorgridcolor\":\"white\",\"startlinecolor\":\"#2a3f5f\"},\"type\":\"carpet\"}],\"choropleth\":[{\"colorbar\":{\"outlinewidth\":0,\"ticks\":\"\"},\"type\":\"choropleth\"}],\"contour\":[{\"colorbar\":{\"outlinewidth\":0,\"ticks\":\"\"},\"colorscale\":[[0.0,\"#0d0887\"],[0.1111111111111111,\"#46039f\"],[0.2222222222222222,\"#7201a8\"],[0.3333333333333333,\"#9c179e\"],[0.4444444444444444,\"#bd3786\"],[0.5555555555555556,\"#d8576b\"],[0.6666666666666666,\"#ed7953\"],[0.7777777777777778,\"#fb9f3a\"],[0.8888888888888888,\"#fdca26\"],[1.0,\"#f0f921\"]],\"type\":\"contour\"}],\"contourcarpet\":[{\"colorbar\":{\"outlinewidth\":0,\"ticks\":\"\"},\"type\":\"contourcarpet\"}],\"heatmap\":[{\"colorbar\":{\"outlinewidth\":0,\"ticks\":\"\"},\"colorscale\":[[0.0,\"#0d0887\"],[0.1111111111111111,\"#46039f\"],[0.2222222222222222,\"#7201a8\"],[0.3333333333333333,\"#9c179e\"],[0.4444444444444444,\"#bd3786\"],[0.5555555555555556,\"#d8576b\"],[0.6666666666666666,\"#ed7953\"],[0.7777777777777778,\"#fb9f3a\"],[0.8888888888888888,\"#fdca26\"],[1.0,\"#f0f921\"]],\"type\":\"heatmap\"}],\"heatmapgl\":[{\"colorbar\":{\"outlinewidth\":0,\"ticks\":\"\"},\"colorscale\":[[0.0,\"#0d0887\"],[0.1111111111111111,\"#46039f\"],[0.2222222222222222,\"#7201a8\"],[0.3333333333333333,\"#9c179e\"],[0.4444444444444444,\"#bd3786\"],[0.5555555555555556,\"#d8576b\"],[0.6666666666666666,\"#ed7953\"],[0.7777777777777778,\"#fb9f3a\"],[0.8888888888888888,\"#fdca26\"],[1.0,\"#f0f921\"]],\"type\":\"heatmapgl\"}],\"histogram\":[{\"marker\":{\"pattern\":{\"fillmode\":\"overlay\",\"size\":10,\"solidity\":0.2}},\"type\":\"histogram\"}],\"histogram2d\":[{\"colorbar\":{\"outlinewidth\":0,\"ticks\":\"\"},\"colorscale\":[[0.0,\"#0d0887\"],[0.1111111111111111,\"#46039f\"],[0.2222222222222222,\"#7201a8\"],[0.3333333333333333,\"#9c179e\"],[0.4444444444444444,\"#bd3786\"],[0.5555555555555556,\"#d8576b\"],[0.6666666666666666,\"#ed7953\"],[0.7777777777777778,\"#fb9f3a\"],[0.8888888888888888,\"#fdca26\"],[1.0,\"#f0f921\"]],\"type\":\"histogram2d\"}],\"histogram2dcontour\":[{\"colorbar\":{\"outlinewidth\":0,\"ticks\":\"\"},\"colorscale\":[[0.0,\"#0d0887\"],[0.1111111111111111,\"#46039f\"],[0.2222222222222222,\"#7201a8\"],[0.3333333333333333,\"#9c179e\"],[0.4444444444444444,\"#bd3786\"],[0.5555555555555556,\"#d8576b\"],[0.6666666666666666,\"#ed7953\"],[0.7777777777777778,\"#fb9f3a\"],[0.8888888888888888,\"#fdca26\"],[1.0,\"#f0f921\"]],\"type\":\"histogram2dcontour\"}],\"mesh3d\":[{\"colorbar\":{\"outlinewidth\":0,\"ticks\":\"\"},\"type\":\"mesh3d\"}],\"parcoords\":[{\"line\":{\"colorbar\":{\"outlinewidth\":0,\"ticks\":\"\"}},\"type\":\"parcoords\"}],\"pie\":[{\"automargin\":true,\"type\":\"pie\"}],\"scatter\":[{\"marker\":{\"colorbar\":{\"outlinewidth\":0,\"ticks\":\"\"}},\"type\":\"scatter\"}],\"scatter3d\":[{\"line\":{\"colorbar\":{\"outlinewidth\":0,\"ticks\":\"\"}},\"marker\":{\"colorbar\":{\"outlinewidth\":0,\"ticks\":\"\"}},\"type\":\"scatter3d\"}],\"scattercarpet\":[{\"marker\":{\"colorbar\":{\"outlinewidth\":0,\"ticks\":\"\"}},\"type\":\"scattercarpet\"}],\"scattergeo\":[{\"marker\":{\"colorbar\":{\"outlinewidth\":0,\"ticks\":\"\"}},\"type\":\"scattergeo\"}],\"scattergl\":[{\"marker\":{\"colorbar\":{\"outlinewidth\":0,\"ticks\":\"\"}},\"type\":\"scattergl\"}],\"scattermapbox\":[{\"marker\":{\"colorbar\":{\"outlinewidth\":0,\"ticks\":\"\"}},\"type\":\"scattermapbox\"}],\"scatterpolar\":[{\"marker\":{\"colorbar\":{\"outlinewidth\":0,\"ticks\":\"\"}},\"type\":\"scatterpolar\"}],\"scatterpolargl\":[{\"marker\":{\"colorbar\":{\"outlinewidth\":0,\"ticks\":\"\"}},\"type\":\"scatterpolargl\"}],\"scatterternary\":[{\"marker\":{\"colorbar\":{\"outlinewidth\":0,\"ticks\":\"\"}},\"type\":\"scatterternary\"}],\"surface\":[{\"colorbar\":{\"outlinewidth\":0,\"ticks\":\"\"},\"colorscale\":[[0.0,\"#0d0887\"],[0.1111111111111111,\"#46039f\"],[0.2222222222222222,\"#7201a8\"],[0.3333333333333333,\"#9c179e\"],[0.4444444444444444,\"#bd3786\"],[0.5555555555555556,\"#d8576b\"],[0.6666666666666666,\"#ed7953\"],[0.7777777777777778,\"#fb9f3a\"],[0.8888888888888888,\"#fdca26\"],[1.0,\"#f0f921\"]],\"type\":\"surface\"}],\"table\":[{\"cells\":{\"fill\":{\"color\":\"#EBF0F8\"},\"line\":{\"color\":\"white\"}},\"header\":{\"fill\":{\"color\":\"#C8D4E3\"},\"line\":{\"color\":\"white\"}},\"type\":\"table\"}]},\"layout\":{\"annotationdefaults\":{\"arrowcolor\":\"#2a3f5f\",\"arrowhead\":0,\"arrowwidth\":1},\"autotypenumbers\":\"strict\",\"coloraxis\":{\"colorbar\":{\"outlinewidth\":0,\"ticks\":\"\"}},\"colorscale\":{\"diverging\":[[0,\"#8e0152\"],[0.1,\"#c51b7d\"],[0.2,\"#de77ae\"],[0.3,\"#f1b6da\"],[0.4,\"#fde0ef\"],[0.5,\"#f7f7f7\"],[0.6,\"#e6f5d0\"],[0.7,\"#b8e186\"],[0.8,\"#7fbc41\"],[0.9,\"#4d9221\"],[1,\"#276419\"]],\"sequential\":[[0.0,\"#0d0887\"],[0.1111111111111111,\"#46039f\"],[0.2222222222222222,\"#7201a8\"],[0.3333333333333333,\"#9c179e\"],[0.4444444444444444,\"#bd3786\"],[0.5555555555555556,\"#d8576b\"],[0.6666666666666666,\"#ed7953\"],[0.7777777777777778,\"#fb9f3a\"],[0.8888888888888888,\"#fdca26\"],[1.0,\"#f0f921\"]],\"sequentialminus\":[[0.0,\"#0d0887\"],[0.1111111111111111,\"#46039f\"],[0.2222222222222222,\"#7201a8\"],[0.3333333333333333,\"#9c179e\"],[0.4444444444444444,\"#bd3786\"],[0.5555555555555556,\"#d8576b\"],[0.6666666666666666,\"#ed7953\"],[0.7777777777777778,\"#fb9f3a\"],[0.8888888888888888,\"#fdca26\"],[1.0,\"#f0f921\"]]},\"colorway\":[\"#636efa\",\"#EF553B\",\"#00cc96\",\"#ab63fa\",\"#FFA15A\",\"#19d3f3\",\"#FF6692\",\"#B6E880\",\"#FF97FF\",\"#FECB52\"],\"font\":{\"color\":\"#2a3f5f\"},\"geo\":{\"bgcolor\":\"white\",\"lakecolor\":\"white\",\"landcolor\":\"#E5ECF6\",\"showlakes\":true,\"showland\":true,\"subunitcolor\":\"white\"},\"hoverlabel\":{\"align\":\"left\"},\"hovermode\":\"closest\",\"mapbox\":{\"style\":\"light\"},\"paper_bgcolor\":\"white\",\"plot_bgcolor\":\"#E5ECF6\",\"polar\":{\"angularaxis\":{\"gridcolor\":\"white\",\"linecolor\":\"white\",\"ticks\":\"\"},\"bgcolor\":\"#E5ECF6\",\"radialaxis\":{\"gridcolor\":\"white\",\"linecolor\":\"white\",\"ticks\":\"\"}},\"scene\":{\"xaxis\":{\"backgroundcolor\":\"#E5ECF6\",\"gridcolor\":\"white\",\"gridwidth\":2,\"linecolor\":\"white\",\"showbackground\":true,\"ticks\":\"\",\"zerolinecolor\":\"white\"},\"yaxis\":{\"backgroundcolor\":\"#E5ECF6\",\"gridcolor\":\"white\",\"gridwidth\":2,\"linecolor\":\"white\",\"showbackground\":true,\"ticks\":\"\",\"zerolinecolor\":\"white\"},\"zaxis\":{\"backgroundcolor\":\"#E5ECF6\",\"gridcolor\":\"white\",\"gridwidth\":2,\"linecolor\":\"white\",\"showbackground\":true,\"ticks\":\"\",\"zerolinecolor\":\"white\"}},\"shapedefaults\":{\"line\":{\"color\":\"#2a3f5f\"}},\"ternary\":{\"aaxis\":{\"gridcolor\":\"white\",\"linecolor\":\"white\",\"ticks\":\"\"},\"baxis\":{\"gridcolor\":\"white\",\"linecolor\":\"white\",\"ticks\":\"\"},\"bgcolor\":\"#E5ECF6\",\"caxis\":{\"gridcolor\":\"white\",\"linecolor\":\"white\",\"ticks\":\"\"}},\"title\":{\"x\":0.05},\"xaxis\":{\"automargin\":true,\"gridcolor\":\"white\",\"linecolor\":\"white\",\"ticks\":\"\",\"title\":{\"standoff\":15},\"zerolinecolor\":\"white\",\"zerolinewidth\":2},\"yaxis\":{\"automargin\":true,\"gridcolor\":\"white\",\"linecolor\":\"white\",\"ticks\":\"\",\"title\":{\"standoff\":15},\"zerolinecolor\":\"white\",\"zerolinewidth\":2}}},\"xaxis\":{\"anchor\":\"y\",\"domain\":[0.0,1.0]},\"yaxis\":{\"anchor\":\"x\",\"domain\":[0.0,1.0],\"title\":{\"text\":\"MEDV\"}},\"legend\":{\"tracegroupgap\":0},\"margin\":{\"t\":60},\"boxmode\":\"group\",\"width\":800,\"height\":800},                        {\"responsive\": true}                    ).then(function(){\n",
              "                            \n",
              "var gd = document.getElementById('a9419680-165d-4e65-b6ff-35d8f99ebb0f');\n",
              "var x = new MutationObserver(function (mutations, observer) {{\n",
              "        var display = window.getComputedStyle(gd).display;\n",
              "        if (!display || display === 'none') {{\n",
              "            console.log([gd, 'removed!']);\n",
              "            Plotly.purge(gd);\n",
              "            observer.disconnect();\n",
              "        }}\n",
              "}});\n",
              "\n",
              "// Listen for the removal of the full notebook cells\n",
              "var notebookContainer = gd.closest('#notebook-container');\n",
              "if (notebookContainer) {{\n",
              "    x.observe(notebookContainer, {childList: true});\n",
              "}}\n",
              "\n",
              "// Listen for the clearing of the current output cell\n",
              "var outputEl = gd.closest('.output');\n",
              "if (outputEl) {{\n",
              "    x.observe(outputEl, {childList: true});\n",
              "}}\n",
              "\n",
              "                        })                };                            </script>        </div>\n",
              "</body>\n",
              "</html>"
            ]
          },
          "metadata": {},
          "output_type": "display_data"
        }
      ],
      "source": [
        "#vendo o gráfico de caixa (box)\n",
        "fig = px.box(data, y=\"MEDV\")\n",
        "fig.update_layout(width=800, height=800)\n",
        "fig.show()"
      ]
    },
    {
      "cell_type": "code",
      "execution_count": null,
      "metadata": {
        "colab": {
          "base_uri": "https://localhost:8080/"
        },
        "id": "fvyWXt7ohANm",
        "outputId": "a9c443cc-825b-4d5a-bc34-60880415841f"
      },
      "outputs": [
        {
          "data": {
            "text/plain": [
              "<bound method NDFrame.describe of         RM  MEDV  LSTAT\n",
              "0    6.575  24.0   4.98\n",
              "1    6.421  21.6   9.14\n",
              "2    7.185  34.7   4.03\n",
              "3    6.998  33.4   2.94\n",
              "4    7.147  36.2   5.33\n",
              "..     ...   ...    ...\n",
              "501  6.593  22.4   9.67\n",
              "502  6.120  20.6   9.08\n",
              "503  6.976  23.9   5.64\n",
              "504  6.794  22.0   6.48\n",
              "505  6.030  11.9   7.88\n",
              "\n",
              "[506 rows x 3 columns]>"
            ]
          },
          "execution_count": 28,
          "metadata": {},
          "output_type": "execute_result"
        }
      ],
      "source": [
        "data[['RM','MEDV','LSTAT']].describe"
      ]
    },
    {
      "cell_type": "code",
      "execution_count": null,
      "metadata": {
        "colab": {
          "base_uri": "https://localhost:8080/"
        },
        "id": "jZJ5R9NgNBy-",
        "outputId": "d4082c5c-e842-434f-81a9-44a8c6355730"
      },
      "outputs": [
        {
          "data": {
            "text/plain": [
              "0    6.575\n",
              "1    6.421\n",
              "2    7.185\n",
              "3    6.998\n",
              "4    7.147\n",
              "Name: RM, dtype: float64"
            ]
          },
          "execution_count": 29,
          "metadata": {},
          "output_type": "execute_result"
        }
      ],
      "source": [
        "data.RM.head()"
      ]
    },
    {
      "cell_type": "code",
      "execution_count": null,
      "metadata": {
        "colab": {
          "base_uri": "https://localhost:8080/",
          "height": 363
        },
        "id": "qjQvG51YNWFn",
        "outputId": "5b449bfa-36e3-4b36-af1e-091b3353fc12"
      },
      "outputs": [
        {
          "data": {
            "text/html": [
              "\n",
              "  <div id=\"df-ea2b2913-856f-4cf1-8a8b-4a0687db0b7c\">\n",
              "    <div class=\"colab-df-container\">\n",
              "      <div>\n",
              "<style scoped>\n",
              "    .dataframe tbody tr th:only-of-type {\n",
              "        vertical-align: middle;\n",
              "    }\n",
              "\n",
              "    .dataframe tbody tr th {\n",
              "        vertical-align: top;\n",
              "    }\n",
              "\n",
              "    .dataframe thead th {\n",
              "        text-align: right;\n",
              "    }\n",
              "</style>\n",
              "<table border=\"1\" class=\"dataframe\">\n",
              "  <thead>\n",
              "    <tr style=\"text-align: right;\">\n",
              "      <th></th>\n",
              "      <th>MEDV</th>\n",
              "      <th>RM</th>\n",
              "      <th>LSTAT</th>\n",
              "    </tr>\n",
              "  </thead>\n",
              "  <tbody>\n",
              "    <tr>\n",
              "      <th>161</th>\n",
              "      <td>50.0</td>\n",
              "      <td>7.489</td>\n",
              "      <td>1.73</td>\n",
              "    </tr>\n",
              "    <tr>\n",
              "      <th>162</th>\n",
              "      <td>50.0</td>\n",
              "      <td>7.802</td>\n",
              "      <td>1.92</td>\n",
              "    </tr>\n",
              "    <tr>\n",
              "      <th>163</th>\n",
              "      <td>50.0</td>\n",
              "      <td>8.375</td>\n",
              "      <td>3.32</td>\n",
              "    </tr>\n",
              "    <tr>\n",
              "      <th>166</th>\n",
              "      <td>50.0</td>\n",
              "      <td>7.929</td>\n",
              "      <td>3.70</td>\n",
              "    </tr>\n",
              "    <tr>\n",
              "      <th>186</th>\n",
              "      <td>50.0</td>\n",
              "      <td>7.831</td>\n",
              "      <td>4.45</td>\n",
              "    </tr>\n",
              "    <tr>\n",
              "      <th>195</th>\n",
              "      <td>50.0</td>\n",
              "      <td>7.875</td>\n",
              "      <td>2.97</td>\n",
              "    </tr>\n",
              "    <tr>\n",
              "      <th>204</th>\n",
              "      <td>50.0</td>\n",
              "      <td>8.034</td>\n",
              "      <td>2.88</td>\n",
              "    </tr>\n",
              "    <tr>\n",
              "      <th>225</th>\n",
              "      <td>50.0</td>\n",
              "      <td>8.725</td>\n",
              "      <td>4.63</td>\n",
              "    </tr>\n",
              "    <tr>\n",
              "      <th>257</th>\n",
              "      <td>50.0</td>\n",
              "      <td>8.704</td>\n",
              "      <td>5.12</td>\n",
              "    </tr>\n",
              "    <tr>\n",
              "      <th>267</th>\n",
              "      <td>50.0</td>\n",
              "      <td>8.297</td>\n",
              "      <td>7.44</td>\n",
              "    </tr>\n",
              "  </tbody>\n",
              "</table>\n",
              "</div>\n",
              "      <button class=\"colab-df-convert\" onclick=\"convertToInteractive('df-ea2b2913-856f-4cf1-8a8b-4a0687db0b7c')\"\n",
              "              title=\"Convert this dataframe to an interactive table.\"\n",
              "              style=\"display:none;\">\n",
              "        \n",
              "  <svg xmlns=\"http://www.w3.org/2000/svg\" height=\"24px\"viewBox=\"0 0 24 24\"\n",
              "       width=\"24px\">\n",
              "    <path d=\"M0 0h24v24H0V0z\" fill=\"none\"/>\n",
              "    <path d=\"M18.56 5.44l.94 2.06.94-2.06 2.06-.94-2.06-.94-.94-2.06-.94 2.06-2.06.94zm-11 1L8.5 8.5l.94-2.06 2.06-.94-2.06-.94L8.5 2.5l-.94 2.06-2.06.94zm10 10l.94 2.06.94-2.06 2.06-.94-2.06-.94-.94-2.06-.94 2.06-2.06.94z\"/><path d=\"M17.41 7.96l-1.37-1.37c-.4-.4-.92-.59-1.43-.59-.52 0-1.04.2-1.43.59L10.3 9.45l-7.72 7.72c-.78.78-.78 2.05 0 2.83L4 21.41c.39.39.9.59 1.41.59.51 0 1.02-.2 1.41-.59l7.78-7.78 2.81-2.81c.8-.78.8-2.07 0-2.86zM5.41 20L4 18.59l7.72-7.72 1.47 1.35L5.41 20z\"/>\n",
              "  </svg>\n",
              "      </button>\n",
              "      \n",
              "  <style>\n",
              "    .colab-df-container {\n",
              "      display:flex;\n",
              "      flex-wrap:wrap;\n",
              "      gap: 12px;\n",
              "    }\n",
              "\n",
              "    .colab-df-convert {\n",
              "      background-color: #E8F0FE;\n",
              "      border: none;\n",
              "      border-radius: 50%;\n",
              "      cursor: pointer;\n",
              "      display: none;\n",
              "      fill: #1967D2;\n",
              "      height: 32px;\n",
              "      padding: 0 0 0 0;\n",
              "      width: 32px;\n",
              "    }\n",
              "\n",
              "    .colab-df-convert:hover {\n",
              "      background-color: #E2EBFA;\n",
              "      box-shadow: 0px 1px 2px rgba(60, 64, 67, 0.3), 0px 1px 3px 1px rgba(60, 64, 67, 0.15);\n",
              "      fill: #174EA6;\n",
              "    }\n",
              "\n",
              "    [theme=dark] .colab-df-convert {\n",
              "      background-color: #3B4455;\n",
              "      fill: #D2E3FC;\n",
              "    }\n",
              "\n",
              "    [theme=dark] .colab-df-convert:hover {\n",
              "      background-color: #434B5C;\n",
              "      box-shadow: 0px 1px 3px 1px rgba(0, 0, 0, 0.15);\n",
              "      filter: drop-shadow(0px 1px 2px rgba(0, 0, 0, 0.3));\n",
              "      fill: #FFFFFF;\n",
              "    }\n",
              "  </style>\n",
              "\n",
              "      <script>\n",
              "        const buttonEl =\n",
              "          document.querySelector('#df-ea2b2913-856f-4cf1-8a8b-4a0687db0b7c button.colab-df-convert');\n",
              "        buttonEl.style.display =\n",
              "          google.colab.kernel.accessAllowed ? 'block' : 'none';\n",
              "\n",
              "        async function convertToInteractive(key) {\n",
              "          const element = document.querySelector('#df-ea2b2913-856f-4cf1-8a8b-4a0687db0b7c');\n",
              "          const dataTable =\n",
              "            await google.colab.kernel.invokeFunction('convertToInteractive',\n",
              "                                                     [key], {});\n",
              "          if (!dataTable) return;\n",
              "\n",
              "          const docLinkHtml = 'Like what you see? Visit the ' +\n",
              "            '<a target=\"_blank\" href=https://colab.research.google.com/notebooks/data_table.ipynb>data table notebook</a>'\n",
              "            + ' to learn more about interactive tables.';\n",
              "          element.innerHTML = '';\n",
              "          dataTable['output_type'] = 'display_data';\n",
              "          await google.colab.output.renderOutput(dataTable, element);\n",
              "          const docLink = document.createElement('div');\n",
              "          docLink.innerHTML = docLinkHtml;\n",
              "          element.appendChild(docLink);\n",
              "        }\n",
              "      </script>\n",
              "    </div>\n",
              "  </div>\n",
              "  "
            ],
            "text/plain": [
              "     MEDV     RM  LSTAT\n",
              "161  50.0  7.489   1.73\n",
              "162  50.0  7.802   1.92\n",
              "163  50.0  8.375   3.32\n",
              "166  50.0  7.929   3.70\n",
              "186  50.0  7.831   4.45\n",
              "195  50.0  7.875   2.97\n",
              "204  50.0  8.034   2.88\n",
              "225  50.0  8.725   4.63\n",
              "257  50.0  8.704   5.12\n",
              "267  50.0  8.297   7.44"
            ]
          },
          "execution_count": 30,
          "metadata": {},
          "output_type": "execute_result"
        }
      ],
      "source": [
        "data[['MEDV','RM','LSTAT']].nlargest(10,'MEDV')"
      ]
    },
    {
      "cell_type": "code",
      "execution_count": null,
      "metadata": {
        "colab": {
          "base_uri": "https://localhost:8080/"
        },
        "id": "kr92ZJV-Np0M",
        "outputId": "f3ccefd9-8413-47bf-9a5e-3884f36adf34"
      },
      "outputs": [
        {
          "data": {
            "text/plain": [
              "Int64Index([161, 162, 163, 166, 186, 195, 204, 225, 257, 267, 283, 368, 369,\n",
              "            370, 371],\n",
              "           dtype='int64')"
            ]
          },
          "execution_count": 31,
          "metadata": {},
          "output_type": "execute_result"
        }
      ],
      "source": [
        "top15 = data.nlargest(15, 'MEDV').index\n",
        "top15"
      ]
    },
    {
      "cell_type": "code",
      "execution_count": null,
      "metadata": {
        "colab": {
          "base_uri": "https://localhost:8080/",
          "height": 542
        },
        "id": "za1HYi3VN-iE",
        "outputId": "9d2a0ef8-b082-4208-fb26-b005ff05ec55"
      },
      "outputs": [
        {
          "data": {
            "text/html": [
              "<html>\n",
              "<head><meta charset=\"utf-8\" /></head>\n",
              "<body>\n",
              "    <div>            <script src=\"https://cdnjs.cloudflare.com/ajax/libs/mathjax/2.7.5/MathJax.js?config=TeX-AMS-MML_SVG\"></script><script type=\"text/javascript\">if (window.MathJax) {MathJax.Hub.Config({SVG: {font: \"STIX-Web\"}});}</script>                <script type=\"text/javascript\">window.PlotlyConfig = {MathJaxConfig: 'local'};</script>\n",
              "        <script src=\"https://cdn.plot.ly/plotly-2.8.3.min.js\"></script>                <div id=\"1083912a-422b-4065-b978-d98ccaaa7c9d\" class=\"plotly-graph-div\" style=\"height:525px; width:100%;\"></div>            <script type=\"text/javascript\">                                    window.PLOTLYENV=window.PLOTLYENV || {};                                    if (document.getElementById(\"1083912a-422b-4065-b978-d98ccaaa7c9d\")) {                    Plotly.newPlot(                        \"1083912a-422b-4065-b978-d98ccaaa7c9d\",                        [{\"autobinx\":false,\"histnorm\":\"probability density\",\"legendgroup\":\"distribui\\u00e7\\u00e3o da vari\\u00e1vel MEDV (valor m\\u00e9dio por p\\u00e9 quadrado\",\"marker\":{\"color\":\"rgb(31, 119, 180)\"},\"name\":\"distribui\\u00e7\\u00e3o da vari\\u00e1vel MEDV (valor m\\u00e9dio por p\\u00e9 quadrado\",\"opacity\":0.7,\"x\":[24.0,21.6,34.7,33.4,36.2,28.7,22.9,27.1,16.5,18.9,15.0,18.9,21.7,20.4,18.2,19.9,23.1,17.5,20.2,18.2,13.6,19.6,15.2,14.5,15.6,13.9,16.6,14.8,18.4,21.0,12.7,14.5,13.2,13.1,13.5,18.9,20.0,21.0,24.7,30.8,34.9,26.6,25.3,24.7,21.2,19.3,20.0,16.6,14.4,19.4,19.7,20.5,25.0,23.4,18.9,35.4,24.7,31.6,23.3,19.6,18.7,16.0,22.2,25.0,33.0,23.5,19.4,22.0,17.4,20.9,24.2,21.7,22.8,23.4,24.1,21.4,20.0,20.8,21.2,20.3,28.0,23.9,24.8,22.9,23.9,26.6,22.5,22.2,23.6,28.7,22.6,22.0,22.9,25.0,20.6,28.4,21.4,38.7,43.8,33.2,27.5,26.5,18.6,19.3,20.1,19.5,19.5,20.4,19.8,19.4,21.7,22.8,18.8,18.7,18.5,18.3,21.2,19.2,20.4,19.3,22.0,20.3,20.5,17.3,18.8,21.4,15.7,16.2,18.0,14.3,19.2,19.6,23.0,18.4,15.6,18.1,17.4,17.1,13.3,17.8,14.0,14.4,13.4,15.6,11.8,13.8,15.6,14.6,17.8,15.4,21.5,19.6,15.3,19.4,17.0,15.6,13.1,41.3,24.3,23.3,27.0,22.7,25.0,23.8,23.8,22.3,17.4,19.1,23.1,23.6,22.6,29.4,23.2,24.6,29.9,37.2,39.8,36.2,37.9,32.5,26.4,29.6,32.0,29.8,34.9,37.0,30.5,36.4,31.1,29.1,33.3,30.3,34.6,34.9,32.9,24.1,42.3,48.5,22.6,24.4,22.5,24.4,20.0,21.7,19.3,22.4,28.1,23.7,25.0,23.3,28.7,21.5,23.0,26.7,21.7,27.5,30.1,44.8,37.6,31.6,46.7,31.5,24.3,31.7,41.7,48.3,29.0,24.0,25.1,31.5,23.7,23.3,22.0,20.1,22.2,23.7,17.6,18.5,24.3,20.5,24.5,26.2,24.4,24.8,29.6,42.8,21.9,20.9,44.0,36.0,30.1,33.8,43.1,48.8,31.0,36.5,22.8,30.7,43.5,20.7,21.1,25.2,24.4,35.2,32.4,32.0,33.2,33.1,29.1,35.1,45.4,35.4,46.0,32.2,22.0,20.1,23.2,22.3,24.8,28.5,37.3,27.9,23.9,21.7,28.6,27.1,20.3,22.5,29.0,24.8,22.0,26.4,33.1,36.1,28.4,33.4,28.2,22.8,20.3,16.1,22.1,19.4,21.6,23.8,16.2,17.8,19.8,23.1,21.0,23.8,23.1,20.4,18.5,25.0,24.6,23.0,22.2,19.3,22.6,19.8,17.1,19.4,22.2,20.7,21.1,19.5,18.5,20.6,19.0,18.7,32.7,16.5,23.9,31.2,17.5,17.2,23.1,24.5,26.6,22.9,24.1,18.6,30.1,18.2,20.6,17.8,21.7,22.7,22.6,25.0,19.9,20.8,16.8,21.9,27.5,21.9,23.1,50.0,13.8,13.8,15.0,13.9,13.3,13.1,10.2,10.4,10.9,11.3,12.3,8.8,7.2,10.5,7.4,10.2,11.5,15.1,23.2,9.7,13.8,12.7,13.1,12.5,8.5,5.0,6.3,5.6,7.2,12.1,8.3,8.5,5.0,11.9,27.9,17.2,27.5,15.0,17.2,17.9,16.3,7.0,7.2,7.5,10.4,8.8,8.4,16.7,14.2,20.8,13.4,11.7,8.3,10.2,10.9,11.0,9.5,14.5,14.1,16.1,14.3,11.7,13.4,9.6,8.7,8.4,12.8,10.5,17.1,18.4,15.4,10.8,11.8,14.9,12.6,14.1,13.0,13.4,15.2,16.1,17.8,14.9,14.1,12.7,13.5,14.9,20.0,16.4,17.7,19.5,20.2,21.4,19.9,19.0,19.1,19.1,20.1,19.9,19.6,23.2,29.8,13.8,13.3,16.7,12.0,14.6,21.4,23.0,23.7,25.0,21.8,20.6,21.2,19.1,20.6,15.2,7.0,8.1,13.6,20.1,21.8,24.5,23.1,19.7,18.3,21.2,17.5,16.8,22.4,20.6,23.9,22.0,11.9],\"xaxis\":\"x\",\"xbins\":{\"end\":50.0,\"size\":0.2,\"start\":5.0},\"yaxis\":\"y\",\"type\":\"histogram\"},{\"legendgroup\":\"distribui\\u00e7\\u00e3o da vari\\u00e1vel MEDV (valor m\\u00e9dio por p\\u00e9 quadrado\",\"marker\":{\"color\":\"rgb(31, 119, 180)\"},\"mode\":\"lines\",\"name\":\"distribui\\u00e7\\u00e3o da vari\\u00e1vel MEDV (valor m\\u00e9dio por p\\u00e9 quadrado\",\"showlegend\":false,\"x\":[5.0,5.09,5.18,5.27,5.36,5.45,5.54,5.63,5.72,5.8100000000000005,5.9,5.99,6.08,6.17,6.26,6.35,6.4399999999999995,6.53,6.62,6.71,6.8,6.89,6.98,7.07,7.16,7.25,7.34,7.43,7.52,7.609999999999999,7.7,7.79,7.88,7.970000000000001,8.06,8.15,8.24,8.33,8.42,8.51,8.6,8.69,8.78,8.870000000000001,8.96,9.05,9.14,9.23,9.32,9.41,9.5,9.59,9.68,9.77,9.86,9.95,10.04,10.129999999999999,10.219999999999999,10.309999999999999,10.4,10.49,10.58,10.67,10.76,10.85,10.940000000000001,11.030000000000001,11.120000000000001,11.21,11.3,11.39,11.48,11.57,11.66,11.75,11.84,11.93,12.02,12.11,12.2,12.29,12.379999999999999,12.469999999999999,12.559999999999999,12.65,12.74,12.83,12.92,13.01,13.1,13.19,13.28,13.37,13.46,13.55,13.64,13.73,13.82,13.91,14.0,14.09,14.18,14.27,14.36,14.45,14.54,14.63,14.72,14.81,14.9,14.99,15.08,15.17,15.26,15.35,15.44,15.53,15.62,15.71,15.8,15.89,15.98,16.07,16.16,16.25,16.34,16.43,16.52,16.61,16.7,16.79,16.880000000000003,16.97,17.060000000000002,17.15,17.240000000000002,17.33,17.42,17.509999999999998,17.6,17.689999999999998,17.78,17.869999999999997,17.96,18.05,18.14,18.23,18.32,18.41,18.5,18.59,18.68,18.77,18.86,18.95,19.04,19.130000000000003,19.22,19.310000000000002,19.4,19.490000000000002,19.58,19.67,19.759999999999998,19.85,19.939999999999998,20.03,20.119999999999997,20.21,20.3,20.39,20.48,20.57,20.66,20.75,20.84,20.93,21.02,21.11,21.2,21.29,21.38,21.47,21.56,21.65,21.74,21.83,21.92,22.01,22.1,22.19,22.28,22.37,22.46,22.55,22.64,22.73,22.82,22.91,23.0,23.09,23.18,23.27,23.36,23.45,23.54,23.63,23.72,23.81,23.9,23.99,24.08,24.17,24.26,24.35,24.44,24.53,24.62,24.71,24.8,24.89,24.98,25.07,25.16,25.25,25.34,25.43,25.52,25.61,25.7,25.79,25.88,25.97,26.06,26.15,26.24,26.33,26.42,26.51,26.6,26.69,26.78,26.87,26.96,27.05,27.14,27.23,27.32,27.41,27.5,27.59,27.68,27.77,27.86,27.95,28.04,28.13,28.22,28.31,28.4,28.49,28.58,28.67,28.76,28.85,28.94,29.03,29.12,29.21,29.3,29.39,29.48,29.57,29.66,29.75,29.84,29.93,30.02,30.11,30.2,30.29,30.38,30.47,30.56,30.65,30.74,30.83,30.92,31.01,31.1,31.19,31.28,31.37,31.46,31.55,31.64,31.73,31.82,31.91,32.0,32.09,32.18,32.269999999999996,32.36,32.45,32.54,32.629999999999995,32.72,32.81,32.9,32.989999999999995,33.08,33.17,33.260000000000005,33.35,33.44,33.53,33.620000000000005,33.71,33.8,33.89,33.980000000000004,34.07,34.16,34.25,34.34,34.43,34.519999999999996,34.61,34.7,34.79,34.879999999999995,34.97,35.06,35.15,35.239999999999995,35.33,35.42,35.510000000000005,35.6,35.69,35.78,35.870000000000005,35.96,36.05,36.14,36.230000000000004,36.32,36.41,36.5,36.59,36.68,36.769999999999996,36.86,36.95,37.04,37.13,37.22,37.31,37.4,37.49,37.58,37.67,37.76,37.85,37.94,38.03,38.12,38.21,38.3,38.39,38.48,38.57,38.66,38.75,38.84,38.93,39.02,39.11,39.2,39.29,39.38,39.47,39.56,39.65,39.74,39.83,39.92,40.01,40.1,40.19,40.28,40.37,40.46,40.55,40.64,40.73,40.82,40.91,41.0,41.09,41.18,41.27,41.36,41.45,41.54,41.63,41.72,41.81,41.9,41.99,42.08,42.17,42.26,42.35,42.44,42.53,42.62,42.71,42.8,42.89,42.98,43.07,43.16,43.25,43.34,43.43,43.52,43.61,43.7,43.79,43.88,43.97,44.06,44.15,44.24,44.33,44.42,44.51,44.6,44.69,44.78,44.87,44.96,45.05,45.14,45.23,45.32,45.41,45.5,45.59,45.68,45.77,45.86,45.95,46.04,46.13,46.22,46.31,46.4,46.49,46.58,46.67,46.76,46.85,46.94,47.03,47.12,47.21,47.3,47.39,47.48,47.57,47.66,47.75,47.84,47.93,48.02,48.11,48.2,48.29,48.38,48.47,48.56,48.65,48.74,48.83,48.92,49.01,49.1,49.19,49.28,49.37,49.46,49.55,49.64,49.73,49.82,49.91],\"xaxis\":\"x\",\"y\":[0.004476030871554713,0.0046526573074172775,0.004832459884533898,0.005015324445673636,0.005201132219935357,0.005389760517084242,0.005581083476309271,0.0057749728663383255,0.005971298933202755,0.006169931291293083,0.006370739852698794,0.006573595789186934,0.0067783725205530524,0.006984946722484395,0.007193199346515667,0.007403016644143101,0.007614291186699246,0.007826922872189486,0.008040819909957416,0.00825589977378959,0.00847209011389591,0.008689329618116894,0.008907568812718793,0.009126770793245208,0.009346911876104258,0.009567982161884227,0.0097899860018094,0.010012942359272399,0.010236885059005836,0.010461862917184633,0.010687939746574933,0.01091519423176234,0.011143719670494058,0.01137362357825077,0.011605027154313472,0.011838064608803203,0.012072882351432203,0.012309638044008057,0.012548499520061956,0.012789643576319246,0.013033254642081013,0.01327952333392725,0.013528644904472184,0.01378081759518748,0.0140362409045463,0.014295113783917044,0.014557632774738361,0.014823990101522916,0.015094371736155068,0.015368955449755724,0.015647908869074127,0.015931387554922148,0.01621953312058144,0.01651247140837844,0.016810310742731312,0.017113140277915717,0.017421028458572272,0.01773402161057889,0.01805214267933634,0.018375390131762016,0.01870373703735596,0.01903713034259569,0.01937549035163768,0.01971871042485468,0.020066656905132096,0.02041916928008636,0.02077606058646972,0.021137118060997596,0.021502104039695134,0.021870757105620486,0.022242793482509206,0.0226179086695075,0.022995779309752773,0.02337606528313423,0.023758412011151402,0.02414245295940921,0.024527812320969164,0.02491410786154533,0.025300953905416413,0.025687964438946647,0.0260747563067977,0.026460952474291026,0.02684618532797276,0.027230099985263132,0.027612357583153956,0.02799263851527983,0.02837064558633337,0.028746107052745346,0.02911877951880932,0.02948845065800687,0.029854941730184218,0.030218109866442636,0.030577850095130074,0.030934097084148397,0.031286826576909565,0.03163605650166503,0.03198184773658169,0.032324304515812544,0.032663574464894374,0.03299984825706085,0.033333358885459484,0.03366438054977163,0.03399322715931581,0.034320250458334305,0.03464583778277913,0.034970409461490784,0.035294415878156696,0.03561833421381952,0.03594266489292674,0.03626792775894733,0.036594658008393316,0.03692340191463305,0.03725471237515294,0.037589144317879256,0.0379272500037903,0.0382695742643178,0.03861664971292651,0.03896899197078007,0.03932709494651699,0.03969142620989472,0.0400624224983905,0.040440485394798706,0.040825977212427235,0.04121921712270019,0.04162047755782197,0.042029980918684484,0.042447896615415565,0.04287433846491133,0.04330936246639408,0.043752964972526634,0.04420508126992404,0.044665584579088244,0.045134285479869383,0.04561093176459042,0.046095208716991604,0.046586739811201455,0.04708508782107373,0.04758975632647239,0.04810019159949733,0.04861578485025323,0.04913587480861056,0.049659750615534376,0.05018665499499237,0.05071578767522269,0.051246309026287594,0.05177734387936304,0.05230798549214955,0.05283729962414296,0.05336432868528303,0.05388809592170942,0.05440760960298699,0.05492186717622496,0.05542985935396969,0.05593057410460002,0.056423000516162544,0.056906132507125194,0.05737897236036531,0.057840534059803474,0.058289846412410966,0.05872595594180031,0.059147929543207606,0.05955485689335798,0.059945852612386635,0.06032005817864532,0.06067664360078889,0.06101480885495347,0.061333785098068694,0.06163283567132592,0.06191125691052966,0.062168378782416676,0.062403565368041106,0.06261621521592031,0.06280576158882512,0.062971672628837,0.06311345146558084,0.06323063629237406,0.06332280043439872,0.06338955243192565,0.063430536160114,0.06344543100498265,0.0634339521128585,0.06339585072796527,0.06333091462987514,0.06323896867935506,0.0631198754777478,0.06297353614149176,0.06279989118975884,0.0625989215395437,0.06237064959892803,0.06211514044572432,0.06183250307535286,0.06152289169866156,0.06118650706753348,0.060823597803579404,0.06043446170304079,0.06001944698926335,0.05957895348278796,0.05911343365825798,0.05862339355700655,0.058109393524337354,0.05757204874120189,0.05701202952115584,0.0564300613451727,0.05582692460905927,0.055203454060845265,0.05456053790856777,0.05389911658229907,0.053220181138025804,0.05252477129504012,0.051813973102762256,0.05108891623736035,0.05035077093306185,0.04960074455762837,0.048840077846007315,0.04807004081062554,0.04729192835107556,0.04650705559001785,0.0457167529659064,0.04492236111659758,0.04412522559097068,0.04332669142832291,0.04252809764747255,0.04173077168917322,0.0409360238565912,0.04014514179920536,0.039359385085554914,0.03857997990976995,0.037808113975802436,0.03704493160171808,0.03629152908436617,0.03554895036221424,0.034818183011179275,0.03410015460492834,0.03339572946742113,0.03270570584146599,0.032030813492821164,0.031371711764944736,0.03072898809494968,0.03010315699670044,0.029494659512370788,0.02890386312921294,0.028331062153833124,0.02777647853198088,0.02724026309778437,0.026722497232557124,0.026223194909801403,0.02574230509987235,0.025279714504989833,0.02483525059289824,0.02440868489552104,0.02399973653742439,0.023608075957820544,0.023233328789197333,0.0228750798554477,0.022532877252588398,0.022206236475777352,0.021894644557343607,0.021597564181908217,0.021314437746364708,0.02104469133447186,0.020787738578053543,0.02054298437925645,0.02030982847095473,0.020087668795157783,0.01987590468214381,0.01967393981595752,0.019481184974839843,0.019297060538059636,0.019120998753457744,0.018952445762756617,0.018790863384305172,0.01863573065538686,0.018486545138502498,0.01834282399811849,0.01820410485623885,0.018069946436795187,0.01793992901025249,0.017813654650987883,0.017690747320921164,0.01757085279355856,0.017453638433063075,0.017338792843196955,0.017226025401005096,0.017115065689939635,0.01700566284678043,0.016897584836208106,0.016790617666248956,0.01668456455706158,0.016579245074693823,0.016474494240525987,0.016370161626156166,0.016266110442495405,0.01616221663084634,0.016058367962754307,0.01595446315446562,0.015850411000917077,0.015746129533326648,0.015641545203669973,0.01553659209862008,0.015431211184902711,0.015325349587484214,0.01521895990156165,0.01511199953896997,0.015004430109348448,0.014896216836224867,0.014787328008062376,0.014677734464274336,0.014567409116228867,0.014456326503332827,0.014344462384390699,0.014231793364567789,0.014118296558435115,0.014003949289727933,0.013888728828595391,0.013772612167247325,0.013655575835005901,0.01353759575383557,0.01341864713544513,0.013298704421029145,0.013177741264632475,0.013055730560983322,0.012932644518440475,0.012808454777445213,0.0126831325745531,0.01255664895175702,0.01242897501039559,0.012300082208487,0.012169942699835536,0.01203852971274335,0.011905817965625292,0.011771784116286056,0.01163640724108276,0.011499669339674983,0.011361555860568424,0.011222056242197163,0.0110811644638738,0.010938879600576554,0.01079520637524165,0.0106501557020027,0.010503745213664066,0.010355999766624168,0.01020695191647638,0.010056642357613582,0.0099051203203484,0.009752443919331338,0.009598680447405689,0.009443906609472244,0.009288208691447801,0.009131682659980881,0.008974434189229316,0.008816578611699297,0.008658240790885464,0.008499554914226071,0.008340664205687865,0.008181720558110407,0.008022884086258992,0.007864322602349389,0.00770621101660617,0.007548730666188864,0.007392068576558002,0.007236416660048515,0.007081970857061317,0.006928930225870193,0.006777495987562971,0.00662787053308933,0.006480256399767236,0.006334855224904953,0.006191866684421092,0.006051487424493591,0.005913909994336425,0.005779321788194662,0.005647904004563114,0.005519830630476383,0.0053952674584897675,0.005274371143677839,0.005157288307622475,0.005044154695952042,0.004935094395532766,0.004830219116907517,0.004729627547033344,0.004633404776791835,0.0045416218071435135,0.004454335137172589,0.004371586436631172,0.004293402304943277,0.004219794117980027,0.004150757963267633,0.004086274663649974,0.004026309888796947,0.003970814353337659,0.003919724099804195,0.0038729608640028124,0.0038304325198877803,0.0037920336005019283,0.003757645891068733,0.003727139089878196,0.003700371532201643,0.0036771909721040577,0.0036574354166946294,0.0036409340070709876,0.00362750793996898,0.00361697142392922,0.0036091326636345697,0.003603794865959027,0.0036007572611982115,0.0035998161329249163,0.0036007658499290574,0.003603399893759551,0.0036075118754853733,0.0036128965354328755,0.0036193507198359247,0.003626674328552176,0.0036346712282521406,0.003643150125775447,0.003651925396668504,0.003660817864268367,0.0036696555250757797,0.0036782742165640454,0.0036865182239967514,0.0036942408232736746,0.0037013047572872775,0.0037075826437490945,0.0037129573129327095,0.00371732207427474,0.003720580911273731,0.00372264860462581,0.0037234507840319003,0.003722923909600967,0.003721015184253435,0.0037176823989956247,0.003712893713386334,0.0037066273739475596,0.0036988713736796144,0.003689623056224017,0.003678888668572571,0.003666682866545676,0.003653028177554975,0.0036379544254227375,0.003621498122251185,0.003603701832518029,0.0035846135147180286,0.00356428584597395,0.003542775535102838,0.0035201426296447773,0.0034964498223408864,0.0034717617624858417,0.0034461443774772924,0.003419664209741929,0.0033923877740354527,0.003364380939893726,0.0033357083437553607,0.003306432834984835,0.0032766149597008823,0.0032463124859607663,0.0032155799734689427,0.0031844683905717635,0.0031530247808713575,0.003121291981344785,0.0030893083933927067,0.003057107807768753,0.0030247192838605214,0.002992167083309446,0.0029594706574744287,0.0029266446877663885,0.002893699177413319,0.0028606395927609843,0.002827467051778678,0.0027941785570255217,0.002760767269945712,0.002727222823003962,0.0026935316658496535,0.002659677441412583,0.0026256413875884867,0.0025914027599707266,0.0025569392709288543,0.0025222275402260025,0.002487243552307727,0.0024519631153847765,0.0024163623174724364,0.0023804179746387422,0.0023441080668522656,0.0023074121570060752,0.0022703117889253128,0.002232790860439698,0.0021948359679151825,0.00215643671898815,0.0021175860106260195,0.0020782802700461374,0.002038519656454785,0.001998308222015539,0.0019576540309151082,0.0019165692358600933,0.001875070111803897,0.0018331770471641067,0.0017909144932411157,0.0017483108729838613,0.001705398450662623,0.0016622131643978582,0.0016187944238530017,0.001575184875724941],\"yaxis\":\"y\",\"type\":\"scatter\"},{\"legendgroup\":\"distribui\\u00e7\\u00e3o da vari\\u00e1vel MEDV (valor m\\u00e9dio por p\\u00e9 quadrado\",\"marker\":{\"color\":\"rgb(31, 119, 180)\",\"symbol\":\"line-ns-open\"},\"mode\":\"markers\",\"name\":\"distribui\\u00e7\\u00e3o da vari\\u00e1vel MEDV (valor m\\u00e9dio por p\\u00e9 quadrado\",\"showlegend\":false,\"x\":[24.0,21.6,34.7,33.4,36.2,28.7,22.9,27.1,16.5,18.9,15.0,18.9,21.7,20.4,18.2,19.9,23.1,17.5,20.2,18.2,13.6,19.6,15.2,14.5,15.6,13.9,16.6,14.8,18.4,21.0,12.7,14.5,13.2,13.1,13.5,18.9,20.0,21.0,24.7,30.8,34.9,26.6,25.3,24.7,21.2,19.3,20.0,16.6,14.4,19.4,19.7,20.5,25.0,23.4,18.9,35.4,24.7,31.6,23.3,19.6,18.7,16.0,22.2,25.0,33.0,23.5,19.4,22.0,17.4,20.9,24.2,21.7,22.8,23.4,24.1,21.4,20.0,20.8,21.2,20.3,28.0,23.9,24.8,22.9,23.9,26.6,22.5,22.2,23.6,28.7,22.6,22.0,22.9,25.0,20.6,28.4,21.4,38.7,43.8,33.2,27.5,26.5,18.6,19.3,20.1,19.5,19.5,20.4,19.8,19.4,21.7,22.8,18.8,18.7,18.5,18.3,21.2,19.2,20.4,19.3,22.0,20.3,20.5,17.3,18.8,21.4,15.7,16.2,18.0,14.3,19.2,19.6,23.0,18.4,15.6,18.1,17.4,17.1,13.3,17.8,14.0,14.4,13.4,15.6,11.8,13.8,15.6,14.6,17.8,15.4,21.5,19.6,15.3,19.4,17.0,15.6,13.1,41.3,24.3,23.3,27.0,22.7,25.0,23.8,23.8,22.3,17.4,19.1,23.1,23.6,22.6,29.4,23.2,24.6,29.9,37.2,39.8,36.2,37.9,32.5,26.4,29.6,32.0,29.8,34.9,37.0,30.5,36.4,31.1,29.1,33.3,30.3,34.6,34.9,32.9,24.1,42.3,48.5,22.6,24.4,22.5,24.4,20.0,21.7,19.3,22.4,28.1,23.7,25.0,23.3,28.7,21.5,23.0,26.7,21.7,27.5,30.1,44.8,37.6,31.6,46.7,31.5,24.3,31.7,41.7,48.3,29.0,24.0,25.1,31.5,23.7,23.3,22.0,20.1,22.2,23.7,17.6,18.5,24.3,20.5,24.5,26.2,24.4,24.8,29.6,42.8,21.9,20.9,44.0,36.0,30.1,33.8,43.1,48.8,31.0,36.5,22.8,30.7,43.5,20.7,21.1,25.2,24.4,35.2,32.4,32.0,33.2,33.1,29.1,35.1,45.4,35.4,46.0,32.2,22.0,20.1,23.2,22.3,24.8,28.5,37.3,27.9,23.9,21.7,28.6,27.1,20.3,22.5,29.0,24.8,22.0,26.4,33.1,36.1,28.4,33.4,28.2,22.8,20.3,16.1,22.1,19.4,21.6,23.8,16.2,17.8,19.8,23.1,21.0,23.8,23.1,20.4,18.5,25.0,24.6,23.0,22.2,19.3,22.6,19.8,17.1,19.4,22.2,20.7,21.1,19.5,18.5,20.6,19.0,18.7,32.7,16.5,23.9,31.2,17.5,17.2,23.1,24.5,26.6,22.9,24.1,18.6,30.1,18.2,20.6,17.8,21.7,22.7,22.6,25.0,19.9,20.8,16.8,21.9,27.5,21.9,23.1,50.0,13.8,13.8,15.0,13.9,13.3,13.1,10.2,10.4,10.9,11.3,12.3,8.8,7.2,10.5,7.4,10.2,11.5,15.1,23.2,9.7,13.8,12.7,13.1,12.5,8.5,5.0,6.3,5.6,7.2,12.1,8.3,8.5,5.0,11.9,27.9,17.2,27.5,15.0,17.2,17.9,16.3,7.0,7.2,7.5,10.4,8.8,8.4,16.7,14.2,20.8,13.4,11.7,8.3,10.2,10.9,11.0,9.5,14.5,14.1,16.1,14.3,11.7,13.4,9.6,8.7,8.4,12.8,10.5,17.1,18.4,15.4,10.8,11.8,14.9,12.6,14.1,13.0,13.4,15.2,16.1,17.8,14.9,14.1,12.7,13.5,14.9,20.0,16.4,17.7,19.5,20.2,21.4,19.9,19.0,19.1,19.1,20.1,19.9,19.6,23.2,29.8,13.8,13.3,16.7,12.0,14.6,21.4,23.0,23.7,25.0,21.8,20.6,21.2,19.1,20.6,15.2,7.0,8.1,13.6,20.1,21.8,24.5,23.1,19.7,18.3,21.2,17.5,16.8,22.4,20.6,23.9,22.0,11.9],\"xaxis\":\"x\",\"y\":[\"distribui\\u00e7\\u00e3o da vari\\u00e1vel MEDV (valor m\\u00e9dio por p\\u00e9 quadrado\",\"distribui\\u00e7\\u00e3o da vari\\u00e1vel MEDV (valor m\\u00e9dio por p\\u00e9 quadrado\",\"distribui\\u00e7\\u00e3o da vari\\u00e1vel MEDV (valor m\\u00e9dio por p\\u00e9 quadrado\",\"distribui\\u00e7\\u00e3o da vari\\u00e1vel MEDV (valor m\\u00e9dio por p\\u00e9 quadrado\",\"distribui\\u00e7\\u00e3o da vari\\u00e1vel MEDV (valor m\\u00e9dio por p\\u00e9 quadrado\",\"distribui\\u00e7\\u00e3o da vari\\u00e1vel MEDV (valor m\\u00e9dio por p\\u00e9 quadrado\",\"distribui\\u00e7\\u00e3o da vari\\u00e1vel MEDV (valor m\\u00e9dio por p\\u00e9 quadrado\",\"distribui\\u00e7\\u00e3o da vari\\u00e1vel MEDV (valor m\\u00e9dio por p\\u00e9 quadrado\",\"distribui\\u00e7\\u00e3o da vari\\u00e1vel MEDV (valor m\\u00e9dio por p\\u00e9 quadrado\",\"distribui\\u00e7\\u00e3o da vari\\u00e1vel MEDV (valor m\\u00e9dio por p\\u00e9 quadrado\",\"distribui\\u00e7\\u00e3o da vari\\u00e1vel MEDV (valor m\\u00e9dio por p\\u00e9 quadrado\",\"distribui\\u00e7\\u00e3o da vari\\u00e1vel MEDV (valor m\\u00e9dio por p\\u00e9 quadrado\",\"distribui\\u00e7\\u00e3o da vari\\u00e1vel MEDV (valor m\\u00e9dio por p\\u00e9 quadrado\",\"distribui\\u00e7\\u00e3o da vari\\u00e1vel MEDV (valor m\\u00e9dio por p\\u00e9 quadrado\",\"distribui\\u00e7\\u00e3o da vari\\u00e1vel MEDV (valor m\\u00e9dio por p\\u00e9 quadrado\",\"distribui\\u00e7\\u00e3o da vari\\u00e1vel MEDV (valor m\\u00e9dio por p\\u00e9 quadrado\",\"distribui\\u00e7\\u00e3o da vari\\u00e1vel MEDV (valor m\\u00e9dio por p\\u00e9 quadrado\",\"distribui\\u00e7\\u00e3o da vari\\u00e1vel MEDV (valor m\\u00e9dio por p\\u00e9 quadrado\",\"distribui\\u00e7\\u00e3o da vari\\u00e1vel MEDV (valor m\\u00e9dio por p\\u00e9 quadrado\",\"distribui\\u00e7\\u00e3o da vari\\u00e1vel MEDV (valor m\\u00e9dio por p\\u00e9 quadrado\",\"distribui\\u00e7\\u00e3o da vari\\u00e1vel MEDV (valor m\\u00e9dio por p\\u00e9 quadrado\",\"distribui\\u00e7\\u00e3o da vari\\u00e1vel MEDV (valor m\\u00e9dio por p\\u00e9 quadrado\",\"distribui\\u00e7\\u00e3o da vari\\u00e1vel MEDV (valor m\\u00e9dio por p\\u00e9 quadrado\",\"distribui\\u00e7\\u00e3o da vari\\u00e1vel MEDV (valor m\\u00e9dio por p\\u00e9 quadrado\",\"distribui\\u00e7\\u00e3o da vari\\u00e1vel MEDV (valor m\\u00e9dio por p\\u00e9 quadrado\",\"distribui\\u00e7\\u00e3o da vari\\u00e1vel MEDV (valor m\\u00e9dio por p\\u00e9 quadrado\",\"distribui\\u00e7\\u00e3o da vari\\u00e1vel MEDV (valor m\\u00e9dio por p\\u00e9 quadrado\",\"distribui\\u00e7\\u00e3o da vari\\u00e1vel MEDV (valor m\\u00e9dio por p\\u00e9 quadrado\",\"distribui\\u00e7\\u00e3o da vari\\u00e1vel MEDV (valor m\\u00e9dio por p\\u00e9 quadrado\",\"distribui\\u00e7\\u00e3o da vari\\u00e1vel MEDV (valor m\\u00e9dio por p\\u00e9 quadrado\",\"distribui\\u00e7\\u00e3o da vari\\u00e1vel MEDV (valor m\\u00e9dio por p\\u00e9 quadrado\",\"distribui\\u00e7\\u00e3o da vari\\u00e1vel MEDV (valor m\\u00e9dio por p\\u00e9 quadrado\",\"distribui\\u00e7\\u00e3o da vari\\u00e1vel MEDV (valor m\\u00e9dio por p\\u00e9 quadrado\",\"distribui\\u00e7\\u00e3o da vari\\u00e1vel MEDV (valor m\\u00e9dio por p\\u00e9 quadrado\",\"distribui\\u00e7\\u00e3o da vari\\u00e1vel MEDV (valor m\\u00e9dio por p\\u00e9 quadrado\",\"distribui\\u00e7\\u00e3o da vari\\u00e1vel MEDV (valor m\\u00e9dio por p\\u00e9 quadrado\",\"distribui\\u00e7\\u00e3o da vari\\u00e1vel MEDV (valor m\\u00e9dio por p\\u00e9 quadrado\",\"distribui\\u00e7\\u00e3o da vari\\u00e1vel MEDV (valor m\\u00e9dio por p\\u00e9 quadrado\",\"distribui\\u00e7\\u00e3o da vari\\u00e1vel MEDV (valor m\\u00e9dio por p\\u00e9 quadrado\",\"distribui\\u00e7\\u00e3o da vari\\u00e1vel MEDV (valor m\\u00e9dio por p\\u00e9 quadrado\",\"distribui\\u00e7\\u00e3o da vari\\u00e1vel MEDV (valor m\\u00e9dio por p\\u00e9 quadrado\",\"distribui\\u00e7\\u00e3o da vari\\u00e1vel MEDV (valor m\\u00e9dio por p\\u00e9 quadrado\",\"distribui\\u00e7\\u00e3o da vari\\u00e1vel MEDV (valor m\\u00e9dio por p\\u00e9 quadrado\",\"distribui\\u00e7\\u00e3o da vari\\u00e1vel MEDV (valor m\\u00e9dio por p\\u00e9 quadrado\",\"distribui\\u00e7\\u00e3o da vari\\u00e1vel MEDV (valor m\\u00e9dio por p\\u00e9 quadrado\",\"distribui\\u00e7\\u00e3o da vari\\u00e1vel MEDV (valor m\\u00e9dio por p\\u00e9 quadrado\",\"distribui\\u00e7\\u00e3o da vari\\u00e1vel MEDV (valor m\\u00e9dio por p\\u00e9 quadrado\",\"distribui\\u00e7\\u00e3o da vari\\u00e1vel MEDV (valor m\\u00e9dio por p\\u00e9 quadrado\",\"distribui\\u00e7\\u00e3o da vari\\u00e1vel MEDV (valor m\\u00e9dio por p\\u00e9 quadrado\",\"distribui\\u00e7\\u00e3o da vari\\u00e1vel MEDV (valor m\\u00e9dio por p\\u00e9 quadrado\",\"distribui\\u00e7\\u00e3o da vari\\u00e1vel MEDV (valor m\\u00e9dio por p\\u00e9 quadrado\",\"distribui\\u00e7\\u00e3o da vari\\u00e1vel MEDV (valor m\\u00e9dio por p\\u00e9 quadrado\",\"distribui\\u00e7\\u00e3o da vari\\u00e1vel MEDV (valor m\\u00e9dio por p\\u00e9 quadrado\",\"distribui\\u00e7\\u00e3o da vari\\u00e1vel MEDV (valor m\\u00e9dio por p\\u00e9 quadrado\",\"distribui\\u00e7\\u00e3o da vari\\u00e1vel MEDV (valor m\\u00e9dio por p\\u00e9 quadrado\",\"distribui\\u00e7\\u00e3o da vari\\u00e1vel MEDV (valor m\\u00e9dio por p\\u00e9 quadrado\",\"distribui\\u00e7\\u00e3o da vari\\u00e1vel MEDV (valor m\\u00e9dio por p\\u00e9 quadrado\",\"distribui\\u00e7\\u00e3o da vari\\u00e1vel MEDV (valor m\\u00e9dio por p\\u00e9 quadrado\",\"distribui\\u00e7\\u00e3o da vari\\u00e1vel MEDV (valor m\\u00e9dio por p\\u00e9 quadrado\",\"distribui\\u00e7\\u00e3o da vari\\u00e1vel MEDV (valor m\\u00e9dio por p\\u00e9 quadrado\",\"distribui\\u00e7\\u00e3o da vari\\u00e1vel MEDV (valor m\\u00e9dio por p\\u00e9 quadrado\",\"distribui\\u00e7\\u00e3o da vari\\u00e1vel MEDV (valor m\\u00e9dio por p\\u00e9 quadrado\",\"distribui\\u00e7\\u00e3o da vari\\u00e1vel MEDV (valor m\\u00e9dio por p\\u00e9 quadrado\",\"distribui\\u00e7\\u00e3o da vari\\u00e1vel MEDV (valor m\\u00e9dio por p\\u00e9 quadrado\",\"distribui\\u00e7\\u00e3o da vari\\u00e1vel MEDV (valor m\\u00e9dio por p\\u00e9 quadrado\",\"distribui\\u00e7\\u00e3o da vari\\u00e1vel MEDV (valor m\\u00e9dio por p\\u00e9 quadrado\",\"distribui\\u00e7\\u00e3o da vari\\u00e1vel MEDV (valor m\\u00e9dio por p\\u00e9 quadrado\",\"distribui\\u00e7\\u00e3o da vari\\u00e1vel MEDV (valor m\\u00e9dio por p\\u00e9 quadrado\",\"distribui\\u00e7\\u00e3o da vari\\u00e1vel MEDV (valor m\\u00e9dio por p\\u00e9 quadrado\",\"distribui\\u00e7\\u00e3o da vari\\u00e1vel MEDV (valor m\\u00e9dio por p\\u00e9 quadrado\",\"distribui\\u00e7\\u00e3o da vari\\u00e1vel MEDV (valor m\\u00e9dio por p\\u00e9 quadrado\",\"distribui\\u00e7\\u00e3o da vari\\u00e1vel MEDV (valor m\\u00e9dio por p\\u00e9 quadrado\",\"distribui\\u00e7\\u00e3o da vari\\u00e1vel MEDV (valor m\\u00e9dio por p\\u00e9 quadrado\",\"distribui\\u00e7\\u00e3o da vari\\u00e1vel MEDV (valor m\\u00e9dio por p\\u00e9 quadrado\",\"distribui\\u00e7\\u00e3o da vari\\u00e1vel MEDV (valor m\\u00e9dio por p\\u00e9 quadrado\",\"distribui\\u00e7\\u00e3o da vari\\u00e1vel MEDV (valor m\\u00e9dio por p\\u00e9 quadrado\",\"distribui\\u00e7\\u00e3o da vari\\u00e1vel MEDV (valor m\\u00e9dio por p\\u00e9 quadrado\",\"distribui\\u00e7\\u00e3o da vari\\u00e1vel MEDV (valor m\\u00e9dio por p\\u00e9 quadrado\",\"distribui\\u00e7\\u00e3o da vari\\u00e1vel MEDV (valor m\\u00e9dio por p\\u00e9 quadrado\",\"distribui\\u00e7\\u00e3o da vari\\u00e1vel MEDV (valor m\\u00e9dio por p\\u00e9 quadrado\",\"distribui\\u00e7\\u00e3o da vari\\u00e1vel MEDV (valor m\\u00e9dio por p\\u00e9 quadrado\",\"distribui\\u00e7\\u00e3o da vari\\u00e1vel MEDV (valor m\\u00e9dio por p\\u00e9 quadrado\",\"distribui\\u00e7\\u00e3o da vari\\u00e1vel MEDV (valor m\\u00e9dio por p\\u00e9 quadrado\",\"distribui\\u00e7\\u00e3o da vari\\u00e1vel MEDV (valor m\\u00e9dio por p\\u00e9 quadrado\",\"distribui\\u00e7\\u00e3o da vari\\u00e1vel MEDV (valor m\\u00e9dio por p\\u00e9 quadrado\",\"distribui\\u00e7\\u00e3o da vari\\u00e1vel MEDV (valor m\\u00e9dio por p\\u00e9 quadrado\",\"distribui\\u00e7\\u00e3o da vari\\u00e1vel MEDV (valor m\\u00e9dio por p\\u00e9 quadrado\",\"distribui\\u00e7\\u00e3o da vari\\u00e1vel MEDV (valor m\\u00e9dio por p\\u00e9 quadrado\",\"distribui\\u00e7\\u00e3o da vari\\u00e1vel MEDV (valor m\\u00e9dio por p\\u00e9 quadrado\",\"distribui\\u00e7\\u00e3o da vari\\u00e1vel MEDV (valor m\\u00e9dio por p\\u00e9 quadrado\",\"distribui\\u00e7\\u00e3o da vari\\u00e1vel MEDV (valor m\\u00e9dio por p\\u00e9 quadrado\",\"distribui\\u00e7\\u00e3o da vari\\u00e1vel MEDV (valor m\\u00e9dio por p\\u00e9 quadrado\",\"distribui\\u00e7\\u00e3o da vari\\u00e1vel MEDV (valor m\\u00e9dio por p\\u00e9 quadrado\",\"distribui\\u00e7\\u00e3o da vari\\u00e1vel MEDV (valor m\\u00e9dio por p\\u00e9 quadrado\",\"distribui\\u00e7\\u00e3o da vari\\u00e1vel MEDV (valor m\\u00e9dio por p\\u00e9 quadrado\",\"distribui\\u00e7\\u00e3o da vari\\u00e1vel MEDV (valor m\\u00e9dio por p\\u00e9 quadrado\",\"distribui\\u00e7\\u00e3o da vari\\u00e1vel MEDV (valor m\\u00e9dio por p\\u00e9 quadrado\",\"distribui\\u00e7\\u00e3o da vari\\u00e1vel MEDV (valor m\\u00e9dio por p\\u00e9 quadrado\",\"distribui\\u00e7\\u00e3o da vari\\u00e1vel MEDV (valor m\\u00e9dio por p\\u00e9 quadrado\",\"distribui\\u00e7\\u00e3o da vari\\u00e1vel MEDV (valor m\\u00e9dio por p\\u00e9 quadrado\",\"distribui\\u00e7\\u00e3o da vari\\u00e1vel MEDV (valor m\\u00e9dio por p\\u00e9 quadrado\",\"distribui\\u00e7\\u00e3o da vari\\u00e1vel MEDV (valor m\\u00e9dio por p\\u00e9 quadrado\",\"distribui\\u00e7\\u00e3o da vari\\u00e1vel MEDV (valor m\\u00e9dio por p\\u00e9 quadrado\",\"distribui\\u00e7\\u00e3o da vari\\u00e1vel MEDV (valor m\\u00e9dio por p\\u00e9 quadrado\",\"distribui\\u00e7\\u00e3o da vari\\u00e1vel MEDV (valor m\\u00e9dio por p\\u00e9 quadrado\",\"distribui\\u00e7\\u00e3o da vari\\u00e1vel MEDV (valor m\\u00e9dio por p\\u00e9 quadrado\",\"distribui\\u00e7\\u00e3o da vari\\u00e1vel MEDV (valor m\\u00e9dio por p\\u00e9 quadrado\",\"distribui\\u00e7\\u00e3o da vari\\u00e1vel MEDV (valor m\\u00e9dio por p\\u00e9 quadrado\",\"distribui\\u00e7\\u00e3o da vari\\u00e1vel MEDV (valor m\\u00e9dio por p\\u00e9 quadrado\",\"distribui\\u00e7\\u00e3o da vari\\u00e1vel MEDV (valor m\\u00e9dio por p\\u00e9 quadrado\",\"distribui\\u00e7\\u00e3o da vari\\u00e1vel MEDV (valor m\\u00e9dio por p\\u00e9 quadrado\",\"distribui\\u00e7\\u00e3o da vari\\u00e1vel MEDV (valor m\\u00e9dio por p\\u00e9 quadrado\",\"distribui\\u00e7\\u00e3o da vari\\u00e1vel MEDV (valor m\\u00e9dio por p\\u00e9 quadrado\",\"distribui\\u00e7\\u00e3o da vari\\u00e1vel MEDV (valor m\\u00e9dio por p\\u00e9 quadrado\",\"distribui\\u00e7\\u00e3o da vari\\u00e1vel MEDV (valor m\\u00e9dio por p\\u00e9 quadrado\",\"distribui\\u00e7\\u00e3o da vari\\u00e1vel MEDV (valor m\\u00e9dio por p\\u00e9 quadrado\",\"distribui\\u00e7\\u00e3o da vari\\u00e1vel MEDV (valor m\\u00e9dio por p\\u00e9 quadrado\",\"distribui\\u00e7\\u00e3o da vari\\u00e1vel MEDV (valor m\\u00e9dio por p\\u00e9 quadrado\",\"distribui\\u00e7\\u00e3o da vari\\u00e1vel MEDV (valor m\\u00e9dio por p\\u00e9 quadrado\",\"distribui\\u00e7\\u00e3o da vari\\u00e1vel MEDV (valor m\\u00e9dio por p\\u00e9 quadrado\",\"distribui\\u00e7\\u00e3o da vari\\u00e1vel MEDV (valor m\\u00e9dio por p\\u00e9 quadrado\",\"distribui\\u00e7\\u00e3o da vari\\u00e1vel MEDV (valor m\\u00e9dio por p\\u00e9 quadrado\",\"distribui\\u00e7\\u00e3o da vari\\u00e1vel MEDV (valor m\\u00e9dio por p\\u00e9 quadrado\",\"distribui\\u00e7\\u00e3o da vari\\u00e1vel MEDV (valor m\\u00e9dio por p\\u00e9 quadrado\",\"distribui\\u00e7\\u00e3o da vari\\u00e1vel MEDV (valor m\\u00e9dio por p\\u00e9 quadrado\",\"distribui\\u00e7\\u00e3o da vari\\u00e1vel MEDV (valor m\\u00e9dio por p\\u00e9 quadrado\",\"distribui\\u00e7\\u00e3o da vari\\u00e1vel MEDV (valor m\\u00e9dio por p\\u00e9 quadrado\",\"distribui\\u00e7\\u00e3o da vari\\u00e1vel MEDV (valor m\\u00e9dio por p\\u00e9 quadrado\",\"distribui\\u00e7\\u00e3o da vari\\u00e1vel MEDV (valor m\\u00e9dio por p\\u00e9 quadrado\",\"distribui\\u00e7\\u00e3o da vari\\u00e1vel MEDV (valor m\\u00e9dio por p\\u00e9 quadrado\",\"distribui\\u00e7\\u00e3o da vari\\u00e1vel MEDV (valor m\\u00e9dio por p\\u00e9 quadrado\",\"distribui\\u00e7\\u00e3o da vari\\u00e1vel MEDV (valor m\\u00e9dio por p\\u00e9 quadrado\",\"distribui\\u00e7\\u00e3o da vari\\u00e1vel MEDV (valor m\\u00e9dio por p\\u00e9 quadrado\",\"distribui\\u00e7\\u00e3o da vari\\u00e1vel MEDV (valor m\\u00e9dio por p\\u00e9 quadrado\",\"distribui\\u00e7\\u00e3o da vari\\u00e1vel MEDV (valor m\\u00e9dio por p\\u00e9 quadrado\",\"distribui\\u00e7\\u00e3o da vari\\u00e1vel MEDV (valor m\\u00e9dio por p\\u00e9 quadrado\",\"distribui\\u00e7\\u00e3o da vari\\u00e1vel MEDV (valor m\\u00e9dio por p\\u00e9 quadrado\",\"distribui\\u00e7\\u00e3o da vari\\u00e1vel MEDV (valor m\\u00e9dio por p\\u00e9 quadrado\",\"distribui\\u00e7\\u00e3o da vari\\u00e1vel MEDV (valor m\\u00e9dio por p\\u00e9 quadrado\",\"distribui\\u00e7\\u00e3o da vari\\u00e1vel MEDV (valor m\\u00e9dio por p\\u00e9 quadrado\",\"distribui\\u00e7\\u00e3o da vari\\u00e1vel MEDV (valor m\\u00e9dio por p\\u00e9 quadrado\",\"distribui\\u00e7\\u00e3o da vari\\u00e1vel MEDV (valor m\\u00e9dio por p\\u00e9 quadrado\",\"distribui\\u00e7\\u00e3o da vari\\u00e1vel MEDV (valor m\\u00e9dio por p\\u00e9 quadrado\",\"distribui\\u00e7\\u00e3o da vari\\u00e1vel MEDV (valor m\\u00e9dio por p\\u00e9 quadrado\",\"distribui\\u00e7\\u00e3o da vari\\u00e1vel MEDV (valor m\\u00e9dio por p\\u00e9 quadrado\",\"distribui\\u00e7\\u00e3o da vari\\u00e1vel MEDV (valor m\\u00e9dio por p\\u00e9 quadrado\",\"distribui\\u00e7\\u00e3o da vari\\u00e1vel MEDV (valor m\\u00e9dio por p\\u00e9 quadrado\",\"distribui\\u00e7\\u00e3o da vari\\u00e1vel MEDV (valor m\\u00e9dio por p\\u00e9 quadrado\",\"distribui\\u00e7\\u00e3o da vari\\u00e1vel MEDV (valor m\\u00e9dio por p\\u00e9 quadrado\",\"distribui\\u00e7\\u00e3o da vari\\u00e1vel MEDV (valor m\\u00e9dio por p\\u00e9 quadrado\",\"distribui\\u00e7\\u00e3o da vari\\u00e1vel MEDV (valor m\\u00e9dio por p\\u00e9 quadrado\",\"distribui\\u00e7\\u00e3o da vari\\u00e1vel MEDV (valor m\\u00e9dio por p\\u00e9 quadrado\",\"distribui\\u00e7\\u00e3o da vari\\u00e1vel MEDV (valor m\\u00e9dio por p\\u00e9 quadrado\",\"distribui\\u00e7\\u00e3o da vari\\u00e1vel MEDV (valor m\\u00e9dio por p\\u00e9 quadrado\",\"distribui\\u00e7\\u00e3o da vari\\u00e1vel MEDV (valor m\\u00e9dio por p\\u00e9 quadrado\",\"distribui\\u00e7\\u00e3o da vari\\u00e1vel MEDV (valor m\\u00e9dio por p\\u00e9 quadrado\",\"distribui\\u00e7\\u00e3o da vari\\u00e1vel MEDV (valor m\\u00e9dio por p\\u00e9 quadrado\",\"distribui\\u00e7\\u00e3o da vari\\u00e1vel MEDV (valor m\\u00e9dio por p\\u00e9 quadrado\",\"distribui\\u00e7\\u00e3o da vari\\u00e1vel MEDV (valor m\\u00e9dio por p\\u00e9 quadrado\",\"distribui\\u00e7\\u00e3o da vari\\u00e1vel MEDV (valor m\\u00e9dio por p\\u00e9 quadrado\",\"distribui\\u00e7\\u00e3o da vari\\u00e1vel MEDV (valor m\\u00e9dio por p\\u00e9 quadrado\",\"distribui\\u00e7\\u00e3o da vari\\u00e1vel MEDV (valor m\\u00e9dio por p\\u00e9 quadrado\",\"distribui\\u00e7\\u00e3o da vari\\u00e1vel MEDV (valor m\\u00e9dio por p\\u00e9 quadrado\",\"distribui\\u00e7\\u00e3o da vari\\u00e1vel MEDV (valor m\\u00e9dio por p\\u00e9 quadrado\",\"distribui\\u00e7\\u00e3o da vari\\u00e1vel MEDV (valor m\\u00e9dio por p\\u00e9 quadrado\",\"distribui\\u00e7\\u00e3o da vari\\u00e1vel MEDV (valor m\\u00e9dio por p\\u00e9 quadrado\",\"distribui\\u00e7\\u00e3o da vari\\u00e1vel MEDV (valor m\\u00e9dio por p\\u00e9 quadrado\",\"distribui\\u00e7\\u00e3o da vari\\u00e1vel MEDV (valor m\\u00e9dio por p\\u00e9 quadrado\",\"distribui\\u00e7\\u00e3o da vari\\u00e1vel MEDV (valor m\\u00e9dio por p\\u00e9 quadrado\",\"distribui\\u00e7\\u00e3o da vari\\u00e1vel MEDV (valor m\\u00e9dio por p\\u00e9 quadrado\",\"distribui\\u00e7\\u00e3o da vari\\u00e1vel MEDV (valor m\\u00e9dio por p\\u00e9 quadrado\",\"distribui\\u00e7\\u00e3o da vari\\u00e1vel MEDV (valor m\\u00e9dio por p\\u00e9 quadrado\",\"distribui\\u00e7\\u00e3o da vari\\u00e1vel MEDV (valor m\\u00e9dio por p\\u00e9 quadrado\",\"distribui\\u00e7\\u00e3o da vari\\u00e1vel MEDV (valor m\\u00e9dio por p\\u00e9 quadrado\",\"distribui\\u00e7\\u00e3o da vari\\u00e1vel MEDV (valor m\\u00e9dio por p\\u00e9 quadrado\",\"distribui\\u00e7\\u00e3o da vari\\u00e1vel MEDV (valor m\\u00e9dio por p\\u00e9 quadrado\",\"distribui\\u00e7\\u00e3o da vari\\u00e1vel MEDV (valor m\\u00e9dio por p\\u00e9 quadrado\",\"distribui\\u00e7\\u00e3o da vari\\u00e1vel MEDV (valor m\\u00e9dio por p\\u00e9 quadrado\",\"distribui\\u00e7\\u00e3o da vari\\u00e1vel MEDV (valor m\\u00e9dio por p\\u00e9 quadrado\",\"distribui\\u00e7\\u00e3o da vari\\u00e1vel MEDV (valor m\\u00e9dio por p\\u00e9 quadrado\",\"distribui\\u00e7\\u00e3o da vari\\u00e1vel MEDV (valor m\\u00e9dio por p\\u00e9 quadrado\",\"distribui\\u00e7\\u00e3o da vari\\u00e1vel MEDV (valor m\\u00e9dio por p\\u00e9 quadrado\",\"distribui\\u00e7\\u00e3o da vari\\u00e1vel MEDV (valor m\\u00e9dio por p\\u00e9 quadrado\",\"distribui\\u00e7\\u00e3o da vari\\u00e1vel MEDV (valor m\\u00e9dio por p\\u00e9 quadrado\",\"distribui\\u00e7\\u00e3o da vari\\u00e1vel MEDV (valor m\\u00e9dio por p\\u00e9 quadrado\",\"distribui\\u00e7\\u00e3o da vari\\u00e1vel MEDV (valor m\\u00e9dio por p\\u00e9 quadrado\",\"distribui\\u00e7\\u00e3o da vari\\u00e1vel MEDV (valor m\\u00e9dio por p\\u00e9 quadrado\",\"distribui\\u00e7\\u00e3o da vari\\u00e1vel MEDV (valor m\\u00e9dio por p\\u00e9 quadrado\",\"distribui\\u00e7\\u00e3o da vari\\u00e1vel MEDV (valor m\\u00e9dio por p\\u00e9 quadrado\",\"distribui\\u00e7\\u00e3o da vari\\u00e1vel MEDV (valor m\\u00e9dio por p\\u00e9 quadrado\",\"distribui\\u00e7\\u00e3o da vari\\u00e1vel MEDV (valor m\\u00e9dio por p\\u00e9 quadrado\",\"distribui\\u00e7\\u00e3o da vari\\u00e1vel MEDV (valor m\\u00e9dio por p\\u00e9 quadrado\",\"distribui\\u00e7\\u00e3o da vari\\u00e1vel MEDV (valor m\\u00e9dio por p\\u00e9 quadrado\",\"distribui\\u00e7\\u00e3o da vari\\u00e1vel MEDV (valor m\\u00e9dio por p\\u00e9 quadrado\",\"distribui\\u00e7\\u00e3o da vari\\u00e1vel MEDV (valor m\\u00e9dio por p\\u00e9 quadrado\",\"distribui\\u00e7\\u00e3o da vari\\u00e1vel MEDV (valor m\\u00e9dio por p\\u00e9 quadrado\",\"distribui\\u00e7\\u00e3o da vari\\u00e1vel MEDV (valor m\\u00e9dio por p\\u00e9 quadrado\",\"distribui\\u00e7\\u00e3o da vari\\u00e1vel MEDV (valor m\\u00e9dio por p\\u00e9 quadrado\",\"distribui\\u00e7\\u00e3o da vari\\u00e1vel MEDV (valor m\\u00e9dio por p\\u00e9 quadrado\",\"distribui\\u00e7\\u00e3o da vari\\u00e1vel MEDV (valor m\\u00e9dio por p\\u00e9 quadrado\",\"distribui\\u00e7\\u00e3o da vari\\u00e1vel MEDV (valor m\\u00e9dio por p\\u00e9 quadrado\",\"distribui\\u00e7\\u00e3o da vari\\u00e1vel MEDV (valor m\\u00e9dio por p\\u00e9 quadrado\",\"distribui\\u00e7\\u00e3o da vari\\u00e1vel MEDV (valor m\\u00e9dio por p\\u00e9 quadrado\",\"distribui\\u00e7\\u00e3o da vari\\u00e1vel MEDV (valor m\\u00e9dio por p\\u00e9 quadrado\",\"distribui\\u00e7\\u00e3o da vari\\u00e1vel MEDV (valor m\\u00e9dio por p\\u00e9 quadrado\",\"distribui\\u00e7\\u00e3o da vari\\u00e1vel MEDV (valor m\\u00e9dio por p\\u00e9 quadrado\",\"distribui\\u00e7\\u00e3o da vari\\u00e1vel MEDV (valor m\\u00e9dio por p\\u00e9 quadrado\",\"distribui\\u00e7\\u00e3o da vari\\u00e1vel MEDV (valor m\\u00e9dio por p\\u00e9 quadrado\",\"distribui\\u00e7\\u00e3o da vari\\u00e1vel MEDV (valor m\\u00e9dio por p\\u00e9 quadrado\",\"distribui\\u00e7\\u00e3o da vari\\u00e1vel MEDV (valor m\\u00e9dio por p\\u00e9 quadrado\",\"distribui\\u00e7\\u00e3o da vari\\u00e1vel MEDV (valor m\\u00e9dio por p\\u00e9 quadrado\",\"distribui\\u00e7\\u00e3o da vari\\u00e1vel MEDV (valor m\\u00e9dio por p\\u00e9 quadrado\",\"distribui\\u00e7\\u00e3o da vari\\u00e1vel MEDV (valor m\\u00e9dio por p\\u00e9 quadrado\",\"distribui\\u00e7\\u00e3o da vari\\u00e1vel MEDV (valor m\\u00e9dio por p\\u00e9 quadrado\",\"distribui\\u00e7\\u00e3o da vari\\u00e1vel MEDV (valor m\\u00e9dio por p\\u00e9 quadrado\",\"distribui\\u00e7\\u00e3o da vari\\u00e1vel MEDV (valor m\\u00e9dio por p\\u00e9 quadrado\",\"distribui\\u00e7\\u00e3o da vari\\u00e1vel MEDV (valor m\\u00e9dio por p\\u00e9 quadrado\",\"distribui\\u00e7\\u00e3o da vari\\u00e1vel MEDV (valor m\\u00e9dio por p\\u00e9 quadrado\",\"distribui\\u00e7\\u00e3o da vari\\u00e1vel MEDV (valor m\\u00e9dio por p\\u00e9 quadrado\",\"distribui\\u00e7\\u00e3o da vari\\u00e1vel MEDV (valor m\\u00e9dio por p\\u00e9 quadrado\",\"distribui\\u00e7\\u00e3o da vari\\u00e1vel MEDV (valor m\\u00e9dio por p\\u00e9 quadrado\",\"distribui\\u00e7\\u00e3o da vari\\u00e1vel MEDV (valor m\\u00e9dio por p\\u00e9 quadrado\",\"distribui\\u00e7\\u00e3o da vari\\u00e1vel MEDV (valor m\\u00e9dio por p\\u00e9 quadrado\",\"distribui\\u00e7\\u00e3o da vari\\u00e1vel MEDV (valor m\\u00e9dio por p\\u00e9 quadrado\",\"distribui\\u00e7\\u00e3o da vari\\u00e1vel MEDV (valor m\\u00e9dio por p\\u00e9 quadrado\",\"distribui\\u00e7\\u00e3o da vari\\u00e1vel MEDV (valor m\\u00e9dio por p\\u00e9 quadrado\",\"distribui\\u00e7\\u00e3o da vari\\u00e1vel MEDV (valor m\\u00e9dio por p\\u00e9 quadrado\",\"distribui\\u00e7\\u00e3o da vari\\u00e1vel MEDV (valor m\\u00e9dio por p\\u00e9 quadrado\",\"distribui\\u00e7\\u00e3o da vari\\u00e1vel MEDV (valor m\\u00e9dio por p\\u00e9 quadrado\",\"distribui\\u00e7\\u00e3o da vari\\u00e1vel MEDV (valor m\\u00e9dio por p\\u00e9 quadrado\",\"distribui\\u00e7\\u00e3o da vari\\u00e1vel MEDV (valor m\\u00e9dio por p\\u00e9 quadrado\",\"distribui\\u00e7\\u00e3o da vari\\u00e1vel MEDV (valor m\\u00e9dio por p\\u00e9 quadrado\",\"distribui\\u00e7\\u00e3o da vari\\u00e1vel MEDV (valor m\\u00e9dio por p\\u00e9 quadrado\",\"distribui\\u00e7\\u00e3o da vari\\u00e1vel MEDV (valor m\\u00e9dio por p\\u00e9 quadrado\",\"distribui\\u00e7\\u00e3o da vari\\u00e1vel MEDV (valor m\\u00e9dio por p\\u00e9 quadrado\",\"distribui\\u00e7\\u00e3o da vari\\u00e1vel MEDV (valor m\\u00e9dio por p\\u00e9 quadrado\",\"distribui\\u00e7\\u00e3o da vari\\u00e1vel MEDV (valor m\\u00e9dio por p\\u00e9 quadrado\",\"distribui\\u00e7\\u00e3o da vari\\u00e1vel MEDV (valor m\\u00e9dio por p\\u00e9 quadrado\",\"distribui\\u00e7\\u00e3o da vari\\u00e1vel MEDV (valor m\\u00e9dio por p\\u00e9 quadrado\",\"distribui\\u00e7\\u00e3o da vari\\u00e1vel MEDV (valor m\\u00e9dio por p\\u00e9 quadrado\",\"distribui\\u00e7\\u00e3o da vari\\u00e1vel MEDV (valor m\\u00e9dio por p\\u00e9 quadrado\",\"distribui\\u00e7\\u00e3o da vari\\u00e1vel MEDV (valor m\\u00e9dio por p\\u00e9 quadrado\",\"distribui\\u00e7\\u00e3o da vari\\u00e1vel MEDV (valor m\\u00e9dio por p\\u00e9 quadrado\",\"distribui\\u00e7\\u00e3o da vari\\u00e1vel MEDV (valor m\\u00e9dio por p\\u00e9 quadrado\",\"distribui\\u00e7\\u00e3o da vari\\u00e1vel MEDV (valor m\\u00e9dio por p\\u00e9 quadrado\",\"distribui\\u00e7\\u00e3o da vari\\u00e1vel MEDV (valor m\\u00e9dio por p\\u00e9 quadrado\",\"distribui\\u00e7\\u00e3o da vari\\u00e1vel MEDV (valor m\\u00e9dio por p\\u00e9 quadrado\",\"distribui\\u00e7\\u00e3o da vari\\u00e1vel MEDV (valor m\\u00e9dio por p\\u00e9 quadrado\",\"distribui\\u00e7\\u00e3o da vari\\u00e1vel MEDV (valor m\\u00e9dio por p\\u00e9 quadrado\",\"distribui\\u00e7\\u00e3o da vari\\u00e1vel MEDV (valor m\\u00e9dio por p\\u00e9 quadrado\",\"distribui\\u00e7\\u00e3o da vari\\u00e1vel MEDV (valor m\\u00e9dio por p\\u00e9 quadrado\",\"distribui\\u00e7\\u00e3o da vari\\u00e1vel MEDV (valor m\\u00e9dio por p\\u00e9 quadrado\",\"distribui\\u00e7\\u00e3o da vari\\u00e1vel MEDV (valor m\\u00e9dio por p\\u00e9 quadrado\",\"distribui\\u00e7\\u00e3o da vari\\u00e1vel MEDV (valor m\\u00e9dio por p\\u00e9 quadrado\",\"distribui\\u00e7\\u00e3o da vari\\u00e1vel MEDV (valor m\\u00e9dio por p\\u00e9 quadrado\",\"distribui\\u00e7\\u00e3o da vari\\u00e1vel MEDV (valor m\\u00e9dio por p\\u00e9 quadrado\",\"distribui\\u00e7\\u00e3o da vari\\u00e1vel MEDV (valor m\\u00e9dio por p\\u00e9 quadrado\",\"distribui\\u00e7\\u00e3o da vari\\u00e1vel MEDV (valor m\\u00e9dio por p\\u00e9 quadrado\",\"distribui\\u00e7\\u00e3o da vari\\u00e1vel MEDV (valor m\\u00e9dio por p\\u00e9 quadrado\",\"distribui\\u00e7\\u00e3o da vari\\u00e1vel MEDV (valor m\\u00e9dio por p\\u00e9 quadrado\",\"distribui\\u00e7\\u00e3o da vari\\u00e1vel MEDV (valor m\\u00e9dio por p\\u00e9 quadrado\",\"distribui\\u00e7\\u00e3o da vari\\u00e1vel MEDV (valor m\\u00e9dio por p\\u00e9 quadrado\",\"distribui\\u00e7\\u00e3o da vari\\u00e1vel MEDV (valor m\\u00e9dio por p\\u00e9 quadrado\",\"distribui\\u00e7\\u00e3o da vari\\u00e1vel MEDV (valor m\\u00e9dio por p\\u00e9 quadrado\",\"distribui\\u00e7\\u00e3o da vari\\u00e1vel MEDV (valor m\\u00e9dio por p\\u00e9 quadrado\",\"distribui\\u00e7\\u00e3o da vari\\u00e1vel MEDV (valor m\\u00e9dio por p\\u00e9 quadrado\",\"distribui\\u00e7\\u00e3o da vari\\u00e1vel MEDV (valor m\\u00e9dio por p\\u00e9 quadrado\",\"distribui\\u00e7\\u00e3o da vari\\u00e1vel MEDV (valor m\\u00e9dio por p\\u00e9 quadrado\",\"distribui\\u00e7\\u00e3o da vari\\u00e1vel MEDV (valor m\\u00e9dio por p\\u00e9 quadrado\",\"distribui\\u00e7\\u00e3o da vari\\u00e1vel MEDV (valor m\\u00e9dio por p\\u00e9 quadrado\",\"distribui\\u00e7\\u00e3o da vari\\u00e1vel MEDV (valor m\\u00e9dio por p\\u00e9 quadrado\",\"distribui\\u00e7\\u00e3o da vari\\u00e1vel MEDV (valor m\\u00e9dio por p\\u00e9 quadrado\",\"distribui\\u00e7\\u00e3o da vari\\u00e1vel MEDV (valor m\\u00e9dio por p\\u00e9 quadrado\",\"distribui\\u00e7\\u00e3o da vari\\u00e1vel MEDV (valor m\\u00e9dio por p\\u00e9 quadrado\",\"distribui\\u00e7\\u00e3o da vari\\u00e1vel MEDV (valor m\\u00e9dio por p\\u00e9 quadrado\",\"distribui\\u00e7\\u00e3o da vari\\u00e1vel MEDV (valor m\\u00e9dio por p\\u00e9 quadrado\",\"distribui\\u00e7\\u00e3o da vari\\u00e1vel MEDV (valor m\\u00e9dio por p\\u00e9 quadrado\",\"distribui\\u00e7\\u00e3o da vari\\u00e1vel MEDV (valor m\\u00e9dio por p\\u00e9 quadrado\",\"distribui\\u00e7\\u00e3o da vari\\u00e1vel MEDV (valor m\\u00e9dio por p\\u00e9 quadrado\",\"distribui\\u00e7\\u00e3o da vari\\u00e1vel MEDV (valor m\\u00e9dio por p\\u00e9 quadrado\",\"distribui\\u00e7\\u00e3o da vari\\u00e1vel MEDV (valor m\\u00e9dio por p\\u00e9 quadrado\",\"distribui\\u00e7\\u00e3o da vari\\u00e1vel MEDV (valor m\\u00e9dio por p\\u00e9 quadrado\",\"distribui\\u00e7\\u00e3o da vari\\u00e1vel MEDV (valor m\\u00e9dio por p\\u00e9 quadrado\",\"distribui\\u00e7\\u00e3o da vari\\u00e1vel MEDV (valor m\\u00e9dio por p\\u00e9 quadrado\",\"distribui\\u00e7\\u00e3o da vari\\u00e1vel MEDV (valor m\\u00e9dio por p\\u00e9 quadrado\",\"distribui\\u00e7\\u00e3o da vari\\u00e1vel MEDV (valor m\\u00e9dio por p\\u00e9 quadrado\",\"distribui\\u00e7\\u00e3o da vari\\u00e1vel MEDV (valor m\\u00e9dio por p\\u00e9 quadrado\",\"distribui\\u00e7\\u00e3o da vari\\u00e1vel MEDV (valor m\\u00e9dio por p\\u00e9 quadrado\",\"distribui\\u00e7\\u00e3o da vari\\u00e1vel MEDV (valor m\\u00e9dio por p\\u00e9 quadrado\",\"distribui\\u00e7\\u00e3o da vari\\u00e1vel MEDV (valor m\\u00e9dio por p\\u00e9 quadrado\",\"distribui\\u00e7\\u00e3o da vari\\u00e1vel MEDV (valor m\\u00e9dio por p\\u00e9 quadrado\",\"distribui\\u00e7\\u00e3o da vari\\u00e1vel MEDV (valor m\\u00e9dio por p\\u00e9 quadrado\",\"distribui\\u00e7\\u00e3o da vari\\u00e1vel MEDV (valor m\\u00e9dio por p\\u00e9 quadrado\",\"distribui\\u00e7\\u00e3o da vari\\u00e1vel MEDV (valor m\\u00e9dio por p\\u00e9 quadrado\",\"distribui\\u00e7\\u00e3o da vari\\u00e1vel MEDV (valor m\\u00e9dio por p\\u00e9 quadrado\",\"distribui\\u00e7\\u00e3o da vari\\u00e1vel MEDV (valor m\\u00e9dio por p\\u00e9 quadrado\",\"distribui\\u00e7\\u00e3o da vari\\u00e1vel MEDV (valor m\\u00e9dio por p\\u00e9 quadrado\",\"distribui\\u00e7\\u00e3o da vari\\u00e1vel MEDV (valor m\\u00e9dio por p\\u00e9 quadrado\",\"distribui\\u00e7\\u00e3o da vari\\u00e1vel MEDV (valor m\\u00e9dio por p\\u00e9 quadrado\",\"distribui\\u00e7\\u00e3o da vari\\u00e1vel MEDV (valor m\\u00e9dio por p\\u00e9 quadrado\",\"distribui\\u00e7\\u00e3o da vari\\u00e1vel MEDV (valor m\\u00e9dio por p\\u00e9 quadrado\",\"distribui\\u00e7\\u00e3o da vari\\u00e1vel MEDV (valor m\\u00e9dio por p\\u00e9 quadrado\",\"distribui\\u00e7\\u00e3o da vari\\u00e1vel MEDV (valor m\\u00e9dio por p\\u00e9 quadrado\",\"distribui\\u00e7\\u00e3o da vari\\u00e1vel MEDV (valor m\\u00e9dio por p\\u00e9 quadrado\",\"distribui\\u00e7\\u00e3o da vari\\u00e1vel MEDV (valor m\\u00e9dio por p\\u00e9 quadrado\",\"distribui\\u00e7\\u00e3o da vari\\u00e1vel MEDV (valor m\\u00e9dio por p\\u00e9 quadrado\",\"distribui\\u00e7\\u00e3o da vari\\u00e1vel MEDV (valor m\\u00e9dio por p\\u00e9 quadrado\",\"distribui\\u00e7\\u00e3o da vari\\u00e1vel MEDV (valor m\\u00e9dio por p\\u00e9 quadrado\",\"distribui\\u00e7\\u00e3o da vari\\u00e1vel MEDV (valor m\\u00e9dio por p\\u00e9 quadrado\",\"distribui\\u00e7\\u00e3o da vari\\u00e1vel MEDV (valor m\\u00e9dio por p\\u00e9 quadrado\",\"distribui\\u00e7\\u00e3o da vari\\u00e1vel MEDV (valor m\\u00e9dio por p\\u00e9 quadrado\",\"distribui\\u00e7\\u00e3o da vari\\u00e1vel MEDV (valor m\\u00e9dio por p\\u00e9 quadrado\",\"distribui\\u00e7\\u00e3o da vari\\u00e1vel MEDV (valor m\\u00e9dio por p\\u00e9 quadrado\",\"distribui\\u00e7\\u00e3o da vari\\u00e1vel MEDV (valor m\\u00e9dio por p\\u00e9 quadrado\",\"distribui\\u00e7\\u00e3o da vari\\u00e1vel MEDV (valor m\\u00e9dio por p\\u00e9 quadrado\",\"distribui\\u00e7\\u00e3o da vari\\u00e1vel MEDV (valor m\\u00e9dio por p\\u00e9 quadrado\",\"distribui\\u00e7\\u00e3o da vari\\u00e1vel MEDV (valor m\\u00e9dio por p\\u00e9 quadrado\",\"distribui\\u00e7\\u00e3o da vari\\u00e1vel MEDV (valor m\\u00e9dio por p\\u00e9 quadrado\",\"distribui\\u00e7\\u00e3o da vari\\u00e1vel MEDV (valor m\\u00e9dio por p\\u00e9 quadrado\",\"distribui\\u00e7\\u00e3o da vari\\u00e1vel MEDV (valor m\\u00e9dio por p\\u00e9 quadrado\",\"distribui\\u00e7\\u00e3o da vari\\u00e1vel MEDV (valor m\\u00e9dio por p\\u00e9 quadrado\",\"distribui\\u00e7\\u00e3o da vari\\u00e1vel MEDV (valor m\\u00e9dio por p\\u00e9 quadrado\",\"distribui\\u00e7\\u00e3o da vari\\u00e1vel MEDV (valor m\\u00e9dio por p\\u00e9 quadrado\",\"distribui\\u00e7\\u00e3o da vari\\u00e1vel MEDV (valor m\\u00e9dio por p\\u00e9 quadrado\",\"distribui\\u00e7\\u00e3o da vari\\u00e1vel MEDV (valor m\\u00e9dio por p\\u00e9 quadrado\",\"distribui\\u00e7\\u00e3o da vari\\u00e1vel MEDV (valor m\\u00e9dio por p\\u00e9 quadrado\",\"distribui\\u00e7\\u00e3o da vari\\u00e1vel MEDV (valor m\\u00e9dio por p\\u00e9 quadrado\",\"distribui\\u00e7\\u00e3o da vari\\u00e1vel MEDV (valor m\\u00e9dio por p\\u00e9 quadrado\",\"distribui\\u00e7\\u00e3o da vari\\u00e1vel MEDV (valor m\\u00e9dio por p\\u00e9 quadrado\",\"distribui\\u00e7\\u00e3o da vari\\u00e1vel MEDV (valor m\\u00e9dio por p\\u00e9 quadrado\",\"distribui\\u00e7\\u00e3o da vari\\u00e1vel MEDV (valor m\\u00e9dio por p\\u00e9 quadrado\",\"distribui\\u00e7\\u00e3o da vari\\u00e1vel MEDV (valor m\\u00e9dio por p\\u00e9 quadrado\",\"distribui\\u00e7\\u00e3o da vari\\u00e1vel MEDV (valor m\\u00e9dio por p\\u00e9 quadrado\",\"distribui\\u00e7\\u00e3o da vari\\u00e1vel MEDV (valor m\\u00e9dio por p\\u00e9 quadrado\",\"distribui\\u00e7\\u00e3o da vari\\u00e1vel MEDV (valor m\\u00e9dio por p\\u00e9 quadrado\",\"distribui\\u00e7\\u00e3o da vari\\u00e1vel MEDV (valor m\\u00e9dio por p\\u00e9 quadrado\",\"distribui\\u00e7\\u00e3o da vari\\u00e1vel MEDV (valor m\\u00e9dio por p\\u00e9 quadrado\",\"distribui\\u00e7\\u00e3o da vari\\u00e1vel MEDV (valor m\\u00e9dio por p\\u00e9 quadrado\",\"distribui\\u00e7\\u00e3o da vari\\u00e1vel MEDV (valor m\\u00e9dio por p\\u00e9 quadrado\",\"distribui\\u00e7\\u00e3o da vari\\u00e1vel MEDV (valor m\\u00e9dio por p\\u00e9 quadrado\",\"distribui\\u00e7\\u00e3o da vari\\u00e1vel MEDV (valor m\\u00e9dio por p\\u00e9 quadrado\",\"distribui\\u00e7\\u00e3o da vari\\u00e1vel MEDV (valor m\\u00e9dio por p\\u00e9 quadrado\",\"distribui\\u00e7\\u00e3o da vari\\u00e1vel MEDV (valor m\\u00e9dio por p\\u00e9 quadrado\",\"distribui\\u00e7\\u00e3o da vari\\u00e1vel MEDV (valor m\\u00e9dio por p\\u00e9 quadrado\",\"distribui\\u00e7\\u00e3o da vari\\u00e1vel MEDV (valor m\\u00e9dio por p\\u00e9 quadrado\",\"distribui\\u00e7\\u00e3o da vari\\u00e1vel MEDV (valor m\\u00e9dio por p\\u00e9 quadrado\",\"distribui\\u00e7\\u00e3o da vari\\u00e1vel MEDV (valor m\\u00e9dio por p\\u00e9 quadrado\",\"distribui\\u00e7\\u00e3o da vari\\u00e1vel MEDV (valor m\\u00e9dio por p\\u00e9 quadrado\",\"distribui\\u00e7\\u00e3o da vari\\u00e1vel MEDV (valor m\\u00e9dio por p\\u00e9 quadrado\",\"distribui\\u00e7\\u00e3o da vari\\u00e1vel MEDV (valor m\\u00e9dio por p\\u00e9 quadrado\",\"distribui\\u00e7\\u00e3o da vari\\u00e1vel MEDV (valor m\\u00e9dio por p\\u00e9 quadrado\",\"distribui\\u00e7\\u00e3o da vari\\u00e1vel MEDV (valor m\\u00e9dio por p\\u00e9 quadrado\",\"distribui\\u00e7\\u00e3o da vari\\u00e1vel MEDV (valor m\\u00e9dio por p\\u00e9 quadrado\",\"distribui\\u00e7\\u00e3o da vari\\u00e1vel MEDV (valor m\\u00e9dio por p\\u00e9 quadrado\",\"distribui\\u00e7\\u00e3o da vari\\u00e1vel MEDV (valor m\\u00e9dio por p\\u00e9 quadrado\",\"distribui\\u00e7\\u00e3o da vari\\u00e1vel MEDV (valor m\\u00e9dio por p\\u00e9 quadrado\",\"distribui\\u00e7\\u00e3o da vari\\u00e1vel MEDV (valor m\\u00e9dio por p\\u00e9 quadrado\",\"distribui\\u00e7\\u00e3o da vari\\u00e1vel MEDV (valor m\\u00e9dio por p\\u00e9 quadrado\",\"distribui\\u00e7\\u00e3o da vari\\u00e1vel MEDV (valor m\\u00e9dio por p\\u00e9 quadrado\",\"distribui\\u00e7\\u00e3o da vari\\u00e1vel MEDV (valor m\\u00e9dio por p\\u00e9 quadrado\",\"distribui\\u00e7\\u00e3o da vari\\u00e1vel MEDV (valor m\\u00e9dio por p\\u00e9 quadrado\",\"distribui\\u00e7\\u00e3o da vari\\u00e1vel MEDV (valor m\\u00e9dio por p\\u00e9 quadrado\",\"distribui\\u00e7\\u00e3o da vari\\u00e1vel MEDV (valor m\\u00e9dio por p\\u00e9 quadrado\",\"distribui\\u00e7\\u00e3o da vari\\u00e1vel MEDV (valor m\\u00e9dio por p\\u00e9 quadrado\",\"distribui\\u00e7\\u00e3o da vari\\u00e1vel MEDV (valor m\\u00e9dio por p\\u00e9 quadrado\",\"distribui\\u00e7\\u00e3o da vari\\u00e1vel MEDV (valor m\\u00e9dio por p\\u00e9 quadrado\",\"distribui\\u00e7\\u00e3o da vari\\u00e1vel MEDV (valor m\\u00e9dio por p\\u00e9 quadrado\",\"distribui\\u00e7\\u00e3o da vari\\u00e1vel MEDV (valor m\\u00e9dio por p\\u00e9 quadrado\",\"distribui\\u00e7\\u00e3o da vari\\u00e1vel MEDV (valor m\\u00e9dio por p\\u00e9 quadrado\",\"distribui\\u00e7\\u00e3o da vari\\u00e1vel MEDV (valor m\\u00e9dio por p\\u00e9 quadrado\",\"distribui\\u00e7\\u00e3o da vari\\u00e1vel MEDV (valor m\\u00e9dio por p\\u00e9 quadrado\",\"distribui\\u00e7\\u00e3o da vari\\u00e1vel MEDV (valor m\\u00e9dio por p\\u00e9 quadrado\",\"distribui\\u00e7\\u00e3o da vari\\u00e1vel MEDV (valor m\\u00e9dio por p\\u00e9 quadrado\",\"distribui\\u00e7\\u00e3o da vari\\u00e1vel MEDV (valor m\\u00e9dio por p\\u00e9 quadrado\",\"distribui\\u00e7\\u00e3o da vari\\u00e1vel MEDV (valor m\\u00e9dio por p\\u00e9 quadrado\",\"distribui\\u00e7\\u00e3o da vari\\u00e1vel MEDV (valor m\\u00e9dio por p\\u00e9 quadrado\",\"distribui\\u00e7\\u00e3o da vari\\u00e1vel MEDV (valor m\\u00e9dio por p\\u00e9 quadrado\",\"distribui\\u00e7\\u00e3o da vari\\u00e1vel MEDV (valor m\\u00e9dio por p\\u00e9 quadrado\",\"distribui\\u00e7\\u00e3o da vari\\u00e1vel MEDV (valor m\\u00e9dio por p\\u00e9 quadrado\",\"distribui\\u00e7\\u00e3o da vari\\u00e1vel MEDV (valor m\\u00e9dio por p\\u00e9 quadrado\",\"distribui\\u00e7\\u00e3o da vari\\u00e1vel MEDV (valor m\\u00e9dio por p\\u00e9 quadrado\",\"distribui\\u00e7\\u00e3o da vari\\u00e1vel MEDV (valor m\\u00e9dio por p\\u00e9 quadrado\",\"distribui\\u00e7\\u00e3o da vari\\u00e1vel MEDV (valor m\\u00e9dio por p\\u00e9 quadrado\",\"distribui\\u00e7\\u00e3o da vari\\u00e1vel MEDV (valor m\\u00e9dio por p\\u00e9 quadrado\",\"distribui\\u00e7\\u00e3o da vari\\u00e1vel MEDV (valor m\\u00e9dio por p\\u00e9 quadrado\",\"distribui\\u00e7\\u00e3o da vari\\u00e1vel MEDV (valor m\\u00e9dio por p\\u00e9 quadrado\",\"distribui\\u00e7\\u00e3o da vari\\u00e1vel MEDV (valor m\\u00e9dio por p\\u00e9 quadrado\",\"distribui\\u00e7\\u00e3o da vari\\u00e1vel MEDV (valor m\\u00e9dio por p\\u00e9 quadrado\",\"distribui\\u00e7\\u00e3o da vari\\u00e1vel MEDV (valor m\\u00e9dio por p\\u00e9 quadrado\",\"distribui\\u00e7\\u00e3o da vari\\u00e1vel MEDV (valor m\\u00e9dio por p\\u00e9 quadrado\",\"distribui\\u00e7\\u00e3o da vari\\u00e1vel MEDV (valor m\\u00e9dio por p\\u00e9 quadrado\",\"distribui\\u00e7\\u00e3o da vari\\u00e1vel MEDV (valor m\\u00e9dio por p\\u00e9 quadrado\",\"distribui\\u00e7\\u00e3o da vari\\u00e1vel MEDV (valor m\\u00e9dio por p\\u00e9 quadrado\",\"distribui\\u00e7\\u00e3o da vari\\u00e1vel MEDV (valor m\\u00e9dio por p\\u00e9 quadrado\",\"distribui\\u00e7\\u00e3o da vari\\u00e1vel MEDV (valor m\\u00e9dio por p\\u00e9 quadrado\",\"distribui\\u00e7\\u00e3o da vari\\u00e1vel MEDV (valor m\\u00e9dio por p\\u00e9 quadrado\",\"distribui\\u00e7\\u00e3o da vari\\u00e1vel MEDV (valor m\\u00e9dio por p\\u00e9 quadrado\",\"distribui\\u00e7\\u00e3o da vari\\u00e1vel MEDV (valor m\\u00e9dio por p\\u00e9 quadrado\",\"distribui\\u00e7\\u00e3o da vari\\u00e1vel MEDV (valor m\\u00e9dio por p\\u00e9 quadrado\",\"distribui\\u00e7\\u00e3o da vari\\u00e1vel MEDV (valor m\\u00e9dio por p\\u00e9 quadrado\",\"distribui\\u00e7\\u00e3o da vari\\u00e1vel MEDV (valor m\\u00e9dio por p\\u00e9 quadrado\",\"distribui\\u00e7\\u00e3o da vari\\u00e1vel MEDV (valor m\\u00e9dio por p\\u00e9 quadrado\",\"distribui\\u00e7\\u00e3o da vari\\u00e1vel MEDV (valor m\\u00e9dio por p\\u00e9 quadrado\",\"distribui\\u00e7\\u00e3o da vari\\u00e1vel MEDV (valor m\\u00e9dio por p\\u00e9 quadrado\",\"distribui\\u00e7\\u00e3o da vari\\u00e1vel MEDV (valor m\\u00e9dio por p\\u00e9 quadrado\",\"distribui\\u00e7\\u00e3o da vari\\u00e1vel MEDV (valor m\\u00e9dio por p\\u00e9 quadrado\",\"distribui\\u00e7\\u00e3o da vari\\u00e1vel MEDV (valor m\\u00e9dio por p\\u00e9 quadrado\",\"distribui\\u00e7\\u00e3o da vari\\u00e1vel MEDV (valor m\\u00e9dio por p\\u00e9 quadrado\",\"distribui\\u00e7\\u00e3o da vari\\u00e1vel MEDV (valor m\\u00e9dio por p\\u00e9 quadrado\",\"distribui\\u00e7\\u00e3o da vari\\u00e1vel MEDV (valor m\\u00e9dio por p\\u00e9 quadrado\",\"distribui\\u00e7\\u00e3o da vari\\u00e1vel MEDV (valor m\\u00e9dio por p\\u00e9 quadrado\",\"distribui\\u00e7\\u00e3o da vari\\u00e1vel MEDV (valor m\\u00e9dio por p\\u00e9 quadrado\",\"distribui\\u00e7\\u00e3o da vari\\u00e1vel MEDV (valor m\\u00e9dio por p\\u00e9 quadrado\",\"distribui\\u00e7\\u00e3o da vari\\u00e1vel MEDV (valor m\\u00e9dio por p\\u00e9 quadrado\",\"distribui\\u00e7\\u00e3o da vari\\u00e1vel MEDV (valor m\\u00e9dio por p\\u00e9 quadrado\",\"distribui\\u00e7\\u00e3o da vari\\u00e1vel MEDV (valor m\\u00e9dio por p\\u00e9 quadrado\",\"distribui\\u00e7\\u00e3o da vari\\u00e1vel MEDV (valor m\\u00e9dio por p\\u00e9 quadrado\",\"distribui\\u00e7\\u00e3o da vari\\u00e1vel MEDV (valor m\\u00e9dio por p\\u00e9 quadrado\",\"distribui\\u00e7\\u00e3o da vari\\u00e1vel MEDV (valor m\\u00e9dio por p\\u00e9 quadrado\",\"distribui\\u00e7\\u00e3o da vari\\u00e1vel MEDV (valor m\\u00e9dio por p\\u00e9 quadrado\",\"distribui\\u00e7\\u00e3o da vari\\u00e1vel MEDV (valor m\\u00e9dio por p\\u00e9 quadrado\",\"distribui\\u00e7\\u00e3o da vari\\u00e1vel MEDV (valor m\\u00e9dio por p\\u00e9 quadrado\",\"distribui\\u00e7\\u00e3o da vari\\u00e1vel MEDV (valor m\\u00e9dio por p\\u00e9 quadrado\",\"distribui\\u00e7\\u00e3o da vari\\u00e1vel MEDV (valor m\\u00e9dio por p\\u00e9 quadrado\",\"distribui\\u00e7\\u00e3o da vari\\u00e1vel MEDV (valor m\\u00e9dio por p\\u00e9 quadrado\",\"distribui\\u00e7\\u00e3o da vari\\u00e1vel MEDV (valor m\\u00e9dio por p\\u00e9 quadrado\",\"distribui\\u00e7\\u00e3o da vari\\u00e1vel MEDV (valor m\\u00e9dio por p\\u00e9 quadrado\",\"distribui\\u00e7\\u00e3o da vari\\u00e1vel MEDV (valor m\\u00e9dio por p\\u00e9 quadrado\",\"distribui\\u00e7\\u00e3o da vari\\u00e1vel MEDV (valor m\\u00e9dio por p\\u00e9 quadrado\",\"distribui\\u00e7\\u00e3o da vari\\u00e1vel MEDV (valor m\\u00e9dio por p\\u00e9 quadrado\",\"distribui\\u00e7\\u00e3o da vari\\u00e1vel MEDV (valor m\\u00e9dio por p\\u00e9 quadrado\",\"distribui\\u00e7\\u00e3o da vari\\u00e1vel MEDV (valor m\\u00e9dio por p\\u00e9 quadrado\",\"distribui\\u00e7\\u00e3o da vari\\u00e1vel MEDV (valor m\\u00e9dio por p\\u00e9 quadrado\",\"distribui\\u00e7\\u00e3o da vari\\u00e1vel MEDV (valor m\\u00e9dio por p\\u00e9 quadrado\",\"distribui\\u00e7\\u00e3o da vari\\u00e1vel MEDV (valor m\\u00e9dio por p\\u00e9 quadrado\",\"distribui\\u00e7\\u00e3o da vari\\u00e1vel MEDV (valor m\\u00e9dio por p\\u00e9 quadrado\",\"distribui\\u00e7\\u00e3o da vari\\u00e1vel MEDV (valor m\\u00e9dio por p\\u00e9 quadrado\",\"distribui\\u00e7\\u00e3o da vari\\u00e1vel MEDV (valor m\\u00e9dio por p\\u00e9 quadrado\",\"distribui\\u00e7\\u00e3o da vari\\u00e1vel MEDV (valor m\\u00e9dio por p\\u00e9 quadrado\",\"distribui\\u00e7\\u00e3o da vari\\u00e1vel MEDV (valor m\\u00e9dio por p\\u00e9 quadrado\",\"distribui\\u00e7\\u00e3o da vari\\u00e1vel MEDV (valor m\\u00e9dio por p\\u00e9 quadrado\",\"distribui\\u00e7\\u00e3o da vari\\u00e1vel MEDV (valor m\\u00e9dio por p\\u00e9 quadrado\",\"distribui\\u00e7\\u00e3o da vari\\u00e1vel MEDV (valor m\\u00e9dio por p\\u00e9 quadrado\",\"distribui\\u00e7\\u00e3o da vari\\u00e1vel MEDV (valor m\\u00e9dio por p\\u00e9 quadrado\",\"distribui\\u00e7\\u00e3o da vari\\u00e1vel MEDV (valor m\\u00e9dio por p\\u00e9 quadrado\",\"distribui\\u00e7\\u00e3o da vari\\u00e1vel MEDV (valor m\\u00e9dio por p\\u00e9 quadrado\",\"distribui\\u00e7\\u00e3o da vari\\u00e1vel MEDV (valor m\\u00e9dio por p\\u00e9 quadrado\",\"distribui\\u00e7\\u00e3o da vari\\u00e1vel MEDV (valor m\\u00e9dio por p\\u00e9 quadrado\",\"distribui\\u00e7\\u00e3o da vari\\u00e1vel MEDV (valor m\\u00e9dio por p\\u00e9 quadrado\",\"distribui\\u00e7\\u00e3o da vari\\u00e1vel MEDV (valor m\\u00e9dio por p\\u00e9 quadrado\",\"distribui\\u00e7\\u00e3o da vari\\u00e1vel MEDV (valor m\\u00e9dio por p\\u00e9 quadrado\",\"distribui\\u00e7\\u00e3o da vari\\u00e1vel MEDV (valor m\\u00e9dio por p\\u00e9 quadrado\",\"distribui\\u00e7\\u00e3o da vari\\u00e1vel MEDV (valor m\\u00e9dio por p\\u00e9 quadrado\",\"distribui\\u00e7\\u00e3o da vari\\u00e1vel MEDV (valor m\\u00e9dio por p\\u00e9 quadrado\",\"distribui\\u00e7\\u00e3o da vari\\u00e1vel MEDV (valor m\\u00e9dio por p\\u00e9 quadrado\",\"distribui\\u00e7\\u00e3o da vari\\u00e1vel MEDV (valor m\\u00e9dio por p\\u00e9 quadrado\",\"distribui\\u00e7\\u00e3o da vari\\u00e1vel MEDV (valor m\\u00e9dio por p\\u00e9 quadrado\",\"distribui\\u00e7\\u00e3o da vari\\u00e1vel MEDV (valor m\\u00e9dio por p\\u00e9 quadrado\",\"distribui\\u00e7\\u00e3o da vari\\u00e1vel MEDV (valor m\\u00e9dio por p\\u00e9 quadrado\",\"distribui\\u00e7\\u00e3o da vari\\u00e1vel MEDV (valor m\\u00e9dio por p\\u00e9 quadrado\",\"distribui\\u00e7\\u00e3o da vari\\u00e1vel MEDV (valor m\\u00e9dio por p\\u00e9 quadrado\",\"distribui\\u00e7\\u00e3o da vari\\u00e1vel MEDV (valor m\\u00e9dio por p\\u00e9 quadrado\",\"distribui\\u00e7\\u00e3o da vari\\u00e1vel MEDV (valor m\\u00e9dio por p\\u00e9 quadrado\",\"distribui\\u00e7\\u00e3o da vari\\u00e1vel MEDV (valor m\\u00e9dio por p\\u00e9 quadrado\",\"distribui\\u00e7\\u00e3o da vari\\u00e1vel MEDV (valor m\\u00e9dio por p\\u00e9 quadrado\",\"distribui\\u00e7\\u00e3o da vari\\u00e1vel MEDV (valor m\\u00e9dio por p\\u00e9 quadrado\",\"distribui\\u00e7\\u00e3o da vari\\u00e1vel MEDV (valor m\\u00e9dio por p\\u00e9 quadrado\",\"distribui\\u00e7\\u00e3o da vari\\u00e1vel MEDV (valor m\\u00e9dio por p\\u00e9 quadrado\",\"distribui\\u00e7\\u00e3o da vari\\u00e1vel MEDV (valor m\\u00e9dio por p\\u00e9 quadrado\",\"distribui\\u00e7\\u00e3o da vari\\u00e1vel MEDV (valor m\\u00e9dio por p\\u00e9 quadrado\",\"distribui\\u00e7\\u00e3o da vari\\u00e1vel MEDV (valor m\\u00e9dio por p\\u00e9 quadrado\",\"distribui\\u00e7\\u00e3o da vari\\u00e1vel MEDV (valor m\\u00e9dio por p\\u00e9 quadrado\",\"distribui\\u00e7\\u00e3o da vari\\u00e1vel MEDV (valor m\\u00e9dio por p\\u00e9 quadrado\",\"distribui\\u00e7\\u00e3o da vari\\u00e1vel MEDV (valor m\\u00e9dio por p\\u00e9 quadrado\",\"distribui\\u00e7\\u00e3o da vari\\u00e1vel MEDV (valor m\\u00e9dio por p\\u00e9 quadrado\",\"distribui\\u00e7\\u00e3o da vari\\u00e1vel MEDV (valor m\\u00e9dio por p\\u00e9 quadrado\",\"distribui\\u00e7\\u00e3o da vari\\u00e1vel MEDV (valor m\\u00e9dio por p\\u00e9 quadrado\",\"distribui\\u00e7\\u00e3o da vari\\u00e1vel MEDV (valor m\\u00e9dio por p\\u00e9 quadrado\",\"distribui\\u00e7\\u00e3o da vari\\u00e1vel MEDV (valor m\\u00e9dio por p\\u00e9 quadrado\",\"distribui\\u00e7\\u00e3o da vari\\u00e1vel MEDV (valor m\\u00e9dio por p\\u00e9 quadrado\",\"distribui\\u00e7\\u00e3o da vari\\u00e1vel MEDV (valor m\\u00e9dio por p\\u00e9 quadrado\",\"distribui\\u00e7\\u00e3o da vari\\u00e1vel MEDV (valor m\\u00e9dio por p\\u00e9 quadrado\",\"distribui\\u00e7\\u00e3o da vari\\u00e1vel MEDV (valor m\\u00e9dio por p\\u00e9 quadrado\",\"distribui\\u00e7\\u00e3o da vari\\u00e1vel MEDV (valor m\\u00e9dio por p\\u00e9 quadrado\",\"distribui\\u00e7\\u00e3o da vari\\u00e1vel MEDV (valor m\\u00e9dio por p\\u00e9 quadrado\",\"distribui\\u00e7\\u00e3o da vari\\u00e1vel MEDV (valor m\\u00e9dio por p\\u00e9 quadrado\",\"distribui\\u00e7\\u00e3o da vari\\u00e1vel MEDV (valor m\\u00e9dio por p\\u00e9 quadrado\",\"distribui\\u00e7\\u00e3o da vari\\u00e1vel MEDV (valor m\\u00e9dio por p\\u00e9 quadrado\",\"distribui\\u00e7\\u00e3o da vari\\u00e1vel MEDV (valor m\\u00e9dio por p\\u00e9 quadrado\",\"distribui\\u00e7\\u00e3o da vari\\u00e1vel MEDV (valor m\\u00e9dio por p\\u00e9 quadrado\",\"distribui\\u00e7\\u00e3o da vari\\u00e1vel MEDV (valor m\\u00e9dio por p\\u00e9 quadrado\"],\"yaxis\":\"y2\",\"type\":\"scatter\"}],                        {\"barmode\":\"overlay\",\"hovermode\":\"closest\",\"legend\":{\"traceorder\":\"reversed\"},\"xaxis\":{\"anchor\":\"y2\",\"domain\":[0.0,1.0],\"zeroline\":false},\"yaxis\":{\"anchor\":\"free\",\"domain\":[0.35,1],\"position\":0.0},\"yaxis2\":{\"anchor\":\"x\",\"domain\":[0,0.25],\"dtick\":1,\"showticklabels\":false},\"template\":{\"data\":{\"bar\":[{\"error_x\":{\"color\":\"#2a3f5f\"},\"error_y\":{\"color\":\"#2a3f5f\"},\"marker\":{\"line\":{\"color\":\"#E5ECF6\",\"width\":0.5},\"pattern\":{\"fillmode\":\"overlay\",\"size\":10,\"solidity\":0.2}},\"type\":\"bar\"}],\"barpolar\":[{\"marker\":{\"line\":{\"color\":\"#E5ECF6\",\"width\":0.5},\"pattern\":{\"fillmode\":\"overlay\",\"size\":10,\"solidity\":0.2}},\"type\":\"barpolar\"}],\"carpet\":[{\"aaxis\":{\"endlinecolor\":\"#2a3f5f\",\"gridcolor\":\"white\",\"linecolor\":\"white\",\"minorgridcolor\":\"white\",\"startlinecolor\":\"#2a3f5f\"},\"baxis\":{\"endlinecolor\":\"#2a3f5f\",\"gridcolor\":\"white\",\"linecolor\":\"white\",\"minorgridcolor\":\"white\",\"startlinecolor\":\"#2a3f5f\"},\"type\":\"carpet\"}],\"choropleth\":[{\"colorbar\":{\"outlinewidth\":0,\"ticks\":\"\"},\"type\":\"choropleth\"}],\"contour\":[{\"colorbar\":{\"outlinewidth\":0,\"ticks\":\"\"},\"colorscale\":[[0.0,\"#0d0887\"],[0.1111111111111111,\"#46039f\"],[0.2222222222222222,\"#7201a8\"],[0.3333333333333333,\"#9c179e\"],[0.4444444444444444,\"#bd3786\"],[0.5555555555555556,\"#d8576b\"],[0.6666666666666666,\"#ed7953\"],[0.7777777777777778,\"#fb9f3a\"],[0.8888888888888888,\"#fdca26\"],[1.0,\"#f0f921\"]],\"type\":\"contour\"}],\"contourcarpet\":[{\"colorbar\":{\"outlinewidth\":0,\"ticks\":\"\"},\"type\":\"contourcarpet\"}],\"heatmap\":[{\"colorbar\":{\"outlinewidth\":0,\"ticks\":\"\"},\"colorscale\":[[0.0,\"#0d0887\"],[0.1111111111111111,\"#46039f\"],[0.2222222222222222,\"#7201a8\"],[0.3333333333333333,\"#9c179e\"],[0.4444444444444444,\"#bd3786\"],[0.5555555555555556,\"#d8576b\"],[0.6666666666666666,\"#ed7953\"],[0.7777777777777778,\"#fb9f3a\"],[0.8888888888888888,\"#fdca26\"],[1.0,\"#f0f921\"]],\"type\":\"heatmap\"}],\"heatmapgl\":[{\"colorbar\":{\"outlinewidth\":0,\"ticks\":\"\"},\"colorscale\":[[0.0,\"#0d0887\"],[0.1111111111111111,\"#46039f\"],[0.2222222222222222,\"#7201a8\"],[0.3333333333333333,\"#9c179e\"],[0.4444444444444444,\"#bd3786\"],[0.5555555555555556,\"#d8576b\"],[0.6666666666666666,\"#ed7953\"],[0.7777777777777778,\"#fb9f3a\"],[0.8888888888888888,\"#fdca26\"],[1.0,\"#f0f921\"]],\"type\":\"heatmapgl\"}],\"histogram\":[{\"marker\":{\"pattern\":{\"fillmode\":\"overlay\",\"size\":10,\"solidity\":0.2}},\"type\":\"histogram\"}],\"histogram2d\":[{\"colorbar\":{\"outlinewidth\":0,\"ticks\":\"\"},\"colorscale\":[[0.0,\"#0d0887\"],[0.1111111111111111,\"#46039f\"],[0.2222222222222222,\"#7201a8\"],[0.3333333333333333,\"#9c179e\"],[0.4444444444444444,\"#bd3786\"],[0.5555555555555556,\"#d8576b\"],[0.6666666666666666,\"#ed7953\"],[0.7777777777777778,\"#fb9f3a\"],[0.8888888888888888,\"#fdca26\"],[1.0,\"#f0f921\"]],\"type\":\"histogram2d\"}],\"histogram2dcontour\":[{\"colorbar\":{\"outlinewidth\":0,\"ticks\":\"\"},\"colorscale\":[[0.0,\"#0d0887\"],[0.1111111111111111,\"#46039f\"],[0.2222222222222222,\"#7201a8\"],[0.3333333333333333,\"#9c179e\"],[0.4444444444444444,\"#bd3786\"],[0.5555555555555556,\"#d8576b\"],[0.6666666666666666,\"#ed7953\"],[0.7777777777777778,\"#fb9f3a\"],[0.8888888888888888,\"#fdca26\"],[1.0,\"#f0f921\"]],\"type\":\"histogram2dcontour\"}],\"mesh3d\":[{\"colorbar\":{\"outlinewidth\":0,\"ticks\":\"\"},\"type\":\"mesh3d\"}],\"parcoords\":[{\"line\":{\"colorbar\":{\"outlinewidth\":0,\"ticks\":\"\"}},\"type\":\"parcoords\"}],\"pie\":[{\"automargin\":true,\"type\":\"pie\"}],\"scatter\":[{\"marker\":{\"colorbar\":{\"outlinewidth\":0,\"ticks\":\"\"}},\"type\":\"scatter\"}],\"scatter3d\":[{\"line\":{\"colorbar\":{\"outlinewidth\":0,\"ticks\":\"\"}},\"marker\":{\"colorbar\":{\"outlinewidth\":0,\"ticks\":\"\"}},\"type\":\"scatter3d\"}],\"scattercarpet\":[{\"marker\":{\"colorbar\":{\"outlinewidth\":0,\"ticks\":\"\"}},\"type\":\"scattercarpet\"}],\"scattergeo\":[{\"marker\":{\"colorbar\":{\"outlinewidth\":0,\"ticks\":\"\"}},\"type\":\"scattergeo\"}],\"scattergl\":[{\"marker\":{\"colorbar\":{\"outlinewidth\":0,\"ticks\":\"\"}},\"type\":\"scattergl\"}],\"scattermapbox\":[{\"marker\":{\"colorbar\":{\"outlinewidth\":0,\"ticks\":\"\"}},\"type\":\"scattermapbox\"}],\"scatterpolar\":[{\"marker\":{\"colorbar\":{\"outlinewidth\":0,\"ticks\":\"\"}},\"type\":\"scatterpolar\"}],\"scatterpolargl\":[{\"marker\":{\"colorbar\":{\"outlinewidth\":0,\"ticks\":\"\"}},\"type\":\"scatterpolargl\"}],\"scatterternary\":[{\"marker\":{\"colorbar\":{\"outlinewidth\":0,\"ticks\":\"\"}},\"type\":\"scatterternary\"}],\"surface\":[{\"colorbar\":{\"outlinewidth\":0,\"ticks\":\"\"},\"colorscale\":[[0.0,\"#0d0887\"],[0.1111111111111111,\"#46039f\"],[0.2222222222222222,\"#7201a8\"],[0.3333333333333333,\"#9c179e\"],[0.4444444444444444,\"#bd3786\"],[0.5555555555555556,\"#d8576b\"],[0.6666666666666666,\"#ed7953\"],[0.7777777777777778,\"#fb9f3a\"],[0.8888888888888888,\"#fdca26\"],[1.0,\"#f0f921\"]],\"type\":\"surface\"}],\"table\":[{\"cells\":{\"fill\":{\"color\":\"#EBF0F8\"},\"line\":{\"color\":\"white\"}},\"header\":{\"fill\":{\"color\":\"#C8D4E3\"},\"line\":{\"color\":\"white\"}},\"type\":\"table\"}]},\"layout\":{\"annotationdefaults\":{\"arrowcolor\":\"#2a3f5f\",\"arrowhead\":0,\"arrowwidth\":1},\"autotypenumbers\":\"strict\",\"coloraxis\":{\"colorbar\":{\"outlinewidth\":0,\"ticks\":\"\"}},\"colorscale\":{\"diverging\":[[0,\"#8e0152\"],[0.1,\"#c51b7d\"],[0.2,\"#de77ae\"],[0.3,\"#f1b6da\"],[0.4,\"#fde0ef\"],[0.5,\"#f7f7f7\"],[0.6,\"#e6f5d0\"],[0.7,\"#b8e186\"],[0.8,\"#7fbc41\"],[0.9,\"#4d9221\"],[1,\"#276419\"]],\"sequential\":[[0.0,\"#0d0887\"],[0.1111111111111111,\"#46039f\"],[0.2222222222222222,\"#7201a8\"],[0.3333333333333333,\"#9c179e\"],[0.4444444444444444,\"#bd3786\"],[0.5555555555555556,\"#d8576b\"],[0.6666666666666666,\"#ed7953\"],[0.7777777777777778,\"#fb9f3a\"],[0.8888888888888888,\"#fdca26\"],[1.0,\"#f0f921\"]],\"sequentialminus\":[[0.0,\"#0d0887\"],[0.1111111111111111,\"#46039f\"],[0.2222222222222222,\"#7201a8\"],[0.3333333333333333,\"#9c179e\"],[0.4444444444444444,\"#bd3786\"],[0.5555555555555556,\"#d8576b\"],[0.6666666666666666,\"#ed7953\"],[0.7777777777777778,\"#fb9f3a\"],[0.8888888888888888,\"#fdca26\"],[1.0,\"#f0f921\"]]},\"colorway\":[\"#636efa\",\"#EF553B\",\"#00cc96\",\"#ab63fa\",\"#FFA15A\",\"#19d3f3\",\"#FF6692\",\"#B6E880\",\"#FF97FF\",\"#FECB52\"],\"font\":{\"color\":\"#2a3f5f\"},\"geo\":{\"bgcolor\":\"white\",\"lakecolor\":\"white\",\"landcolor\":\"#E5ECF6\",\"showlakes\":true,\"showland\":true,\"subunitcolor\":\"white\"},\"hoverlabel\":{\"align\":\"left\"},\"hovermode\":\"closest\",\"mapbox\":{\"style\":\"light\"},\"paper_bgcolor\":\"white\",\"plot_bgcolor\":\"#E5ECF6\",\"polar\":{\"angularaxis\":{\"gridcolor\":\"white\",\"linecolor\":\"white\",\"ticks\":\"\"},\"bgcolor\":\"#E5ECF6\",\"radialaxis\":{\"gridcolor\":\"white\",\"linecolor\":\"white\",\"ticks\":\"\"}},\"scene\":{\"xaxis\":{\"backgroundcolor\":\"#E5ECF6\",\"gridcolor\":\"white\",\"gridwidth\":2,\"linecolor\":\"white\",\"showbackground\":true,\"ticks\":\"\",\"zerolinecolor\":\"white\"},\"yaxis\":{\"backgroundcolor\":\"#E5ECF6\",\"gridcolor\":\"white\",\"gridwidth\":2,\"linecolor\":\"white\",\"showbackground\":true,\"ticks\":\"\",\"zerolinecolor\":\"white\"},\"zaxis\":{\"backgroundcolor\":\"#E5ECF6\",\"gridcolor\":\"white\",\"gridwidth\":2,\"linecolor\":\"white\",\"showbackground\":true,\"ticks\":\"\",\"zerolinecolor\":\"white\"}},\"shapedefaults\":{\"line\":{\"color\":\"#2a3f5f\"}},\"ternary\":{\"aaxis\":{\"gridcolor\":\"white\",\"linecolor\":\"white\",\"ticks\":\"\"},\"baxis\":{\"gridcolor\":\"white\",\"linecolor\":\"white\",\"ticks\":\"\"},\"bgcolor\":\"#E5ECF6\",\"caxis\":{\"gridcolor\":\"white\",\"linecolor\":\"white\",\"ticks\":\"\"}},\"title\":{\"x\":0.05},\"xaxis\":{\"automargin\":true,\"gridcolor\":\"white\",\"linecolor\":\"white\",\"ticks\":\"\",\"title\":{\"standoff\":15},\"zerolinecolor\":\"white\",\"zerolinewidth\":2},\"yaxis\":{\"automargin\":true,\"gridcolor\":\"white\",\"linecolor\":\"white\",\"ticks\":\"\",\"title\":{\"standoff\":15},\"zerolinecolor\":\"white\",\"zerolinewidth\":2}}}},                        {\"responsive\": true}                    ).then(function(){\n",
              "                            \n",
              "var gd = document.getElementById('1083912a-422b-4065-b978-d98ccaaa7c9d');\n",
              "var x = new MutationObserver(function (mutations, observer) {{\n",
              "        var display = window.getComputedStyle(gd).display;\n",
              "        if (!display || display === 'none') {{\n",
              "            console.log([gd, 'removed!']);\n",
              "            Plotly.purge(gd);\n",
              "            observer.disconnect();\n",
              "        }}\n",
              "}});\n",
              "\n",
              "// Listen for the removal of the full notebook cells\n",
              "var notebookContainer = gd.closest('#notebook-container');\n",
              "if (notebookContainer) {{\n",
              "    x.observe(notebookContainer, {childList: true});\n",
              "}}\n",
              "\n",
              "// Listen for the clearing of the current output cell\n",
              "var outputEl = gd.closest('.output');\n",
              "if (outputEl) {{\n",
              "    x.observe(outputEl, {childList: true});\n",
              "}}\n",
              "\n",
              "                        })                };                            </script>        </div>\n",
              "</body>\n",
              "</html>"
            ]
          },
          "metadata": {},
          "output_type": "display_data"
        }
      ],
      "source": [
        "data.drop(top15, inplace=True)\n",
        "\n",
        "#visualizando um gráfico mais intuitivo com relação e distribuição\n",
        "labels = ['distribuição da variável MEDV (valor médio por pé quadrado']\n",
        "fig = ff.create_distplot([data.MEDV], labels, bin_size=.2)\n",
        "fig.show()"
      ]
    },
    {
      "cell_type": "code",
      "execution_count": null,
      "metadata": {
        "colab": {
          "base_uri": "https://localhost:8080/",
          "height": 542
        },
        "id": "eFn3Dfx_PiKk",
        "outputId": "fd72644b-4270-47e7-949d-06ba72603b4a"
      },
      "outputs": [
        {
          "data": {
            "text/html": [
              "<html>\n",
              "<head><meta charset=\"utf-8\" /></head>\n",
              "<body>\n",
              "    <div>            <script src=\"https://cdnjs.cloudflare.com/ajax/libs/mathjax/2.7.5/MathJax.js?config=TeX-AMS-MML_SVG\"></script><script type=\"text/javascript\">if (window.MathJax) {MathJax.Hub.Config({SVG: {font: \"STIX-Web\"}});}</script>                <script type=\"text/javascript\">window.PlotlyConfig = {MathJaxConfig: 'local'};</script>\n",
              "        <script src=\"https://cdn.plot.ly/plotly-2.8.3.min.js\"></script>                <div id=\"81cf963a-8a7d-443f-a469-89a920cc2b5e\" class=\"plotly-graph-div\" style=\"height:525px; width:100%;\"></div>            <script type=\"text/javascript\">                                    window.PLOTLYENV=window.PLOTLYENV || {};                                    if (document.getElementById(\"81cf963a-8a7d-443f-a469-89a920cc2b5e\")) {                    Plotly.newPlot(                        \"81cf963a-8a7d-443f-a469-89a920cc2b5e\",                        [{\"alignmentgroup\":\"True\",\"bingroup\":\"x\",\"hovertemplate\":\"MEDV=%{x}<br>count=%{y}<extra></extra>\",\"legendgroup\":\"\",\"marker\":{\"color\":\"#636efa\",\"opacity\":0.5,\"pattern\":{\"shape\":\"\"}},\"name\":\"\",\"nbinsx\":50,\"offsetgroup\":\"\",\"orientation\":\"v\",\"showlegend\":false,\"x\":[24.0,21.6,34.7,33.4,36.2,28.7,22.9,27.1,16.5,18.9,15.0,18.9,21.7,20.4,18.2,19.9,23.1,17.5,20.2,18.2,13.6,19.6,15.2,14.5,15.6,13.9,16.6,14.8,18.4,21.0,12.7,14.5,13.2,13.1,13.5,18.9,20.0,21.0,24.7,30.8,34.9,26.6,25.3,24.7,21.2,19.3,20.0,16.6,14.4,19.4,19.7,20.5,25.0,23.4,18.9,35.4,24.7,31.6,23.3,19.6,18.7,16.0,22.2,25.0,33.0,23.5,19.4,22.0,17.4,20.9,24.2,21.7,22.8,23.4,24.1,21.4,20.0,20.8,21.2,20.3,28.0,23.9,24.8,22.9,23.9,26.6,22.5,22.2,23.6,28.7,22.6,22.0,22.9,25.0,20.6,28.4,21.4,38.7,43.8,33.2,27.5,26.5,18.6,19.3,20.1,19.5,19.5,20.4,19.8,19.4,21.7,22.8,18.8,18.7,18.5,18.3,21.2,19.2,20.4,19.3,22.0,20.3,20.5,17.3,18.8,21.4,15.7,16.2,18.0,14.3,19.2,19.6,23.0,18.4,15.6,18.1,17.4,17.1,13.3,17.8,14.0,14.4,13.4,15.6,11.8,13.8,15.6,14.6,17.8,15.4,21.5,19.6,15.3,19.4,17.0,15.6,13.1,41.3,24.3,23.3,27.0,22.7,25.0,23.8,23.8,22.3,17.4,19.1,23.1,23.6,22.6,29.4,23.2,24.6,29.9,37.2,39.8,36.2,37.9,32.5,26.4,29.6,32.0,29.8,34.9,37.0,30.5,36.4,31.1,29.1,33.3,30.3,34.6,34.9,32.9,24.1,42.3,48.5,22.6,24.4,22.5,24.4,20.0,21.7,19.3,22.4,28.1,23.7,25.0,23.3,28.7,21.5,23.0,26.7,21.7,27.5,30.1,44.8,37.6,31.6,46.7,31.5,24.3,31.7,41.7,48.3,29.0,24.0,25.1,31.5,23.7,23.3,22.0,20.1,22.2,23.7,17.6,18.5,24.3,20.5,24.5,26.2,24.4,24.8,29.6,42.8,21.9,20.9,44.0,36.0,30.1,33.8,43.1,48.8,31.0,36.5,22.8,30.7,43.5,20.7,21.1,25.2,24.4,35.2,32.4,32.0,33.2,33.1,29.1,35.1,45.4,35.4,46.0,32.2,22.0,20.1,23.2,22.3,24.8,28.5,37.3,27.9,23.9,21.7,28.6,27.1,20.3,22.5,29.0,24.8,22.0,26.4,33.1,36.1,28.4,33.4,28.2,22.8,20.3,16.1,22.1,19.4,21.6,23.8,16.2,17.8,19.8,23.1,21.0,23.8,23.1,20.4,18.5,25.0,24.6,23.0,22.2,19.3,22.6,19.8,17.1,19.4,22.2,20.7,21.1,19.5,18.5,20.6,19.0,18.7,32.7,16.5,23.9,31.2,17.5,17.2,23.1,24.5,26.6,22.9,24.1,18.6,30.1,18.2,20.6,17.8,21.7,22.7,22.6,25.0,19.9,20.8,16.8,21.9,27.5,21.9,23.1,50.0,13.8,13.8,15.0,13.9,13.3,13.1,10.2,10.4,10.9,11.3,12.3,8.8,7.2,10.5,7.4,10.2,11.5,15.1,23.2,9.7,13.8,12.7,13.1,12.5,8.5,5.0,6.3,5.6,7.2,12.1,8.3,8.5,5.0,11.9,27.9,17.2,27.5,15.0,17.2,17.9,16.3,7.0,7.2,7.5,10.4,8.8,8.4,16.7,14.2,20.8,13.4,11.7,8.3,10.2,10.9,11.0,9.5,14.5,14.1,16.1,14.3,11.7,13.4,9.6,8.7,8.4,12.8,10.5,17.1,18.4,15.4,10.8,11.8,14.9,12.6,14.1,13.0,13.4,15.2,16.1,17.8,14.9,14.1,12.7,13.5,14.9,20.0,16.4,17.7,19.5,20.2,21.4,19.9,19.0,19.1,19.1,20.1,19.9,19.6,23.2,29.8,13.8,13.3,16.7,12.0,14.6,21.4,23.0,23.7,25.0,21.8,20.6,21.2,19.1,20.6,15.2,7.0,8.1,13.6,20.1,21.8,24.5,23.1,19.7,18.3,21.2,17.5,16.8,22.4,20.6,23.9,22.0,11.9],\"xaxis\":\"x\",\"yaxis\":\"y\",\"type\":\"histogram\"}],                        {\"template\":{\"data\":{\"bar\":[{\"error_x\":{\"color\":\"#2a3f5f\"},\"error_y\":{\"color\":\"#2a3f5f\"},\"marker\":{\"line\":{\"color\":\"#E5ECF6\",\"width\":0.5},\"pattern\":{\"fillmode\":\"overlay\",\"size\":10,\"solidity\":0.2}},\"type\":\"bar\"}],\"barpolar\":[{\"marker\":{\"line\":{\"color\":\"#E5ECF6\",\"width\":0.5},\"pattern\":{\"fillmode\":\"overlay\",\"size\":10,\"solidity\":0.2}},\"type\":\"barpolar\"}],\"carpet\":[{\"aaxis\":{\"endlinecolor\":\"#2a3f5f\",\"gridcolor\":\"white\",\"linecolor\":\"white\",\"minorgridcolor\":\"white\",\"startlinecolor\":\"#2a3f5f\"},\"baxis\":{\"endlinecolor\":\"#2a3f5f\",\"gridcolor\":\"white\",\"linecolor\":\"white\",\"minorgridcolor\":\"white\",\"startlinecolor\":\"#2a3f5f\"},\"type\":\"carpet\"}],\"choropleth\":[{\"colorbar\":{\"outlinewidth\":0,\"ticks\":\"\"},\"type\":\"choropleth\"}],\"contour\":[{\"colorbar\":{\"outlinewidth\":0,\"ticks\":\"\"},\"colorscale\":[[0.0,\"#0d0887\"],[0.1111111111111111,\"#46039f\"],[0.2222222222222222,\"#7201a8\"],[0.3333333333333333,\"#9c179e\"],[0.4444444444444444,\"#bd3786\"],[0.5555555555555556,\"#d8576b\"],[0.6666666666666666,\"#ed7953\"],[0.7777777777777778,\"#fb9f3a\"],[0.8888888888888888,\"#fdca26\"],[1.0,\"#f0f921\"]],\"type\":\"contour\"}],\"contourcarpet\":[{\"colorbar\":{\"outlinewidth\":0,\"ticks\":\"\"},\"type\":\"contourcarpet\"}],\"heatmap\":[{\"colorbar\":{\"outlinewidth\":0,\"ticks\":\"\"},\"colorscale\":[[0.0,\"#0d0887\"],[0.1111111111111111,\"#46039f\"],[0.2222222222222222,\"#7201a8\"],[0.3333333333333333,\"#9c179e\"],[0.4444444444444444,\"#bd3786\"],[0.5555555555555556,\"#d8576b\"],[0.6666666666666666,\"#ed7953\"],[0.7777777777777778,\"#fb9f3a\"],[0.8888888888888888,\"#fdca26\"],[1.0,\"#f0f921\"]],\"type\":\"heatmap\"}],\"heatmapgl\":[{\"colorbar\":{\"outlinewidth\":0,\"ticks\":\"\"},\"colorscale\":[[0.0,\"#0d0887\"],[0.1111111111111111,\"#46039f\"],[0.2222222222222222,\"#7201a8\"],[0.3333333333333333,\"#9c179e\"],[0.4444444444444444,\"#bd3786\"],[0.5555555555555556,\"#d8576b\"],[0.6666666666666666,\"#ed7953\"],[0.7777777777777778,\"#fb9f3a\"],[0.8888888888888888,\"#fdca26\"],[1.0,\"#f0f921\"]],\"type\":\"heatmapgl\"}],\"histogram\":[{\"marker\":{\"pattern\":{\"fillmode\":\"overlay\",\"size\":10,\"solidity\":0.2}},\"type\":\"histogram\"}],\"histogram2d\":[{\"colorbar\":{\"outlinewidth\":0,\"ticks\":\"\"},\"colorscale\":[[0.0,\"#0d0887\"],[0.1111111111111111,\"#46039f\"],[0.2222222222222222,\"#7201a8\"],[0.3333333333333333,\"#9c179e\"],[0.4444444444444444,\"#bd3786\"],[0.5555555555555556,\"#d8576b\"],[0.6666666666666666,\"#ed7953\"],[0.7777777777777778,\"#fb9f3a\"],[0.8888888888888888,\"#fdca26\"],[1.0,\"#f0f921\"]],\"type\":\"histogram2d\"}],\"histogram2dcontour\":[{\"colorbar\":{\"outlinewidth\":0,\"ticks\":\"\"},\"colorscale\":[[0.0,\"#0d0887\"],[0.1111111111111111,\"#46039f\"],[0.2222222222222222,\"#7201a8\"],[0.3333333333333333,\"#9c179e\"],[0.4444444444444444,\"#bd3786\"],[0.5555555555555556,\"#d8576b\"],[0.6666666666666666,\"#ed7953\"],[0.7777777777777778,\"#fb9f3a\"],[0.8888888888888888,\"#fdca26\"],[1.0,\"#f0f921\"]],\"type\":\"histogram2dcontour\"}],\"mesh3d\":[{\"colorbar\":{\"outlinewidth\":0,\"ticks\":\"\"},\"type\":\"mesh3d\"}],\"parcoords\":[{\"line\":{\"colorbar\":{\"outlinewidth\":0,\"ticks\":\"\"}},\"type\":\"parcoords\"}],\"pie\":[{\"automargin\":true,\"type\":\"pie\"}],\"scatter\":[{\"marker\":{\"colorbar\":{\"outlinewidth\":0,\"ticks\":\"\"}},\"type\":\"scatter\"}],\"scatter3d\":[{\"line\":{\"colorbar\":{\"outlinewidth\":0,\"ticks\":\"\"}},\"marker\":{\"colorbar\":{\"outlinewidth\":0,\"ticks\":\"\"}},\"type\":\"scatter3d\"}],\"scattercarpet\":[{\"marker\":{\"colorbar\":{\"outlinewidth\":0,\"ticks\":\"\"}},\"type\":\"scattercarpet\"}],\"scattergeo\":[{\"marker\":{\"colorbar\":{\"outlinewidth\":0,\"ticks\":\"\"}},\"type\":\"scattergeo\"}],\"scattergl\":[{\"marker\":{\"colorbar\":{\"outlinewidth\":0,\"ticks\":\"\"}},\"type\":\"scattergl\"}],\"scattermapbox\":[{\"marker\":{\"colorbar\":{\"outlinewidth\":0,\"ticks\":\"\"}},\"type\":\"scattermapbox\"}],\"scatterpolar\":[{\"marker\":{\"colorbar\":{\"outlinewidth\":0,\"ticks\":\"\"}},\"type\":\"scatterpolar\"}],\"scatterpolargl\":[{\"marker\":{\"colorbar\":{\"outlinewidth\":0,\"ticks\":\"\"}},\"type\":\"scatterpolargl\"}],\"scatterternary\":[{\"marker\":{\"colorbar\":{\"outlinewidth\":0,\"ticks\":\"\"}},\"type\":\"scatterternary\"}],\"surface\":[{\"colorbar\":{\"outlinewidth\":0,\"ticks\":\"\"},\"colorscale\":[[0.0,\"#0d0887\"],[0.1111111111111111,\"#46039f\"],[0.2222222222222222,\"#7201a8\"],[0.3333333333333333,\"#9c179e\"],[0.4444444444444444,\"#bd3786\"],[0.5555555555555556,\"#d8576b\"],[0.6666666666666666,\"#ed7953\"],[0.7777777777777778,\"#fb9f3a\"],[0.8888888888888888,\"#fdca26\"],[1.0,\"#f0f921\"]],\"type\":\"surface\"}],\"table\":[{\"cells\":{\"fill\":{\"color\":\"#EBF0F8\"},\"line\":{\"color\":\"white\"}},\"header\":{\"fill\":{\"color\":\"#C8D4E3\"},\"line\":{\"color\":\"white\"}},\"type\":\"table\"}]},\"layout\":{\"annotationdefaults\":{\"arrowcolor\":\"#2a3f5f\",\"arrowhead\":0,\"arrowwidth\":1},\"autotypenumbers\":\"strict\",\"coloraxis\":{\"colorbar\":{\"outlinewidth\":0,\"ticks\":\"\"}},\"colorscale\":{\"diverging\":[[0,\"#8e0152\"],[0.1,\"#c51b7d\"],[0.2,\"#de77ae\"],[0.3,\"#f1b6da\"],[0.4,\"#fde0ef\"],[0.5,\"#f7f7f7\"],[0.6,\"#e6f5d0\"],[0.7,\"#b8e186\"],[0.8,\"#7fbc41\"],[0.9,\"#4d9221\"],[1,\"#276419\"]],\"sequential\":[[0.0,\"#0d0887\"],[0.1111111111111111,\"#46039f\"],[0.2222222222222222,\"#7201a8\"],[0.3333333333333333,\"#9c179e\"],[0.4444444444444444,\"#bd3786\"],[0.5555555555555556,\"#d8576b\"],[0.6666666666666666,\"#ed7953\"],[0.7777777777777778,\"#fb9f3a\"],[0.8888888888888888,\"#fdca26\"],[1.0,\"#f0f921\"]],\"sequentialminus\":[[0.0,\"#0d0887\"],[0.1111111111111111,\"#46039f\"],[0.2222222222222222,\"#7201a8\"],[0.3333333333333333,\"#9c179e\"],[0.4444444444444444,\"#bd3786\"],[0.5555555555555556,\"#d8576b\"],[0.6666666666666666,\"#ed7953\"],[0.7777777777777778,\"#fb9f3a\"],[0.8888888888888888,\"#fdca26\"],[1.0,\"#f0f921\"]]},\"colorway\":[\"#636efa\",\"#EF553B\",\"#00cc96\",\"#ab63fa\",\"#FFA15A\",\"#19d3f3\",\"#FF6692\",\"#B6E880\",\"#FF97FF\",\"#FECB52\"],\"font\":{\"color\":\"#2a3f5f\"},\"geo\":{\"bgcolor\":\"white\",\"lakecolor\":\"white\",\"landcolor\":\"#E5ECF6\",\"showlakes\":true,\"showland\":true,\"subunitcolor\":\"white\"},\"hoverlabel\":{\"align\":\"left\"},\"hovermode\":\"closest\",\"mapbox\":{\"style\":\"light\"},\"paper_bgcolor\":\"white\",\"plot_bgcolor\":\"#E5ECF6\",\"polar\":{\"angularaxis\":{\"gridcolor\":\"white\",\"linecolor\":\"white\",\"ticks\":\"\"},\"bgcolor\":\"#E5ECF6\",\"radialaxis\":{\"gridcolor\":\"white\",\"linecolor\":\"white\",\"ticks\":\"\"}},\"scene\":{\"xaxis\":{\"backgroundcolor\":\"#E5ECF6\",\"gridcolor\":\"white\",\"gridwidth\":2,\"linecolor\":\"white\",\"showbackground\":true,\"ticks\":\"\",\"zerolinecolor\":\"white\"},\"yaxis\":{\"backgroundcolor\":\"#E5ECF6\",\"gridcolor\":\"white\",\"gridwidth\":2,\"linecolor\":\"white\",\"showbackground\":true,\"ticks\":\"\",\"zerolinecolor\":\"white\"},\"zaxis\":{\"backgroundcolor\":\"#E5ECF6\",\"gridcolor\":\"white\",\"gridwidth\":2,\"linecolor\":\"white\",\"showbackground\":true,\"ticks\":\"\",\"zerolinecolor\":\"white\"}},\"shapedefaults\":{\"line\":{\"color\":\"#2a3f5f\"}},\"ternary\":{\"aaxis\":{\"gridcolor\":\"white\",\"linecolor\":\"white\",\"ticks\":\"\"},\"baxis\":{\"gridcolor\":\"white\",\"linecolor\":\"white\",\"ticks\":\"\"},\"bgcolor\":\"#E5ECF6\",\"caxis\":{\"gridcolor\":\"white\",\"linecolor\":\"white\",\"ticks\":\"\"}},\"title\":{\"x\":0.05},\"xaxis\":{\"automargin\":true,\"gridcolor\":\"white\",\"linecolor\":\"white\",\"ticks\":\"\",\"title\":{\"standoff\":15},\"zerolinecolor\":\"white\",\"zerolinewidth\":2},\"yaxis\":{\"automargin\":true,\"gridcolor\":\"white\",\"linecolor\":\"white\",\"ticks\":\"\",\"title\":{\"standoff\":15},\"zerolinecolor\":\"white\",\"zerolinewidth\":2}}},\"xaxis\":{\"anchor\":\"y\",\"domain\":[0.0,1.0],\"title\":{\"text\":\"MEDV\"}},\"yaxis\":{\"anchor\":\"x\",\"domain\":[0.0,1.0],\"title\":{\"text\":\"count\"}},\"legend\":{\"tracegroupgap\":0},\"margin\":{\"t\":60},\"barmode\":\"relative\"},                        {\"responsive\": true}                    ).then(function(){\n",
              "                            \n",
              "var gd = document.getElementById('81cf963a-8a7d-443f-a469-89a920cc2b5e');\n",
              "var x = new MutationObserver(function (mutations, observer) {{\n",
              "        var display = window.getComputedStyle(gd).display;\n",
              "        if (!display || display === 'none') {{\n",
              "            console.log([gd, 'removed!']);\n",
              "            Plotly.purge(gd);\n",
              "            observer.disconnect();\n",
              "        }}\n",
              "}});\n",
              "\n",
              "// Listen for the removal of the full notebook cells\n",
              "var notebookContainer = gd.closest('#notebook-container');\n",
              "if (notebookContainer) {{\n",
              "    x.observe(notebookContainer, {childList: true});\n",
              "}}\n",
              "\n",
              "// Listen for the clearing of the current output cell\n",
              "var outputEl = gd.closest('.output');\n",
              "if (outputEl) {{\n",
              "    x.observe(outputEl, {childList: true});\n",
              "}}\n",
              "\n",
              "                        })                };                            </script>        </div>\n",
              "</body>\n",
              "</html>"
            ]
          },
          "metadata": {},
          "output_type": "display_data"
        }
      ],
      "source": [
        "#histograma de MEDV\n",
        "\n",
        "fig = px.histogram(data, x='MEDV', nbins=50, opacity=0.50)\n",
        "fig.show()"
      ]
    },
    {
      "cell_type": "code",
      "execution_count": null,
      "metadata": {
        "colab": {
          "base_uri": "https://localhost:8080/",
          "height": 837
        },
        "id": "hdx-sQ6cQCiV",
        "outputId": "ef55eb49-5a4c-4547-acfb-39fb64c538b8"
      },
      "outputs": [
        {
          "data": {
            "text/html": [
              "<html>\n",
              "<head><meta charset=\"utf-8\" /></head>\n",
              "<body>\n",
              "    <div>            <script src=\"https://cdnjs.cloudflare.com/ajax/libs/mathjax/2.7.5/MathJax.js?config=TeX-AMS-MML_SVG\"></script><script type=\"text/javascript\">if (window.MathJax) {MathJax.Hub.Config({SVG: {font: \"STIX-Web\"}});}</script>                <script type=\"text/javascript\">window.PlotlyConfig = {MathJaxConfig: 'local'};</script>\n",
              "        <script src=\"https://cdn.plot.ly/plotly-2.8.3.min.js\"></script>                <div id=\"0d8fe750-de07-458e-b91c-f29d3f960a2b\" class=\"plotly-graph-div\" style=\"height:800px; width:800px;\"></div>            <script type=\"text/javascript\">                                    window.PLOTLYENV=window.PLOTLYENV || {};                                    if (document.getElementById(\"0d8fe750-de07-458e-b91c-f29d3f960a2b\")) {                    Plotly.newPlot(                        \"0d8fe750-de07-458e-b91c-f29d3f960a2b\",                        [{\"alignmentgroup\":\"True\",\"hovertemplate\":\"MEDV=%{y}<extra></extra>\",\"legendgroup\":\"\",\"marker\":{\"color\":\"#636efa\"},\"name\":\"\",\"notched\":false,\"offsetgroup\":\"\",\"orientation\":\"v\",\"showlegend\":false,\"x0\":\" \",\"xaxis\":\"x\",\"y\":[24.0,21.6,34.7,33.4,36.2,28.7,22.9,27.1,16.5,18.9,15.0,18.9,21.7,20.4,18.2,19.9,23.1,17.5,20.2,18.2,13.6,19.6,15.2,14.5,15.6,13.9,16.6,14.8,18.4,21.0,12.7,14.5,13.2,13.1,13.5,18.9,20.0,21.0,24.7,30.8,34.9,26.6,25.3,24.7,21.2,19.3,20.0,16.6,14.4,19.4,19.7,20.5,25.0,23.4,18.9,35.4,24.7,31.6,23.3,19.6,18.7,16.0,22.2,25.0,33.0,23.5,19.4,22.0,17.4,20.9,24.2,21.7,22.8,23.4,24.1,21.4,20.0,20.8,21.2,20.3,28.0,23.9,24.8,22.9,23.9,26.6,22.5,22.2,23.6,28.7,22.6,22.0,22.9,25.0,20.6,28.4,21.4,38.7,43.8,33.2,27.5,26.5,18.6,19.3,20.1,19.5,19.5,20.4,19.8,19.4,21.7,22.8,18.8,18.7,18.5,18.3,21.2,19.2,20.4,19.3,22.0,20.3,20.5,17.3,18.8,21.4,15.7,16.2,18.0,14.3,19.2,19.6,23.0,18.4,15.6,18.1,17.4,17.1,13.3,17.8,14.0,14.4,13.4,15.6,11.8,13.8,15.6,14.6,17.8,15.4,21.5,19.6,15.3,19.4,17.0,15.6,13.1,41.3,24.3,23.3,27.0,22.7,25.0,23.8,23.8,22.3,17.4,19.1,23.1,23.6,22.6,29.4,23.2,24.6,29.9,37.2,39.8,36.2,37.9,32.5,26.4,29.6,32.0,29.8,34.9,37.0,30.5,36.4,31.1,29.1,33.3,30.3,34.6,34.9,32.9,24.1,42.3,48.5,22.6,24.4,22.5,24.4,20.0,21.7,19.3,22.4,28.1,23.7,25.0,23.3,28.7,21.5,23.0,26.7,21.7,27.5,30.1,44.8,37.6,31.6,46.7,31.5,24.3,31.7,41.7,48.3,29.0,24.0,25.1,31.5,23.7,23.3,22.0,20.1,22.2,23.7,17.6,18.5,24.3,20.5,24.5,26.2,24.4,24.8,29.6,42.8,21.9,20.9,44.0,36.0,30.1,33.8,43.1,48.8,31.0,36.5,22.8,30.7,43.5,20.7,21.1,25.2,24.4,35.2,32.4,32.0,33.2,33.1,29.1,35.1,45.4,35.4,46.0,32.2,22.0,20.1,23.2,22.3,24.8,28.5,37.3,27.9,23.9,21.7,28.6,27.1,20.3,22.5,29.0,24.8,22.0,26.4,33.1,36.1,28.4,33.4,28.2,22.8,20.3,16.1,22.1,19.4,21.6,23.8,16.2,17.8,19.8,23.1,21.0,23.8,23.1,20.4,18.5,25.0,24.6,23.0,22.2,19.3,22.6,19.8,17.1,19.4,22.2,20.7,21.1,19.5,18.5,20.6,19.0,18.7,32.7,16.5,23.9,31.2,17.5,17.2,23.1,24.5,26.6,22.9,24.1,18.6,30.1,18.2,20.6,17.8,21.7,22.7,22.6,25.0,19.9,20.8,16.8,21.9,27.5,21.9,23.1,50.0,13.8,13.8,15.0,13.9,13.3,13.1,10.2,10.4,10.9,11.3,12.3,8.8,7.2,10.5,7.4,10.2,11.5,15.1,23.2,9.7,13.8,12.7,13.1,12.5,8.5,5.0,6.3,5.6,7.2,12.1,8.3,8.5,5.0,11.9,27.9,17.2,27.5,15.0,17.2,17.9,16.3,7.0,7.2,7.5,10.4,8.8,8.4,16.7,14.2,20.8,13.4,11.7,8.3,10.2,10.9,11.0,9.5,14.5,14.1,16.1,14.3,11.7,13.4,9.6,8.7,8.4,12.8,10.5,17.1,18.4,15.4,10.8,11.8,14.9,12.6,14.1,13.0,13.4,15.2,16.1,17.8,14.9,14.1,12.7,13.5,14.9,20.0,16.4,17.7,19.5,20.2,21.4,19.9,19.0,19.1,19.1,20.1,19.9,19.6,23.2,29.8,13.8,13.3,16.7,12.0,14.6,21.4,23.0,23.7,25.0,21.8,20.6,21.2,19.1,20.6,15.2,7.0,8.1,13.6,20.1,21.8,24.5,23.1,19.7,18.3,21.2,17.5,16.8,22.4,20.6,23.9,22.0,11.9],\"y0\":\" \",\"yaxis\":\"y\",\"type\":\"box\"}],                        {\"template\":{\"data\":{\"bar\":[{\"error_x\":{\"color\":\"#2a3f5f\"},\"error_y\":{\"color\":\"#2a3f5f\"},\"marker\":{\"line\":{\"color\":\"#E5ECF6\",\"width\":0.5},\"pattern\":{\"fillmode\":\"overlay\",\"size\":10,\"solidity\":0.2}},\"type\":\"bar\"}],\"barpolar\":[{\"marker\":{\"line\":{\"color\":\"#E5ECF6\",\"width\":0.5},\"pattern\":{\"fillmode\":\"overlay\",\"size\":10,\"solidity\":0.2}},\"type\":\"barpolar\"}],\"carpet\":[{\"aaxis\":{\"endlinecolor\":\"#2a3f5f\",\"gridcolor\":\"white\",\"linecolor\":\"white\",\"minorgridcolor\":\"white\",\"startlinecolor\":\"#2a3f5f\"},\"baxis\":{\"endlinecolor\":\"#2a3f5f\",\"gridcolor\":\"white\",\"linecolor\":\"white\",\"minorgridcolor\":\"white\",\"startlinecolor\":\"#2a3f5f\"},\"type\":\"carpet\"}],\"choropleth\":[{\"colorbar\":{\"outlinewidth\":0,\"ticks\":\"\"},\"type\":\"choropleth\"}],\"contour\":[{\"colorbar\":{\"outlinewidth\":0,\"ticks\":\"\"},\"colorscale\":[[0.0,\"#0d0887\"],[0.1111111111111111,\"#46039f\"],[0.2222222222222222,\"#7201a8\"],[0.3333333333333333,\"#9c179e\"],[0.4444444444444444,\"#bd3786\"],[0.5555555555555556,\"#d8576b\"],[0.6666666666666666,\"#ed7953\"],[0.7777777777777778,\"#fb9f3a\"],[0.8888888888888888,\"#fdca26\"],[1.0,\"#f0f921\"]],\"type\":\"contour\"}],\"contourcarpet\":[{\"colorbar\":{\"outlinewidth\":0,\"ticks\":\"\"},\"type\":\"contourcarpet\"}],\"heatmap\":[{\"colorbar\":{\"outlinewidth\":0,\"ticks\":\"\"},\"colorscale\":[[0.0,\"#0d0887\"],[0.1111111111111111,\"#46039f\"],[0.2222222222222222,\"#7201a8\"],[0.3333333333333333,\"#9c179e\"],[0.4444444444444444,\"#bd3786\"],[0.5555555555555556,\"#d8576b\"],[0.6666666666666666,\"#ed7953\"],[0.7777777777777778,\"#fb9f3a\"],[0.8888888888888888,\"#fdca26\"],[1.0,\"#f0f921\"]],\"type\":\"heatmap\"}],\"heatmapgl\":[{\"colorbar\":{\"outlinewidth\":0,\"ticks\":\"\"},\"colorscale\":[[0.0,\"#0d0887\"],[0.1111111111111111,\"#46039f\"],[0.2222222222222222,\"#7201a8\"],[0.3333333333333333,\"#9c179e\"],[0.4444444444444444,\"#bd3786\"],[0.5555555555555556,\"#d8576b\"],[0.6666666666666666,\"#ed7953\"],[0.7777777777777778,\"#fb9f3a\"],[0.8888888888888888,\"#fdca26\"],[1.0,\"#f0f921\"]],\"type\":\"heatmapgl\"}],\"histogram\":[{\"marker\":{\"pattern\":{\"fillmode\":\"overlay\",\"size\":10,\"solidity\":0.2}},\"type\":\"histogram\"}],\"histogram2d\":[{\"colorbar\":{\"outlinewidth\":0,\"ticks\":\"\"},\"colorscale\":[[0.0,\"#0d0887\"],[0.1111111111111111,\"#46039f\"],[0.2222222222222222,\"#7201a8\"],[0.3333333333333333,\"#9c179e\"],[0.4444444444444444,\"#bd3786\"],[0.5555555555555556,\"#d8576b\"],[0.6666666666666666,\"#ed7953\"],[0.7777777777777778,\"#fb9f3a\"],[0.8888888888888888,\"#fdca26\"],[1.0,\"#f0f921\"]],\"type\":\"histogram2d\"}],\"histogram2dcontour\":[{\"colorbar\":{\"outlinewidth\":0,\"ticks\":\"\"},\"colorscale\":[[0.0,\"#0d0887\"],[0.1111111111111111,\"#46039f\"],[0.2222222222222222,\"#7201a8\"],[0.3333333333333333,\"#9c179e\"],[0.4444444444444444,\"#bd3786\"],[0.5555555555555556,\"#d8576b\"],[0.6666666666666666,\"#ed7953\"],[0.7777777777777778,\"#fb9f3a\"],[0.8888888888888888,\"#fdca26\"],[1.0,\"#f0f921\"]],\"type\":\"histogram2dcontour\"}],\"mesh3d\":[{\"colorbar\":{\"outlinewidth\":0,\"ticks\":\"\"},\"type\":\"mesh3d\"}],\"parcoords\":[{\"line\":{\"colorbar\":{\"outlinewidth\":0,\"ticks\":\"\"}},\"type\":\"parcoords\"}],\"pie\":[{\"automargin\":true,\"type\":\"pie\"}],\"scatter\":[{\"marker\":{\"colorbar\":{\"outlinewidth\":0,\"ticks\":\"\"}},\"type\":\"scatter\"}],\"scatter3d\":[{\"line\":{\"colorbar\":{\"outlinewidth\":0,\"ticks\":\"\"}},\"marker\":{\"colorbar\":{\"outlinewidth\":0,\"ticks\":\"\"}},\"type\":\"scatter3d\"}],\"scattercarpet\":[{\"marker\":{\"colorbar\":{\"outlinewidth\":0,\"ticks\":\"\"}},\"type\":\"scattercarpet\"}],\"scattergeo\":[{\"marker\":{\"colorbar\":{\"outlinewidth\":0,\"ticks\":\"\"}},\"type\":\"scattergeo\"}],\"scattergl\":[{\"marker\":{\"colorbar\":{\"outlinewidth\":0,\"ticks\":\"\"}},\"type\":\"scattergl\"}],\"scattermapbox\":[{\"marker\":{\"colorbar\":{\"outlinewidth\":0,\"ticks\":\"\"}},\"type\":\"scattermapbox\"}],\"scatterpolar\":[{\"marker\":{\"colorbar\":{\"outlinewidth\":0,\"ticks\":\"\"}},\"type\":\"scatterpolar\"}],\"scatterpolargl\":[{\"marker\":{\"colorbar\":{\"outlinewidth\":0,\"ticks\":\"\"}},\"type\":\"scatterpolargl\"}],\"scatterternary\":[{\"marker\":{\"colorbar\":{\"outlinewidth\":0,\"ticks\":\"\"}},\"type\":\"scatterternary\"}],\"surface\":[{\"colorbar\":{\"outlinewidth\":0,\"ticks\":\"\"},\"colorscale\":[[0.0,\"#0d0887\"],[0.1111111111111111,\"#46039f\"],[0.2222222222222222,\"#7201a8\"],[0.3333333333333333,\"#9c179e\"],[0.4444444444444444,\"#bd3786\"],[0.5555555555555556,\"#d8576b\"],[0.6666666666666666,\"#ed7953\"],[0.7777777777777778,\"#fb9f3a\"],[0.8888888888888888,\"#fdca26\"],[1.0,\"#f0f921\"]],\"type\":\"surface\"}],\"table\":[{\"cells\":{\"fill\":{\"color\":\"#EBF0F8\"},\"line\":{\"color\":\"white\"}},\"header\":{\"fill\":{\"color\":\"#C8D4E3\"},\"line\":{\"color\":\"white\"}},\"type\":\"table\"}]},\"layout\":{\"annotationdefaults\":{\"arrowcolor\":\"#2a3f5f\",\"arrowhead\":0,\"arrowwidth\":1},\"autotypenumbers\":\"strict\",\"coloraxis\":{\"colorbar\":{\"outlinewidth\":0,\"ticks\":\"\"}},\"colorscale\":{\"diverging\":[[0,\"#8e0152\"],[0.1,\"#c51b7d\"],[0.2,\"#de77ae\"],[0.3,\"#f1b6da\"],[0.4,\"#fde0ef\"],[0.5,\"#f7f7f7\"],[0.6,\"#e6f5d0\"],[0.7,\"#b8e186\"],[0.8,\"#7fbc41\"],[0.9,\"#4d9221\"],[1,\"#276419\"]],\"sequential\":[[0.0,\"#0d0887\"],[0.1111111111111111,\"#46039f\"],[0.2222222222222222,\"#7201a8\"],[0.3333333333333333,\"#9c179e\"],[0.4444444444444444,\"#bd3786\"],[0.5555555555555556,\"#d8576b\"],[0.6666666666666666,\"#ed7953\"],[0.7777777777777778,\"#fb9f3a\"],[0.8888888888888888,\"#fdca26\"],[1.0,\"#f0f921\"]],\"sequentialminus\":[[0.0,\"#0d0887\"],[0.1111111111111111,\"#46039f\"],[0.2222222222222222,\"#7201a8\"],[0.3333333333333333,\"#9c179e\"],[0.4444444444444444,\"#bd3786\"],[0.5555555555555556,\"#d8576b\"],[0.6666666666666666,\"#ed7953\"],[0.7777777777777778,\"#fb9f3a\"],[0.8888888888888888,\"#fdca26\"],[1.0,\"#f0f921\"]]},\"colorway\":[\"#636efa\",\"#EF553B\",\"#00cc96\",\"#ab63fa\",\"#FFA15A\",\"#19d3f3\",\"#FF6692\",\"#B6E880\",\"#FF97FF\",\"#FECB52\"],\"font\":{\"color\":\"#2a3f5f\"},\"geo\":{\"bgcolor\":\"white\",\"lakecolor\":\"white\",\"landcolor\":\"#E5ECF6\",\"showlakes\":true,\"showland\":true,\"subunitcolor\":\"white\"},\"hoverlabel\":{\"align\":\"left\"},\"hovermode\":\"closest\",\"mapbox\":{\"style\":\"light\"},\"paper_bgcolor\":\"white\",\"plot_bgcolor\":\"#E5ECF6\",\"polar\":{\"angularaxis\":{\"gridcolor\":\"white\",\"linecolor\":\"white\",\"ticks\":\"\"},\"bgcolor\":\"#E5ECF6\",\"radialaxis\":{\"gridcolor\":\"white\",\"linecolor\":\"white\",\"ticks\":\"\"}},\"scene\":{\"xaxis\":{\"backgroundcolor\":\"#E5ECF6\",\"gridcolor\":\"white\",\"gridwidth\":2,\"linecolor\":\"white\",\"showbackground\":true,\"ticks\":\"\",\"zerolinecolor\":\"white\"},\"yaxis\":{\"backgroundcolor\":\"#E5ECF6\",\"gridcolor\":\"white\",\"gridwidth\":2,\"linecolor\":\"white\",\"showbackground\":true,\"ticks\":\"\",\"zerolinecolor\":\"white\"},\"zaxis\":{\"backgroundcolor\":\"#E5ECF6\",\"gridcolor\":\"white\",\"gridwidth\":2,\"linecolor\":\"white\",\"showbackground\":true,\"ticks\":\"\",\"zerolinecolor\":\"white\"}},\"shapedefaults\":{\"line\":{\"color\":\"#2a3f5f\"}},\"ternary\":{\"aaxis\":{\"gridcolor\":\"white\",\"linecolor\":\"white\",\"ticks\":\"\"},\"baxis\":{\"gridcolor\":\"white\",\"linecolor\":\"white\",\"ticks\":\"\"},\"bgcolor\":\"#E5ECF6\",\"caxis\":{\"gridcolor\":\"white\",\"linecolor\":\"white\",\"ticks\":\"\"}},\"title\":{\"x\":0.05},\"xaxis\":{\"automargin\":true,\"gridcolor\":\"white\",\"linecolor\":\"white\",\"ticks\":\"\",\"title\":{\"standoff\":15},\"zerolinecolor\":\"white\",\"zerolinewidth\":2},\"yaxis\":{\"automargin\":true,\"gridcolor\":\"white\",\"linecolor\":\"white\",\"ticks\":\"\",\"title\":{\"standoff\":15},\"zerolinecolor\":\"white\",\"zerolinewidth\":2}}},\"xaxis\":{\"anchor\":\"y\",\"domain\":[0.0,1.0]},\"yaxis\":{\"anchor\":\"x\",\"domain\":[0.0,1.0],\"title\":{\"text\":\"MEDV\"}},\"legend\":{\"tracegroupgap\":0},\"margin\":{\"t\":60},\"boxmode\":\"group\",\"width\":800,\"height\":800},                        {\"responsive\": true}                    ).then(function(){\n",
              "                            \n",
              "var gd = document.getElementById('0d8fe750-de07-458e-b91c-f29d3f960a2b');\n",
              "var x = new MutationObserver(function (mutations, observer) {{\n",
              "        var display = window.getComputedStyle(gd).display;\n",
              "        if (!display || display === 'none') {{\n",
              "            console.log([gd, 'removed!']);\n",
              "            Plotly.purge(gd);\n",
              "            observer.disconnect();\n",
              "        }}\n",
              "}});\n",
              "\n",
              "// Listen for the removal of the full notebook cells\n",
              "var notebookContainer = gd.closest('#notebook-container');\n",
              "if (notebookContainer) {{\n",
              "    x.observe(notebookContainer, {childList: true});\n",
              "}}\n",
              "\n",
              "// Listen for the clearing of the current output cell\n",
              "var outputEl = gd.closest('.output');\n",
              "if (outputEl) {{\n",
              "    x.observe(outputEl, {childList: true});\n",
              "}}\n",
              "\n",
              "                        })                };                            </script>        </div>\n",
              "</body>\n",
              "</html>"
            ]
          },
          "metadata": {},
          "output_type": "display_data"
        }
      ],
      "source": [
        "#vendo o grafico de caixa (box)\n",
        "\n",
        "fig = px.box(data, y='MEDV')\n",
        "fig.update_layout(width=800,height=800)\n",
        "fig.show()"
      ]
    },
    {
      "cell_type": "code",
      "execution_count": null,
      "metadata": {
        "colab": {
          "base_uri": "https://localhost:8080/"
        },
        "id": "Yjs4gezaQ1DF",
        "outputId": "cfc81038-1fd9-4252-b6e0-e4d27ff360a7"
      },
      "outputs": [
        {
          "data": {
            "text/plain": [
              "0.8148554503812899"
            ]
          },
          "execution_count": 35,
          "metadata": {},
          "output_type": "execute_result"
        }
      ],
      "source": [
        "#coeficiente pearson\n",
        "stats.skew(data.MEDV)"
      ]
    },
    {
      "cell_type": "markdown",
      "metadata": {
        "id": "DyaV0JQORcoE"
      },
      "source": [
        "**trabalhando com baseline**\n",
        "* Um intervalo de dados que represente algo\n",
        "* Com um rótulo adicionaria uma fácil visualização de categorização\n",
        "* Se trabalhar com média, seria a primeira métrica a ser superada"
      ]
    },
    {
      "cell_type": "code",
      "execution_count": null,
      "metadata": {
        "colab": {
          "base_uri": "https://localhost:8080/"
        },
        "id": "AO9kV-OASIWz",
        "outputId": "43b0ef63-b3cd-428b-e556-3f57cbe7df91"
      },
      "outputs": [
        {
          "name": "stdout",
          "output_type": "stream",
          "text": [
            "<class 'pandas.core.frame.DataFrame'>\n",
            "Int64Index: 491 entries, 0 to 505\n",
            "Data columns (total 14 columns):\n",
            " #   Column   Non-Null Count  Dtype  \n",
            "---  ------   --------------  -----  \n",
            " 0   CRIM     491 non-null    float64\n",
            " 1   ZN       491 non-null    float64\n",
            " 2   INDUS    491 non-null    float64\n",
            " 3   CHAS     491 non-null    float64\n",
            " 4   NOX      491 non-null    float64\n",
            " 5   RM       491 non-null    float64\n",
            " 6   AGE      491 non-null    float64\n",
            " 7   DIS      491 non-null    float64\n",
            " 8   RAD      491 non-null    float64\n",
            " 9   TAX      491 non-null    float64\n",
            " 10  PTRATIO  491 non-null    float64\n",
            " 11  B        491 non-null    float64\n",
            " 12  LSTAT    491 non-null    float64\n",
            " 13  MEDV     491 non-null    float64\n",
            "dtypes: float64(14)\n",
            "memory usage: 57.5 KB\n"
          ]
        }
      ],
      "source": [
        "#trabalhando com baseline\n",
        "#informação da base - tipos\n",
        "data.RM.describe()\n",
        "data.RM.head()\n",
        "data.info()"
      ]
    },
    {
      "cell_type": "code",
      "execution_count": null,
      "metadata": {
        "colab": {
          "base_uri": "https://localhost:8080/"
        },
        "id": "lDYMp-T5S3TA",
        "outputId": "dd0dc0db-4809-4028-942c-34c2a9d712d2"
      },
      "outputs": [
        {
          "name": "stdout",
          "output_type": "stream",
          "text": [
            "<class 'pandas.core.frame.DataFrame'>\n",
            "Int64Index: 491 entries, 0 to 505\n",
            "Data columns (total 14 columns):\n",
            " #   Column   Non-Null Count  Dtype  \n",
            "---  ------   --------------  -----  \n",
            " 0   CRIM     491 non-null    float64\n",
            " 1   ZN       491 non-null    float64\n",
            " 2   INDUS    491 non-null    float64\n",
            " 3   CHAS     491 non-null    float64\n",
            " 4   NOX      491 non-null    float64\n",
            " 5   RM       491 non-null    int64  \n",
            " 6   AGE      491 non-null    float64\n",
            " 7   DIS      491 non-null    float64\n",
            " 8   RAD      491 non-null    float64\n",
            " 9   TAX      491 non-null    float64\n",
            " 10  PTRATIO  491 non-null    float64\n",
            " 11  B        491 non-null    float64\n",
            " 12  LSTAT    491 non-null    float64\n",
            " 13  MEDV     491 non-null    float64\n",
            "dtypes: float64(13), int64(1)\n",
            "memory usage: 57.5 KB\n"
          ]
        },
        {
          "data": {
            "text/plain": [
              "0    6\n",
              "1    6\n",
              "2    7\n",
              "3    6\n",
              "4    7\n",
              "Name: RM, dtype: int64"
            ]
          },
          "execution_count": 37,
          "metadata": {},
          "output_type": "execute_result"
        }
      ],
      "source": [
        "#convertendo RM pra int\n",
        "data.RM = data.RM.astype(int)\n",
        "data.info()\n",
        "data.RM.head()"
      ]
    },
    {
      "cell_type": "code",
      "execution_count": null,
      "metadata": {
        "colab": {
          "base_uri": "https://localhost:8080/"
        },
        "id": "9r4VaQrxTcJX",
        "outputId": "7331e900-e106-4159-f5c4-03a0814e0eca"
      },
      "outputs": [
        {
          "data": {
            "text/plain": [
              "count    491.000000\n",
              "mean       5.739308\n",
              "std        0.737662\n",
              "min        3.000000\n",
              "25%        5.000000\n",
              "50%        6.000000\n",
              "75%        6.000000\n",
              "max        8.000000\n",
              "Name: RM, dtype: float64"
            ]
          },
          "execution_count": 38,
          "metadata": {},
          "output_type": "execute_result"
        }
      ],
      "source": [
        "data.RM.describe()"
      ]
    },
    {
      "cell_type": "code",
      "execution_count": null,
      "metadata": {
        "id": "f_q_jgglT2re"
      },
      "outputs": [],
      "source": [
        "\n",
        "#criando categorias\n",
        "categorias = []"
      ]
    },
    {
      "cell_type": "code",
      "execution_count": null,
      "metadata": {
        "id": "RD-cOejlT9nh"
      },
      "outputs": [],
      "source": [
        "#alimentando a variavel categorias\n",
        "for i in data.RM.iteritems():\n",
        "  valor = (i[1])\n",
        "  if valor <= 4:\n",
        "    categorias.append('pequeno')\n",
        "  elif valor < 7:\n",
        "    categorias.append('medio')\n",
        "  else:\n",
        "    categorias.append('grande')"
      ]
    },
    {
      "cell_type": "code",
      "execution_count": null,
      "metadata": {
        "id": "6ivZAGNyVKsE"
      },
      "outputs": [],
      "source": [
        "#cria coluna de categorias\n",
        "data['categorias'] = categorias"
      ]
    },
    {
      "cell_type": "code",
      "execution_count": null,
      "metadata": {
        "colab": {
          "base_uri": "https://localhost:8080/"
        },
        "id": "qYM9ik7EVWzi",
        "outputId": "cec7374c-ca3b-4e43-a6a6-9ae25f274e0d"
      },
      "outputs": [
        {
          "data": {
            "text/plain": [
              "medio      425\n",
              "grande      52\n",
              "pequeno     14\n",
              "Name: categorias, dtype: int64"
            ]
          },
          "execution_count": 42,
          "metadata": {},
          "output_type": "execute_result"
        }
      ],
      "source": [
        "data.categorias.value_counts()"
      ]
    },
    {
      "cell_type": "code",
      "execution_count": null,
      "metadata": {
        "colab": {
          "base_uri": "https://localhost:8080/",
          "height": 270
        },
        "id": "MacH5zJRVoBY",
        "outputId": "7f4633ae-f266-4393-f64c-1dc40493da84"
      },
      "outputs": [
        {
          "data": {
            "text/html": [
              "\n",
              "  <div id=\"df-63fcefb1-d193-4821-84c1-55370f8d505b\">\n",
              "    <div class=\"colab-df-container\">\n",
              "      <div>\n",
              "<style scoped>\n",
              "    .dataframe tbody tr th:only-of-type {\n",
              "        vertical-align: middle;\n",
              "    }\n",
              "\n",
              "    .dataframe tbody tr th {\n",
              "        vertical-align: top;\n",
              "    }\n",
              "\n",
              "    .dataframe thead th {\n",
              "        text-align: right;\n",
              "    }\n",
              "</style>\n",
              "<table border=\"1\" class=\"dataframe\">\n",
              "  <thead>\n",
              "    <tr style=\"text-align: right;\">\n",
              "      <th></th>\n",
              "      <th>CRIM</th>\n",
              "      <th>ZN</th>\n",
              "      <th>INDUS</th>\n",
              "      <th>CHAS</th>\n",
              "      <th>NOX</th>\n",
              "      <th>RM</th>\n",
              "      <th>AGE</th>\n",
              "      <th>DIS</th>\n",
              "      <th>RAD</th>\n",
              "      <th>TAX</th>\n",
              "      <th>PTRATIO</th>\n",
              "      <th>B</th>\n",
              "      <th>LSTAT</th>\n",
              "      <th>MEDV</th>\n",
              "      <th>categorias</th>\n",
              "    </tr>\n",
              "  </thead>\n",
              "  <tbody>\n",
              "    <tr>\n",
              "      <th>0</th>\n",
              "      <td>0.00632</td>\n",
              "      <td>18.0</td>\n",
              "      <td>2.31</td>\n",
              "      <td>0.0</td>\n",
              "      <td>0.538</td>\n",
              "      <td>6</td>\n",
              "      <td>65.2</td>\n",
              "      <td>4.0900</td>\n",
              "      <td>1.0</td>\n",
              "      <td>296.0</td>\n",
              "      <td>15.3</td>\n",
              "      <td>396.90</td>\n",
              "      <td>4.98</td>\n",
              "      <td>24.0</td>\n",
              "      <td>medio</td>\n",
              "    </tr>\n",
              "    <tr>\n",
              "      <th>1</th>\n",
              "      <td>0.02731</td>\n",
              "      <td>0.0</td>\n",
              "      <td>7.07</td>\n",
              "      <td>0.0</td>\n",
              "      <td>0.469</td>\n",
              "      <td>6</td>\n",
              "      <td>78.9</td>\n",
              "      <td>4.9671</td>\n",
              "      <td>2.0</td>\n",
              "      <td>242.0</td>\n",
              "      <td>17.8</td>\n",
              "      <td>396.90</td>\n",
              "      <td>9.14</td>\n",
              "      <td>21.6</td>\n",
              "      <td>medio</td>\n",
              "    </tr>\n",
              "    <tr>\n",
              "      <th>2</th>\n",
              "      <td>0.02729</td>\n",
              "      <td>0.0</td>\n",
              "      <td>7.07</td>\n",
              "      <td>0.0</td>\n",
              "      <td>0.469</td>\n",
              "      <td>7</td>\n",
              "      <td>61.1</td>\n",
              "      <td>4.9671</td>\n",
              "      <td>2.0</td>\n",
              "      <td>242.0</td>\n",
              "      <td>17.8</td>\n",
              "      <td>392.83</td>\n",
              "      <td>4.03</td>\n",
              "      <td>34.7</td>\n",
              "      <td>grande</td>\n",
              "    </tr>\n",
              "    <tr>\n",
              "      <th>3</th>\n",
              "      <td>0.03237</td>\n",
              "      <td>0.0</td>\n",
              "      <td>2.18</td>\n",
              "      <td>0.0</td>\n",
              "      <td>0.458</td>\n",
              "      <td>6</td>\n",
              "      <td>45.8</td>\n",
              "      <td>6.0622</td>\n",
              "      <td>3.0</td>\n",
              "      <td>222.0</td>\n",
              "      <td>18.7</td>\n",
              "      <td>394.63</td>\n",
              "      <td>2.94</td>\n",
              "      <td>33.4</td>\n",
              "      <td>medio</td>\n",
              "    </tr>\n",
              "    <tr>\n",
              "      <th>4</th>\n",
              "      <td>0.06905</td>\n",
              "      <td>0.0</td>\n",
              "      <td>2.18</td>\n",
              "      <td>0.0</td>\n",
              "      <td>0.458</td>\n",
              "      <td>7</td>\n",
              "      <td>54.2</td>\n",
              "      <td>6.0622</td>\n",
              "      <td>3.0</td>\n",
              "      <td>222.0</td>\n",
              "      <td>18.7</td>\n",
              "      <td>396.90</td>\n",
              "      <td>5.33</td>\n",
              "      <td>36.2</td>\n",
              "      <td>grande</td>\n",
              "    </tr>\n",
              "  </tbody>\n",
              "</table>\n",
              "</div>\n",
              "      <button class=\"colab-df-convert\" onclick=\"convertToInteractive('df-63fcefb1-d193-4821-84c1-55370f8d505b')\"\n",
              "              title=\"Convert this dataframe to an interactive table.\"\n",
              "              style=\"display:none;\">\n",
              "        \n",
              "  <svg xmlns=\"http://www.w3.org/2000/svg\" height=\"24px\"viewBox=\"0 0 24 24\"\n",
              "       width=\"24px\">\n",
              "    <path d=\"M0 0h24v24H0V0z\" fill=\"none\"/>\n",
              "    <path d=\"M18.56 5.44l.94 2.06.94-2.06 2.06-.94-2.06-.94-.94-2.06-.94 2.06-2.06.94zm-11 1L8.5 8.5l.94-2.06 2.06-.94-2.06-.94L8.5 2.5l-.94 2.06-2.06.94zm10 10l.94 2.06.94-2.06 2.06-.94-2.06-.94-.94-2.06-.94 2.06-2.06.94z\"/><path d=\"M17.41 7.96l-1.37-1.37c-.4-.4-.92-.59-1.43-.59-.52 0-1.04.2-1.43.59L10.3 9.45l-7.72 7.72c-.78.78-.78 2.05 0 2.83L4 21.41c.39.39.9.59 1.41.59.51 0 1.02-.2 1.41-.59l7.78-7.78 2.81-2.81c.8-.78.8-2.07 0-2.86zM5.41 20L4 18.59l7.72-7.72 1.47 1.35L5.41 20z\"/>\n",
              "  </svg>\n",
              "      </button>\n",
              "      \n",
              "  <style>\n",
              "    .colab-df-container {\n",
              "      display:flex;\n",
              "      flex-wrap:wrap;\n",
              "      gap: 12px;\n",
              "    }\n",
              "\n",
              "    .colab-df-convert {\n",
              "      background-color: #E8F0FE;\n",
              "      border: none;\n",
              "      border-radius: 50%;\n",
              "      cursor: pointer;\n",
              "      display: none;\n",
              "      fill: #1967D2;\n",
              "      height: 32px;\n",
              "      padding: 0 0 0 0;\n",
              "      width: 32px;\n",
              "    }\n",
              "\n",
              "    .colab-df-convert:hover {\n",
              "      background-color: #E2EBFA;\n",
              "      box-shadow: 0px 1px 2px rgba(60, 64, 67, 0.3), 0px 1px 3px 1px rgba(60, 64, 67, 0.15);\n",
              "      fill: #174EA6;\n",
              "    }\n",
              "\n",
              "    [theme=dark] .colab-df-convert {\n",
              "      background-color: #3B4455;\n",
              "      fill: #D2E3FC;\n",
              "    }\n",
              "\n",
              "    [theme=dark] .colab-df-convert:hover {\n",
              "      background-color: #434B5C;\n",
              "      box-shadow: 0px 1px 3px 1px rgba(0, 0, 0, 0.15);\n",
              "      filter: drop-shadow(0px 1px 2px rgba(0, 0, 0, 0.3));\n",
              "      fill: #FFFFFF;\n",
              "    }\n",
              "  </style>\n",
              "\n",
              "      <script>\n",
              "        const buttonEl =\n",
              "          document.querySelector('#df-63fcefb1-d193-4821-84c1-55370f8d505b button.colab-df-convert');\n",
              "        buttonEl.style.display =\n",
              "          google.colab.kernel.accessAllowed ? 'block' : 'none';\n",
              "\n",
              "        async function convertToInteractive(key) {\n",
              "          const element = document.querySelector('#df-63fcefb1-d193-4821-84c1-55370f8d505b');\n",
              "          const dataTable =\n",
              "            await google.colab.kernel.invokeFunction('convertToInteractive',\n",
              "                                                     [key], {});\n",
              "          if (!dataTable) return;\n",
              "\n",
              "          const docLinkHtml = 'Like what you see? Visit the ' +\n",
              "            '<a target=\"_blank\" href=https://colab.research.google.com/notebooks/data_table.ipynb>data table notebook</a>'\n",
              "            + ' to learn more about interactive tables.';\n",
              "          element.innerHTML = '';\n",
              "          dataTable['output_type'] = 'display_data';\n",
              "          await google.colab.output.renderOutput(dataTable, element);\n",
              "          const docLink = document.createElement('div');\n",
              "          docLink.innerHTML = docLinkHtml;\n",
              "          element.appendChild(docLink);\n",
              "        }\n",
              "      </script>\n",
              "    </div>\n",
              "  </div>\n",
              "  "
            ],
            "text/plain": [
              "      CRIM    ZN  INDUS  CHAS    NOX  RM   AGE     DIS  RAD    TAX  PTRATIO  \\\n",
              "0  0.00632  18.0   2.31   0.0  0.538   6  65.2  4.0900  1.0  296.0     15.3   \n",
              "1  0.02731   0.0   7.07   0.0  0.469   6  78.9  4.9671  2.0  242.0     17.8   \n",
              "2  0.02729   0.0   7.07   0.0  0.469   7  61.1  4.9671  2.0  242.0     17.8   \n",
              "3  0.03237   0.0   2.18   0.0  0.458   6  45.8  6.0622  3.0  222.0     18.7   \n",
              "4  0.06905   0.0   2.18   0.0  0.458   7  54.2  6.0622  3.0  222.0     18.7   \n",
              "\n",
              "        B  LSTAT  MEDV categorias  \n",
              "0  396.90   4.98  24.0      medio  \n",
              "1  396.90   9.14  21.6      medio  \n",
              "2  392.83   4.03  34.7     grande  \n",
              "3  394.63   2.94  33.4      medio  \n",
              "4  396.90   5.33  36.2     grande  "
            ]
          },
          "execution_count": 43,
          "metadata": {},
          "output_type": "execute_result"
        }
      ],
      "source": [
        "data.head()"
      ]
    },
    {
      "cell_type": "code",
      "execution_count": null,
      "metadata": {
        "id": "h7J_Rit7V8XD"
      },
      "outputs": [],
      "source": [
        "medias_categoria = data.groupby(by='categorias')['MEDV'].mean()"
      ]
    },
    {
      "cell_type": "code",
      "execution_count": null,
      "metadata": {
        "colab": {
          "base_uri": "https://localhost:8080/"
        },
        "id": "Ann174AzWUUt",
        "outputId": "4e37a9dc-7461-4a68-ebb4-cf1856ab9bd2"
      },
      "outputs": [
        {
          "data": {
            "text/plain": [
              "categorias\n",
              "grande     35.719231\n",
              "medio      20.200706\n",
              "pequeno    14.921429\n",
              "Name: MEDV, dtype: float64"
            ]
          },
          "execution_count": 45,
          "metadata": {},
          "output_type": "execute_result"
        }
      ],
      "source": [
        "medias_categoria"
      ]
    },
    {
      "cell_type": "code",
      "execution_count": null,
      "metadata": {
        "id": "RF7v-xveWeLH"
      },
      "outputs": [],
      "source": [
        "#criando dic com preço medio para grande, medio e pequenl\n",
        "dic_baseline = {'grande': medias_categoria[0], 'medio': medias_categoria[1], 'pequeno': medias_categoria[2]}"
      ]
    },
    {
      "cell_type": "code",
      "execution_count": null,
      "metadata": {
        "id": "_UkwqL9CYdE3"
      },
      "outputs": [],
      "source": [
        "def retorna_baseline(num_quarto):\n",
        "  if num_quarto <= 4:\n",
        "    return dic_baseline.get('pequeno')\n",
        "  elif num_quarto < 7:\n",
        "    return dic_baseline.get('medio')\n",
        "  else:\n",
        "    return dic_baseline.get('grande')"
      ]
    },
    {
      "cell_type": "code",
      "execution_count": null,
      "metadata": {
        "colab": {
          "base_uri": "https://localhost:8080/"
        },
        "id": "_Ew9M5l2ZM2O",
        "outputId": "24b06492-9212-4815-fd5a-c1fef19b3f77"
      },
      "outputs": [
        {
          "data": {
            "text/plain": [
              "35.71923076923077"
            ]
          },
          "execution_count": 48,
          "metadata": {},
          "output_type": "execute_result"
        }
      ],
      "source": [
        "retorna_baseline(8)"
      ]
    },
    {
      "cell_type": "code",
      "execution_count": null,
      "metadata": {
        "colab": {
          "base_uri": "https://localhost:8080/"
        },
        "id": "jrsGACDPZa-9",
        "outputId": "8bd49579-ef32-4205-a355-fa2c57597266"
      },
      "outputs": [
        {
          "name": "stdout",
          "output_type": "stream",
          "text": [
            "numero de quartos é 6, valor medio é: 20.20070588235294\n",
            "numero de quartos é 6, valor medio é: 20.20070588235294\n",
            "numero de quartos é 7, valor medio é: 35.71923076923077\n",
            "numero de quartos é 6, valor medio é: 20.20070588235294\n",
            "numero de quartos é 7, valor medio é: 35.71923076923077\n",
            "numero de quartos é 6, valor medio é: 20.20070588235294\n",
            "numero de quartos é 6, valor medio é: 20.20070588235294\n",
            "numero de quartos é 6, valor medio é: 20.20070588235294\n",
            "numero de quartos é 5, valor medio é: 20.20070588235294\n",
            "numero de quartos é 6, valor medio é: 20.20070588235294\n",
            "numero de quartos é 6, valor medio é: 20.20070588235294\n",
            "numero de quartos é 6, valor medio é: 20.20070588235294\n",
            "numero de quartos é 5, valor medio é: 20.20070588235294\n",
            "numero de quartos é 5, valor medio é: 20.20070588235294\n",
            "numero de quartos é 6, valor medio é: 20.20070588235294\n",
            "numero de quartos é 5, valor medio é: 20.20070588235294\n",
            "numero de quartos é 5, valor medio é: 20.20070588235294\n",
            "numero de quartos é 5, valor medio é: 20.20070588235294\n",
            "numero de quartos é 5, valor medio é: 20.20070588235294\n",
            "numero de quartos é 5, valor medio é: 20.20070588235294\n",
            "numero de quartos é 5, valor medio é: 20.20070588235294\n",
            "numero de quartos é 5, valor medio é: 20.20070588235294\n",
            "numero de quartos é 6, valor medio é: 20.20070588235294\n",
            "numero de quartos é 5, valor medio é: 20.20070588235294\n",
            "numero de quartos é 5, valor medio é: 20.20070588235294\n",
            "numero de quartos é 5, valor medio é: 20.20070588235294\n",
            "numero de quartos é 5, valor medio é: 20.20070588235294\n",
            "numero de quartos é 6, valor medio é: 20.20070588235294\n",
            "numero de quartos é 6, valor medio é: 20.20070588235294\n",
            "numero de quartos é 6, valor medio é: 20.20070588235294\n",
            "numero de quartos é 5, valor medio é: 20.20070588235294\n",
            "numero de quartos é 6, valor medio é: 20.20070588235294\n",
            "numero de quartos é 5, valor medio é: 20.20070588235294\n",
            "numero de quartos é 5, valor medio é: 20.20070588235294\n",
            "numero de quartos é 6, valor medio é: 20.20070588235294\n",
            "numero de quartos é 5, valor medio é: 20.20070588235294\n",
            "numero de quartos é 5, valor medio é: 20.20070588235294\n",
            "numero de quartos é 5, valor medio é: 20.20070588235294\n",
            "numero de quartos é 5, valor medio é: 20.20070588235294\n",
            "numero de quartos é 6, valor medio é: 20.20070588235294\n",
            "numero de quartos é 7, valor medio é: 35.71923076923077\n",
            "numero de quartos é 6, valor medio é: 20.20070588235294\n",
            "numero de quartos é 6, valor medio é: 20.20070588235294\n",
            "numero de quartos é 6, valor medio é: 20.20070588235294\n",
            "numero de quartos é 6, valor medio é: 20.20070588235294\n",
            "numero de quartos é 5, valor medio é: 20.20070588235294\n",
            "numero de quartos é 5, valor medio é: 20.20070588235294\n",
            "numero de quartos é 6, valor medio é: 20.20070588235294\n",
            "numero de quartos é 5, valor medio é: 20.20070588235294\n",
            "numero de quartos é 5, valor medio é: 20.20070588235294\n",
            "numero de quartos é 5, valor medio é: 20.20070588235294\n",
            "numero de quartos é 6, valor medio é: 20.20070588235294\n",
            "numero de quartos é 6, valor medio é: 20.20070588235294\n",
            "numero de quartos é 5, valor medio é: 20.20070588235294\n",
            "numero de quartos é 5, valor medio é: 20.20070588235294\n",
            "numero de quartos é 7, valor medio é: 35.71923076923077\n",
            "numero de quartos é 6, valor medio é: 20.20070588235294\n",
            "numero de quartos é 6, valor medio é: 20.20070588235294\n",
            "numero de quartos é 6, valor medio é: 20.20070588235294\n",
            "numero de quartos é 5, valor medio é: 20.20070588235294\n",
            "numero de quartos é 5, valor medio é: 20.20070588235294\n",
            "numero de quartos é 5, valor medio é: 20.20070588235294\n",
            "numero de quartos é 6, valor medio é: 20.20070588235294\n",
            "numero de quartos é 6, valor medio é: 20.20070588235294\n",
            "numero de quartos é 7, valor medio é: 35.71923076923077\n",
            "numero de quartos é 6, valor medio é: 20.20070588235294\n",
            "numero de quartos é 5, valor medio é: 20.20070588235294\n",
            "numero de quartos é 5, valor medio é: 20.20070588235294\n",
            "numero de quartos é 5, valor medio é: 20.20070588235294\n",
            "numero de quartos é 5, valor medio é: 20.20070588235294\n",
            "numero de quartos é 6, valor medio é: 20.20070588235294\n",
            "numero de quartos é 5, valor medio é: 20.20070588235294\n",
            "numero de quartos é 6, valor medio é: 20.20070588235294\n",
            "numero de quartos é 6, valor medio é: 20.20070588235294\n",
            "numero de quartos é 6, valor medio é: 20.20070588235294\n",
            "numero de quartos é 6, valor medio é: 20.20070588235294\n",
            "numero de quartos é 6, valor medio é: 20.20070588235294\n",
            "numero de quartos é 6, valor medio é: 20.20070588235294\n",
            "numero de quartos é 6, valor medio é: 20.20070588235294\n",
            "numero de quartos é 5, valor medio é: 20.20070588235294\n",
            "numero de quartos é 6, valor medio é: 20.20070588235294\n",
            "numero de quartos é 6, valor medio é: 20.20070588235294\n",
            "numero de quartos é 6, valor medio é: 20.20070588235294\n",
            "numero de quartos é 6, valor medio é: 20.20070588235294\n",
            "numero de quartos é 6, valor medio é: 20.20070588235294\n",
            "numero de quartos é 6, valor medio é: 20.20070588235294\n",
            "numero de quartos é 6, valor medio é: 20.20070588235294\n",
            "numero de quartos é 6, valor medio é: 20.20070588235294\n",
            "numero de quartos é 7, valor medio é: 35.71923076923077\n",
            "numero de quartos é 7, valor medio é: 35.71923076923077\n",
            "numero de quartos é 6, valor medio é: 20.20070588235294\n",
            "numero de quartos é 6, valor medio é: 20.20070588235294\n",
            "numero de quartos é 6, valor medio é: 20.20070588235294\n",
            "numero de quartos é 6, valor medio é: 20.20070588235294\n",
            "numero de quartos é 6, valor medio é: 20.20070588235294\n",
            "numero de quartos é 6, valor medio é: 20.20070588235294\n",
            "numero de quartos é 6, valor medio é: 20.20070588235294\n",
            "numero de quartos é 8, valor medio é: 35.71923076923077\n",
            "numero de quartos é 7, valor medio é: 35.71923076923077\n",
            "numero de quartos é 7, valor medio é: 35.71923076923077\n",
            "numero de quartos é 6, valor medio é: 20.20070588235294\n",
            "numero de quartos é 6, valor medio é: 20.20070588235294\n",
            "numero de quartos é 6, valor medio é: 20.20070588235294\n",
            "numero de quartos é 6, valor medio é: 20.20070588235294\n",
            "numero de quartos é 6, valor medio é: 20.20070588235294\n",
            "numero de quartos é 5, valor medio é: 20.20070588235294\n",
            "numero de quartos é 5, valor medio é: 20.20070588235294\n",
            "numero de quartos é 6, valor medio é: 20.20070588235294\n",
            "numero de quartos é 6, valor medio é: 20.20070588235294\n",
            "numero de quartos é 6, valor medio é: 20.20070588235294\n",
            "numero de quartos é 6, valor medio é: 20.20070588235294\n",
            "numero de quartos é 6, valor medio é: 20.20070588235294\n",
            "numero de quartos é 5, valor medio é: 20.20070588235294\n",
            "numero de quartos é 6, valor medio é: 20.20070588235294\n",
            "numero de quartos é 6, valor medio é: 20.20070588235294\n",
            "numero de quartos é 5, valor medio é: 20.20070588235294\n",
            "numero de quartos é 6, valor medio é: 20.20070588235294\n",
            "numero de quartos é 6, valor medio é: 20.20070588235294\n",
            "numero de quartos é 5, valor medio é: 20.20070588235294\n",
            "numero de quartos é 5, valor medio é: 20.20070588235294\n",
            "numero de quartos é 5, valor medio é: 20.20070588235294\n",
            "numero de quartos é 6, valor medio é: 20.20070588235294\n",
            "numero de quartos é 5, valor medio é: 20.20070588235294\n",
            "numero de quartos é 5, valor medio é: 20.20070588235294\n",
            "numero de quartos é 5, valor medio é: 20.20070588235294\n",
            "numero de quartos é 5, valor medio é: 20.20070588235294\n",
            "numero de quartos é 5, valor medio é: 20.20070588235294\n",
            "numero de quartos é 5, valor medio é: 20.20070588235294\n",
            "numero de quartos é 6, valor medio é: 20.20070588235294\n",
            "numero de quartos é 5, valor medio é: 20.20070588235294\n",
            "numero de quartos é 6, valor medio é: 20.20070588235294\n",
            "numero de quartos é 6, valor medio é: 20.20070588235294\n",
            "numero de quartos é 6, valor medio é: 20.20070588235294\n",
            "numero de quartos é 5, valor medio é: 20.20070588235294\n",
            "numero de quartos é 5, valor medio é: 20.20070588235294\n",
            "numero de quartos é 6, valor medio é: 20.20070588235294\n",
            "numero de quartos é 5, valor medio é: 20.20070588235294\n",
            "numero de quartos é 6, valor medio é: 20.20070588235294\n",
            "numero de quartos é 5, valor medio é: 20.20070588235294\n",
            "numero de quartos é 6, valor medio é: 20.20070588235294\n",
            "numero de quartos é 6, valor medio é: 20.20070588235294\n",
            "numero de quartos é 5, valor medio é: 20.20070588235294\n",
            "numero de quartos é 5, valor medio é: 20.20070588235294\n",
            "numero de quartos é 5, valor medio é: 20.20070588235294\n",
            "numero de quartos é 4, valor medio é: 14.921428571428573\n",
            "numero de quartos é 6, valor medio é: 20.20070588235294\n",
            "numero de quartos é 5, valor medio é: 20.20070588235294\n",
            "numero de quartos é 4, valor medio é: 14.921428571428573\n",
            "numero de quartos é 5, valor medio é: 20.20070588235294\n",
            "numero de quartos é 5, valor medio é: 20.20070588235294\n",
            "numero de quartos é 6, valor medio é: 20.20070588235294\n",
            "numero de quartos é 5, valor medio é: 20.20070588235294\n",
            "numero de quartos é 5, valor medio é: 20.20070588235294\n",
            "numero de quartos é 5, valor medio é: 20.20070588235294\n",
            "numero de quartos é 6, valor medio é: 20.20070588235294\n",
            "numero de quartos é 6, valor medio é: 20.20070588235294\n",
            "numero de quartos é 5, valor medio é: 20.20070588235294\n",
            "numero de quartos é 6, valor medio é: 20.20070588235294\n",
            "numero de quartos é 6, valor medio é: 20.20070588235294\n",
            "numero de quartos é 6, valor medio é: 20.20070588235294\n",
            "numero de quartos é 6, valor medio é: 20.20070588235294\n",
            "numero de quartos é 5, valor medio é: 20.20070588235294\n",
            "numero de quartos é 6, valor medio é: 20.20070588235294\n",
            "numero de quartos é 5, valor medio é: 20.20070588235294\n",
            "numero de quartos é 6, valor medio é: 20.20070588235294\n",
            "numero de quartos é 6, valor medio é: 20.20070588235294\n",
            "numero de quartos é 5, valor medio é: 20.20070588235294\n",
            "numero de quartos é 5, valor medio é: 20.20070588235294\n",
            "numero de quartos é 5, valor medio é: 20.20070588235294\n",
            "numero de quartos é 6, valor medio é: 20.20070588235294\n",
            "numero de quartos é 5, valor medio é: 20.20070588235294\n",
            "numero de quartos é 6, valor medio é: 20.20070588235294\n",
            "numero de quartos é 6, valor medio é: 20.20070588235294\n",
            "numero de quartos é 6, valor medio é: 20.20070588235294\n",
            "numero de quartos é 6, valor medio é: 20.20070588235294\n",
            "numero de quartos é 6, valor medio é: 20.20070588235294\n",
            "numero de quartos é 7, valor medio é: 35.71923076923077\n",
            "numero de quartos é 6, valor medio é: 20.20070588235294\n",
            "numero de quartos é 7, valor medio é: 35.71923076923077\n",
            "numero de quartos é 6, valor medio é: 20.20070588235294\n",
            "numero de quartos é 5, valor medio é: 20.20070588235294\n",
            "numero de quartos é 6, valor medio é: 20.20070588235294\n",
            "numero de quartos é 6, valor medio é: 20.20070588235294\n",
            "numero de quartos é 6, valor medio é: 20.20070588235294\n",
            "numero de quartos é 7, valor medio é: 35.71923076923077\n",
            "numero de quartos é 6, valor medio é: 20.20070588235294\n",
            "numero de quartos é 6, valor medio é: 20.20070588235294\n",
            "numero de quartos é 7, valor medio é: 35.71923076923077\n",
            "numero de quartos é 6, valor medio é: 20.20070588235294\n",
            "numero de quartos é 6, valor medio é: 20.20070588235294\n",
            "numero de quartos é 7, valor medio é: 35.71923076923077\n",
            "numero de quartos é 7, valor medio é: 35.71923076923077\n",
            "numero de quartos é 7, valor medio é: 35.71923076923077\n",
            "numero de quartos é 6, valor medio é: 20.20070588235294\n",
            "numero de quartos é 7, valor medio é: 35.71923076923077\n",
            "numero de quartos é 6, valor medio é: 20.20070588235294\n",
            "numero de quartos é 7, valor medio é: 35.71923076923077\n",
            "numero de quartos é 7, valor medio é: 35.71923076923077\n",
            "numero de quartos é 5, valor medio é: 20.20070588235294\n",
            "numero de quartos é 6, valor medio é: 20.20070588235294\n",
            "numero de quartos é 5, valor medio é: 20.20070588235294\n",
            "numero de quartos é 6, valor medio é: 20.20070588235294\n",
            "numero de quartos é 5, valor medio é: 20.20070588235294\n",
            "numero de quartos é 5, valor medio é: 20.20070588235294\n",
            "numero de quartos é 5, valor medio é: 20.20070588235294\n",
            "numero de quartos é 5, valor medio é: 20.20070588235294\n",
            "numero de quartos é 6, valor medio é: 20.20070588235294\n",
            "numero de quartos é 5, valor medio é: 20.20070588235294\n",
            "numero de quartos é 6, valor medio é: 20.20070588235294\n",
            "numero de quartos é 5, valor medio é: 20.20070588235294\n",
            "numero de quartos é 6, valor medio é: 20.20070588235294\n",
            "numero de quartos é 5, valor medio é: 20.20070588235294\n",
            "numero de quartos é 6, valor medio é: 20.20070588235294\n",
            "numero de quartos é 6, valor medio é: 20.20070588235294\n",
            "numero de quartos é 6, valor medio é: 20.20070588235294\n",
            "numero de quartos é 6, valor medio é: 20.20070588235294\n",
            "numero de quartos é 6, valor medio é: 20.20070588235294\n",
            "numero de quartos é 8, valor medio é: 35.71923076923077\n",
            "numero de quartos é 8, valor medio é: 35.71923076923077\n",
            "numero de quartos é 7, valor medio é: 35.71923076923077\n",
            "numero de quartos é 7, valor medio é: 35.71923076923077\n",
            "numero de quartos é 6, valor medio é: 20.20070588235294\n",
            "numero de quartos é 5, valor medio é: 20.20070588235294\n",
            "numero de quartos é 7, valor medio é: 35.71923076923077\n",
            "numero de quartos é 8, valor medio é: 35.71923076923077\n",
            "numero de quartos é 8, valor medio é: 35.71923076923077\n",
            "numero de quartos é 6, valor medio é: 20.20070588235294\n",
            "numero de quartos é 6, valor medio é: 20.20070588235294\n",
            "numero de quartos é 6, valor medio é: 20.20070588235294\n",
            "numero de quartos é 7, valor medio é: 35.71923076923077\n",
            "numero de quartos é 6, valor medio é: 20.20070588235294\n",
            "numero de quartos é 6, valor medio é: 20.20070588235294\n",
            "numero de quartos é 6, valor medio é: 20.20070588235294\n",
            "numero de quartos é 6, valor medio é: 20.20070588235294\n",
            "numero de quartos é 6, valor medio é: 20.20070588235294\n",
            "numero de quartos é 6, valor medio é: 20.20070588235294\n",
            "numero de quartos é 5, valor medio é: 20.20070588235294\n",
            "numero de quartos é 5, valor medio é: 20.20070588235294\n",
            "numero de quartos é 6, valor medio é: 20.20070588235294\n",
            "numero de quartos é 6, valor medio é: 20.20070588235294\n",
            "numero de quartos é 6, valor medio é: 20.20070588235294\n",
            "numero de quartos é 6, valor medio é: 20.20070588235294\n",
            "numero de quartos é 6, valor medio é: 20.20070588235294\n",
            "numero de quartos é 6, valor medio é: 20.20070588235294\n",
            "numero de quartos é 6, valor medio é: 20.20070588235294\n",
            "numero de quartos é 8, valor medio é: 35.71923076923077\n",
            "numero de quartos é 6, valor medio é: 20.20070588235294\n",
            "numero de quartos é 5, valor medio é: 20.20070588235294\n",
            "numero de quartos é 7, valor medio é: 35.71923076923077\n",
            "numero de quartos é 7, valor medio é: 35.71923076923077\n",
            "numero de quartos é 6, valor medio é: 20.20070588235294\n",
            "numero de quartos é 7, valor medio é: 35.71923076923077\n",
            "numero de quartos é 7, valor medio é: 35.71923076923077\n",
            "numero de quartos é 8, valor medio é: 35.71923076923077\n",
            "numero de quartos é 7, valor medio é: 35.71923076923077\n",
            "numero de quartos é 7, valor medio é: 35.71923076923077\n",
            "numero de quartos é 5, valor medio é: 20.20070588235294\n",
            "numero de quartos é 7, valor medio é: 35.71923076923077\n",
            "numero de quartos é 7, valor medio é: 35.71923076923077\n",
            "numero de quartos é 5, valor medio é: 20.20070588235294\n",
            "numero de quartos é 5, valor medio é: 20.20070588235294\n",
            "numero de quartos é 6, valor medio é: 20.20070588235294\n",
            "numero de quartos é 6, valor medio é: 20.20070588235294\n",
            "numero de quartos é 7, valor medio é: 35.71923076923077\n",
            "numero de quartos é 6, valor medio é: 20.20070588235294\n",
            "numero de quartos é 6, valor medio é: 20.20070588235294\n",
            "numero de quartos é 7, valor medio é: 35.71923076923077\n",
            "numero de quartos é 6, valor medio é: 20.20070588235294\n",
            "numero de quartos é 6, valor medio é: 20.20070588235294\n",
            "numero de quartos é 6, valor medio é: 20.20070588235294\n",
            "numero de quartos é 7, valor medio é: 35.71923076923077\n",
            "numero de quartos é 6, valor medio é: 20.20070588235294\n",
            "numero de quartos é 7, valor medio é: 35.71923076923077\n",
            "numero de quartos é 7, valor medio é: 35.71923076923077\n",
            "numero de quartos é 6, valor medio é: 20.20070588235294\n",
            "numero de quartos é 6, valor medio é: 20.20070588235294\n",
            "numero de quartos é 6, valor medio é: 20.20070588235294\n",
            "numero de quartos é 6, valor medio é: 20.20070588235294\n",
            "numero de quartos é 6, valor medio é: 20.20070588235294\n",
            "numero de quartos é 6, valor medio é: 20.20070588235294\n",
            "numero de quartos é 7, valor medio é: 35.71923076923077\n",
            "numero de quartos é 6, valor medio é: 20.20070588235294\n",
            "numero de quartos é 6, valor medio é: 20.20070588235294\n",
            "numero de quartos é 6, valor medio é: 20.20070588235294\n",
            "numero de quartos é 6, valor medio é: 20.20070588235294\n",
            "numero de quartos é 6, valor medio é: 20.20070588235294\n",
            "numero de quartos é 5, valor medio é: 20.20070588235294\n",
            "numero de quartos é 6, valor medio é: 20.20070588235294\n",
            "numero de quartos é 7, valor medio é: 35.71923076923077\n",
            "numero de quartos é 6, valor medio é: 20.20070588235294\n",
            "numero de quartos é 6, valor medio é: 20.20070588235294\n",
            "numero de quartos é 6, valor medio é: 20.20070588235294\n",
            "numero de quartos é 6, valor medio é: 20.20070588235294\n",
            "numero de quartos é 7, valor medio é: 35.71923076923077\n",
            "numero de quartos é 6, valor medio é: 20.20070588235294\n",
            "numero de quartos é 7, valor medio é: 35.71923076923077\n",
            "numero de quartos é 6, valor medio é: 20.20070588235294\n",
            "numero de quartos é 6, valor medio é: 20.20070588235294\n",
            "numero de quartos é 5, valor medio é: 20.20070588235294\n",
            "numero de quartos é 4, valor medio é: 14.921428571428573\n",
            "numero de quartos é 6, valor medio é: 20.20070588235294\n",
            "numero de quartos é 6, valor medio é: 20.20070588235294\n",
            "numero de quartos é 6, valor medio é: 20.20070588235294\n",
            "numero de quartos é 6, valor medio é: 20.20070588235294\n",
            "numero de quartos é 5, valor medio é: 20.20070588235294\n",
            "numero de quartos é 5, valor medio é: 20.20070588235294\n",
            "numero de quartos é 5, valor medio é: 20.20070588235294\n",
            "numero de quartos é 6, valor medio é: 20.20070588235294\n",
            "numero de quartos é 6, valor medio é: 20.20070588235294\n",
            "numero de quartos é 6, valor medio é: 20.20070588235294\n",
            "numero de quartos é 6, valor medio é: 20.20070588235294\n",
            "numero de quartos é 6, valor medio é: 20.20070588235294\n",
            "numero de quartos é 5, valor medio é: 20.20070588235294\n",
            "numero de quartos é 6, valor medio é: 20.20070588235294\n",
            "numero de quartos é 6, valor medio é: 20.20070588235294\n",
            "numero de quartos é 6, valor medio é: 20.20070588235294\n",
            "numero de quartos é 6, valor medio é: 20.20070588235294\n",
            "numero de quartos é 5, valor medio é: 20.20070588235294\n",
            "numero de quartos é 6, valor medio é: 20.20070588235294\n",
            "numero de quartos é 6, valor medio é: 20.20070588235294\n",
            "numero de quartos é 5, valor medio é: 20.20070588235294\n",
            "numero de quartos é 6, valor medio é: 20.20070588235294\n",
            "numero de quartos é 6, valor medio é: 20.20070588235294\n",
            "numero de quartos é 6, valor medio é: 20.20070588235294\n",
            "numero de quartos é 6, valor medio é: 20.20070588235294\n",
            "numero de quartos é 5, valor medio é: 20.20070588235294\n",
            "numero de quartos é 5, valor medio é: 20.20070588235294\n",
            "numero de quartos é 6, valor medio é: 20.20070588235294\n",
            "numero de quartos é 5, valor medio é: 20.20070588235294\n",
            "numero de quartos é 5, valor medio é: 20.20070588235294\n",
            "numero de quartos é 7, valor medio é: 35.71923076923077\n",
            "numero de quartos é 6, valor medio é: 20.20070588235294\n",
            "numero de quartos é 6, valor medio é: 20.20070588235294\n",
            "numero de quartos é 6, valor medio é: 20.20070588235294\n",
            "numero de quartos é 6, valor medio é: 20.20070588235294\n",
            "numero de quartos é 5, valor medio é: 20.20070588235294\n",
            "numero de quartos é 6, valor medio é: 20.20070588235294\n",
            "numero de quartos é 6, valor medio é: 20.20070588235294\n",
            "numero de quartos é 6, valor medio é: 20.20070588235294\n",
            "numero de quartos é 6, valor medio é: 20.20070588235294\n",
            "numero de quartos é 6, valor medio é: 20.20070588235294\n",
            "numero de quartos é 5, valor medio é: 20.20070588235294\n",
            "numero de quartos é 6, valor medio é: 20.20070588235294\n",
            "numero de quartos é 5, valor medio é: 20.20070588235294\n",
            "numero de quartos é 5, valor medio é: 20.20070588235294\n",
            "numero de quartos é 6, valor medio é: 20.20070588235294\n",
            "numero de quartos é 6, valor medio é: 20.20070588235294\n",
            "numero de quartos é 6, valor medio é: 20.20070588235294\n",
            "numero de quartos é 6, valor medio é: 20.20070588235294\n",
            "numero de quartos é 6, valor medio é: 20.20070588235294\n",
            "numero de quartos é 6, valor medio é: 20.20070588235294\n",
            "numero de quartos é 5, valor medio é: 20.20070588235294\n",
            "numero de quartos é 5, valor medio é: 20.20070588235294\n",
            "numero de quartos é 8, valor medio é: 35.71923076923077\n",
            "numero de quartos é 3, valor medio é: 14.921428571428573\n",
            "numero de quartos é 4, valor medio é: 14.921428571428573\n",
            "numero de quartos é 3, valor medio é: 14.921428571428573\n",
            "numero de quartos é 5, valor medio é: 20.20070588235294\n",
            "numero de quartos é 4, valor medio é: 14.921428571428573\n",
            "numero de quartos é 4, valor medio é: 14.921428571428573\n",
            "numero de quartos é 7, valor medio é: 35.71923076923077\n",
            "numero de quartos é 6, valor medio é: 20.20070588235294\n",
            "numero de quartos é 6, valor medio é: 20.20070588235294\n",
            "numero de quartos é 6, valor medio é: 20.20070588235294\n",
            "numero de quartos é 6, valor medio é: 20.20070588235294\n",
            "numero de quartos é 6, valor medio é: 20.20070588235294\n",
            "numero de quartos é 6, valor medio é: 20.20070588235294\n",
            "numero de quartos é 5, valor medio é: 20.20070588235294\n",
            "numero de quartos é 5, valor medio é: 20.20070588235294\n",
            "numero de quartos é 4, valor medio é: 14.921428571428573\n",
            "numero de quartos é 5, valor medio é: 20.20070588235294\n",
            "numero de quartos é 4, valor medio é: 14.921428571428573\n",
            "numero de quartos é 5, valor medio é: 20.20070588235294\n",
            "numero de quartos é 4, valor medio é: 14.921428571428573\n",
            "numero de quartos é 5, valor medio é: 20.20070588235294\n",
            "numero de quartos é 5, valor medio é: 20.20070588235294\n",
            "numero de quartos é 6, valor medio é: 20.20070588235294\n",
            "numero de quartos é 5, valor medio é: 20.20070588235294\n",
            "numero de quartos é 6, valor medio é: 20.20070588235294\n",
            "numero de quartos é 5, valor medio é: 20.20070588235294\n",
            "numero de quartos é 6, valor medio é: 20.20070588235294\n",
            "numero de quartos é 6, valor medio é: 20.20070588235294\n",
            "numero de quartos é 5, valor medio é: 20.20070588235294\n",
            "numero de quartos é 5, valor medio é: 20.20070588235294\n",
            "numero de quartos é 5, valor medio é: 20.20070588235294\n",
            "numero de quartos é 5, valor medio é: 20.20070588235294\n",
            "numero de quartos é 6, valor medio é: 20.20070588235294\n",
            "numero de quartos é 6, valor medio é: 20.20070588235294\n",
            "numero de quartos é 5, valor medio é: 20.20070588235294\n",
            "numero de quartos é 5, valor medio é: 20.20070588235294\n",
            "numero de quartos é 5, valor medio é: 20.20070588235294\n",
            "numero de quartos é 4, valor medio é: 14.921428571428573\n",
            "numero de quartos é 5, valor medio é: 20.20070588235294\n",
            "numero de quartos é 5, valor medio é: 20.20070588235294\n",
            "numero de quartos é 6, valor medio é: 20.20070588235294\n",
            "numero de quartos é 5, valor medio é: 20.20070588235294\n",
            "numero de quartos é 6, valor medio é: 20.20070588235294\n",
            "numero de quartos é 4, valor medio é: 14.921428571428573\n",
            "numero de quartos é 5, valor medio é: 20.20070588235294\n",
            "numero de quartos é 4, valor medio é: 14.921428571428573\n",
            "numero de quartos é 6, valor medio é: 20.20070588235294\n",
            "numero de quartos é 6, valor medio é: 20.20070588235294\n",
            "numero de quartos é 5, valor medio é: 20.20070588235294\n",
            "numero de quartos é 5, valor medio é: 20.20070588235294\n",
            "numero de quartos é 6, valor medio é: 20.20070588235294\n",
            "numero de quartos é 6, valor medio é: 20.20070588235294\n",
            "numero de quartos é 6, valor medio é: 20.20070588235294\n",
            "numero de quartos é 5, valor medio é: 20.20070588235294\n",
            "numero de quartos é 6, valor medio é: 20.20070588235294\n",
            "numero de quartos é 5, valor medio é: 20.20070588235294\n",
            "numero de quartos é 5, valor medio é: 20.20070588235294\n",
            "numero de quartos é 5, valor medio é: 20.20070588235294\n",
            "numero de quartos é 6, valor medio é: 20.20070588235294\n",
            "numero de quartos é 6, valor medio é: 20.20070588235294\n",
            "numero de quartos é 6, valor medio é: 20.20070588235294\n",
            "numero de quartos é 6, valor medio é: 20.20070588235294\n",
            "numero de quartos é 6, valor medio é: 20.20070588235294\n",
            "numero de quartos é 6, valor medio é: 20.20070588235294\n",
            "numero de quartos é 6, valor medio é: 20.20070588235294\n",
            "numero de quartos é 6, valor medio é: 20.20070588235294\n",
            "numero de quartos é 6, valor medio é: 20.20070588235294\n",
            "numero de quartos é 6, valor medio é: 20.20070588235294\n",
            "numero de quartos é 6, valor medio é: 20.20070588235294\n",
            "numero de quartos é 5, valor medio é: 20.20070588235294\n",
            "numero de quartos é 5, valor medio é: 20.20070588235294\n",
            "numero de quartos é 5, valor medio é: 20.20070588235294\n",
            "numero de quartos é 6, valor medio é: 20.20070588235294\n",
            "numero de quartos é 6, valor medio é: 20.20070588235294\n",
            "numero de quartos é 6, valor medio é: 20.20070588235294\n",
            "numero de quartos é 5, valor medio é: 20.20070588235294\n",
            "numero de quartos é 6, valor medio é: 20.20070588235294\n",
            "numero de quartos é 6, valor medio é: 20.20070588235294\n",
            "numero de quartos é 6, valor medio é: 20.20070588235294\n",
            "numero de quartos é 6, valor medio é: 20.20070588235294\n",
            "numero de quartos é 6, valor medio é: 20.20070588235294\n",
            "numero de quartos é 6, valor medio é: 20.20070588235294\n",
            "numero de quartos é 6, valor medio é: 20.20070588235294\n",
            "numero de quartos é 6, valor medio é: 20.20070588235294\n",
            "numero de quartos é 7, valor medio é: 35.71923076923077\n",
            "numero de quartos é 6, valor medio é: 20.20070588235294\n",
            "numero de quartos é 6, valor medio é: 20.20070588235294\n",
            "numero de quartos é 5, valor medio é: 20.20070588235294\n",
            "numero de quartos é 5, valor medio é: 20.20070588235294\n",
            "numero de quartos é 6, valor medio é: 20.20070588235294\n",
            "numero de quartos é 6, valor medio é: 20.20070588235294\n",
            "numero de quartos é 6, valor medio é: 20.20070588235294\n",
            "numero de quartos é 6, valor medio é: 20.20070588235294\n",
            "numero de quartos é 6, valor medio é: 20.20070588235294\n",
            "numero de quartos é 6, valor medio é: 20.20070588235294\n",
            "numero de quartos é 6, valor medio é: 20.20070588235294\n",
            "numero de quartos é 5, valor medio é: 20.20070588235294\n",
            "numero de quartos é 5, valor medio é: 20.20070588235294\n",
            "numero de quartos é 6, valor medio é: 20.20070588235294\n",
            "numero de quartos é 5, valor medio é: 20.20070588235294\n",
            "numero de quartos é 5, valor medio é: 20.20070588235294\n",
            "numero de quartos é 6, valor medio é: 20.20070588235294\n",
            "numero de quartos é 6, valor medio é: 20.20070588235294\n",
            "numero de quartos é 6, valor medio é: 20.20070588235294\n",
            "numero de quartos é 6, valor medio é: 20.20070588235294\n",
            "numero de quartos é 5, valor medio é: 20.20070588235294\n",
            "numero de quartos é 6, valor medio é: 20.20070588235294\n",
            "numero de quartos é 6, valor medio é: 20.20070588235294\n",
            "numero de quartos é 5, valor medio é: 20.20070588235294\n",
            "numero de quartos é 6, valor medio é: 20.20070588235294\n",
            "numero de quartos é 6, valor medio é: 20.20070588235294\n",
            "numero de quartos é 6, valor medio é: 20.20070588235294\n",
            "numero de quartos é 6, valor medio é: 20.20070588235294\n",
            "numero de quartos é 7, valor medio é: 35.71923076923077\n",
            "numero de quartos é 5, valor medio é: 20.20070588235294\n",
            "numero de quartos é 5, valor medio é: 20.20070588235294\n",
            "numero de quartos é 6, valor medio é: 20.20070588235294\n",
            "numero de quartos é 6, valor medio é: 20.20070588235294\n",
            "numero de quartos é 5, valor medio é: 20.20070588235294\n",
            "numero de quartos é 5, valor medio é: 20.20070588235294\n",
            "numero de quartos é 5, valor medio é: 20.20070588235294\n",
            "numero de quartos é 5, valor medio é: 20.20070588235294\n",
            "numero de quartos é 5, valor medio é: 20.20070588235294\n",
            "numero de quartos é 5, valor medio é: 20.20070588235294\n",
            "numero de quartos é 5, valor medio é: 20.20070588235294\n",
            "numero de quartos é 5, valor medio é: 20.20070588235294\n",
            "numero de quartos é 5, valor medio é: 20.20070588235294\n",
            "numero de quartos é 5, valor medio é: 20.20070588235294\n",
            "numero de quartos é 5, valor medio é: 20.20070588235294\n",
            "numero de quartos é 6, valor medio é: 20.20070588235294\n",
            "numero de quartos é 5, valor medio é: 20.20070588235294\n",
            "numero de quartos é 6, valor medio é: 20.20070588235294\n",
            "numero de quartos é 6, valor medio é: 20.20070588235294\n",
            "numero de quartos é 6, valor medio é: 20.20070588235294\n",
            "numero de quartos é 6, valor medio é: 20.20070588235294\n",
            "numero de quartos é 6, valor medio é: 20.20070588235294\n",
            "numero de quartos é 6, valor medio é: 20.20070588235294\n"
          ]
        }
      ],
      "source": [
        "for i in data.RM.iteritems():\n",
        "  n_quartos = i[1]\n",
        "  print(f'numero de quartos é {n_quartos}, valor medio é: {retorna_baseline(n_quartos)}')"
      ]
    },
    {
      "cell_type": "code",
      "execution_count": null,
      "metadata": {
        "colab": {
          "base_uri": "https://localhost:8080/",
          "height": 270
        },
        "id": "zMZP-9HoahT-",
        "outputId": "c85743d7-45c5-4750-e869-2601ca632a48"
      },
      "outputs": [
        {
          "data": {
            "text/html": [
              "\n",
              "  <div id=\"df-bd5616ed-6ca6-4303-801d-8b7c43a7ab17\">\n",
              "    <div class=\"colab-df-container\">\n",
              "      <div>\n",
              "<style scoped>\n",
              "    .dataframe tbody tr th:only-of-type {\n",
              "        vertical-align: middle;\n",
              "    }\n",
              "\n",
              "    .dataframe tbody tr th {\n",
              "        vertical-align: top;\n",
              "    }\n",
              "\n",
              "    .dataframe thead th {\n",
              "        text-align: right;\n",
              "    }\n",
              "</style>\n",
              "<table border=\"1\" class=\"dataframe\">\n",
              "  <thead>\n",
              "    <tr style=\"text-align: right;\">\n",
              "      <th></th>\n",
              "      <th>CRIM</th>\n",
              "      <th>ZN</th>\n",
              "      <th>INDUS</th>\n",
              "      <th>CHAS</th>\n",
              "      <th>NOX</th>\n",
              "      <th>RM</th>\n",
              "      <th>AGE</th>\n",
              "      <th>DIS</th>\n",
              "      <th>RAD</th>\n",
              "      <th>TAX</th>\n",
              "      <th>PTRATIO</th>\n",
              "      <th>B</th>\n",
              "      <th>LSTAT</th>\n",
              "      <th>MEDV</th>\n",
              "      <th>categorias</th>\n",
              "    </tr>\n",
              "  </thead>\n",
              "  <tbody>\n",
              "    <tr>\n",
              "      <th>0</th>\n",
              "      <td>0.00632</td>\n",
              "      <td>18.0</td>\n",
              "      <td>2.31</td>\n",
              "      <td>0.0</td>\n",
              "      <td>0.538</td>\n",
              "      <td>6</td>\n",
              "      <td>65.2</td>\n",
              "      <td>4.0900</td>\n",
              "      <td>1.0</td>\n",
              "      <td>296.0</td>\n",
              "      <td>15.3</td>\n",
              "      <td>396.90</td>\n",
              "      <td>4.98</td>\n",
              "      <td>24.0</td>\n",
              "      <td>medio</td>\n",
              "    </tr>\n",
              "    <tr>\n",
              "      <th>1</th>\n",
              "      <td>0.02731</td>\n",
              "      <td>0.0</td>\n",
              "      <td>7.07</td>\n",
              "      <td>0.0</td>\n",
              "      <td>0.469</td>\n",
              "      <td>6</td>\n",
              "      <td>78.9</td>\n",
              "      <td>4.9671</td>\n",
              "      <td>2.0</td>\n",
              "      <td>242.0</td>\n",
              "      <td>17.8</td>\n",
              "      <td>396.90</td>\n",
              "      <td>9.14</td>\n",
              "      <td>21.6</td>\n",
              "      <td>medio</td>\n",
              "    </tr>\n",
              "    <tr>\n",
              "      <th>2</th>\n",
              "      <td>0.02729</td>\n",
              "      <td>0.0</td>\n",
              "      <td>7.07</td>\n",
              "      <td>0.0</td>\n",
              "      <td>0.469</td>\n",
              "      <td>7</td>\n",
              "      <td>61.1</td>\n",
              "      <td>4.9671</td>\n",
              "      <td>2.0</td>\n",
              "      <td>242.0</td>\n",
              "      <td>17.8</td>\n",
              "      <td>392.83</td>\n",
              "      <td>4.03</td>\n",
              "      <td>34.7</td>\n",
              "      <td>grande</td>\n",
              "    </tr>\n",
              "    <tr>\n",
              "      <th>3</th>\n",
              "      <td>0.03237</td>\n",
              "      <td>0.0</td>\n",
              "      <td>2.18</td>\n",
              "      <td>0.0</td>\n",
              "      <td>0.458</td>\n",
              "      <td>6</td>\n",
              "      <td>45.8</td>\n",
              "      <td>6.0622</td>\n",
              "      <td>3.0</td>\n",
              "      <td>222.0</td>\n",
              "      <td>18.7</td>\n",
              "      <td>394.63</td>\n",
              "      <td>2.94</td>\n",
              "      <td>33.4</td>\n",
              "      <td>medio</td>\n",
              "    </tr>\n",
              "    <tr>\n",
              "      <th>4</th>\n",
              "      <td>0.06905</td>\n",
              "      <td>0.0</td>\n",
              "      <td>2.18</td>\n",
              "      <td>0.0</td>\n",
              "      <td>0.458</td>\n",
              "      <td>7</td>\n",
              "      <td>54.2</td>\n",
              "      <td>6.0622</td>\n",
              "      <td>3.0</td>\n",
              "      <td>222.0</td>\n",
              "      <td>18.7</td>\n",
              "      <td>396.90</td>\n",
              "      <td>5.33</td>\n",
              "      <td>36.2</td>\n",
              "      <td>grande</td>\n",
              "    </tr>\n",
              "  </tbody>\n",
              "</table>\n",
              "</div>\n",
              "      <button class=\"colab-df-convert\" onclick=\"convertToInteractive('df-bd5616ed-6ca6-4303-801d-8b7c43a7ab17')\"\n",
              "              title=\"Convert this dataframe to an interactive table.\"\n",
              "              style=\"display:none;\">\n",
              "        \n",
              "  <svg xmlns=\"http://www.w3.org/2000/svg\" height=\"24px\"viewBox=\"0 0 24 24\"\n",
              "       width=\"24px\">\n",
              "    <path d=\"M0 0h24v24H0V0z\" fill=\"none\"/>\n",
              "    <path d=\"M18.56 5.44l.94 2.06.94-2.06 2.06-.94-2.06-.94-.94-2.06-.94 2.06-2.06.94zm-11 1L8.5 8.5l.94-2.06 2.06-.94-2.06-.94L8.5 2.5l-.94 2.06-2.06.94zm10 10l.94 2.06.94-2.06 2.06-.94-2.06-.94-.94-2.06-.94 2.06-2.06.94z\"/><path d=\"M17.41 7.96l-1.37-1.37c-.4-.4-.92-.59-1.43-.59-.52 0-1.04.2-1.43.59L10.3 9.45l-7.72 7.72c-.78.78-.78 2.05 0 2.83L4 21.41c.39.39.9.59 1.41.59.51 0 1.02-.2 1.41-.59l7.78-7.78 2.81-2.81c.8-.78.8-2.07 0-2.86zM5.41 20L4 18.59l7.72-7.72 1.47 1.35L5.41 20z\"/>\n",
              "  </svg>\n",
              "      </button>\n",
              "      \n",
              "  <style>\n",
              "    .colab-df-container {\n",
              "      display:flex;\n",
              "      flex-wrap:wrap;\n",
              "      gap: 12px;\n",
              "    }\n",
              "\n",
              "    .colab-df-convert {\n",
              "      background-color: #E8F0FE;\n",
              "      border: none;\n",
              "      border-radius: 50%;\n",
              "      cursor: pointer;\n",
              "      display: none;\n",
              "      fill: #1967D2;\n",
              "      height: 32px;\n",
              "      padding: 0 0 0 0;\n",
              "      width: 32px;\n",
              "    }\n",
              "\n",
              "    .colab-df-convert:hover {\n",
              "      background-color: #E2EBFA;\n",
              "      box-shadow: 0px 1px 2px rgba(60, 64, 67, 0.3), 0px 1px 3px 1px rgba(60, 64, 67, 0.15);\n",
              "      fill: #174EA6;\n",
              "    }\n",
              "\n",
              "    [theme=dark] .colab-df-convert {\n",
              "      background-color: #3B4455;\n",
              "      fill: #D2E3FC;\n",
              "    }\n",
              "\n",
              "    [theme=dark] .colab-df-convert:hover {\n",
              "      background-color: #434B5C;\n",
              "      box-shadow: 0px 1px 3px 1px rgba(0, 0, 0, 0.15);\n",
              "      filter: drop-shadow(0px 1px 2px rgba(0, 0, 0, 0.3));\n",
              "      fill: #FFFFFF;\n",
              "    }\n",
              "  </style>\n",
              "\n",
              "      <script>\n",
              "        const buttonEl =\n",
              "          document.querySelector('#df-bd5616ed-6ca6-4303-801d-8b7c43a7ab17 button.colab-df-convert');\n",
              "        buttonEl.style.display =\n",
              "          google.colab.kernel.accessAllowed ? 'block' : 'none';\n",
              "\n",
              "        async function convertToInteractive(key) {\n",
              "          const element = document.querySelector('#df-bd5616ed-6ca6-4303-801d-8b7c43a7ab17');\n",
              "          const dataTable =\n",
              "            await google.colab.kernel.invokeFunction('convertToInteractive',\n",
              "                                                     [key], {});\n",
              "          if (!dataTable) return;\n",
              "\n",
              "          const docLinkHtml = 'Like what you see? Visit the ' +\n",
              "            '<a target=\"_blank\" href=https://colab.research.google.com/notebooks/data_table.ipynb>data table notebook</a>'\n",
              "            + ' to learn more about interactive tables.';\n",
              "          element.innerHTML = '';\n",
              "          dataTable['output_type'] = 'display_data';\n",
              "          await google.colab.output.renderOutput(dataTable, element);\n",
              "          const docLink = document.createElement('div');\n",
              "          docLink.innerHTML = docLinkHtml;\n",
              "          element.appendChild(docLink);\n",
              "        }\n",
              "      </script>\n",
              "    </div>\n",
              "  </div>\n",
              "  "
            ],
            "text/plain": [
              "      CRIM    ZN  INDUS  CHAS    NOX  RM   AGE     DIS  RAD    TAX  PTRATIO  \\\n",
              "0  0.00632  18.0   2.31   0.0  0.538   6  65.2  4.0900  1.0  296.0     15.3   \n",
              "1  0.02731   0.0   7.07   0.0  0.469   6  78.9  4.9671  2.0  242.0     17.8   \n",
              "2  0.02729   0.0   7.07   0.0  0.469   7  61.1  4.9671  2.0  242.0     17.8   \n",
              "3  0.03237   0.0   2.18   0.0  0.458   6  45.8  6.0622  3.0  222.0     18.7   \n",
              "4  0.06905   0.0   2.18   0.0  0.458   7  54.2  6.0622  3.0  222.0     18.7   \n",
              "\n",
              "        B  LSTAT  MEDV categorias  \n",
              "0  396.90   4.98  24.0      medio  \n",
              "1  396.90   9.14  21.6      medio  \n",
              "2  392.83   4.03  34.7     grande  \n",
              "3  394.63   2.94  33.4      medio  \n",
              "4  396.90   5.33  36.2     grande  "
            ]
          },
          "execution_count": 50,
          "metadata": {},
          "output_type": "execute_result"
        }
      ],
      "source": [
        "data.head()"
      ]
    },
    {
      "cell_type": "markdown",
      "metadata": {
        "id": "RtCey7Qg4PVu"
      },
      "source": [
        "##Parte 3"
      ]
    },
    {
      "cell_type": "code",
      "execution_count": null,
      "metadata": {
        "id": "xko8Z-rd4STN"
      },
      "outputs": [],
      "source": [
        "\n",
        "#from google.colab import drive\n",
        "#drive.mount('/content/drive')"
      ]
    },
    {
      "cell_type": "code",
      "execution_count": null,
      "metadata": {
        "id": "Q4zcMbsTXdd_"
      },
      "outputs": [],
      "source": [
        "\n",
        "#Variável y é nossa variável alvo\n",
        "y = data['MEDV']"
      ]
    },
    {
      "cell_type": "code",
      "execution_count": null,
      "metadata": {
        "id": "5GWU4iZkYvc0"
      },
      "outputs": [],
      "source": [
        "\n",
        "# remove as colunas colineares, variável alvo e a coluna categorias\n",
        "x = data.drop(['RAD','TAX','MEDV','DIS','AGE','ZN','categorias'],axis=1)"
      ]
    },
    {
      "cell_type": "code",
      "execution_count": null,
      "metadata": {
        "colab": {
          "base_uri": "https://localhost:8080/",
          "height": 270
        },
        "id": "ybTFZQUzZ-jG",
        "outputId": "8412f915-9143-4f5c-a7d3-28198e924b0f"
      },
      "outputs": [
        {
          "data": {
            "text/html": [
              "\n",
              "  <div id=\"df-6ceb7749-b55b-4358-a0fd-f4e9b7039b59\">\n",
              "    <div class=\"colab-df-container\">\n",
              "      <div>\n",
              "<style scoped>\n",
              "    .dataframe tbody tr th:only-of-type {\n",
              "        vertical-align: middle;\n",
              "    }\n",
              "\n",
              "    .dataframe tbody tr th {\n",
              "        vertical-align: top;\n",
              "    }\n",
              "\n",
              "    .dataframe thead th {\n",
              "        text-align: right;\n",
              "    }\n",
              "</style>\n",
              "<table border=\"1\" class=\"dataframe\">\n",
              "  <thead>\n",
              "    <tr style=\"text-align: right;\">\n",
              "      <th></th>\n",
              "      <th>CRIM</th>\n",
              "      <th>INDUS</th>\n",
              "      <th>CHAS</th>\n",
              "      <th>NOX</th>\n",
              "      <th>RM</th>\n",
              "      <th>PTRATIO</th>\n",
              "      <th>B</th>\n",
              "      <th>LSTAT</th>\n",
              "    </tr>\n",
              "  </thead>\n",
              "  <tbody>\n",
              "    <tr>\n",
              "      <th>0</th>\n",
              "      <td>0.00632</td>\n",
              "      <td>2.31</td>\n",
              "      <td>0.0</td>\n",
              "      <td>0.538</td>\n",
              "      <td>6</td>\n",
              "      <td>15.3</td>\n",
              "      <td>396.90</td>\n",
              "      <td>4.98</td>\n",
              "    </tr>\n",
              "    <tr>\n",
              "      <th>1</th>\n",
              "      <td>0.02731</td>\n",
              "      <td>7.07</td>\n",
              "      <td>0.0</td>\n",
              "      <td>0.469</td>\n",
              "      <td>6</td>\n",
              "      <td>17.8</td>\n",
              "      <td>396.90</td>\n",
              "      <td>9.14</td>\n",
              "    </tr>\n",
              "    <tr>\n",
              "      <th>2</th>\n",
              "      <td>0.02729</td>\n",
              "      <td>7.07</td>\n",
              "      <td>0.0</td>\n",
              "      <td>0.469</td>\n",
              "      <td>7</td>\n",
              "      <td>17.8</td>\n",
              "      <td>392.83</td>\n",
              "      <td>4.03</td>\n",
              "    </tr>\n",
              "    <tr>\n",
              "      <th>3</th>\n",
              "      <td>0.03237</td>\n",
              "      <td>2.18</td>\n",
              "      <td>0.0</td>\n",
              "      <td>0.458</td>\n",
              "      <td>6</td>\n",
              "      <td>18.7</td>\n",
              "      <td>394.63</td>\n",
              "      <td>2.94</td>\n",
              "    </tr>\n",
              "    <tr>\n",
              "      <th>4</th>\n",
              "      <td>0.06905</td>\n",
              "      <td>2.18</td>\n",
              "      <td>0.0</td>\n",
              "      <td>0.458</td>\n",
              "      <td>7</td>\n",
              "      <td>18.7</td>\n",
              "      <td>396.90</td>\n",
              "      <td>5.33</td>\n",
              "    </tr>\n",
              "  </tbody>\n",
              "</table>\n",
              "</div>\n",
              "      <button class=\"colab-df-convert\" onclick=\"convertToInteractive('df-6ceb7749-b55b-4358-a0fd-f4e9b7039b59')\"\n",
              "              title=\"Convert this dataframe to an interactive table.\"\n",
              "              style=\"display:none;\">\n",
              "        \n",
              "  <svg xmlns=\"http://www.w3.org/2000/svg\" height=\"24px\"viewBox=\"0 0 24 24\"\n",
              "       width=\"24px\">\n",
              "    <path d=\"M0 0h24v24H0V0z\" fill=\"none\"/>\n",
              "    <path d=\"M18.56 5.44l.94 2.06.94-2.06 2.06-.94-2.06-.94-.94-2.06-.94 2.06-2.06.94zm-11 1L8.5 8.5l.94-2.06 2.06-.94-2.06-.94L8.5 2.5l-.94 2.06-2.06.94zm10 10l.94 2.06.94-2.06 2.06-.94-2.06-.94-.94-2.06-.94 2.06-2.06.94z\"/><path d=\"M17.41 7.96l-1.37-1.37c-.4-.4-.92-.59-1.43-.59-.52 0-1.04.2-1.43.59L10.3 9.45l-7.72 7.72c-.78.78-.78 2.05 0 2.83L4 21.41c.39.39.9.59 1.41.59.51 0 1.02-.2 1.41-.59l7.78-7.78 2.81-2.81c.8-.78.8-2.07 0-2.86zM5.41 20L4 18.59l7.72-7.72 1.47 1.35L5.41 20z\"/>\n",
              "  </svg>\n",
              "      </button>\n",
              "      \n",
              "  <style>\n",
              "    .colab-df-container {\n",
              "      display:flex;\n",
              "      flex-wrap:wrap;\n",
              "      gap: 12px;\n",
              "    }\n",
              "\n",
              "    .colab-df-convert {\n",
              "      background-color: #E8F0FE;\n",
              "      border: none;\n",
              "      border-radius: 50%;\n",
              "      cursor: pointer;\n",
              "      display: none;\n",
              "      fill: #1967D2;\n",
              "      height: 32px;\n",
              "      padding: 0 0 0 0;\n",
              "      width: 32px;\n",
              "    }\n",
              "\n",
              "    .colab-df-convert:hover {\n",
              "      background-color: #E2EBFA;\n",
              "      box-shadow: 0px 1px 2px rgba(60, 64, 67, 0.3), 0px 1px 3px 1px rgba(60, 64, 67, 0.15);\n",
              "      fill: #174EA6;\n",
              "    }\n",
              "\n",
              "    [theme=dark] .colab-df-convert {\n",
              "      background-color: #3B4455;\n",
              "      fill: #D2E3FC;\n",
              "    }\n",
              "\n",
              "    [theme=dark] .colab-df-convert:hover {\n",
              "      background-color: #434B5C;\n",
              "      box-shadow: 0px 1px 3px 1px rgba(0, 0, 0, 0.15);\n",
              "      filter: drop-shadow(0px 1px 2px rgba(0, 0, 0, 0.3));\n",
              "      fill: #FFFFFF;\n",
              "    }\n",
              "  </style>\n",
              "\n",
              "      <script>\n",
              "        const buttonEl =\n",
              "          document.querySelector('#df-6ceb7749-b55b-4358-a0fd-f4e9b7039b59 button.colab-df-convert');\n",
              "        buttonEl.style.display =\n",
              "          google.colab.kernel.accessAllowed ? 'block' : 'none';\n",
              "\n",
              "        async function convertToInteractive(key) {\n",
              "          const element = document.querySelector('#df-6ceb7749-b55b-4358-a0fd-f4e9b7039b59');\n",
              "          const dataTable =\n",
              "            await google.colab.kernel.invokeFunction('convertToInteractive',\n",
              "                                                     [key], {});\n",
              "          if (!dataTable) return;\n",
              "\n",
              "          const docLinkHtml = 'Like what you see? Visit the ' +\n",
              "            '<a target=\"_blank\" href=https://colab.research.google.com/notebooks/data_table.ipynb>data table notebook</a>'\n",
              "            + ' to learn more about interactive tables.';\n",
              "          element.innerHTML = '';\n",
              "          dataTable['output_type'] = 'display_data';\n",
              "          await google.colab.output.renderOutput(dataTable, element);\n",
              "          const docLink = document.createElement('div');\n",
              "          docLink.innerHTML = docLinkHtml;\n",
              "          element.appendChild(docLink);\n",
              "        }\n",
              "      </script>\n",
              "    </div>\n",
              "  </div>\n",
              "  "
            ],
            "text/plain": [
              "      CRIM  INDUS  CHAS    NOX  RM  PTRATIO       B  LSTAT\n",
              "0  0.00632   2.31   0.0  0.538   6     15.3  396.90   4.98\n",
              "1  0.02731   7.07   0.0  0.469   6     17.8  396.90   9.14\n",
              "2  0.02729   7.07   0.0  0.469   7     17.8  392.83   4.03\n",
              "3  0.03237   2.18   0.0  0.458   6     18.7  394.63   2.94\n",
              "4  0.06905   2.18   0.0  0.458   7     18.7  396.90   5.33"
            ]
          },
          "execution_count": 54,
          "metadata": {},
          "output_type": "execute_result"
        }
      ],
      "source": [
        "x.head()"
      ]
    },
    {
      "cell_type": "code",
      "execution_count": null,
      "metadata": {
        "colab": {
          "base_uri": "https://localhost:8080/"
        },
        "id": "l5DMdIObaE4s",
        "outputId": "5bfdd04a-8087-4303-cf01-c3a5f2cffc93"
      },
      "outputs": [
        {
          "data": {
            "text/plain": [
              "0    24.0\n",
              "1    21.6\n",
              "2    34.7\n",
              "3    33.4\n",
              "4    36.2\n",
              "Name: MEDV, dtype: float64"
            ]
          },
          "execution_count": 55,
          "metadata": {},
          "output_type": "execute_result"
        }
      ],
      "source": [
        "y.head()"
      ]
    },
    {
      "cell_type": "markdown",
      "metadata": {
        "id": "oIPgoOLAaUig"
      },
      "source": [
        "*Separando os conjuntos de treino e teste*"
      ]
    },
    {
      "cell_type": "code",
      "execution_count": null,
      "metadata": {
        "id": "cVqSqkVtafwE"
      },
      "outputs": [],
      "source": [
        "#Carrega o módulo train_test_split\n",
        "from sklearn.model_selection import train_test_split"
      ]
    },
    {
      "cell_type": "code",
      "execution_count": null,
      "metadata": {
        "id": "pPI6nnXkbDeW"
      },
      "outputs": [],
      "source": [
        "# divide os dados entre o conjunto de treino e teste, 80% e 20% respectivamente.\n",
        "#define qualquer valor para o parâmetro random_state.\n",
        "x_train, x_test, y_train, y_test = train_test_split(x, y, test_size=0.2, random_state=5)"
      ]
    },
    {
      "cell_type": "code",
      "execution_count": null,
      "metadata": {
        "colab": {
          "base_uri": "https://localhost:8080/"
        },
        "id": "nlOaaTShb1bP",
        "outputId": "4d60bdd2-8aba-430a-af7a-1cc278fd3ad3"
      },
      "outputs": [
        {
          "name": "stdout",
          "output_type": "stream",
          "text": [
            "X_train: número de linhas e colunas: (392, 8)\n",
            "X_test: número de linhas e colunas: (99, 8)\n",
            "Y_train: número de linhas e colunas: (392,)\n",
            "Y_test: número de linhas e colunas: (99,)\n"
          ]
        }
      ],
      "source": [
        "# imprime a quantidade de linhas de conjuntos\n",
        "print(f'X_train: número de linhas e colunas: {x_train.shape}')\n",
        "\n",
        "print(f'X_test: número de linhas e colunas: {x_test.shape}')\n",
        "\n",
        "print(f'Y_train: número de linhas e colunas: {y_train.shape}')\n",
        "print(f'Y_test: número de linhas e colunas: {y_test.shape}')"
      ]
    },
    {
      "cell_type": "code",
      "execution_count": null,
      "metadata": {
        "colab": {
          "base_uri": "https://localhost:8080/",
          "height": 270
        },
        "id": "aTgrqdX5c8XT",
        "outputId": "0f4a3a2a-1652-4a6b-c357-cce3149e54e9"
      },
      "outputs": [
        {
          "data": {
            "text/html": [
              "\n",
              "  <div id=\"df-6bd92b57-0292-460b-b3a6-237b1c087b30\">\n",
              "    <div class=\"colab-df-container\">\n",
              "      <div>\n",
              "<style scoped>\n",
              "    .dataframe tbody tr th:only-of-type {\n",
              "        vertical-align: middle;\n",
              "    }\n",
              "\n",
              "    .dataframe tbody tr th {\n",
              "        vertical-align: top;\n",
              "    }\n",
              "\n",
              "    .dataframe thead th {\n",
              "        text-align: right;\n",
              "    }\n",
              "</style>\n",
              "<table border=\"1\" class=\"dataframe\">\n",
              "  <thead>\n",
              "    <tr style=\"text-align: right;\">\n",
              "      <th></th>\n",
              "      <th>CRIM</th>\n",
              "      <th>INDUS</th>\n",
              "      <th>CHAS</th>\n",
              "      <th>NOX</th>\n",
              "      <th>RM</th>\n",
              "      <th>PTRATIO</th>\n",
              "      <th>B</th>\n",
              "      <th>LSTAT</th>\n",
              "    </tr>\n",
              "  </thead>\n",
              "  <tbody>\n",
              "    <tr>\n",
              "      <th>246</th>\n",
              "      <td>0.33983</td>\n",
              "      <td>5.86</td>\n",
              "      <td>0.0</td>\n",
              "      <td>0.431</td>\n",
              "      <td>6</td>\n",
              "      <td>19.1</td>\n",
              "      <td>390.18</td>\n",
              "      <td>9.16</td>\n",
              "    </tr>\n",
              "    <tr>\n",
              "      <th>456</th>\n",
              "      <td>4.66883</td>\n",
              "      <td>18.10</td>\n",
              "      <td>0.0</td>\n",
              "      <td>0.713</td>\n",
              "      <td>5</td>\n",
              "      <td>20.2</td>\n",
              "      <td>10.48</td>\n",
              "      <td>19.01</td>\n",
              "    </tr>\n",
              "    <tr>\n",
              "      <th>75</th>\n",
              "      <td>0.09512</td>\n",
              "      <td>12.83</td>\n",
              "      <td>0.0</td>\n",
              "      <td>0.437</td>\n",
              "      <td>6</td>\n",
              "      <td>18.7</td>\n",
              "      <td>383.23</td>\n",
              "      <td>8.94</td>\n",
              "    </tr>\n",
              "    <tr>\n",
              "      <th>361</th>\n",
              "      <td>3.83684</td>\n",
              "      <td>18.10</td>\n",
              "      <td>0.0</td>\n",
              "      <td>0.770</td>\n",
              "      <td>6</td>\n",
              "      <td>20.2</td>\n",
              "      <td>350.65</td>\n",
              "      <td>14.19</td>\n",
              "    </tr>\n",
              "    <tr>\n",
              "      <th>271</th>\n",
              "      <td>0.16211</td>\n",
              "      <td>6.96</td>\n",
              "      <td>0.0</td>\n",
              "      <td>0.464</td>\n",
              "      <td>6</td>\n",
              "      <td>18.6</td>\n",
              "      <td>396.90</td>\n",
              "      <td>6.59</td>\n",
              "    </tr>\n",
              "  </tbody>\n",
              "</table>\n",
              "</div>\n",
              "      <button class=\"colab-df-convert\" onclick=\"convertToInteractive('df-6bd92b57-0292-460b-b3a6-237b1c087b30')\"\n",
              "              title=\"Convert this dataframe to an interactive table.\"\n",
              "              style=\"display:none;\">\n",
              "        \n",
              "  <svg xmlns=\"http://www.w3.org/2000/svg\" height=\"24px\"viewBox=\"0 0 24 24\"\n",
              "       width=\"24px\">\n",
              "    <path d=\"M0 0h24v24H0V0z\" fill=\"none\"/>\n",
              "    <path d=\"M18.56 5.44l.94 2.06.94-2.06 2.06-.94-2.06-.94-.94-2.06-.94 2.06-2.06.94zm-11 1L8.5 8.5l.94-2.06 2.06-.94-2.06-.94L8.5 2.5l-.94 2.06-2.06.94zm10 10l.94 2.06.94-2.06 2.06-.94-2.06-.94-.94-2.06-.94 2.06-2.06.94z\"/><path d=\"M17.41 7.96l-1.37-1.37c-.4-.4-.92-.59-1.43-.59-.52 0-1.04.2-1.43.59L10.3 9.45l-7.72 7.72c-.78.78-.78 2.05 0 2.83L4 21.41c.39.39.9.59 1.41.59.51 0 1.02-.2 1.41-.59l7.78-7.78 2.81-2.81c.8-.78.8-2.07 0-2.86zM5.41 20L4 18.59l7.72-7.72 1.47 1.35L5.41 20z\"/>\n",
              "  </svg>\n",
              "      </button>\n",
              "      \n",
              "  <style>\n",
              "    .colab-df-container {\n",
              "      display:flex;\n",
              "      flex-wrap:wrap;\n",
              "      gap: 12px;\n",
              "    }\n",
              "\n",
              "    .colab-df-convert {\n",
              "      background-color: #E8F0FE;\n",
              "      border: none;\n",
              "      border-radius: 50%;\n",
              "      cursor: pointer;\n",
              "      display: none;\n",
              "      fill: #1967D2;\n",
              "      height: 32px;\n",
              "      padding: 0 0 0 0;\n",
              "      width: 32px;\n",
              "    }\n",
              "\n",
              "    .colab-df-convert:hover {\n",
              "      background-color: #E2EBFA;\n",
              "      box-shadow: 0px 1px 2px rgba(60, 64, 67, 0.3), 0px 1px 3px 1px rgba(60, 64, 67, 0.15);\n",
              "      fill: #174EA6;\n",
              "    }\n",
              "\n",
              "    [theme=dark] .colab-df-convert {\n",
              "      background-color: #3B4455;\n",
              "      fill: #D2E3FC;\n",
              "    }\n",
              "\n",
              "    [theme=dark] .colab-df-convert:hover {\n",
              "      background-color: #434B5C;\n",
              "      box-shadow: 0px 1px 3px 1px rgba(0, 0, 0, 0.15);\n",
              "      filter: drop-shadow(0px 1px 2px rgba(0, 0, 0, 0.3));\n",
              "      fill: #FFFFFF;\n",
              "    }\n",
              "  </style>\n",
              "\n",
              "      <script>\n",
              "        const buttonEl =\n",
              "          document.querySelector('#df-6bd92b57-0292-460b-b3a6-237b1c087b30 button.colab-df-convert');\n",
              "        buttonEl.style.display =\n",
              "          google.colab.kernel.accessAllowed ? 'block' : 'none';\n",
              "\n",
              "        async function convertToInteractive(key) {\n",
              "          const element = document.querySelector('#df-6bd92b57-0292-460b-b3a6-237b1c087b30');\n",
              "          const dataTable =\n",
              "            await google.colab.kernel.invokeFunction('convertToInteractive',\n",
              "                                                     [key], {});\n",
              "          if (!dataTable) return;\n",
              "\n",
              "          const docLinkHtml = 'Like what you see? Visit the ' +\n",
              "            '<a target=\"_blank\" href=https://colab.research.google.com/notebooks/data_table.ipynb>data table notebook</a>'\n",
              "            + ' to learn more about interactive tables.';\n",
              "          element.innerHTML = '';\n",
              "          dataTable['output_type'] = 'display_data';\n",
              "          await google.colab.output.renderOutput(dataTable, element);\n",
              "          const docLink = document.createElement('div');\n",
              "          docLink.innerHTML = docLinkHtml;\n",
              "          element.appendChild(docLink);\n",
              "        }\n",
              "      </script>\n",
              "    </div>\n",
              "  </div>\n",
              "  "
            ],
            "text/plain": [
              "        CRIM  INDUS  CHAS    NOX  RM  PTRATIO       B  LSTAT\n",
              "246  0.33983   5.86   0.0  0.431   6     19.1  390.18   9.16\n",
              "456  4.66883  18.10   0.0  0.713   5     20.2   10.48  19.01\n",
              "75   0.09512  12.83   0.0  0.437   6     18.7  383.23   8.94\n",
              "361  3.83684  18.10   0.0  0.770   6     20.2  350.65  14.19\n",
              "271  0.16211   6.96   0.0  0.464   6     18.6  396.90   6.59"
            ]
          },
          "execution_count": 59,
          "metadata": {},
          "output_type": "execute_result"
        }
      ],
      "source": [
        "#imprimindo as 5 primeiras linhas dos dados de teste\n",
        "x_test.head()"
      ]
    },
    {
      "cell_type": "code",
      "execution_count": null,
      "metadata": {
        "id": "7_qpkEgOddzK"
      },
      "outputs": [],
      "source": [
        "# definindo uma lista de predições\n",
        "predicoes = []"
      ]
    },
    {
      "cell_type": "code",
      "execution_count": null,
      "metadata": {
        "id": "k93OaoirdohX"
      },
      "outputs": [],
      "source": [
        "#para cada elemento do teste alimenta a lista de predições\n",
        "for i in x_test.RM.iteritems():\n",
        "  n_quartos = i[1]\n",
        "  predicoes.append(retorna_baseline(n_quartos))"
      ]
    },
    {
      "cell_type": "code",
      "execution_count": null,
      "metadata": {
        "colab": {
          "base_uri": "https://localhost:8080/"
        },
        "id": "mmTI6NhMeIrM",
        "outputId": "0d5c11eb-86d6-465c-fc53-c8319d194ab8"
      },
      "outputs": [
        {
          "data": {
            "text/plain": [
              "[20.20070588235294,\n",
              " 20.20070588235294,\n",
              " 20.20070588235294,\n",
              " 20.20070588235294,\n",
              " 20.20070588235294,\n",
              " 20.20070588235294,\n",
              " 20.20070588235294,\n",
              " 20.20070588235294,\n",
              " 35.71923076923077,\n",
              " 35.71923076923077]"
            ]
          },
          "execution_count": 62,
          "metadata": {},
          "output_type": "execute_result"
        }
      ],
      "source": [
        "# imprime as 10 primeiras linhas da lista de predições\n",
        "predicoes[:10]"
      ]
    },
    {
      "cell_type": "markdown",
      "metadata": {
        "id": "cr1scFw0epFU"
      },
      "source": [
        "Atribuindo resultados a um dataframe\n",
        "* Manteremos um log ao longo do projeto\n",
        "* Permite a evolução dado o baseline"
      ]
    },
    {
      "cell_type": "code",
      "execution_count": null,
      "metadata": {
        "id": "4B-WY9Eye_mN"
      },
      "outputs": [],
      "source": [
        "# cria um dataframe vazio\n",
        "df_results = pd.DataFrame()"
      ]
    },
    {
      "cell_type": "code",
      "execution_count": null,
      "metadata": {
        "id": "pqQqnsOEfMp7"
      },
      "outputs": [],
      "source": [
        "#adiciona a coluna valor real\n",
        "df_results['valor_real'] = y_test.values"
      ]
    },
    {
      "cell_type": "code",
      "execution_count": null,
      "metadata": {
        "id": "RDHAgGC7fiUW"
      },
      "outputs": [],
      "source": [
        "#cria a coluna valor_predito_baseline com as predições\n",
        "df_results['valor_predito_baseline'] = predicoes"
      ]
    },
    {
      "cell_type": "code",
      "execution_count": null,
      "metadata": {
        "colab": {
          "base_uri": "https://localhost:8080/",
          "height": 427
        },
        "id": "fDSGPG9Yf4bN",
        "outputId": "9d0e1afb-143f-4d31-f9ef-598ec4f27289"
      },
      "outputs": [
        {
          "data": {
            "text/html": [
              "\n",
              "  <div id=\"df-7b5c1177-cd33-4287-b4d2-f7e85d25e448\">\n",
              "    <div class=\"colab-df-container\">\n",
              "      <div>\n",
              "<style scoped>\n",
              "    .dataframe tbody tr th:only-of-type {\n",
              "        vertical-align: middle;\n",
              "    }\n",
              "\n",
              "    .dataframe tbody tr th {\n",
              "        vertical-align: top;\n",
              "    }\n",
              "\n",
              "    .dataframe thead th {\n",
              "        text-align: right;\n",
              "    }\n",
              "</style>\n",
              "<table border=\"1\" class=\"dataframe\">\n",
              "  <thead>\n",
              "    <tr style=\"text-align: right;\">\n",
              "      <th></th>\n",
              "      <th>valor_real</th>\n",
              "      <th>valor_predito_baseline</th>\n",
              "    </tr>\n",
              "  </thead>\n",
              "  <tbody>\n",
              "    <tr>\n",
              "      <th>0</th>\n",
              "      <td>24.3</td>\n",
              "      <td>20.200706</td>\n",
              "    </tr>\n",
              "    <tr>\n",
              "      <th>1</th>\n",
              "      <td>12.7</td>\n",
              "      <td>20.200706</td>\n",
              "    </tr>\n",
              "    <tr>\n",
              "      <th>2</th>\n",
              "      <td>21.4</td>\n",
              "      <td>20.200706</td>\n",
              "    </tr>\n",
              "    <tr>\n",
              "      <th>3</th>\n",
              "      <td>19.9</td>\n",
              "      <td>20.200706</td>\n",
              "    </tr>\n",
              "    <tr>\n",
              "      <th>4</th>\n",
              "      <td>25.2</td>\n",
              "      <td>20.200706</td>\n",
              "    </tr>\n",
              "    <tr>\n",
              "      <th>5</th>\n",
              "      <td>29.6</td>\n",
              "      <td>20.200706</td>\n",
              "    </tr>\n",
              "    <tr>\n",
              "      <th>6</th>\n",
              "      <td>12.3</td>\n",
              "      <td>20.200706</td>\n",
              "    </tr>\n",
              "    <tr>\n",
              "      <th>7</th>\n",
              "      <td>17.2</td>\n",
              "      <td>20.200706</td>\n",
              "    </tr>\n",
              "    <tr>\n",
              "      <th>8</th>\n",
              "      <td>34.9</td>\n",
              "      <td>35.719231</td>\n",
              "    </tr>\n",
              "    <tr>\n",
              "      <th>9</th>\n",
              "      <td>31.6</td>\n",
              "      <td>35.719231</td>\n",
              "    </tr>\n",
              "  </tbody>\n",
              "</table>\n",
              "</div>\n",
              "      <button class=\"colab-df-convert\" onclick=\"convertToInteractive('df-7b5c1177-cd33-4287-b4d2-f7e85d25e448')\"\n",
              "              title=\"Convert this dataframe to an interactive table.\"\n",
              "              style=\"display:none;\">\n",
              "        \n",
              "  <svg xmlns=\"http://www.w3.org/2000/svg\" height=\"24px\"viewBox=\"0 0 24 24\"\n",
              "       width=\"24px\">\n",
              "    <path d=\"M0 0h24v24H0V0z\" fill=\"none\"/>\n",
              "    <path d=\"M18.56 5.44l.94 2.06.94-2.06 2.06-.94-2.06-.94-.94-2.06-.94 2.06-2.06.94zm-11 1L8.5 8.5l.94-2.06 2.06-.94-2.06-.94L8.5 2.5l-.94 2.06-2.06.94zm10 10l.94 2.06.94-2.06 2.06-.94-2.06-.94-.94-2.06-.94 2.06-2.06.94z\"/><path d=\"M17.41 7.96l-1.37-1.37c-.4-.4-.92-.59-1.43-.59-.52 0-1.04.2-1.43.59L10.3 9.45l-7.72 7.72c-.78.78-.78 2.05 0 2.83L4 21.41c.39.39.9.59 1.41.59.51 0 1.02-.2 1.41-.59l7.78-7.78 2.81-2.81c.8-.78.8-2.07 0-2.86zM5.41 20L4 18.59l7.72-7.72 1.47 1.35L5.41 20z\"/>\n",
              "  </svg>\n",
              "      </button>\n",
              "      \n",
              "  <style>\n",
              "    .colab-df-container {\n",
              "      display:flex;\n",
              "      flex-wrap:wrap;\n",
              "      gap: 12px;\n",
              "    }\n",
              "\n",
              "    .colab-df-convert {\n",
              "      background-color: #E8F0FE;\n",
              "      border: none;\n",
              "      border-radius: 50%;\n",
              "      cursor: pointer;\n",
              "      display: none;\n",
              "      fill: #1967D2;\n",
              "      height: 32px;\n",
              "      padding: 0 0 0 0;\n",
              "      width: 32px;\n",
              "    }\n",
              "\n",
              "    .colab-df-convert:hover {\n",
              "      background-color: #E2EBFA;\n",
              "      box-shadow: 0px 1px 2px rgba(60, 64, 67, 0.3), 0px 1px 3px 1px rgba(60, 64, 67, 0.15);\n",
              "      fill: #174EA6;\n",
              "    }\n",
              "\n",
              "    [theme=dark] .colab-df-convert {\n",
              "      background-color: #3B4455;\n",
              "      fill: #D2E3FC;\n",
              "    }\n",
              "\n",
              "    [theme=dark] .colab-df-convert:hover {\n",
              "      background-color: #434B5C;\n",
              "      box-shadow: 0px 1px 3px 1px rgba(0, 0, 0, 0.15);\n",
              "      filter: drop-shadow(0px 1px 2px rgba(0, 0, 0, 0.3));\n",
              "      fill: #FFFFFF;\n",
              "    }\n",
              "  </style>\n",
              "\n",
              "      <script>\n",
              "        const buttonEl =\n",
              "          document.querySelector('#df-7b5c1177-cd33-4287-b4d2-f7e85d25e448 button.colab-df-convert');\n",
              "        buttonEl.style.display =\n",
              "          google.colab.kernel.accessAllowed ? 'block' : 'none';\n",
              "\n",
              "        async function convertToInteractive(key) {\n",
              "          const element = document.querySelector('#df-7b5c1177-cd33-4287-b4d2-f7e85d25e448');\n",
              "          const dataTable =\n",
              "            await google.colab.kernel.invokeFunction('convertToInteractive',\n",
              "                                                     [key], {});\n",
              "          if (!dataTable) return;\n",
              "\n",
              "          const docLinkHtml = 'Like what you see? Visit the ' +\n",
              "            '<a target=\"_blank\" href=https://colab.research.google.com/notebooks/data_table.ipynb>data table notebook</a>'\n",
              "            + ' to learn more about interactive tables.';\n",
              "          element.innerHTML = '';\n",
              "          dataTable['output_type'] = 'display_data';\n",
              "          await google.colab.output.renderOutput(dataTable, element);\n",
              "          const docLink = document.createElement('div');\n",
              "          docLink.innerHTML = docLinkHtml;\n",
              "          element.appendChild(docLink);\n",
              "        }\n",
              "      </script>\n",
              "    </div>\n",
              "  </div>\n",
              "  "
            ],
            "text/plain": [
              "   valor_real  valor_predito_baseline\n",
              "0        24.3               20.200706\n",
              "1        12.7               20.200706\n",
              "2        21.4               20.200706\n",
              "3        19.9               20.200706\n",
              "4        25.2               20.200706\n",
              "5        29.6               20.200706\n",
              "6        12.3               20.200706\n",
              "7        17.2               20.200706\n",
              "8        34.9               35.719231\n",
              "9        31.6               35.719231"
            ]
          },
          "execution_count": 66,
          "metadata": {},
          "output_type": "execute_result"
        }
      ],
      "source": [
        "#imprimindo as 10 primeiras linhad do df_results\n",
        "df_results.head(10)"
      ]
    },
    {
      "cell_type": "code",
      "execution_count": null,
      "metadata": {
        "colab": {
          "base_uri": "https://localhost:8080/",
          "height": 542
        },
        "id": "i9MLCyoSgPwY",
        "outputId": "950031c1-af05-40ce-8709-5011eca39951"
      },
      "outputs": [
        {
          "data": {
            "text/html": [
              "<html>\n",
              "<head><meta charset=\"utf-8\" /></head>\n",
              "<body>\n",
              "    <div>            <script src=\"https://cdnjs.cloudflare.com/ajax/libs/mathjax/2.7.5/MathJax.js?config=TeX-AMS-MML_SVG\"></script><script type=\"text/javascript\">if (window.MathJax) {MathJax.Hub.Config({SVG: {font: \"STIX-Web\"}});}</script>                <script type=\"text/javascript\">window.PlotlyConfig = {MathJaxConfig: 'local'};</script>\n",
              "        <script src=\"https://cdn.plot.ly/plotly-2.8.3.min.js\"></script>                <div id=\"0362f178-43e9-4297-b3ec-08754d34ae2b\" class=\"plotly-graph-div\" style=\"height:525px; width:100%;\"></div>            <script type=\"text/javascript\">                                    window.PLOTLYENV=window.PLOTLYENV || {};                                    if (document.getElementById(\"0362f178-43e9-4297-b3ec-08754d34ae2b\")) {                    Plotly.newPlot(                        \"0362f178-43e9-4297-b3ec-08754d34ae2b\",                        [{\"mode\":\"lines+markers\",\"name\":\"valor real\",\"x\":[0,1,2,3,4,5,6,7,8,9,10,11,12,13,14,15,16,17,18,19,20,21,22,23,24,25,26,27,28,29,30,31,32,33,34,35,36,37,38,39,40,41,42,43,44,45,46,47,48,49,50,51,52,53,54,55,56,57,58,59,60,61,62,63,64,65,66,67,68,69,70,71,72,73,74,75,76,77,78,79,80,81,82,83,84,85,86,87,88,89,90,91,92,93,94,95,96,97,98],\"y\":[24.3,12.7,21.4,19.9,25.2,29.6,12.3,17.2,34.9,31.6,24.7,24.1,33.2,20.1,30.5,19.2,30.3,15.4,22.1,16.3,21.5,23.9,17.3,20.1,21.7,24.4,8.5,15.0,21.9,13.6,35.2,7.4,24.8,28.6,29.0,24.5,14.1,33.1,11.7,10.4,5.0,19.6,11.8,23.9,17.2,13.5,13.8,24.4,19.7,17.8,27.9,22.2,22.3,18.4,28.2,14.0,24.7,43.8,48.5,25.0,22.6,21.2,20.6,23.8,19.9,15.0,16.7,17.2,13.1,29.8,22.6,12.8,22.6,19.4,15.1,17.1,19.4,14.2,20.6,19.6,19.6,23.0,17.6,18.5,25.0,41.3,9.5,22.6,32.7,19.8,13.1,15.2,33.4,39.8,25.0,20.5,10.4,20.4,14.4],\"type\":\"scatter\"},{\"mode\":\"lines+markers\",\"name\":\"valor predito baseline\",\"x\":[0,1,2,3,4,5,6,7,8,9,10,11,12,13,14,15,16,17,18,19,20,21,22,23,24,25,26,27,28,29,30,31,32,33,34,35,36,37,38,39,40,41,42,43,44,45,46,47,48,49,50,51,52,53,54,55,56,57,58,59,60,61,62,63,64,65,66,67,68,69,70,71,72,73,74,75,76,77,78,79,80,81,82,83,84,85,86,87,88,89,90,91,92,93,94,95,96,97,98],\"y\":[20.20070588235294,20.20070588235294,20.20070588235294,20.20070588235294,20.20070588235294,20.20070588235294,20.20070588235294,20.20070588235294,35.71923076923077,35.71923076923077,20.20070588235294,20.20070588235294,35.71923076923077,20.20070588235294,20.20070588235294,20.20070588235294,35.71923076923077,20.20070588235294,20.20070588235294,20.20070588235294,20.20070588235294,20.20070588235294,20.20070588235294,20.20070588235294,20.20070588235294,20.20070588235294,20.20070588235294,35.71923076923077,35.71923076923077,20.20070588235294,35.71923076923077,20.20070588235294,20.20070588235294,20.20070588235294,35.71923076923077,20.20070588235294,20.20070588235294,20.20070588235294,20.20070588235294,20.20070588235294,20.20070588235294,20.20070588235294,20.20070588235294,20.20070588235294,20.20070588235294,20.20070588235294,20.20070588235294,20.20070588235294,20.20070588235294,20.20070588235294,20.20070588235294,20.20070588235294,20.20070588235294,20.20070588235294,20.20070588235294,20.20070588235294,20.20070588235294,35.71923076923077,35.71923076923077,20.20070588235294,20.20070588235294,20.20070588235294,20.20070588235294,20.20070588235294,20.20070588235294,20.20070588235294,20.20070588235294,20.20070588235294,20.20070588235294,20.20070588235294,20.20070588235294,20.20070588235294,20.20070588235294,20.20070588235294,20.20070588235294,20.20070588235294,20.20070588235294,20.20070588235294,20.20070588235294,20.20070588235294,20.20070588235294,20.20070588235294,20.20070588235294,20.20070588235294,20.20070588235294,20.20070588235294,20.20070588235294,20.20070588235294,35.71923076923077,20.20070588235294,20.20070588235294,20.20070588235294,35.71923076923077,35.71923076923077,35.71923076923077,20.20070588235294,20.20070588235294,20.20070588235294,20.20070588235294],\"type\":\"scatter\"}],                        {\"template\":{\"data\":{\"bar\":[{\"error_x\":{\"color\":\"#2a3f5f\"},\"error_y\":{\"color\":\"#2a3f5f\"},\"marker\":{\"line\":{\"color\":\"#E5ECF6\",\"width\":0.5},\"pattern\":{\"fillmode\":\"overlay\",\"size\":10,\"solidity\":0.2}},\"type\":\"bar\"}],\"barpolar\":[{\"marker\":{\"line\":{\"color\":\"#E5ECF6\",\"width\":0.5},\"pattern\":{\"fillmode\":\"overlay\",\"size\":10,\"solidity\":0.2}},\"type\":\"barpolar\"}],\"carpet\":[{\"aaxis\":{\"endlinecolor\":\"#2a3f5f\",\"gridcolor\":\"white\",\"linecolor\":\"white\",\"minorgridcolor\":\"white\",\"startlinecolor\":\"#2a3f5f\"},\"baxis\":{\"endlinecolor\":\"#2a3f5f\",\"gridcolor\":\"white\",\"linecolor\":\"white\",\"minorgridcolor\":\"white\",\"startlinecolor\":\"#2a3f5f\"},\"type\":\"carpet\"}],\"choropleth\":[{\"colorbar\":{\"outlinewidth\":0,\"ticks\":\"\"},\"type\":\"choropleth\"}],\"contour\":[{\"colorbar\":{\"outlinewidth\":0,\"ticks\":\"\"},\"colorscale\":[[0.0,\"#0d0887\"],[0.1111111111111111,\"#46039f\"],[0.2222222222222222,\"#7201a8\"],[0.3333333333333333,\"#9c179e\"],[0.4444444444444444,\"#bd3786\"],[0.5555555555555556,\"#d8576b\"],[0.6666666666666666,\"#ed7953\"],[0.7777777777777778,\"#fb9f3a\"],[0.8888888888888888,\"#fdca26\"],[1.0,\"#f0f921\"]],\"type\":\"contour\"}],\"contourcarpet\":[{\"colorbar\":{\"outlinewidth\":0,\"ticks\":\"\"},\"type\":\"contourcarpet\"}],\"heatmap\":[{\"colorbar\":{\"outlinewidth\":0,\"ticks\":\"\"},\"colorscale\":[[0.0,\"#0d0887\"],[0.1111111111111111,\"#46039f\"],[0.2222222222222222,\"#7201a8\"],[0.3333333333333333,\"#9c179e\"],[0.4444444444444444,\"#bd3786\"],[0.5555555555555556,\"#d8576b\"],[0.6666666666666666,\"#ed7953\"],[0.7777777777777778,\"#fb9f3a\"],[0.8888888888888888,\"#fdca26\"],[1.0,\"#f0f921\"]],\"type\":\"heatmap\"}],\"heatmapgl\":[{\"colorbar\":{\"outlinewidth\":0,\"ticks\":\"\"},\"colorscale\":[[0.0,\"#0d0887\"],[0.1111111111111111,\"#46039f\"],[0.2222222222222222,\"#7201a8\"],[0.3333333333333333,\"#9c179e\"],[0.4444444444444444,\"#bd3786\"],[0.5555555555555556,\"#d8576b\"],[0.6666666666666666,\"#ed7953\"],[0.7777777777777778,\"#fb9f3a\"],[0.8888888888888888,\"#fdca26\"],[1.0,\"#f0f921\"]],\"type\":\"heatmapgl\"}],\"histogram\":[{\"marker\":{\"pattern\":{\"fillmode\":\"overlay\",\"size\":10,\"solidity\":0.2}},\"type\":\"histogram\"}],\"histogram2d\":[{\"colorbar\":{\"outlinewidth\":0,\"ticks\":\"\"},\"colorscale\":[[0.0,\"#0d0887\"],[0.1111111111111111,\"#46039f\"],[0.2222222222222222,\"#7201a8\"],[0.3333333333333333,\"#9c179e\"],[0.4444444444444444,\"#bd3786\"],[0.5555555555555556,\"#d8576b\"],[0.6666666666666666,\"#ed7953\"],[0.7777777777777778,\"#fb9f3a\"],[0.8888888888888888,\"#fdca26\"],[1.0,\"#f0f921\"]],\"type\":\"histogram2d\"}],\"histogram2dcontour\":[{\"colorbar\":{\"outlinewidth\":0,\"ticks\":\"\"},\"colorscale\":[[0.0,\"#0d0887\"],[0.1111111111111111,\"#46039f\"],[0.2222222222222222,\"#7201a8\"],[0.3333333333333333,\"#9c179e\"],[0.4444444444444444,\"#bd3786\"],[0.5555555555555556,\"#d8576b\"],[0.6666666666666666,\"#ed7953\"],[0.7777777777777778,\"#fb9f3a\"],[0.8888888888888888,\"#fdca26\"],[1.0,\"#f0f921\"]],\"type\":\"histogram2dcontour\"}],\"mesh3d\":[{\"colorbar\":{\"outlinewidth\":0,\"ticks\":\"\"},\"type\":\"mesh3d\"}],\"parcoords\":[{\"line\":{\"colorbar\":{\"outlinewidth\":0,\"ticks\":\"\"}},\"type\":\"parcoords\"}],\"pie\":[{\"automargin\":true,\"type\":\"pie\"}],\"scatter\":[{\"marker\":{\"colorbar\":{\"outlinewidth\":0,\"ticks\":\"\"}},\"type\":\"scatter\"}],\"scatter3d\":[{\"line\":{\"colorbar\":{\"outlinewidth\":0,\"ticks\":\"\"}},\"marker\":{\"colorbar\":{\"outlinewidth\":0,\"ticks\":\"\"}},\"type\":\"scatter3d\"}],\"scattercarpet\":[{\"marker\":{\"colorbar\":{\"outlinewidth\":0,\"ticks\":\"\"}},\"type\":\"scattercarpet\"}],\"scattergeo\":[{\"marker\":{\"colorbar\":{\"outlinewidth\":0,\"ticks\":\"\"}},\"type\":\"scattergeo\"}],\"scattergl\":[{\"marker\":{\"colorbar\":{\"outlinewidth\":0,\"ticks\":\"\"}},\"type\":\"scattergl\"}],\"scattermapbox\":[{\"marker\":{\"colorbar\":{\"outlinewidth\":0,\"ticks\":\"\"}},\"type\":\"scattermapbox\"}],\"scatterpolar\":[{\"marker\":{\"colorbar\":{\"outlinewidth\":0,\"ticks\":\"\"}},\"type\":\"scatterpolar\"}],\"scatterpolargl\":[{\"marker\":{\"colorbar\":{\"outlinewidth\":0,\"ticks\":\"\"}},\"type\":\"scatterpolargl\"}],\"scatterternary\":[{\"marker\":{\"colorbar\":{\"outlinewidth\":0,\"ticks\":\"\"}},\"type\":\"scatterternary\"}],\"surface\":[{\"colorbar\":{\"outlinewidth\":0,\"ticks\":\"\"},\"colorscale\":[[0.0,\"#0d0887\"],[0.1111111111111111,\"#46039f\"],[0.2222222222222222,\"#7201a8\"],[0.3333333333333333,\"#9c179e\"],[0.4444444444444444,\"#bd3786\"],[0.5555555555555556,\"#d8576b\"],[0.6666666666666666,\"#ed7953\"],[0.7777777777777778,\"#fb9f3a\"],[0.8888888888888888,\"#fdca26\"],[1.0,\"#f0f921\"]],\"type\":\"surface\"}],\"table\":[{\"cells\":{\"fill\":{\"color\":\"#EBF0F8\"},\"line\":{\"color\":\"white\"}},\"header\":{\"fill\":{\"color\":\"#C8D4E3\"},\"line\":{\"color\":\"white\"}},\"type\":\"table\"}]},\"layout\":{\"annotationdefaults\":{\"arrowcolor\":\"#2a3f5f\",\"arrowhead\":0,\"arrowwidth\":1},\"autotypenumbers\":\"strict\",\"coloraxis\":{\"colorbar\":{\"outlinewidth\":0,\"ticks\":\"\"}},\"colorscale\":{\"diverging\":[[0,\"#8e0152\"],[0.1,\"#c51b7d\"],[0.2,\"#de77ae\"],[0.3,\"#f1b6da\"],[0.4,\"#fde0ef\"],[0.5,\"#f7f7f7\"],[0.6,\"#e6f5d0\"],[0.7,\"#b8e186\"],[0.8,\"#7fbc41\"],[0.9,\"#4d9221\"],[1,\"#276419\"]],\"sequential\":[[0.0,\"#0d0887\"],[0.1111111111111111,\"#46039f\"],[0.2222222222222222,\"#7201a8\"],[0.3333333333333333,\"#9c179e\"],[0.4444444444444444,\"#bd3786\"],[0.5555555555555556,\"#d8576b\"],[0.6666666666666666,\"#ed7953\"],[0.7777777777777778,\"#fb9f3a\"],[0.8888888888888888,\"#fdca26\"],[1.0,\"#f0f921\"]],\"sequentialminus\":[[0.0,\"#0d0887\"],[0.1111111111111111,\"#46039f\"],[0.2222222222222222,\"#7201a8\"],[0.3333333333333333,\"#9c179e\"],[0.4444444444444444,\"#bd3786\"],[0.5555555555555556,\"#d8576b\"],[0.6666666666666666,\"#ed7953\"],[0.7777777777777778,\"#fb9f3a\"],[0.8888888888888888,\"#fdca26\"],[1.0,\"#f0f921\"]]},\"colorway\":[\"#636efa\",\"#EF553B\",\"#00cc96\",\"#ab63fa\",\"#FFA15A\",\"#19d3f3\",\"#FF6692\",\"#B6E880\",\"#FF97FF\",\"#FECB52\"],\"font\":{\"color\":\"#2a3f5f\"},\"geo\":{\"bgcolor\":\"white\",\"lakecolor\":\"white\",\"landcolor\":\"#E5ECF6\",\"showlakes\":true,\"showland\":true,\"subunitcolor\":\"white\"},\"hoverlabel\":{\"align\":\"left\"},\"hovermode\":\"closest\",\"mapbox\":{\"style\":\"light\"},\"paper_bgcolor\":\"white\",\"plot_bgcolor\":\"#E5ECF6\",\"polar\":{\"angularaxis\":{\"gridcolor\":\"white\",\"linecolor\":\"white\",\"ticks\":\"\"},\"bgcolor\":\"#E5ECF6\",\"radialaxis\":{\"gridcolor\":\"white\",\"linecolor\":\"white\",\"ticks\":\"\"}},\"scene\":{\"xaxis\":{\"backgroundcolor\":\"#E5ECF6\",\"gridcolor\":\"white\",\"gridwidth\":2,\"linecolor\":\"white\",\"showbackground\":true,\"ticks\":\"\",\"zerolinecolor\":\"white\"},\"yaxis\":{\"backgroundcolor\":\"#E5ECF6\",\"gridcolor\":\"white\",\"gridwidth\":2,\"linecolor\":\"white\",\"showbackground\":true,\"ticks\":\"\",\"zerolinecolor\":\"white\"},\"zaxis\":{\"backgroundcolor\":\"#E5ECF6\",\"gridcolor\":\"white\",\"gridwidth\":2,\"linecolor\":\"white\",\"showbackground\":true,\"ticks\":\"\",\"zerolinecolor\":\"white\"}},\"shapedefaults\":{\"line\":{\"color\":\"#2a3f5f\"}},\"ternary\":{\"aaxis\":{\"gridcolor\":\"white\",\"linecolor\":\"white\",\"ticks\":\"\"},\"baxis\":{\"gridcolor\":\"white\",\"linecolor\":\"white\",\"ticks\":\"\"},\"bgcolor\":\"#E5ECF6\",\"caxis\":{\"gridcolor\":\"white\",\"linecolor\":\"white\",\"ticks\":\"\"}},\"title\":{\"x\":0.05},\"xaxis\":{\"automargin\":true,\"gridcolor\":\"white\",\"linecolor\":\"white\",\"ticks\":\"\",\"title\":{\"standoff\":15},\"zerolinecolor\":\"white\",\"zerolinewidth\":2},\"yaxis\":{\"automargin\":true,\"gridcolor\":\"white\",\"linecolor\":\"white\",\"ticks\":\"\",\"title\":{\"standoff\":15},\"zerolinecolor\":\"white\",\"zerolinewidth\":2}}}},                        {\"responsive\": true}                    ).then(function(){\n",
              "                            \n",
              "var gd = document.getElementById('0362f178-43e9-4297-b3ec-08754d34ae2b');\n",
              "var x = new MutationObserver(function (mutations, observer) {{\n",
              "        var display = window.getComputedStyle(gd).display;\n",
              "        if (!display || display === 'none') {{\n",
              "            console.log([gd, 'removed!']);\n",
              "            Plotly.purge(gd);\n",
              "            observer.disconnect();\n",
              "        }}\n",
              "}});\n",
              "\n",
              "// Listen for the removal of the full notebook cells\n",
              "var notebookContainer = gd.closest('#notebook-container');\n",
              "if (notebookContainer) {{\n",
              "    x.observe(notebookContainer, {childList: true});\n",
              "}}\n",
              "\n",
              "// Listen for the clearing of the current output cell\n",
              "var outputEl = gd.closest('.output');\n",
              "if (outputEl) {{\n",
              "    x.observe(outputEl, {childList: true});\n",
              "}}\n",
              "\n",
              "                        })                };                            </script>        </div>\n",
              "</body>\n",
              "</html>"
            ]
          },
          "metadata": {},
          "output_type": "display_data"
        }
      ],
      "source": [
        "import plotly.graph_objects as go\n",
        "\n",
        "# Create traces\n",
        "fig = go.Figure()\n",
        "\n",
        "#Linha com os dados de teste\n",
        "fig.add_trace(go.Scatter(x=df_results.index, y=df_results.valor_real, mode='lines+markers', name='valor real'))\n",
        "\n",
        "#Linha com os dsdos preditos\n",
        "fig.add_trace(go.Scatter(x=df_results.index, y=df_results.valor_predito_baseline, mode='lines+markers', name='valor predito baseline'))\n",
        "\n",
        "#plota a figura\n",
        "fig.show()"
      ]
    },
    {
      "cell_type": "markdown",
      "metadata": {
        "id": "CUk7GCZbiIb6"
      },
      "source": [
        "Avaliação do modelo baseline"
      ]
    },
    {
      "cell_type": "code",
      "execution_count": null,
      "metadata": {
        "id": "8ia5xl5qiPSl"
      },
      "outputs": [],
      "source": [
        "# calcula a métrica rmse\n",
        "from sklearn.metrics import mean_squared_error\n",
        "from math import sqrt"
      ]
    },
    {
      "cell_type": "code",
      "execution_count": null,
      "metadata": {
        "id": "kQsnmUcdidP2"
      },
      "outputs": [],
      "source": [
        "rmse = (np.sqrt(mean_squared_error(y_test, predicoes)))"
      ]
    },
    {
      "cell_type": "code",
      "execution_count": null,
      "metadata": {
        "colab": {
          "base_uri": "https://localhost:8080/"
        },
        "id": "zQRSCkesitJO",
        "outputId": "9cdd4cd4-d150-4900-f678-0a203aa09ba6"
      },
      "outputs": [
        {
          "name": "stdout",
          "output_type": "stream",
          "text": [
            "performance do modelo baseline:\n",
            "\n",
            "RMSE é: 6.529466822049446\n"
          ]
        }
      ],
      "source": [
        "#imprime a performance do modelo\n",
        "print('performance do modelo baseline:')\n",
        "print(f'\\nRMSE é: {rmse}')"
      ]
    },
    {
      "cell_type": "markdown",
      "metadata": {
        "id": "l2x4ic1ij6R8"
      },
      "source": [
        "##Machine Learning"
      ]
    },
    {
      "cell_type": "markdown",
      "metadata": {
        "id": "T-IJt6OekAhk"
      },
      "source": [
        "##Regressão Linear\n",
        "\n",
        "* Devido a correlação entre algumas features podemos usar uma regressão linear.\n",
        "* Modelo simples e eficiente.\n",
        "* Solução rápida e robusta."
      ]
    },
    {
      "cell_type": "code",
      "execution_count": null,
      "metadata": {
        "id": "1OVy9WLbkboc"
      },
      "outputs": [],
      "source": [
        "#Carrega o pacote LinearRegression\n",
        "from sklearn.linear_model import LinearRegression"
      ]
    },
    {
      "cell_type": "code",
      "execution_count": null,
      "metadata": {
        "id": "cRJC_NMnkzyu"
      },
      "outputs": [],
      "source": [
        "#cria o objeto do tipo LinearRegression\n",
        "lin_model = LinearRegression()"
      ]
    },
    {
      "cell_type": "code",
      "execution_count": null,
      "metadata": {
        "colab": {
          "base_uri": "https://localhost:8080/"
        },
        "id": "tvpfSzhTlACQ",
        "outputId": "121e6477-2e4a-4cbc-f5a7-96011f845207"
      },
      "outputs": [
        {
          "data": {
            "text/plain": [
              "LinearRegression()"
            ]
          },
          "execution_count": 73,
          "metadata": {},
          "output_type": "execute_result"
        }
      ],
      "source": [
        "#treina o algoritmo de regressão linear\n",
        "lin_model.fit(x_train, y_train)"
      ]
    },
    {
      "cell_type": "code",
      "execution_count": null,
      "metadata": {
        "id": "gPFElEf1lT8w"
      },
      "outputs": [],
      "source": [
        "# avaliação do modelo nos dados de teste\n",
        "y_pred = lin_model.predict(x_test)"
      ]
    },
    {
      "cell_type": "code",
      "execution_count": null,
      "metadata": {
        "id": "ecaXhAWAluKf"
      },
      "outputs": [],
      "source": [
        "#calcula a metrica rmse\n",
        "rmse = (np.sqrt(mean_squared_error(y_test, y_pred)))"
      ]
    },
    {
      "cell_type": "code",
      "execution_count": null,
      "metadata": {
        "colab": {
          "base_uri": "https://localhost:8080/"
        },
        "id": "nWyTJq3rmIDq",
        "outputId": "db38394a-2e1c-4c53-a2b9-564bae5e253a"
      },
      "outputs": [
        {
          "name": "stdout",
          "output_type": "stream",
          "text": [
            "Performance do modelo avaliado com os dados de teste:\n",
            "\n",
            "RMSE é: 4.250550434011058\n"
          ]
        }
      ],
      "source": [
        "#imprime a performance do modelo\n",
        "print('Performance do modelo avaliado com os dados de teste:')\n",
        "print(f'\\nRMSE é: {rmse}')"
      ]
    },
    {
      "cell_type": "code",
      "execution_count": null,
      "metadata": {
        "id": "qoD4iwEcmrjQ"
      },
      "outputs": [],
      "source": [
        "df_results['valor_predito_reg_linear'] = lin_model.predict(x_test)"
      ]
    },
    {
      "cell_type": "code",
      "execution_count": null,
      "metadata": {
        "colab": {
          "base_uri": "https://localhost:8080/",
          "height": 427
        },
        "id": "25STtzz0nGDr",
        "outputId": "d9d13cbc-71aa-4136-f8dc-5cec48653411"
      },
      "outputs": [
        {
          "data": {
            "text/html": [
              "\n",
              "  <div id=\"df-a2a35cc4-5c5d-4933-908c-17a62d65ec76\">\n",
              "    <div class=\"colab-df-container\">\n",
              "      <div>\n",
              "<style scoped>\n",
              "    .dataframe tbody tr th:only-of-type {\n",
              "        vertical-align: middle;\n",
              "    }\n",
              "\n",
              "    .dataframe tbody tr th {\n",
              "        vertical-align: top;\n",
              "    }\n",
              "\n",
              "    .dataframe thead th {\n",
              "        text-align: right;\n",
              "    }\n",
              "</style>\n",
              "<table border=\"1\" class=\"dataframe\">\n",
              "  <thead>\n",
              "    <tr style=\"text-align: right;\">\n",
              "      <th></th>\n",
              "      <th>valor_real</th>\n",
              "      <th>valor_predito_baseline</th>\n",
              "      <th>valor_predito_reg_linear</th>\n",
              "    </tr>\n",
              "  </thead>\n",
              "  <tbody>\n",
              "    <tr>\n",
              "      <th>0</th>\n",
              "      <td>24.3</td>\n",
              "      <td>20.200706</td>\n",
              "      <td>24.747301</td>\n",
              "    </tr>\n",
              "    <tr>\n",
              "      <th>1</th>\n",
              "      <td>12.7</td>\n",
              "      <td>20.200706</td>\n",
              "      <td>12.102497</td>\n",
              "    </tr>\n",
              "    <tr>\n",
              "      <th>2</th>\n",
              "      <td>21.4</td>\n",
              "      <td>20.200706</td>\n",
              "      <td>24.373924</td>\n",
              "    </tr>\n",
              "    <tr>\n",
              "      <th>3</th>\n",
              "      <td>19.9</td>\n",
              "      <td>20.200706</td>\n",
              "      <td>18.937266</td>\n",
              "    </tr>\n",
              "    <tr>\n",
              "      <th>4</th>\n",
              "      <td>25.2</td>\n",
              "      <td>20.200706</td>\n",
              "      <td>26.207523</td>\n",
              "    </tr>\n",
              "    <tr>\n",
              "      <th>5</th>\n",
              "      <td>29.6</td>\n",
              "      <td>20.200706</td>\n",
              "      <td>27.398457</td>\n",
              "    </tr>\n",
              "    <tr>\n",
              "      <th>6</th>\n",
              "      <td>12.3</td>\n",
              "      <td>20.200706</td>\n",
              "      <td>11.733926</td>\n",
              "    </tr>\n",
              "    <tr>\n",
              "      <th>7</th>\n",
              "      <td>17.2</td>\n",
              "      <td>20.200706</td>\n",
              "      <td>10.650341</td>\n",
              "    </tr>\n",
              "    <tr>\n",
              "      <th>8</th>\n",
              "      <td>34.9</td>\n",
              "      <td>35.719231</td>\n",
              "      <td>31.760249</td>\n",
              "    </tr>\n",
              "    <tr>\n",
              "      <th>9</th>\n",
              "      <td>31.6</td>\n",
              "      <td>35.719231</td>\n",
              "      <td>29.703225</td>\n",
              "    </tr>\n",
              "  </tbody>\n",
              "</table>\n",
              "</div>\n",
              "      <button class=\"colab-df-convert\" onclick=\"convertToInteractive('df-a2a35cc4-5c5d-4933-908c-17a62d65ec76')\"\n",
              "              title=\"Convert this dataframe to an interactive table.\"\n",
              "              style=\"display:none;\">\n",
              "        \n",
              "  <svg xmlns=\"http://www.w3.org/2000/svg\" height=\"24px\"viewBox=\"0 0 24 24\"\n",
              "       width=\"24px\">\n",
              "    <path d=\"M0 0h24v24H0V0z\" fill=\"none\"/>\n",
              "    <path d=\"M18.56 5.44l.94 2.06.94-2.06 2.06-.94-2.06-.94-.94-2.06-.94 2.06-2.06.94zm-11 1L8.5 8.5l.94-2.06 2.06-.94-2.06-.94L8.5 2.5l-.94 2.06-2.06.94zm10 10l.94 2.06.94-2.06 2.06-.94-2.06-.94-.94-2.06-.94 2.06-2.06.94z\"/><path d=\"M17.41 7.96l-1.37-1.37c-.4-.4-.92-.59-1.43-.59-.52 0-1.04.2-1.43.59L10.3 9.45l-7.72 7.72c-.78.78-.78 2.05 0 2.83L4 21.41c.39.39.9.59 1.41.59.51 0 1.02-.2 1.41-.59l7.78-7.78 2.81-2.81c.8-.78.8-2.07 0-2.86zM5.41 20L4 18.59l7.72-7.72 1.47 1.35L5.41 20z\"/>\n",
              "  </svg>\n",
              "      </button>\n",
              "      \n",
              "  <style>\n",
              "    .colab-df-container {\n",
              "      display:flex;\n",
              "      flex-wrap:wrap;\n",
              "      gap: 12px;\n",
              "    }\n",
              "\n",
              "    .colab-df-convert {\n",
              "      background-color: #E8F0FE;\n",
              "      border: none;\n",
              "      border-radius: 50%;\n",
              "      cursor: pointer;\n",
              "      display: none;\n",
              "      fill: #1967D2;\n",
              "      height: 32px;\n",
              "      padding: 0 0 0 0;\n",
              "      width: 32px;\n",
              "    }\n",
              "\n",
              "    .colab-df-convert:hover {\n",
              "      background-color: #E2EBFA;\n",
              "      box-shadow: 0px 1px 2px rgba(60, 64, 67, 0.3), 0px 1px 3px 1px rgba(60, 64, 67, 0.15);\n",
              "      fill: #174EA6;\n",
              "    }\n",
              "\n",
              "    [theme=dark] .colab-df-convert {\n",
              "      background-color: #3B4455;\n",
              "      fill: #D2E3FC;\n",
              "    }\n",
              "\n",
              "    [theme=dark] .colab-df-convert:hover {\n",
              "      background-color: #434B5C;\n",
              "      box-shadow: 0px 1px 3px 1px rgba(0, 0, 0, 0.15);\n",
              "      filter: drop-shadow(0px 1px 2px rgba(0, 0, 0, 0.3));\n",
              "      fill: #FFFFFF;\n",
              "    }\n",
              "  </style>\n",
              "\n",
              "      <script>\n",
              "        const buttonEl =\n",
              "          document.querySelector('#df-a2a35cc4-5c5d-4933-908c-17a62d65ec76 button.colab-df-convert');\n",
              "        buttonEl.style.display =\n",
              "          google.colab.kernel.accessAllowed ? 'block' : 'none';\n",
              "\n",
              "        async function convertToInteractive(key) {\n",
              "          const element = document.querySelector('#df-a2a35cc4-5c5d-4933-908c-17a62d65ec76');\n",
              "          const dataTable =\n",
              "            await google.colab.kernel.invokeFunction('convertToInteractive',\n",
              "                                                     [key], {});\n",
              "          if (!dataTable) return;\n",
              "\n",
              "          const docLinkHtml = 'Like what you see? Visit the ' +\n",
              "            '<a target=\"_blank\" href=https://colab.research.google.com/notebooks/data_table.ipynb>data table notebook</a>'\n",
              "            + ' to learn more about interactive tables.';\n",
              "          element.innerHTML = '';\n",
              "          dataTable['output_type'] = 'display_data';\n",
              "          await google.colab.output.renderOutput(dataTable, element);\n",
              "          const docLink = document.createElement('div');\n",
              "          docLink.innerHTML = docLinkHtml;\n",
              "          element.appendChild(docLink);\n",
              "        }\n",
              "      </script>\n",
              "    </div>\n",
              "  </div>\n",
              "  "
            ],
            "text/plain": [
              "   valor_real  valor_predito_baseline  valor_predito_reg_linear\n",
              "0        24.3               20.200706                 24.747301\n",
              "1        12.7               20.200706                 12.102497\n",
              "2        21.4               20.200706                 24.373924\n",
              "3        19.9               20.200706                 18.937266\n",
              "4        25.2               20.200706                 26.207523\n",
              "5        29.6               20.200706                 27.398457\n",
              "6        12.3               20.200706                 11.733926\n",
              "7        17.2               20.200706                 10.650341\n",
              "8        34.9               35.719231                 31.760249\n",
              "9        31.6               35.719231                 29.703225"
            ]
          },
          "execution_count": 78,
          "metadata": {},
          "output_type": "execute_result"
        }
      ],
      "source": [
        "df_results.head(10)"
      ]
    },
    {
      "cell_type": "code",
      "execution_count": null,
      "metadata": {
        "colab": {
          "base_uri": "https://localhost:8080/",
          "height": 542
        },
        "id": "aYqHBuL7nsv-",
        "outputId": "bc4fb0c9-0f98-471b-9fa0-91bc655af6c2"
      },
      "outputs": [
        {
          "data": {
            "text/html": [
              "<html>\n",
              "<head><meta charset=\"utf-8\" /></head>\n",
              "<body>\n",
              "    <div>            <script src=\"https://cdnjs.cloudflare.com/ajax/libs/mathjax/2.7.5/MathJax.js?config=TeX-AMS-MML_SVG\"></script><script type=\"text/javascript\">if (window.MathJax) {MathJax.Hub.Config({SVG: {font: \"STIX-Web\"}});}</script>                <script type=\"text/javascript\">window.PlotlyConfig = {MathJaxConfig: 'local'};</script>\n",
              "        <script src=\"https://cdn.plot.ly/plotly-2.8.3.min.js\"></script>                <div id=\"cada45a7-2244-4a06-992d-1526067d3b52\" class=\"plotly-graph-div\" style=\"height:525px; width:100%;\"></div>            <script type=\"text/javascript\">                                    window.PLOTLYENV=window.PLOTLYENV || {};                                    if (document.getElementById(\"cada45a7-2244-4a06-992d-1526067d3b52\")) {                    Plotly.newPlot(                        \"cada45a7-2244-4a06-992d-1526067d3b52\",                        [{\"mode\":\"lines+markers\",\"name\":\"Valor Real\",\"x\":[0,1,2,3,4,5,6,7,8,9,10,11,12,13,14,15,16,17,18,19,20,21,22,23,24,25,26,27,28,29,30,31,32,33,34,35,36,37,38,39,40,41,42,43,44,45,46,47,48,49,50,51,52,53,54,55,56,57,58,59,60,61,62,63,64,65,66,67,68,69,70,71,72,73,74,75,76,77,78,79,80,81,82,83,84,85,86,87,88,89,90,91,92,93,94,95,96,97,98],\"y\":[24.3,12.7,21.4,19.9,25.2,29.6,12.3,17.2,34.9,31.6,24.7,24.1,33.2,20.1,30.5,19.2,30.3,15.4,22.1,16.3,21.5,23.9,17.3,20.1,21.7,24.4,8.5,15.0,21.9,13.6,35.2,7.4,24.8,28.6,29.0,24.5,14.1,33.1,11.7,10.4,5.0,19.6,11.8,23.9,17.2,13.5,13.8,24.4,19.7,17.8,27.9,22.2,22.3,18.4,28.2,14.0,24.7,43.8,48.5,25.0,22.6,21.2,20.6,23.8,19.9,15.0,16.7,17.2,13.1,29.8,22.6,12.8,22.6,19.4,15.1,17.1,19.4,14.2,20.6,19.6,19.6,23.0,17.6,18.5,25.0,41.3,9.5,22.6,32.7,19.8,13.1,15.2,33.4,39.8,25.0,20.5,10.4,20.4,14.4],\"type\":\"scatter\"},{\"mode\":\"lines+markers\",\"name\":\"Baseline\",\"x\":[0,1,2,3,4,5,6,7,8,9,10,11,12,13,14,15,16,17,18,19,20,21,22,23,24,25,26,27,28,29,30,31,32,33,34,35,36,37,38,39,40,41,42,43,44,45,46,47,48,49,50,51,52,53,54,55,56,57,58,59,60,61,62,63,64,65,66,67,68,69,70,71,72,73,74,75,76,77,78,79,80,81,82,83,84,85,86,87,88,89,90,91,92,93,94,95,96,97,98],\"y\":[20.20070588235294,20.20070588235294,20.20070588235294,20.20070588235294,20.20070588235294,20.20070588235294,20.20070588235294,20.20070588235294,35.71923076923077,35.71923076923077,20.20070588235294,20.20070588235294,35.71923076923077,20.20070588235294,20.20070588235294,20.20070588235294,35.71923076923077,20.20070588235294,20.20070588235294,20.20070588235294,20.20070588235294,20.20070588235294,20.20070588235294,20.20070588235294,20.20070588235294,20.20070588235294,20.20070588235294,35.71923076923077,35.71923076923077,20.20070588235294,35.71923076923077,20.20070588235294,20.20070588235294,20.20070588235294,35.71923076923077,20.20070588235294,20.20070588235294,20.20070588235294,20.20070588235294,20.20070588235294,20.20070588235294,20.20070588235294,20.20070588235294,20.20070588235294,20.20070588235294,20.20070588235294,20.20070588235294,20.20070588235294,20.20070588235294,20.20070588235294,20.20070588235294,20.20070588235294,20.20070588235294,20.20070588235294,20.20070588235294,20.20070588235294,20.20070588235294,35.71923076923077,35.71923076923077,20.20070588235294,20.20070588235294,20.20070588235294,20.20070588235294,20.20070588235294,20.20070588235294,20.20070588235294,20.20070588235294,20.20070588235294,20.20070588235294,20.20070588235294,20.20070588235294,20.20070588235294,20.20070588235294,20.20070588235294,20.20070588235294,20.20070588235294,20.20070588235294,20.20070588235294,20.20070588235294,20.20070588235294,20.20070588235294,20.20070588235294,20.20070588235294,20.20070588235294,20.20070588235294,20.20070588235294,20.20070588235294,20.20070588235294,35.71923076923077,20.20070588235294,20.20070588235294,20.20070588235294,35.71923076923077,35.71923076923077,35.71923076923077,20.20070588235294,20.20070588235294,20.20070588235294,20.20070588235294],\"type\":\"scatter\"},{\"line\":{\"color\":\"#FEBFB3\"},\"mode\":\"lines\",\"name\":\"Valor Predito Regress\\u00e3o Linear\",\"x\":[0,1,2,3,4,5,6,7,8,9,10,11,12,13,14,15,16,17,18,19,20,21,22,23,24,25,26,27,28,29,30,31,32,33,34,35,36,37,38,39,40,41,42,43,44,45,46,47,48,49,50,51,52,53,54,55,56,57,58,59,60,61,62,63,64,65,66,67,68,69,70,71,72,73,74,75,76,77,78,79,80,81,82,83,84,85,86,87,88,89,90,91,92,93,94,95,96,97,98],\"y\":[24.747301307228135,12.102496966368832,24.373923519626725,18.937265682951764,26.20752257878653,27.398456809535524,11.733926203027355,10.650341153800532,31.760249016788734,29.70322489164358,28.4457561580737,27.51514841254148,29.97444086497436,16.512340998967957,30.229519498315113,24.532916127782862,33.13552369137317,16.905528812624993,26.11244197503393,12.287382021656015,23.160681433009046,26.666678548365915,11.815062294290154,23.95541824879878,21.1584676917943,23.66390750391842,13.93809539911059,21.897085299878256,31.157041049033722,14.318637172792553,31.396810923319915,7.713221217816393,26.601193966068106,27.75939344883149,33.249604423507805,24.489055037883723,14.96742146304338,29.15968785354721,13.129548989864647,15.122676923050335,7.854198978636784,19.394730589414756,12.279132244247549,23.929726875385064,20.69859376171175,16.509556305738233,14.804441952615168,26.335458429792958,21.98627530470065,19.923776444362616,17.199963311091736,22.349187123913456,27.658463088091573,20.956190654457092,26.417921898845293,13.734851225124197,26.395825751047735,31.19474128402596,33.81033795577166,25.033522367287546,23.92397020342245,23.70196141775695,22.30062806964815,21.282872341814404,18.69618958205701,14.977120998106248,18.23655329601185,13.7918477868578,17.836242247009125,20.656835452869206,27.49093712224481,12.378445718682372,26.086226878007786,19.062261398949577,15.283585594718495,22.339405824698478,24.425060341120695,18.061279207187145,21.915652190030535,20.756251064948856,17.8839757545896,21.39886664697137,20.45309214634941,17.730977948334136,28.47533896385276,28.311507016035634,12.542138110289699,21.11740813772789,32.44581815254697,26.62243130161027,15.52791408675742,14.351996920493795,29.528562966071558,29.41208701617345,25.7686178625903,15.407661466982448,8.554352866054995,20.446893697353083,6.277305836626482],\"type\":\"scatter\"}],                        {\"template\":{\"data\":{\"bar\":[{\"error_x\":{\"color\":\"#2a3f5f\"},\"error_y\":{\"color\":\"#2a3f5f\"},\"marker\":{\"line\":{\"color\":\"#E5ECF6\",\"width\":0.5},\"pattern\":{\"fillmode\":\"overlay\",\"size\":10,\"solidity\":0.2}},\"type\":\"bar\"}],\"barpolar\":[{\"marker\":{\"line\":{\"color\":\"#E5ECF6\",\"width\":0.5},\"pattern\":{\"fillmode\":\"overlay\",\"size\":10,\"solidity\":0.2}},\"type\":\"barpolar\"}],\"carpet\":[{\"aaxis\":{\"endlinecolor\":\"#2a3f5f\",\"gridcolor\":\"white\",\"linecolor\":\"white\",\"minorgridcolor\":\"white\",\"startlinecolor\":\"#2a3f5f\"},\"baxis\":{\"endlinecolor\":\"#2a3f5f\",\"gridcolor\":\"white\",\"linecolor\":\"white\",\"minorgridcolor\":\"white\",\"startlinecolor\":\"#2a3f5f\"},\"type\":\"carpet\"}],\"choropleth\":[{\"colorbar\":{\"outlinewidth\":0,\"ticks\":\"\"},\"type\":\"choropleth\"}],\"contour\":[{\"colorbar\":{\"outlinewidth\":0,\"ticks\":\"\"},\"colorscale\":[[0.0,\"#0d0887\"],[0.1111111111111111,\"#46039f\"],[0.2222222222222222,\"#7201a8\"],[0.3333333333333333,\"#9c179e\"],[0.4444444444444444,\"#bd3786\"],[0.5555555555555556,\"#d8576b\"],[0.6666666666666666,\"#ed7953\"],[0.7777777777777778,\"#fb9f3a\"],[0.8888888888888888,\"#fdca26\"],[1.0,\"#f0f921\"]],\"type\":\"contour\"}],\"contourcarpet\":[{\"colorbar\":{\"outlinewidth\":0,\"ticks\":\"\"},\"type\":\"contourcarpet\"}],\"heatmap\":[{\"colorbar\":{\"outlinewidth\":0,\"ticks\":\"\"},\"colorscale\":[[0.0,\"#0d0887\"],[0.1111111111111111,\"#46039f\"],[0.2222222222222222,\"#7201a8\"],[0.3333333333333333,\"#9c179e\"],[0.4444444444444444,\"#bd3786\"],[0.5555555555555556,\"#d8576b\"],[0.6666666666666666,\"#ed7953\"],[0.7777777777777778,\"#fb9f3a\"],[0.8888888888888888,\"#fdca26\"],[1.0,\"#f0f921\"]],\"type\":\"heatmap\"}],\"heatmapgl\":[{\"colorbar\":{\"outlinewidth\":0,\"ticks\":\"\"},\"colorscale\":[[0.0,\"#0d0887\"],[0.1111111111111111,\"#46039f\"],[0.2222222222222222,\"#7201a8\"],[0.3333333333333333,\"#9c179e\"],[0.4444444444444444,\"#bd3786\"],[0.5555555555555556,\"#d8576b\"],[0.6666666666666666,\"#ed7953\"],[0.7777777777777778,\"#fb9f3a\"],[0.8888888888888888,\"#fdca26\"],[1.0,\"#f0f921\"]],\"type\":\"heatmapgl\"}],\"histogram\":[{\"marker\":{\"pattern\":{\"fillmode\":\"overlay\",\"size\":10,\"solidity\":0.2}},\"type\":\"histogram\"}],\"histogram2d\":[{\"colorbar\":{\"outlinewidth\":0,\"ticks\":\"\"},\"colorscale\":[[0.0,\"#0d0887\"],[0.1111111111111111,\"#46039f\"],[0.2222222222222222,\"#7201a8\"],[0.3333333333333333,\"#9c179e\"],[0.4444444444444444,\"#bd3786\"],[0.5555555555555556,\"#d8576b\"],[0.6666666666666666,\"#ed7953\"],[0.7777777777777778,\"#fb9f3a\"],[0.8888888888888888,\"#fdca26\"],[1.0,\"#f0f921\"]],\"type\":\"histogram2d\"}],\"histogram2dcontour\":[{\"colorbar\":{\"outlinewidth\":0,\"ticks\":\"\"},\"colorscale\":[[0.0,\"#0d0887\"],[0.1111111111111111,\"#46039f\"],[0.2222222222222222,\"#7201a8\"],[0.3333333333333333,\"#9c179e\"],[0.4444444444444444,\"#bd3786\"],[0.5555555555555556,\"#d8576b\"],[0.6666666666666666,\"#ed7953\"],[0.7777777777777778,\"#fb9f3a\"],[0.8888888888888888,\"#fdca26\"],[1.0,\"#f0f921\"]],\"type\":\"histogram2dcontour\"}],\"mesh3d\":[{\"colorbar\":{\"outlinewidth\":0,\"ticks\":\"\"},\"type\":\"mesh3d\"}],\"parcoords\":[{\"line\":{\"colorbar\":{\"outlinewidth\":0,\"ticks\":\"\"}},\"type\":\"parcoords\"}],\"pie\":[{\"automargin\":true,\"type\":\"pie\"}],\"scatter\":[{\"marker\":{\"colorbar\":{\"outlinewidth\":0,\"ticks\":\"\"}},\"type\":\"scatter\"}],\"scatter3d\":[{\"line\":{\"colorbar\":{\"outlinewidth\":0,\"ticks\":\"\"}},\"marker\":{\"colorbar\":{\"outlinewidth\":0,\"ticks\":\"\"}},\"type\":\"scatter3d\"}],\"scattercarpet\":[{\"marker\":{\"colorbar\":{\"outlinewidth\":0,\"ticks\":\"\"}},\"type\":\"scattercarpet\"}],\"scattergeo\":[{\"marker\":{\"colorbar\":{\"outlinewidth\":0,\"ticks\":\"\"}},\"type\":\"scattergeo\"}],\"scattergl\":[{\"marker\":{\"colorbar\":{\"outlinewidth\":0,\"ticks\":\"\"}},\"type\":\"scattergl\"}],\"scattermapbox\":[{\"marker\":{\"colorbar\":{\"outlinewidth\":0,\"ticks\":\"\"}},\"type\":\"scattermapbox\"}],\"scatterpolar\":[{\"marker\":{\"colorbar\":{\"outlinewidth\":0,\"ticks\":\"\"}},\"type\":\"scatterpolar\"}],\"scatterpolargl\":[{\"marker\":{\"colorbar\":{\"outlinewidth\":0,\"ticks\":\"\"}},\"type\":\"scatterpolargl\"}],\"scatterternary\":[{\"marker\":{\"colorbar\":{\"outlinewidth\":0,\"ticks\":\"\"}},\"type\":\"scatterternary\"}],\"surface\":[{\"colorbar\":{\"outlinewidth\":0,\"ticks\":\"\"},\"colorscale\":[[0.0,\"#0d0887\"],[0.1111111111111111,\"#46039f\"],[0.2222222222222222,\"#7201a8\"],[0.3333333333333333,\"#9c179e\"],[0.4444444444444444,\"#bd3786\"],[0.5555555555555556,\"#d8576b\"],[0.6666666666666666,\"#ed7953\"],[0.7777777777777778,\"#fb9f3a\"],[0.8888888888888888,\"#fdca26\"],[1.0,\"#f0f921\"]],\"type\":\"surface\"}],\"table\":[{\"cells\":{\"fill\":{\"color\":\"#EBF0F8\"},\"line\":{\"color\":\"white\"}},\"header\":{\"fill\":{\"color\":\"#C8D4E3\"},\"line\":{\"color\":\"white\"}},\"type\":\"table\"}]},\"layout\":{\"annotationdefaults\":{\"arrowcolor\":\"#2a3f5f\",\"arrowhead\":0,\"arrowwidth\":1},\"autotypenumbers\":\"strict\",\"coloraxis\":{\"colorbar\":{\"outlinewidth\":0,\"ticks\":\"\"}},\"colorscale\":{\"diverging\":[[0,\"#8e0152\"],[0.1,\"#c51b7d\"],[0.2,\"#de77ae\"],[0.3,\"#f1b6da\"],[0.4,\"#fde0ef\"],[0.5,\"#f7f7f7\"],[0.6,\"#e6f5d0\"],[0.7,\"#b8e186\"],[0.8,\"#7fbc41\"],[0.9,\"#4d9221\"],[1,\"#276419\"]],\"sequential\":[[0.0,\"#0d0887\"],[0.1111111111111111,\"#46039f\"],[0.2222222222222222,\"#7201a8\"],[0.3333333333333333,\"#9c179e\"],[0.4444444444444444,\"#bd3786\"],[0.5555555555555556,\"#d8576b\"],[0.6666666666666666,\"#ed7953\"],[0.7777777777777778,\"#fb9f3a\"],[0.8888888888888888,\"#fdca26\"],[1.0,\"#f0f921\"]],\"sequentialminus\":[[0.0,\"#0d0887\"],[0.1111111111111111,\"#46039f\"],[0.2222222222222222,\"#7201a8\"],[0.3333333333333333,\"#9c179e\"],[0.4444444444444444,\"#bd3786\"],[0.5555555555555556,\"#d8576b\"],[0.6666666666666666,\"#ed7953\"],[0.7777777777777778,\"#fb9f3a\"],[0.8888888888888888,\"#fdca26\"],[1.0,\"#f0f921\"]]},\"colorway\":[\"#636efa\",\"#EF553B\",\"#00cc96\",\"#ab63fa\",\"#FFA15A\",\"#19d3f3\",\"#FF6692\",\"#B6E880\",\"#FF97FF\",\"#FECB52\"],\"font\":{\"color\":\"#2a3f5f\"},\"geo\":{\"bgcolor\":\"white\",\"lakecolor\":\"white\",\"landcolor\":\"#E5ECF6\",\"showlakes\":true,\"showland\":true,\"subunitcolor\":\"white\"},\"hoverlabel\":{\"align\":\"left\"},\"hovermode\":\"closest\",\"mapbox\":{\"style\":\"light\"},\"paper_bgcolor\":\"white\",\"plot_bgcolor\":\"#E5ECF6\",\"polar\":{\"angularaxis\":{\"gridcolor\":\"white\",\"linecolor\":\"white\",\"ticks\":\"\"},\"bgcolor\":\"#E5ECF6\",\"radialaxis\":{\"gridcolor\":\"white\",\"linecolor\":\"white\",\"ticks\":\"\"}},\"scene\":{\"xaxis\":{\"backgroundcolor\":\"#E5ECF6\",\"gridcolor\":\"white\",\"gridwidth\":2,\"linecolor\":\"white\",\"showbackground\":true,\"ticks\":\"\",\"zerolinecolor\":\"white\"},\"yaxis\":{\"backgroundcolor\":\"#E5ECF6\",\"gridcolor\":\"white\",\"gridwidth\":2,\"linecolor\":\"white\",\"showbackground\":true,\"ticks\":\"\",\"zerolinecolor\":\"white\"},\"zaxis\":{\"backgroundcolor\":\"#E5ECF6\",\"gridcolor\":\"white\",\"gridwidth\":2,\"linecolor\":\"white\",\"showbackground\":true,\"ticks\":\"\",\"zerolinecolor\":\"white\"}},\"shapedefaults\":{\"line\":{\"color\":\"#2a3f5f\"}},\"ternary\":{\"aaxis\":{\"gridcolor\":\"white\",\"linecolor\":\"white\",\"ticks\":\"\"},\"baxis\":{\"gridcolor\":\"white\",\"linecolor\":\"white\",\"ticks\":\"\"},\"bgcolor\":\"#E5ECF6\",\"caxis\":{\"gridcolor\":\"white\",\"linecolor\":\"white\",\"ticks\":\"\"}},\"title\":{\"x\":0.05},\"xaxis\":{\"automargin\":true,\"gridcolor\":\"white\",\"linecolor\":\"white\",\"ticks\":\"\",\"title\":{\"standoff\":15},\"zerolinecolor\":\"white\",\"zerolinewidth\":2},\"yaxis\":{\"automargin\":true,\"gridcolor\":\"white\",\"linecolor\":\"white\",\"ticks\":\"\",\"title\":{\"standoff\":15},\"zerolinecolor\":\"white\",\"zerolinewidth\":2}}}},                        {\"responsive\": true}                    ).then(function(){\n",
              "                            \n",
              "var gd = document.getElementById('cada45a7-2244-4a06-992d-1526067d3b52');\n",
              "var x = new MutationObserver(function (mutations, observer) {{\n",
              "        var display = window.getComputedStyle(gd).display;\n",
              "        if (!display || display === 'none') {{\n",
              "            console.log([gd, 'removed!']);\n",
              "            Plotly.purge(gd);\n",
              "            observer.disconnect();\n",
              "        }}\n",
              "}});\n",
              "\n",
              "// Listen for the removal of the full notebook cells\n",
              "var notebookContainer = gd.closest('#notebook-container');\n",
              "if (notebookContainer) {{\n",
              "    x.observe(notebookContainer, {childList: true});\n",
              "}}\n",
              "\n",
              "// Listen for the clearing of the current output cell\n",
              "var outputEl = gd.closest('.output');\n",
              "if (outputEl) {{\n",
              "    x.observe(outputEl, {childList: true});\n",
              "}}\n",
              "\n",
              "                        })                };                            </script>        </div>\n",
              "</body>\n",
              "</html>"
            ]
          },
          "metadata": {},
          "output_type": "display_data"
        }
      ],
      "source": [
        "#create traces\n",
        "fig = go.Figure()\n",
        "\n",
        "#linha com os dados de teste\n",
        "fig.add_trace(go.Scatter(x=df_results.index, y=df_results.valor_real, mode='lines+markers', name='Valor Real'))\n",
        "\n",
        "#linha com os dados do baseline\n",
        "fig.add_trace(go.Scatter(x=df_results.index, y=df_results.valor_predito_baseline, mode='lines+markers', name='Baseline'))\n",
        "\n",
        "#linha com os dados preditos pela regressão linear\n",
        "fig.add_trace(go.Scatter(x=df_results.index, y=df_results.valor_predito_reg_linear, mode='lines', line= dict(color = '#FEBFB3'), name='Valor Predito Regressão Linear'))\n",
        "\n",
        "#Plota a figura\n",
        "fig.show()"
      ]
    },
    {
      "cell_type": "markdown",
      "metadata": {
        "id": "rE2QP53cqiU6"
      },
      "source": [
        "##Árvore de decisão\n",
        "\n",
        "* Algoritmo de aprendizado supervisionado\n",
        "* Explicabilidade do Modelo\n",
        "* Simples"
      ]
    },
    {
      "cell_type": "code",
      "execution_count": null,
      "metadata": {
        "id": "nFlYz14wq0VQ"
      },
      "outputs": [],
      "source": [
        "#importa o pacote DecisionTreeRegressor\n",
        "from sklearn.tree import DecisionTreeRegressor"
      ]
    },
    {
      "cell_type": "code",
      "execution_count": null,
      "metadata": {
        "id": "6CXeIgPzrEd7"
      },
      "outputs": [],
      "source": [
        "# cria um objeto do tipo DecisionTreeRegressor\n",
        "regressor = DecisionTreeRegressor()"
      ]
    },
    {
      "cell_type": "code",
      "execution_count": null,
      "metadata": {
        "colab": {
          "base_uri": "https://localhost:8080/"
        },
        "id": "r0KaN9Z6rSuI",
        "outputId": "b5ed2cdf-828c-4dd3-836a-e4df3e92dd46"
      },
      "outputs": [
        {
          "data": {
            "text/plain": [
              "DecisionTreeRegressor()"
            ]
          },
          "execution_count": 82,
          "metadata": {},
          "output_type": "execute_result"
        }
      ],
      "source": [
        "regressor.fit(x_train, y_train)"
      ]
    },
    {
      "cell_type": "markdown",
      "metadata": {
        "id": "HD2E9S22rbjY"
      },
      "source": [
        "Avaliando o modelo árvore de decisão"
      ]
    },
    {
      "cell_type": "code",
      "execution_count": null,
      "metadata": {
        "id": "Z4_vjjX0riOF"
      },
      "outputs": [],
      "source": [
        "#fazendo as previsões\n",
        "y_pred = regressor.predict(x_test)"
      ]
    },
    {
      "cell_type": "code",
      "execution_count": null,
      "metadata": {
        "id": "by-JvBCBrwGp"
      },
      "outputs": [],
      "source": [
        "#adicionando o valor do modelo no dataframe df_results\n",
        "df_results['valor_predito_arvore'] = y_pred"
      ]
    },
    {
      "cell_type": "code",
      "execution_count": null,
      "metadata": {
        "colab": {
          "base_uri": "https://localhost:8080/",
          "height": 427
        },
        "id": "b88m-G60r_sx",
        "outputId": "b48ca22b-0694-43eb-d030-05832fc24f96"
      },
      "outputs": [
        {
          "data": {
            "text/html": [
              "\n",
              "  <div id=\"df-c54171c8-1ef4-48ef-8afd-8d3e5b31edba\">\n",
              "    <div class=\"colab-df-container\">\n",
              "      <div>\n",
              "<style scoped>\n",
              "    .dataframe tbody tr th:only-of-type {\n",
              "        vertical-align: middle;\n",
              "    }\n",
              "\n",
              "    .dataframe tbody tr th {\n",
              "        vertical-align: top;\n",
              "    }\n",
              "\n",
              "    .dataframe thead th {\n",
              "        text-align: right;\n",
              "    }\n",
              "</style>\n",
              "<table border=\"1\" class=\"dataframe\">\n",
              "  <thead>\n",
              "    <tr style=\"text-align: right;\">\n",
              "      <th></th>\n",
              "      <th>valor_real</th>\n",
              "      <th>valor_predito_baseline</th>\n",
              "      <th>valor_predito_reg_linear</th>\n",
              "      <th>valor_predito_arvore</th>\n",
              "    </tr>\n",
              "  </thead>\n",
              "  <tbody>\n",
              "    <tr>\n",
              "      <th>0</th>\n",
              "      <td>24.3</td>\n",
              "      <td>20.200706</td>\n",
              "      <td>24.747301</td>\n",
              "      <td>26.2</td>\n",
              "    </tr>\n",
              "    <tr>\n",
              "      <th>1</th>\n",
              "      <td>12.7</td>\n",
              "      <td>20.200706</td>\n",
              "      <td>12.102497</td>\n",
              "      <td>23.2</td>\n",
              "    </tr>\n",
              "    <tr>\n",
              "      <th>2</th>\n",
              "      <td>21.4</td>\n",
              "      <td>20.200706</td>\n",
              "      <td>24.373924</td>\n",
              "      <td>22.8</td>\n",
              "    </tr>\n",
              "    <tr>\n",
              "      <th>3</th>\n",
              "      <td>19.9</td>\n",
              "      <td>20.200706</td>\n",
              "      <td>18.937266</td>\n",
              "      <td>20.3</td>\n",
              "    </tr>\n",
              "    <tr>\n",
              "      <th>4</th>\n",
              "      <td>25.2</td>\n",
              "      <td>20.200706</td>\n",
              "      <td>26.207523</td>\n",
              "      <td>23.8</td>\n",
              "    </tr>\n",
              "    <tr>\n",
              "      <th>5</th>\n",
              "      <td>29.6</td>\n",
              "      <td>20.200706</td>\n",
              "      <td>27.398457</td>\n",
              "      <td>27.9</td>\n",
              "    </tr>\n",
              "    <tr>\n",
              "      <th>6</th>\n",
              "      <td>12.3</td>\n",
              "      <td>20.200706</td>\n",
              "      <td>11.733926</td>\n",
              "      <td>11.3</td>\n",
              "    </tr>\n",
              "    <tr>\n",
              "      <th>7</th>\n",
              "      <td>17.2</td>\n",
              "      <td>20.200706</td>\n",
              "      <td>10.650341</td>\n",
              "      <td>19.7</td>\n",
              "    </tr>\n",
              "    <tr>\n",
              "      <th>8</th>\n",
              "      <td>34.9</td>\n",
              "      <td>35.719231</td>\n",
              "      <td>31.760249</td>\n",
              "      <td>36.4</td>\n",
              "    </tr>\n",
              "    <tr>\n",
              "      <th>9</th>\n",
              "      <td>31.6</td>\n",
              "      <td>35.719231</td>\n",
              "      <td>29.703225</td>\n",
              "      <td>31.7</td>\n",
              "    </tr>\n",
              "  </tbody>\n",
              "</table>\n",
              "</div>\n",
              "      <button class=\"colab-df-convert\" onclick=\"convertToInteractive('df-c54171c8-1ef4-48ef-8afd-8d3e5b31edba')\"\n",
              "              title=\"Convert this dataframe to an interactive table.\"\n",
              "              style=\"display:none;\">\n",
              "        \n",
              "  <svg xmlns=\"http://www.w3.org/2000/svg\" height=\"24px\"viewBox=\"0 0 24 24\"\n",
              "       width=\"24px\">\n",
              "    <path d=\"M0 0h24v24H0V0z\" fill=\"none\"/>\n",
              "    <path d=\"M18.56 5.44l.94 2.06.94-2.06 2.06-.94-2.06-.94-.94-2.06-.94 2.06-2.06.94zm-11 1L8.5 8.5l.94-2.06 2.06-.94-2.06-.94L8.5 2.5l-.94 2.06-2.06.94zm10 10l.94 2.06.94-2.06 2.06-.94-2.06-.94-.94-2.06-.94 2.06-2.06.94z\"/><path d=\"M17.41 7.96l-1.37-1.37c-.4-.4-.92-.59-1.43-.59-.52 0-1.04.2-1.43.59L10.3 9.45l-7.72 7.72c-.78.78-.78 2.05 0 2.83L4 21.41c.39.39.9.59 1.41.59.51 0 1.02-.2 1.41-.59l7.78-7.78 2.81-2.81c.8-.78.8-2.07 0-2.86zM5.41 20L4 18.59l7.72-7.72 1.47 1.35L5.41 20z\"/>\n",
              "  </svg>\n",
              "      </button>\n",
              "      \n",
              "  <style>\n",
              "    .colab-df-container {\n",
              "      display:flex;\n",
              "      flex-wrap:wrap;\n",
              "      gap: 12px;\n",
              "    }\n",
              "\n",
              "    .colab-df-convert {\n",
              "      background-color: #E8F0FE;\n",
              "      border: none;\n",
              "      border-radius: 50%;\n",
              "      cursor: pointer;\n",
              "      display: none;\n",
              "      fill: #1967D2;\n",
              "      height: 32px;\n",
              "      padding: 0 0 0 0;\n",
              "      width: 32px;\n",
              "    }\n",
              "\n",
              "    .colab-df-convert:hover {\n",
              "      background-color: #E2EBFA;\n",
              "      box-shadow: 0px 1px 2px rgba(60, 64, 67, 0.3), 0px 1px 3px 1px rgba(60, 64, 67, 0.15);\n",
              "      fill: #174EA6;\n",
              "    }\n",
              "\n",
              "    [theme=dark] .colab-df-convert {\n",
              "      background-color: #3B4455;\n",
              "      fill: #D2E3FC;\n",
              "    }\n",
              "\n",
              "    [theme=dark] .colab-df-convert:hover {\n",
              "      background-color: #434B5C;\n",
              "      box-shadow: 0px 1px 3px 1px rgba(0, 0, 0, 0.15);\n",
              "      filter: drop-shadow(0px 1px 2px rgba(0, 0, 0, 0.3));\n",
              "      fill: #FFFFFF;\n",
              "    }\n",
              "  </style>\n",
              "\n",
              "      <script>\n",
              "        const buttonEl =\n",
              "          document.querySelector('#df-c54171c8-1ef4-48ef-8afd-8d3e5b31edba button.colab-df-convert');\n",
              "        buttonEl.style.display =\n",
              "          google.colab.kernel.accessAllowed ? 'block' : 'none';\n",
              "\n",
              "        async function convertToInteractive(key) {\n",
              "          const element = document.querySelector('#df-c54171c8-1ef4-48ef-8afd-8d3e5b31edba');\n",
              "          const dataTable =\n",
              "            await google.colab.kernel.invokeFunction('convertToInteractive',\n",
              "                                                     [key], {});\n",
              "          if (!dataTable) return;\n",
              "\n",
              "          const docLinkHtml = 'Like what you see? Visit the ' +\n",
              "            '<a target=\"_blank\" href=https://colab.research.google.com/notebooks/data_table.ipynb>data table notebook</a>'\n",
              "            + ' to learn more about interactive tables.';\n",
              "          element.innerHTML = '';\n",
              "          dataTable['output_type'] = 'display_data';\n",
              "          await google.colab.output.renderOutput(dataTable, element);\n",
              "          const docLink = document.createElement('div');\n",
              "          docLink.innerHTML = docLinkHtml;\n",
              "          element.appendChild(docLink);\n",
              "        }\n",
              "      </script>\n",
              "    </div>\n",
              "  </div>\n",
              "  "
            ],
            "text/plain": [
              "   valor_real  valor_predito_baseline  valor_predito_reg_linear  \\\n",
              "0        24.3               20.200706                 24.747301   \n",
              "1        12.7               20.200706                 12.102497   \n",
              "2        21.4               20.200706                 24.373924   \n",
              "3        19.9               20.200706                 18.937266   \n",
              "4        25.2               20.200706                 26.207523   \n",
              "5        29.6               20.200706                 27.398457   \n",
              "6        12.3               20.200706                 11.733926   \n",
              "7        17.2               20.200706                 10.650341   \n",
              "8        34.9               35.719231                 31.760249   \n",
              "9        31.6               35.719231                 29.703225   \n",
              "\n",
              "   valor_predito_arvore  \n",
              "0                  26.2  \n",
              "1                  23.2  \n",
              "2                  22.8  \n",
              "3                  20.3  \n",
              "4                  23.8  \n",
              "5                  27.9  \n",
              "6                  11.3  \n",
              "7                  19.7  \n",
              "8                  36.4  \n",
              "9                  31.7  "
            ]
          },
          "execution_count": 85,
          "metadata": {},
          "output_type": "execute_result"
        }
      ],
      "source": [
        "#visualiza o dataframe com df_results\n",
        "df_results.head(10)"
      ]
    },
    {
      "cell_type": "code",
      "execution_count": null,
      "metadata": {
        "colab": {
          "base_uri": "https://localhost:8080/",
          "height": 542
        },
        "id": "KuTHdivWuZ0t",
        "outputId": "0d7ee0dd-eca0-4ed0-cd22-4377836109b5"
      },
      "outputs": [
        {
          "data": {
            "text/html": [
              "<html>\n",
              "<head><meta charset=\"utf-8\" /></head>\n",
              "<body>\n",
              "    <div>            <script src=\"https://cdnjs.cloudflare.com/ajax/libs/mathjax/2.7.5/MathJax.js?config=TeX-AMS-MML_SVG\"></script><script type=\"text/javascript\">if (window.MathJax) {MathJax.Hub.Config({SVG: {font: \"STIX-Web\"}});}</script>                <script type=\"text/javascript\">window.PlotlyConfig = {MathJaxConfig: 'local'};</script>\n",
              "        <script src=\"https://cdn.plot.ly/plotly-2.8.3.min.js\"></script>                <div id=\"acdc03dc-3d43-4db8-9228-6f59c79df63c\" class=\"plotly-graph-div\" style=\"height:525px; width:100%;\"></div>            <script type=\"text/javascript\">                                    window.PLOTLYENV=window.PLOTLYENV || {};                                    if (document.getElementById(\"acdc03dc-3d43-4db8-9228-6f59c79df63c\")) {                    Plotly.newPlot(                        \"acdc03dc-3d43-4db8-9228-6f59c79df63c\",                        [{\"mode\":\"lines+markers\",\"name\":\"Valor Real\",\"x\":[0,1,2,3,4,5,6,7,8,9,10,11,12,13,14,15,16,17,18,19,20,21,22,23,24,25,26,27,28,29,30,31,32,33,34,35,36,37,38,39,40,41,42,43,44,45,46,47,48,49,50,51,52,53,54,55,56,57,58,59,60,61,62,63,64,65,66,67,68,69,70,71,72,73,74,75,76,77,78,79,80,81,82,83,84,85,86,87,88,89,90,91,92,93,94,95,96,97,98],\"y\":[24.3,12.7,21.4,19.9,25.2,29.6,12.3,17.2,34.9,31.6,24.7,24.1,33.2,20.1,30.5,19.2,30.3,15.4,22.1,16.3,21.5,23.9,17.3,20.1,21.7,24.4,8.5,15.0,21.9,13.6,35.2,7.4,24.8,28.6,29.0,24.5,14.1,33.1,11.7,10.4,5.0,19.6,11.8,23.9,17.2,13.5,13.8,24.4,19.7,17.8,27.9,22.2,22.3,18.4,28.2,14.0,24.7,43.8,48.5,25.0,22.6,21.2,20.6,23.8,19.9,15.0,16.7,17.2,13.1,29.8,22.6,12.8,22.6,19.4,15.1,17.1,19.4,14.2,20.6,19.6,19.6,23.0,17.6,18.5,25.0,41.3,9.5,22.6,32.7,19.8,13.1,15.2,33.4,39.8,25.0,20.5,10.4,20.4,14.4],\"type\":\"scatter\"},{\"mode\":\"lines+markers\",\"name\":\"Baseline\",\"x\":[0,1,2,3,4,5,6,7,8,9,10,11,12,13,14,15,16,17,18,19,20,21,22,23,24,25,26,27,28,29,30,31,32,33,34,35,36,37,38,39,40,41,42,43,44,45,46,47,48,49,50,51,52,53,54,55,56,57,58,59,60,61,62,63,64,65,66,67,68,69,70,71,72,73,74,75,76,77,78,79,80,81,82,83,84,85,86,87,88,89,90,91,92,93,94,95,96,97,98],\"y\":[20.20070588235294,20.20070588235294,20.20070588235294,20.20070588235294,20.20070588235294,20.20070588235294,20.20070588235294,20.20070588235294,35.71923076923077,35.71923076923077,20.20070588235294,20.20070588235294,35.71923076923077,20.20070588235294,20.20070588235294,20.20070588235294,35.71923076923077,20.20070588235294,20.20070588235294,20.20070588235294,20.20070588235294,20.20070588235294,20.20070588235294,20.20070588235294,20.20070588235294,20.20070588235294,20.20070588235294,35.71923076923077,35.71923076923077,20.20070588235294,35.71923076923077,20.20070588235294,20.20070588235294,20.20070588235294,35.71923076923077,20.20070588235294,20.20070588235294,20.20070588235294,20.20070588235294,20.20070588235294,20.20070588235294,20.20070588235294,20.20070588235294,20.20070588235294,20.20070588235294,20.20070588235294,20.20070588235294,20.20070588235294,20.20070588235294,20.20070588235294,20.20070588235294,20.20070588235294,20.20070588235294,20.20070588235294,20.20070588235294,20.20070588235294,20.20070588235294,35.71923076923077,35.71923076923077,20.20070588235294,20.20070588235294,20.20070588235294,20.20070588235294,20.20070588235294,20.20070588235294,20.20070588235294,20.20070588235294,20.20070588235294,20.20070588235294,20.20070588235294,20.20070588235294,20.20070588235294,20.20070588235294,20.20070588235294,20.20070588235294,20.20070588235294,20.20070588235294,20.20070588235294,20.20070588235294,20.20070588235294,20.20070588235294,20.20070588235294,20.20070588235294,20.20070588235294,20.20070588235294,20.20070588235294,20.20070588235294,20.20070588235294,35.71923076923077,20.20070588235294,20.20070588235294,20.20070588235294,35.71923076923077,35.71923076923077,35.71923076923077,20.20070588235294,20.20070588235294,20.20070588235294,20.20070588235294],\"type\":\"scatter\"},{\"line\":{\"color\":\"#FEBFB3\"},\"mode\":\"lines\",\"name\":\"Valor Predito Regress\\u00e3o Linear\",\"x\":[0,1,2,3,4,5,6,7,8,9,10,11,12,13,14,15,16,17,18,19,20,21,22,23,24,25,26,27,28,29,30,31,32,33,34,35,36,37,38,39,40,41,42,43,44,45,46,47,48,49,50,51,52,53,54,55,56,57,58,59,60,61,62,63,64,65,66,67,68,69,70,71,72,73,74,75,76,77,78,79,80,81,82,83,84,85,86,87,88,89,90,91,92,93,94,95,96,97,98],\"y\":[24.747301307228135,12.102496966368832,24.373923519626725,18.937265682951764,26.20752257878653,27.398456809535524,11.733926203027355,10.650341153800532,31.760249016788734,29.70322489164358,28.4457561580737,27.51514841254148,29.97444086497436,16.512340998967957,30.229519498315113,24.532916127782862,33.13552369137317,16.905528812624993,26.11244197503393,12.287382021656015,23.160681433009046,26.666678548365915,11.815062294290154,23.95541824879878,21.1584676917943,23.66390750391842,13.93809539911059,21.897085299878256,31.157041049033722,14.318637172792553,31.396810923319915,7.713221217816393,26.601193966068106,27.75939344883149,33.249604423507805,24.489055037883723,14.96742146304338,29.15968785354721,13.129548989864647,15.122676923050335,7.854198978636784,19.394730589414756,12.279132244247549,23.929726875385064,20.69859376171175,16.509556305738233,14.804441952615168,26.335458429792958,21.98627530470065,19.923776444362616,17.199963311091736,22.349187123913456,27.658463088091573,20.956190654457092,26.417921898845293,13.734851225124197,26.395825751047735,31.19474128402596,33.81033795577166,25.033522367287546,23.92397020342245,23.70196141775695,22.30062806964815,21.282872341814404,18.69618958205701,14.977120998106248,18.23655329601185,13.7918477868578,17.836242247009125,20.656835452869206,27.49093712224481,12.378445718682372,26.086226878007786,19.062261398949577,15.283585594718495,22.339405824698478,24.425060341120695,18.061279207187145,21.915652190030535,20.756251064948856,17.8839757545896,21.39886664697137,20.45309214634941,17.730977948334136,28.47533896385276,28.311507016035634,12.542138110289699,21.11740813772789,32.44581815254697,26.62243130161027,15.52791408675742,14.351996920493795,29.528562966071558,29.41208701617345,25.7686178625903,15.407661466982448,8.554352866054995,20.446893697353083,6.277305836626482],\"type\":\"scatter\"},{\"mode\":\"lines+markers\",\"name\":\"Valor Predito Arvore\",\"x\":[0,1,2,3,4,5,6,7,8,9,10,11,12,13,14,15,16,17,18,19,20,21,22,23,24,25,26,27,28,29,30,31,32,33,34,35,36,37,38,39,40,41,42,43,44,45,46,47,48,49,50,51,52,53,54,55,56,57,58,59,60,61,62,63,64,65,66,67,68,69,70,71,72,73,74,75,76,77,78,79,80,81,82,83,84,85,86,87,88,89,90,91,92,93,94,95,96,97,98],\"y\":[26.2,23.2,22.8,20.3,23.8,27.9,11.3,19.7,36.4,31.7,26.6,22.5,34.9,19.1,29.8,19.3,34.6,17.1,25.0,19.7,15.3,30.1,16.5,29.6,20.0,16.2,12.5,31.0,48.8,18.8,34.7,7.2,22.0,30.1,32.9,25.0,27.5,29.4,12.6,19.1,5.6,19.2,13.4,26.6,16.1,13.2,18.4,26.2,19.3,14.1,16.1,19.3,23.2,21.0,23.9,13.3,25.3,36.4,42.3,17.4,18.7,19.8,16.5,17.4,14.3,10.9,12.6,19.7,15.6,20.2,36.2,17.1,22.0,15.6,18.4,19.3,22.2,18.4,19.6,15.3,18.2,19.5,16.1,19.5,29.4,27.0,11.3,17.4,32.2,22.0,16.7,18.8,36.1,37.9,28.7,18.8,8.3,19.8,13.3],\"type\":\"scatter\"}],                        {\"template\":{\"data\":{\"bar\":[{\"error_x\":{\"color\":\"#2a3f5f\"},\"error_y\":{\"color\":\"#2a3f5f\"},\"marker\":{\"line\":{\"color\":\"#E5ECF6\",\"width\":0.5},\"pattern\":{\"fillmode\":\"overlay\",\"size\":10,\"solidity\":0.2}},\"type\":\"bar\"}],\"barpolar\":[{\"marker\":{\"line\":{\"color\":\"#E5ECF6\",\"width\":0.5},\"pattern\":{\"fillmode\":\"overlay\",\"size\":10,\"solidity\":0.2}},\"type\":\"barpolar\"}],\"carpet\":[{\"aaxis\":{\"endlinecolor\":\"#2a3f5f\",\"gridcolor\":\"white\",\"linecolor\":\"white\",\"minorgridcolor\":\"white\",\"startlinecolor\":\"#2a3f5f\"},\"baxis\":{\"endlinecolor\":\"#2a3f5f\",\"gridcolor\":\"white\",\"linecolor\":\"white\",\"minorgridcolor\":\"white\",\"startlinecolor\":\"#2a3f5f\"},\"type\":\"carpet\"}],\"choropleth\":[{\"colorbar\":{\"outlinewidth\":0,\"ticks\":\"\"},\"type\":\"choropleth\"}],\"contour\":[{\"colorbar\":{\"outlinewidth\":0,\"ticks\":\"\"},\"colorscale\":[[0.0,\"#0d0887\"],[0.1111111111111111,\"#46039f\"],[0.2222222222222222,\"#7201a8\"],[0.3333333333333333,\"#9c179e\"],[0.4444444444444444,\"#bd3786\"],[0.5555555555555556,\"#d8576b\"],[0.6666666666666666,\"#ed7953\"],[0.7777777777777778,\"#fb9f3a\"],[0.8888888888888888,\"#fdca26\"],[1.0,\"#f0f921\"]],\"type\":\"contour\"}],\"contourcarpet\":[{\"colorbar\":{\"outlinewidth\":0,\"ticks\":\"\"},\"type\":\"contourcarpet\"}],\"heatmap\":[{\"colorbar\":{\"outlinewidth\":0,\"ticks\":\"\"},\"colorscale\":[[0.0,\"#0d0887\"],[0.1111111111111111,\"#46039f\"],[0.2222222222222222,\"#7201a8\"],[0.3333333333333333,\"#9c179e\"],[0.4444444444444444,\"#bd3786\"],[0.5555555555555556,\"#d8576b\"],[0.6666666666666666,\"#ed7953\"],[0.7777777777777778,\"#fb9f3a\"],[0.8888888888888888,\"#fdca26\"],[1.0,\"#f0f921\"]],\"type\":\"heatmap\"}],\"heatmapgl\":[{\"colorbar\":{\"outlinewidth\":0,\"ticks\":\"\"},\"colorscale\":[[0.0,\"#0d0887\"],[0.1111111111111111,\"#46039f\"],[0.2222222222222222,\"#7201a8\"],[0.3333333333333333,\"#9c179e\"],[0.4444444444444444,\"#bd3786\"],[0.5555555555555556,\"#d8576b\"],[0.6666666666666666,\"#ed7953\"],[0.7777777777777778,\"#fb9f3a\"],[0.8888888888888888,\"#fdca26\"],[1.0,\"#f0f921\"]],\"type\":\"heatmapgl\"}],\"histogram\":[{\"marker\":{\"pattern\":{\"fillmode\":\"overlay\",\"size\":10,\"solidity\":0.2}},\"type\":\"histogram\"}],\"histogram2d\":[{\"colorbar\":{\"outlinewidth\":0,\"ticks\":\"\"},\"colorscale\":[[0.0,\"#0d0887\"],[0.1111111111111111,\"#46039f\"],[0.2222222222222222,\"#7201a8\"],[0.3333333333333333,\"#9c179e\"],[0.4444444444444444,\"#bd3786\"],[0.5555555555555556,\"#d8576b\"],[0.6666666666666666,\"#ed7953\"],[0.7777777777777778,\"#fb9f3a\"],[0.8888888888888888,\"#fdca26\"],[1.0,\"#f0f921\"]],\"type\":\"histogram2d\"}],\"histogram2dcontour\":[{\"colorbar\":{\"outlinewidth\":0,\"ticks\":\"\"},\"colorscale\":[[0.0,\"#0d0887\"],[0.1111111111111111,\"#46039f\"],[0.2222222222222222,\"#7201a8\"],[0.3333333333333333,\"#9c179e\"],[0.4444444444444444,\"#bd3786\"],[0.5555555555555556,\"#d8576b\"],[0.6666666666666666,\"#ed7953\"],[0.7777777777777778,\"#fb9f3a\"],[0.8888888888888888,\"#fdca26\"],[1.0,\"#f0f921\"]],\"type\":\"histogram2dcontour\"}],\"mesh3d\":[{\"colorbar\":{\"outlinewidth\":0,\"ticks\":\"\"},\"type\":\"mesh3d\"}],\"parcoords\":[{\"line\":{\"colorbar\":{\"outlinewidth\":0,\"ticks\":\"\"}},\"type\":\"parcoords\"}],\"pie\":[{\"automargin\":true,\"type\":\"pie\"}],\"scatter\":[{\"marker\":{\"colorbar\":{\"outlinewidth\":0,\"ticks\":\"\"}},\"type\":\"scatter\"}],\"scatter3d\":[{\"line\":{\"colorbar\":{\"outlinewidth\":0,\"ticks\":\"\"}},\"marker\":{\"colorbar\":{\"outlinewidth\":0,\"ticks\":\"\"}},\"type\":\"scatter3d\"}],\"scattercarpet\":[{\"marker\":{\"colorbar\":{\"outlinewidth\":0,\"ticks\":\"\"}},\"type\":\"scattercarpet\"}],\"scattergeo\":[{\"marker\":{\"colorbar\":{\"outlinewidth\":0,\"ticks\":\"\"}},\"type\":\"scattergeo\"}],\"scattergl\":[{\"marker\":{\"colorbar\":{\"outlinewidth\":0,\"ticks\":\"\"}},\"type\":\"scattergl\"}],\"scattermapbox\":[{\"marker\":{\"colorbar\":{\"outlinewidth\":0,\"ticks\":\"\"}},\"type\":\"scattermapbox\"}],\"scatterpolar\":[{\"marker\":{\"colorbar\":{\"outlinewidth\":0,\"ticks\":\"\"}},\"type\":\"scatterpolar\"}],\"scatterpolargl\":[{\"marker\":{\"colorbar\":{\"outlinewidth\":0,\"ticks\":\"\"}},\"type\":\"scatterpolargl\"}],\"scatterternary\":[{\"marker\":{\"colorbar\":{\"outlinewidth\":0,\"ticks\":\"\"}},\"type\":\"scatterternary\"}],\"surface\":[{\"colorbar\":{\"outlinewidth\":0,\"ticks\":\"\"},\"colorscale\":[[0.0,\"#0d0887\"],[0.1111111111111111,\"#46039f\"],[0.2222222222222222,\"#7201a8\"],[0.3333333333333333,\"#9c179e\"],[0.4444444444444444,\"#bd3786\"],[0.5555555555555556,\"#d8576b\"],[0.6666666666666666,\"#ed7953\"],[0.7777777777777778,\"#fb9f3a\"],[0.8888888888888888,\"#fdca26\"],[1.0,\"#f0f921\"]],\"type\":\"surface\"}],\"table\":[{\"cells\":{\"fill\":{\"color\":\"#EBF0F8\"},\"line\":{\"color\":\"white\"}},\"header\":{\"fill\":{\"color\":\"#C8D4E3\"},\"line\":{\"color\":\"white\"}},\"type\":\"table\"}]},\"layout\":{\"annotationdefaults\":{\"arrowcolor\":\"#2a3f5f\",\"arrowhead\":0,\"arrowwidth\":1},\"autotypenumbers\":\"strict\",\"coloraxis\":{\"colorbar\":{\"outlinewidth\":0,\"ticks\":\"\"}},\"colorscale\":{\"diverging\":[[0,\"#8e0152\"],[0.1,\"#c51b7d\"],[0.2,\"#de77ae\"],[0.3,\"#f1b6da\"],[0.4,\"#fde0ef\"],[0.5,\"#f7f7f7\"],[0.6,\"#e6f5d0\"],[0.7,\"#b8e186\"],[0.8,\"#7fbc41\"],[0.9,\"#4d9221\"],[1,\"#276419\"]],\"sequential\":[[0.0,\"#0d0887\"],[0.1111111111111111,\"#46039f\"],[0.2222222222222222,\"#7201a8\"],[0.3333333333333333,\"#9c179e\"],[0.4444444444444444,\"#bd3786\"],[0.5555555555555556,\"#d8576b\"],[0.6666666666666666,\"#ed7953\"],[0.7777777777777778,\"#fb9f3a\"],[0.8888888888888888,\"#fdca26\"],[1.0,\"#f0f921\"]],\"sequentialminus\":[[0.0,\"#0d0887\"],[0.1111111111111111,\"#46039f\"],[0.2222222222222222,\"#7201a8\"],[0.3333333333333333,\"#9c179e\"],[0.4444444444444444,\"#bd3786\"],[0.5555555555555556,\"#d8576b\"],[0.6666666666666666,\"#ed7953\"],[0.7777777777777778,\"#fb9f3a\"],[0.8888888888888888,\"#fdca26\"],[1.0,\"#f0f921\"]]},\"colorway\":[\"#636efa\",\"#EF553B\",\"#00cc96\",\"#ab63fa\",\"#FFA15A\",\"#19d3f3\",\"#FF6692\",\"#B6E880\",\"#FF97FF\",\"#FECB52\"],\"font\":{\"color\":\"#2a3f5f\"},\"geo\":{\"bgcolor\":\"white\",\"lakecolor\":\"white\",\"landcolor\":\"#E5ECF6\",\"showlakes\":true,\"showland\":true,\"subunitcolor\":\"white\"},\"hoverlabel\":{\"align\":\"left\"},\"hovermode\":\"closest\",\"mapbox\":{\"style\":\"light\"},\"paper_bgcolor\":\"white\",\"plot_bgcolor\":\"#E5ECF6\",\"polar\":{\"angularaxis\":{\"gridcolor\":\"white\",\"linecolor\":\"white\",\"ticks\":\"\"},\"bgcolor\":\"#E5ECF6\",\"radialaxis\":{\"gridcolor\":\"white\",\"linecolor\":\"white\",\"ticks\":\"\"}},\"scene\":{\"xaxis\":{\"backgroundcolor\":\"#E5ECF6\",\"gridcolor\":\"white\",\"gridwidth\":2,\"linecolor\":\"white\",\"showbackground\":true,\"ticks\":\"\",\"zerolinecolor\":\"white\"},\"yaxis\":{\"backgroundcolor\":\"#E5ECF6\",\"gridcolor\":\"white\",\"gridwidth\":2,\"linecolor\":\"white\",\"showbackground\":true,\"ticks\":\"\",\"zerolinecolor\":\"white\"},\"zaxis\":{\"backgroundcolor\":\"#E5ECF6\",\"gridcolor\":\"white\",\"gridwidth\":2,\"linecolor\":\"white\",\"showbackground\":true,\"ticks\":\"\",\"zerolinecolor\":\"white\"}},\"shapedefaults\":{\"line\":{\"color\":\"#2a3f5f\"}},\"ternary\":{\"aaxis\":{\"gridcolor\":\"white\",\"linecolor\":\"white\",\"ticks\":\"\"},\"baxis\":{\"gridcolor\":\"white\",\"linecolor\":\"white\",\"ticks\":\"\"},\"bgcolor\":\"#E5ECF6\",\"caxis\":{\"gridcolor\":\"white\",\"linecolor\":\"white\",\"ticks\":\"\"}},\"title\":{\"x\":0.05},\"xaxis\":{\"automargin\":true,\"gridcolor\":\"white\",\"linecolor\":\"white\",\"ticks\":\"\",\"title\":{\"standoff\":15},\"zerolinecolor\":\"white\",\"zerolinewidth\":2},\"yaxis\":{\"automargin\":true,\"gridcolor\":\"white\",\"linecolor\":\"white\",\"ticks\":\"\",\"title\":{\"standoff\":15},\"zerolinecolor\":\"white\",\"zerolinewidth\":2}}}},                        {\"responsive\": true}                    ).then(function(){\n",
              "                            \n",
              "var gd = document.getElementById('acdc03dc-3d43-4db8-9228-6f59c79df63c');\n",
              "var x = new MutationObserver(function (mutations, observer) {{\n",
              "        var display = window.getComputedStyle(gd).display;\n",
              "        if (!display || display === 'none') {{\n",
              "            console.log([gd, 'removed!']);\n",
              "            Plotly.purge(gd);\n",
              "            observer.disconnect();\n",
              "        }}\n",
              "}});\n",
              "\n",
              "// Listen for the removal of the full notebook cells\n",
              "var notebookContainer = gd.closest('#notebook-container');\n",
              "if (notebookContainer) {{\n",
              "    x.observe(notebookContainer, {childList: true});\n",
              "}}\n",
              "\n",
              "// Listen for the clearing of the current output cell\n",
              "var outputEl = gd.closest('.output');\n",
              "if (outputEl) {{\n",
              "    x.observe(outputEl, {childList: true});\n",
              "}}\n",
              "\n",
              "                        })                };                            </script>        </div>\n",
              "</body>\n",
              "</html>"
            ]
          },
          "metadata": {},
          "output_type": "display_data"
        }
      ],
      "source": [
        "import plotly.graph_objects as go\n",
        "\n",
        "#cria uma figura\n",
        "fig = go.Figure()\n",
        "\n",
        "#linha com os dados de teste\n",
        "fig.add_trace(go.Scatter(x=df_results.index, y=df_results.valor_real, mode='lines+markers', name='Valor Real'))\n",
        "\n",
        "#linha com os dados do baseline\n",
        "fig.add_trace(go.Scatter(x=df_results.index, y=df_results.valor_predito_baseline, mode='lines+markers', name='Baseline'))\n",
        "\n",
        "#linha com os dados preditos pela regressão linear\n",
        "fig.add_trace(go.Scatter(x=df_results.index, y=df_results.valor_predito_reg_linear, mode='lines', line= dict(color = '#FEBFB3'), name='Valor Predito Regressão Linear'))\n",
        "\n",
        "#linh com os dados prefeitos pela árvore de decisão\n",
        "fig.add_trace(go.Scatter(x=df_results.index, y=df_results.valor_predito_arvore, mode='lines+markers', name='Valor Predito Arvore'))\n",
        "\n",
        "\n",
        "#Plota a figura\n",
        "fig.show()"
      ]
    },
    {
      "cell_type": "code",
      "execution_count": null,
      "metadata": {
        "id": "U_w8_UKfvm7V"
      },
      "outputs": [],
      "source": [
        "\n",
        "# calcula a métrica rmse\n",
        "rmse = (np.sqrt(mean_squared_error(y_test, y_pred)))"
      ]
    },
    {
      "cell_type": "code",
      "execution_count": null,
      "metadata": {
        "colab": {
          "base_uri": "https://localhost:8080/"
        },
        "id": "ctAhh5UTwHHd",
        "outputId": "0f65dfc8-0f8e-49d3-8def-c158a9713fa2"
      },
      "outputs": [
        {
          "name": "stdout",
          "output_type": "stream",
          "text": [
            "Performance do modelo avaliado com os dados de teste:\n",
            "\n",
            "RMSE é: 5.4803782218516135\n"
          ]
        }
      ],
      "source": [
        "#imprime a performance do modelo\n",
        "print('Performance do modelo avaliado com os dados de teste:')\n",
        "print(f'\\nRMSE é: {rmse}')"
      ]
    },
    {
      "cell_type": "markdown",
      "metadata": {
        "id": "FQOinImOw7US"
      },
      "source": [
        "##Random Forest\n",
        "\n",
        "* Método ensemble\n",
        "* Mais robustez para os modelos"
      ]
    },
    {
      "cell_type": "code",
      "execution_count": null,
      "metadata": {
        "id": "u_4Gt52gwsib"
      },
      "outputs": [],
      "source": [
        "# importa o método RandomForestRegressor\n",
        "from sklearn.ensemble import RandomForestRegressor"
      ]
    },
    {
      "cell_type": "code",
      "execution_count": null,
      "metadata": {
        "id": "DaHE26n9xZrb"
      },
      "outputs": [],
      "source": [
        "#cria o objeto rf_regressor\n",
        "rf_regressor = RandomForestRegressor()"
      ]
    },
    {
      "cell_type": "code",
      "execution_count": null,
      "metadata": {
        "colab": {
          "base_uri": "https://localhost:8080/"
        },
        "id": "L27VA0OlxkvX",
        "outputId": "8517be37-fe8f-49c1-fc60-ba4c8b1576d3"
      },
      "outputs": [
        {
          "data": {
            "text/plain": [
              "RandomForestRegressor()"
            ]
          },
          "execution_count": 91,
          "metadata": {},
          "output_type": "execute_result"
        }
      ],
      "source": [
        "#treina o algoritmo\n",
        "rf_regressor.fit(x_train, y_train)"
      ]
    },
    {
      "cell_type": "code",
      "execution_count": null,
      "metadata": {
        "id": "59C21jw8x2Pi"
      },
      "outputs": [],
      "source": [
        "# avaliação do modelo nos dados de teste\n",
        "y_pred = rf_regressor.predict(x_test)"
      ]
    },
    {
      "cell_type": "code",
      "execution_count": null,
      "metadata": {
        "id": "JfIa3i8eyMok"
      },
      "outputs": [],
      "source": [
        "#adiciona os resultados no dataframe df_results\n",
        "df_results['valor_predito_random_forest'] = rf_regressor.predict(x_test)"
      ]
    },
    {
      "cell_type": "code",
      "execution_count": null,
      "metadata": {
        "id": "baPeSYvSyn_v"
      },
      "outputs": [],
      "source": [
        "#calcula a métrica rmse\n",
        "rmse = (np.sqrt(mean_squared_error(y_test, y_pred)))"
      ]
    },
    {
      "cell_type": "code",
      "execution_count": null,
      "metadata": {
        "colab": {
          "base_uri": "https://localhost:8080/"
        },
        "id": "k2zMwlpSy4iA",
        "outputId": "55f53fcb-aadb-4bf3-b7ae-01462956cfea"
      },
      "outputs": [
        {
          "name": "stdout",
          "output_type": "stream",
          "text": [
            "Performance do modelo com os dados do teste:\n",
            "\n",
            "RMSE é: 3.9729236569355773\n"
          ]
        }
      ],
      "source": [
        "print('Performance do modelo com os dados do teste:')\n",
        "print(f'\\nRMSE é: {rmse}')"
      ]
    },
    {
      "cell_type": "code",
      "execution_count": null,
      "metadata": {
        "colab": {
          "base_uri": "https://localhost:8080/",
          "height": 542
        },
        "id": "4roIXyLNzKmK",
        "outputId": "b3432ed2-5f0d-4316-f6a1-bd08a0d9e06d"
      },
      "outputs": [
        {
          "data": {
            "text/html": [
              "<html>\n",
              "<head><meta charset=\"utf-8\" /></head>\n",
              "<body>\n",
              "    <div>            <script src=\"https://cdnjs.cloudflare.com/ajax/libs/mathjax/2.7.5/MathJax.js?config=TeX-AMS-MML_SVG\"></script><script type=\"text/javascript\">if (window.MathJax) {MathJax.Hub.Config({SVG: {font: \"STIX-Web\"}});}</script>                <script type=\"text/javascript\">window.PlotlyConfig = {MathJaxConfig: 'local'};</script>\n",
              "        <script src=\"https://cdn.plot.ly/plotly-2.8.3.min.js\"></script>                <div id=\"0ad6bc4b-c043-42b1-9baa-c02a186724d5\" class=\"plotly-graph-div\" style=\"height:525px; width:100%;\"></div>            <script type=\"text/javascript\">                                    window.PLOTLYENV=window.PLOTLYENV || {};                                    if (document.getElementById(\"0ad6bc4b-c043-42b1-9baa-c02a186724d5\")) {                    Plotly.newPlot(                        \"0ad6bc4b-c043-42b1-9baa-c02a186724d5\",                        [{\"mode\":\"lines+markers\",\"name\":\"Valor Real\",\"x\":[0,1,2,3,4,5,6,7,8,9,10,11,12,13,14,15,16,17,18,19,20,21,22,23,24,25,26,27,28,29,30,31,32,33,34,35,36,37,38,39,40,41,42,43,44,45,46,47,48,49,50,51,52,53,54,55,56,57,58,59,60,61,62,63,64,65,66,67,68,69,70,71,72,73,74,75,76,77,78,79,80,81,82,83,84,85,86,87,88,89,90,91,92,93,94,95,96,97,98],\"y\":[24.3,12.7,21.4,19.9,25.2,29.6,12.3,17.2,34.9,31.6,24.7,24.1,33.2,20.1,30.5,19.2,30.3,15.4,22.1,16.3,21.5,23.9,17.3,20.1,21.7,24.4,8.5,15.0,21.9,13.6,35.2,7.4,24.8,28.6,29.0,24.5,14.1,33.1,11.7,10.4,5.0,19.6,11.8,23.9,17.2,13.5,13.8,24.4,19.7,17.8,27.9,22.2,22.3,18.4,28.2,14.0,24.7,43.8,48.5,25.0,22.6,21.2,20.6,23.8,19.9,15.0,16.7,17.2,13.1,29.8,22.6,12.8,22.6,19.4,15.1,17.1,19.4,14.2,20.6,19.6,19.6,23.0,17.6,18.5,25.0,41.3,9.5,22.6,32.7,19.8,13.1,15.2,33.4,39.8,25.0,20.5,10.4,20.4,14.4],\"type\":\"scatter\"},{\"mode\":\"lines+markers\",\"name\":\"Baseline\",\"x\":[0,1,2,3,4,5,6,7,8,9,10,11,12,13,14,15,16,17,18,19,20,21,22,23,24,25,26,27,28,29,30,31,32,33,34,35,36,37,38,39,40,41,42,43,44,45,46,47,48,49,50,51,52,53,54,55,56,57,58,59,60,61,62,63,64,65,66,67,68,69,70,71,72,73,74,75,76,77,78,79,80,81,82,83,84,85,86,87,88,89,90,91,92,93,94,95,96,97,98],\"y\":[20.20070588235294,20.20070588235294,20.20070588235294,20.20070588235294,20.20070588235294,20.20070588235294,20.20070588235294,20.20070588235294,35.71923076923077,35.71923076923077,20.20070588235294,20.20070588235294,35.71923076923077,20.20070588235294,20.20070588235294,20.20070588235294,35.71923076923077,20.20070588235294,20.20070588235294,20.20070588235294,20.20070588235294,20.20070588235294,20.20070588235294,20.20070588235294,20.20070588235294,20.20070588235294,20.20070588235294,35.71923076923077,35.71923076923077,20.20070588235294,35.71923076923077,20.20070588235294,20.20070588235294,20.20070588235294,35.71923076923077,20.20070588235294,20.20070588235294,20.20070588235294,20.20070588235294,20.20070588235294,20.20070588235294,20.20070588235294,20.20070588235294,20.20070588235294,20.20070588235294,20.20070588235294,20.20070588235294,20.20070588235294,20.20070588235294,20.20070588235294,20.20070588235294,20.20070588235294,20.20070588235294,20.20070588235294,20.20070588235294,20.20070588235294,20.20070588235294,35.71923076923077,35.71923076923077,20.20070588235294,20.20070588235294,20.20070588235294,20.20070588235294,20.20070588235294,20.20070588235294,20.20070588235294,20.20070588235294,20.20070588235294,20.20070588235294,20.20070588235294,20.20070588235294,20.20070588235294,20.20070588235294,20.20070588235294,20.20070588235294,20.20070588235294,20.20070588235294,20.20070588235294,20.20070588235294,20.20070588235294,20.20070588235294,20.20070588235294,20.20070588235294,20.20070588235294,20.20070588235294,20.20070588235294,20.20070588235294,20.20070588235294,35.71923076923077,20.20070588235294,20.20070588235294,20.20070588235294,35.71923076923077,35.71923076923077,35.71923076923077,20.20070588235294,20.20070588235294,20.20070588235294,20.20070588235294],\"type\":\"scatter\"},{\"line\":{\"color\":\"#FEBFB3\"},\"mode\":\"lines\",\"name\":\"Valor Predito Regress\\u00e3o Linear\",\"x\":[0,1,2,3,4,5,6,7,8,9,10,11,12,13,14,15,16,17,18,19,20,21,22,23,24,25,26,27,28,29,30,31,32,33,34,35,36,37,38,39,40,41,42,43,44,45,46,47,48,49,50,51,52,53,54,55,56,57,58,59,60,61,62,63,64,65,66,67,68,69,70,71,72,73,74,75,76,77,78,79,80,81,82,83,84,85,86,87,88,89,90,91,92,93,94,95,96,97,98],\"y\":[24.747301307228135,12.102496966368832,24.373923519626725,18.937265682951764,26.20752257878653,27.398456809535524,11.733926203027355,10.650341153800532,31.760249016788734,29.70322489164358,28.4457561580737,27.51514841254148,29.97444086497436,16.512340998967957,30.229519498315113,24.532916127782862,33.13552369137317,16.905528812624993,26.11244197503393,12.287382021656015,23.160681433009046,26.666678548365915,11.815062294290154,23.95541824879878,21.1584676917943,23.66390750391842,13.93809539911059,21.897085299878256,31.157041049033722,14.318637172792553,31.396810923319915,7.713221217816393,26.601193966068106,27.75939344883149,33.249604423507805,24.489055037883723,14.96742146304338,29.15968785354721,13.129548989864647,15.122676923050335,7.854198978636784,19.394730589414756,12.279132244247549,23.929726875385064,20.69859376171175,16.509556305738233,14.804441952615168,26.335458429792958,21.98627530470065,19.923776444362616,17.199963311091736,22.349187123913456,27.658463088091573,20.956190654457092,26.417921898845293,13.734851225124197,26.395825751047735,31.19474128402596,33.81033795577166,25.033522367287546,23.92397020342245,23.70196141775695,22.30062806964815,21.282872341814404,18.69618958205701,14.977120998106248,18.23655329601185,13.7918477868578,17.836242247009125,20.656835452869206,27.49093712224481,12.378445718682372,26.086226878007786,19.062261398949577,15.283585594718495,22.339405824698478,24.425060341120695,18.061279207187145,21.915652190030535,20.756251064948856,17.8839757545896,21.39886664697137,20.45309214634941,17.730977948334136,28.47533896385276,28.311507016035634,12.542138110289699,21.11740813772789,32.44581815254697,26.62243130161027,15.52791408675742,14.351996920493795,29.528562966071558,29.41208701617345,25.7686178625903,15.407661466982448,8.554352866054995,20.446893697353083,6.277305836626482],\"type\":\"scatter\"},{\"mode\":\"lines+markers\",\"name\":\"Valor Predito Arvore\",\"x\":[0,1,2,3,4,5,6,7,8,9,10,11,12,13,14,15,16,17,18,19,20,21,22,23,24,25,26,27,28,29,30,31,32,33,34,35,36,37,38,39,40,41,42,43,44,45,46,47,48,49,50,51,52,53,54,55,56,57,58,59,60,61,62,63,64,65,66,67,68,69,70,71,72,73,74,75,76,77,78,79,80,81,82,83,84,85,86,87,88,89,90,91,92,93,94,95,96,97,98],\"y\":[26.2,23.2,22.8,20.3,23.8,27.9,11.3,19.7,36.4,31.7,26.6,22.5,34.9,19.1,29.8,19.3,34.6,17.1,25.0,19.7,15.3,30.1,16.5,29.6,20.0,16.2,12.5,31.0,48.8,18.8,34.7,7.2,22.0,30.1,32.9,25.0,27.5,29.4,12.6,19.1,5.6,19.2,13.4,26.6,16.1,13.2,18.4,26.2,19.3,14.1,16.1,19.3,23.2,21.0,23.9,13.3,25.3,36.4,42.3,17.4,18.7,19.8,16.5,17.4,14.3,10.9,12.6,19.7,15.6,20.2,36.2,17.1,22.0,15.6,18.4,19.3,22.2,18.4,19.6,15.3,18.2,19.5,16.1,19.5,29.4,27.0,11.3,17.4,32.2,22.0,16.7,18.8,36.1,37.9,28.7,18.8,8.3,19.8,13.3],\"type\":\"scatter\"},{\"mode\":\"lines+markers\",\"name\":\"Valor Predito Random Forest\",\"x\":[0,1,2,3,4,5,6,7,8,9,10,11,12,13,14,15,16,17,18,19,20,21,22,23,24,25,26,27,28,29,30,31,32,33,34,35,36,37,38,39,40,41,42,43,44,45,46,47,48,49,50,51,52,53,54,55,56,57,58,59,60,61,62,63,64,65,66,67,68,69,70,71,72,73,74,75,76,77,78,79,80,81,82,83,84,85,86,87,88,89,90,91,92,93,94,95,96,97,98],\"y\":[23.71099999999999,16.795999999999996,24.352999999999994,20.348000000000017,24.97499999999999,28.13700000000001,11.150999999999996,14.526999999999997,38.82200000000004,35.224999999999966,25.546999999999993,27.63300000000002,33.57899999999999,17.893999999999995,32.479000000000006,21.36499999999998,34.435999999999986,15.251999999999986,24.896999999999984,17.819000000000006,18.669999999999987,25.791999999999994,18.293,24.784999999999997,22.092,21.01,13.968999999999996,20.342000000000017,40.82499999999999,16.881999999999994,35.37099999999997,8.020000000000007,21.676000000000016,26.958999999999975,35.633999999999986,23.98199999999999,17.338,30.548999999999996,14.311000000000003,11.400000000000002,6.361000000000005,19.772000000000006,10.786999999999992,22.85000000000001,19.75100000000001,14.364000000000008,16.226999999999983,25.043999999999993,21.175,14.793999999999993,19.155999999999995,19.793000000000003,23.48500000000001,19.501000000000012,25.426000000000027,14.129999999999995,25.445,38.57100000000004,38.66100000000004,26.01100000000001,23.787999999999997,20.417999999999992,17.67300000000001,20.344999999999985,18.043000000000003,21.12699999999998,14.55900000000001,17.530000000000012,15.542999999999985,20.973000000000006,28.824000000000016,12.22199999999999,24.059000000000005,16.496999999999982,14.857999999999997,21.53499999999999,21.489000000000004,15.386000000000003,25.03600000000001,17.932999999999986,18.98600000000001,20.022999999999996,19.394,20.024999999999995,30.166999999999998,26.881999999999998,10.548,20.39099999999999,33.89500000000001,23.012000000000015,14.634,16.906999999999996,34.92199999999997,33.62699999999998,33.30299999999997,19.598999999999986,7.637,19.89599999999998,13.587999999999992],\"type\":\"scatter\"}],                        {\"template\":{\"data\":{\"bar\":[{\"error_x\":{\"color\":\"#2a3f5f\"},\"error_y\":{\"color\":\"#2a3f5f\"},\"marker\":{\"line\":{\"color\":\"#E5ECF6\",\"width\":0.5},\"pattern\":{\"fillmode\":\"overlay\",\"size\":10,\"solidity\":0.2}},\"type\":\"bar\"}],\"barpolar\":[{\"marker\":{\"line\":{\"color\":\"#E5ECF6\",\"width\":0.5},\"pattern\":{\"fillmode\":\"overlay\",\"size\":10,\"solidity\":0.2}},\"type\":\"barpolar\"}],\"carpet\":[{\"aaxis\":{\"endlinecolor\":\"#2a3f5f\",\"gridcolor\":\"white\",\"linecolor\":\"white\",\"minorgridcolor\":\"white\",\"startlinecolor\":\"#2a3f5f\"},\"baxis\":{\"endlinecolor\":\"#2a3f5f\",\"gridcolor\":\"white\",\"linecolor\":\"white\",\"minorgridcolor\":\"white\",\"startlinecolor\":\"#2a3f5f\"},\"type\":\"carpet\"}],\"choropleth\":[{\"colorbar\":{\"outlinewidth\":0,\"ticks\":\"\"},\"type\":\"choropleth\"}],\"contour\":[{\"colorbar\":{\"outlinewidth\":0,\"ticks\":\"\"},\"colorscale\":[[0.0,\"#0d0887\"],[0.1111111111111111,\"#46039f\"],[0.2222222222222222,\"#7201a8\"],[0.3333333333333333,\"#9c179e\"],[0.4444444444444444,\"#bd3786\"],[0.5555555555555556,\"#d8576b\"],[0.6666666666666666,\"#ed7953\"],[0.7777777777777778,\"#fb9f3a\"],[0.8888888888888888,\"#fdca26\"],[1.0,\"#f0f921\"]],\"type\":\"contour\"}],\"contourcarpet\":[{\"colorbar\":{\"outlinewidth\":0,\"ticks\":\"\"},\"type\":\"contourcarpet\"}],\"heatmap\":[{\"colorbar\":{\"outlinewidth\":0,\"ticks\":\"\"},\"colorscale\":[[0.0,\"#0d0887\"],[0.1111111111111111,\"#46039f\"],[0.2222222222222222,\"#7201a8\"],[0.3333333333333333,\"#9c179e\"],[0.4444444444444444,\"#bd3786\"],[0.5555555555555556,\"#d8576b\"],[0.6666666666666666,\"#ed7953\"],[0.7777777777777778,\"#fb9f3a\"],[0.8888888888888888,\"#fdca26\"],[1.0,\"#f0f921\"]],\"type\":\"heatmap\"}],\"heatmapgl\":[{\"colorbar\":{\"outlinewidth\":0,\"ticks\":\"\"},\"colorscale\":[[0.0,\"#0d0887\"],[0.1111111111111111,\"#46039f\"],[0.2222222222222222,\"#7201a8\"],[0.3333333333333333,\"#9c179e\"],[0.4444444444444444,\"#bd3786\"],[0.5555555555555556,\"#d8576b\"],[0.6666666666666666,\"#ed7953\"],[0.7777777777777778,\"#fb9f3a\"],[0.8888888888888888,\"#fdca26\"],[1.0,\"#f0f921\"]],\"type\":\"heatmapgl\"}],\"histogram\":[{\"marker\":{\"pattern\":{\"fillmode\":\"overlay\",\"size\":10,\"solidity\":0.2}},\"type\":\"histogram\"}],\"histogram2d\":[{\"colorbar\":{\"outlinewidth\":0,\"ticks\":\"\"},\"colorscale\":[[0.0,\"#0d0887\"],[0.1111111111111111,\"#46039f\"],[0.2222222222222222,\"#7201a8\"],[0.3333333333333333,\"#9c179e\"],[0.4444444444444444,\"#bd3786\"],[0.5555555555555556,\"#d8576b\"],[0.6666666666666666,\"#ed7953\"],[0.7777777777777778,\"#fb9f3a\"],[0.8888888888888888,\"#fdca26\"],[1.0,\"#f0f921\"]],\"type\":\"histogram2d\"}],\"histogram2dcontour\":[{\"colorbar\":{\"outlinewidth\":0,\"ticks\":\"\"},\"colorscale\":[[0.0,\"#0d0887\"],[0.1111111111111111,\"#46039f\"],[0.2222222222222222,\"#7201a8\"],[0.3333333333333333,\"#9c179e\"],[0.4444444444444444,\"#bd3786\"],[0.5555555555555556,\"#d8576b\"],[0.6666666666666666,\"#ed7953\"],[0.7777777777777778,\"#fb9f3a\"],[0.8888888888888888,\"#fdca26\"],[1.0,\"#f0f921\"]],\"type\":\"histogram2dcontour\"}],\"mesh3d\":[{\"colorbar\":{\"outlinewidth\":0,\"ticks\":\"\"},\"type\":\"mesh3d\"}],\"parcoords\":[{\"line\":{\"colorbar\":{\"outlinewidth\":0,\"ticks\":\"\"}},\"type\":\"parcoords\"}],\"pie\":[{\"automargin\":true,\"type\":\"pie\"}],\"scatter\":[{\"marker\":{\"colorbar\":{\"outlinewidth\":0,\"ticks\":\"\"}},\"type\":\"scatter\"}],\"scatter3d\":[{\"line\":{\"colorbar\":{\"outlinewidth\":0,\"ticks\":\"\"}},\"marker\":{\"colorbar\":{\"outlinewidth\":0,\"ticks\":\"\"}},\"type\":\"scatter3d\"}],\"scattercarpet\":[{\"marker\":{\"colorbar\":{\"outlinewidth\":0,\"ticks\":\"\"}},\"type\":\"scattercarpet\"}],\"scattergeo\":[{\"marker\":{\"colorbar\":{\"outlinewidth\":0,\"ticks\":\"\"}},\"type\":\"scattergeo\"}],\"scattergl\":[{\"marker\":{\"colorbar\":{\"outlinewidth\":0,\"ticks\":\"\"}},\"type\":\"scattergl\"}],\"scattermapbox\":[{\"marker\":{\"colorbar\":{\"outlinewidth\":0,\"ticks\":\"\"}},\"type\":\"scattermapbox\"}],\"scatterpolar\":[{\"marker\":{\"colorbar\":{\"outlinewidth\":0,\"ticks\":\"\"}},\"type\":\"scatterpolar\"}],\"scatterpolargl\":[{\"marker\":{\"colorbar\":{\"outlinewidth\":0,\"ticks\":\"\"}},\"type\":\"scatterpolargl\"}],\"scatterternary\":[{\"marker\":{\"colorbar\":{\"outlinewidth\":0,\"ticks\":\"\"}},\"type\":\"scatterternary\"}],\"surface\":[{\"colorbar\":{\"outlinewidth\":0,\"ticks\":\"\"},\"colorscale\":[[0.0,\"#0d0887\"],[0.1111111111111111,\"#46039f\"],[0.2222222222222222,\"#7201a8\"],[0.3333333333333333,\"#9c179e\"],[0.4444444444444444,\"#bd3786\"],[0.5555555555555556,\"#d8576b\"],[0.6666666666666666,\"#ed7953\"],[0.7777777777777778,\"#fb9f3a\"],[0.8888888888888888,\"#fdca26\"],[1.0,\"#f0f921\"]],\"type\":\"surface\"}],\"table\":[{\"cells\":{\"fill\":{\"color\":\"#EBF0F8\"},\"line\":{\"color\":\"white\"}},\"header\":{\"fill\":{\"color\":\"#C8D4E3\"},\"line\":{\"color\":\"white\"}},\"type\":\"table\"}]},\"layout\":{\"annotationdefaults\":{\"arrowcolor\":\"#2a3f5f\",\"arrowhead\":0,\"arrowwidth\":1},\"autotypenumbers\":\"strict\",\"coloraxis\":{\"colorbar\":{\"outlinewidth\":0,\"ticks\":\"\"}},\"colorscale\":{\"diverging\":[[0,\"#8e0152\"],[0.1,\"#c51b7d\"],[0.2,\"#de77ae\"],[0.3,\"#f1b6da\"],[0.4,\"#fde0ef\"],[0.5,\"#f7f7f7\"],[0.6,\"#e6f5d0\"],[0.7,\"#b8e186\"],[0.8,\"#7fbc41\"],[0.9,\"#4d9221\"],[1,\"#276419\"]],\"sequential\":[[0.0,\"#0d0887\"],[0.1111111111111111,\"#46039f\"],[0.2222222222222222,\"#7201a8\"],[0.3333333333333333,\"#9c179e\"],[0.4444444444444444,\"#bd3786\"],[0.5555555555555556,\"#d8576b\"],[0.6666666666666666,\"#ed7953\"],[0.7777777777777778,\"#fb9f3a\"],[0.8888888888888888,\"#fdca26\"],[1.0,\"#f0f921\"]],\"sequentialminus\":[[0.0,\"#0d0887\"],[0.1111111111111111,\"#46039f\"],[0.2222222222222222,\"#7201a8\"],[0.3333333333333333,\"#9c179e\"],[0.4444444444444444,\"#bd3786\"],[0.5555555555555556,\"#d8576b\"],[0.6666666666666666,\"#ed7953\"],[0.7777777777777778,\"#fb9f3a\"],[0.8888888888888888,\"#fdca26\"],[1.0,\"#f0f921\"]]},\"colorway\":[\"#636efa\",\"#EF553B\",\"#00cc96\",\"#ab63fa\",\"#FFA15A\",\"#19d3f3\",\"#FF6692\",\"#B6E880\",\"#FF97FF\",\"#FECB52\"],\"font\":{\"color\":\"#2a3f5f\"},\"geo\":{\"bgcolor\":\"white\",\"lakecolor\":\"white\",\"landcolor\":\"#E5ECF6\",\"showlakes\":true,\"showland\":true,\"subunitcolor\":\"white\"},\"hoverlabel\":{\"align\":\"left\"},\"hovermode\":\"closest\",\"mapbox\":{\"style\":\"light\"},\"paper_bgcolor\":\"white\",\"plot_bgcolor\":\"#E5ECF6\",\"polar\":{\"angularaxis\":{\"gridcolor\":\"white\",\"linecolor\":\"white\",\"ticks\":\"\"},\"bgcolor\":\"#E5ECF6\",\"radialaxis\":{\"gridcolor\":\"white\",\"linecolor\":\"white\",\"ticks\":\"\"}},\"scene\":{\"xaxis\":{\"backgroundcolor\":\"#E5ECF6\",\"gridcolor\":\"white\",\"gridwidth\":2,\"linecolor\":\"white\",\"showbackground\":true,\"ticks\":\"\",\"zerolinecolor\":\"white\"},\"yaxis\":{\"backgroundcolor\":\"#E5ECF6\",\"gridcolor\":\"white\",\"gridwidth\":2,\"linecolor\":\"white\",\"showbackground\":true,\"ticks\":\"\",\"zerolinecolor\":\"white\"},\"zaxis\":{\"backgroundcolor\":\"#E5ECF6\",\"gridcolor\":\"white\",\"gridwidth\":2,\"linecolor\":\"white\",\"showbackground\":true,\"ticks\":\"\",\"zerolinecolor\":\"white\"}},\"shapedefaults\":{\"line\":{\"color\":\"#2a3f5f\"}},\"ternary\":{\"aaxis\":{\"gridcolor\":\"white\",\"linecolor\":\"white\",\"ticks\":\"\"},\"baxis\":{\"gridcolor\":\"white\",\"linecolor\":\"white\",\"ticks\":\"\"},\"bgcolor\":\"#E5ECF6\",\"caxis\":{\"gridcolor\":\"white\",\"linecolor\":\"white\",\"ticks\":\"\"}},\"title\":{\"x\":0.05},\"xaxis\":{\"automargin\":true,\"gridcolor\":\"white\",\"linecolor\":\"white\",\"ticks\":\"\",\"title\":{\"standoff\":15},\"zerolinecolor\":\"white\",\"zerolinewidth\":2},\"yaxis\":{\"automargin\":true,\"gridcolor\":\"white\",\"linecolor\":\"white\",\"ticks\":\"\",\"title\":{\"standoff\":15},\"zerolinecolor\":\"white\",\"zerolinewidth\":2}}}},                        {\"responsive\": true}                    ).then(function(){\n",
              "                            \n",
              "var gd = document.getElementById('0ad6bc4b-c043-42b1-9baa-c02a186724d5');\n",
              "var x = new MutationObserver(function (mutations, observer) {{\n",
              "        var display = window.getComputedStyle(gd).display;\n",
              "        if (!display || display === 'none') {{\n",
              "            console.log([gd, 'removed!']);\n",
              "            Plotly.purge(gd);\n",
              "            observer.disconnect();\n",
              "        }}\n",
              "}});\n",
              "\n",
              "// Listen for the removal of the full notebook cells\n",
              "var notebookContainer = gd.closest('#notebook-container');\n",
              "if (notebookContainer) {{\n",
              "    x.observe(notebookContainer, {childList: true});\n",
              "}}\n",
              "\n",
              "// Listen for the clearing of the current output cell\n",
              "var outputEl = gd.closest('.output');\n",
              "if (outputEl) {{\n",
              "    x.observe(outputEl, {childList: true});\n",
              "}}\n",
              "\n",
              "                        })                };                            </script>        </div>\n",
              "</body>\n",
              "</html>"
            ]
          },
          "metadata": {},
          "output_type": "display_data"
        }
      ],
      "source": [
        "import plotly.graph_objects as go\n",
        "\n",
        "#cria uma figura\n",
        "fig = go.Figure()\n",
        "\n",
        "#linha com os dados de teste\n",
        "fig.add_trace(go.Scatter(x=df_results.index, y=df_results.valor_real, mode='lines+markers', name='Valor Real'))\n",
        "\n",
        "#linha com os dados do baseline\n",
        "fig.add_trace(go.Scatter(x=df_results.index, y=df_results.valor_predito_baseline, mode='lines+markers', name='Baseline'))\n",
        "\n",
        "#linha com os dados preditos pela regressão linear\n",
        "fig.add_trace(go.Scatter(x=df_results.index, y=df_results.valor_predito_reg_linear, mode='lines', line= dict(color = '#FEBFB3'), name='Valor Predito Regressão Linear'))\n",
        "\n",
        "#linha com os dados prefeitos pela árvore de decisão\n",
        "fig.add_trace(go.Scatter(x=df_results.index, y=df_results.valor_predito_arvore, mode='lines+markers', name='Valor Predito Arvore'))\n",
        "\n",
        "#linha com os dados prefeitos pela árvore de decisão\n",
        "fig.add_trace(go.Scatter(x=df_results.index, y=df_results.valor_predito_random_forest, mode='lines+markers', name='Valor Predito Random Forest'))\n",
        "\n",
        "\n",
        "#Plota a figura\n",
        "fig.show()"
      ]
    },
    {
      "cell_type": "code",
      "execution_count": null,
      "metadata": {
        "id": "8_3UiLn23JI_"
      },
      "outputs": [],
      "source": [
        "#x.to_csv('data.csv', index=False)"
      ]
    },
    {
      "cell_type": "code",
      "execution_count": null,
      "metadata": {
        "id": "RkOZb8KR2bc-"
      },
      "outputs": [],
      "source": [
        "\n",
        "import pandas as pd\n",
        "import streamlit as st\n",
        "import plotly.express as px\n",
        "from sklearn.ensemble import RandomForestRegressor"
      ]
    },
    {
      "cell_type": "code",
      "execution_count": null,
      "metadata": {
        "id": "R9Y_fuLw2mQ4"
      },
      "outputs": [],
      "source": [
        "#funcao para carregar o dataset\n",
        "#@st.cache\n",
        "def get_data():\n",
        "  return pd.read_csv(\"/content/data.csv\")"
      ]
    },
    {
      "cell_type": "code",
      "execution_count": null,
      "metadata": {
        "id": "Hic7rDE54H9n"
      },
      "outputs": [],
      "source": [
        "def train_model():\n",
        "  dados = pd.read_csv(\"/content/data.csv\")\n",
        "  x = dados.drop('MEDV', axis=1)\n",
        "  y = dados['MEDV']\n",
        "  rf_regressor = RandomForestRegressor()\n",
        "  rf_regressor.fit(x,y)\n",
        "  return rf_regressor\n",
        "  #model = rf_regressor"
      ]
    },
    {
      "cell_type": "code",
      "execution_count": null,
      "metadata": {
        "id": "jEdLNXIuXlNz"
      },
      "outputs": [],
      "source": [
        "data = get_data()\n",
        "model = train_model()"
      ]
    },
    {
      "cell_type": "code",
      "execution_count": null,
      "metadata": {
        "colab": {
          "base_uri": "https://localhost:8080/"
        },
        "id": "czBCN-AOYCxM",
        "outputId": "c215c50c-5846-432d-bc57-7eb01976535b"
      },
      "outputs": [
        {
          "output_type": "stream",
          "name": "stderr",
          "text": [
            "2022-05-25 17:24:20.485 \n",
            "  \u001b[33m\u001b[1mWarning:\u001b[0m to view this Streamlit app on a browser, run it with the following\n",
            "  command:\n",
            "\n",
            "    streamlit run /usr/local/lib/python3.7/dist-packages/ipykernel_launcher.py [ARGUMENTS]\n"
          ]
        }
      ],
      "source": [
        "#titulo\n",
        "st.title('Data App - Provendo Valores de Imóveis')\n",
        "\n",
        "#subtitulo\n",
        "st.markdown('Este é um Data App para exibir a solução de machine learning para o problema de predição de valores de imóveis')\n",
        "\n",
        "#verificando o dataset\n",
        "st.subheader('Selecionando apenas um pequeno conjunto de atributos')\n",
        "\n",
        "#atributos para serem exibidos por padrão\n",
        "defaultcols = ['RM', \"PTRATIO\",'LSTAT', 'MEDV']\n",
        "\n",
        "cols = st.multiselect('Atributos', data.columns.tolist(), default=defaultcols)\n",
        "\n",
        "st.dataframe(data[cols].head(10))\n",
        "\n",
        "st.subheader('Distribuição de imóveis por preço')\n",
        "\n",
        "#definindo a faixa de valores\n",
        "faixa_valores = st.slider('faixa de preço', float(data.MEDV.min()), 150., (10.0, 100.0))\n",
        "\n",
        "#filtrando os dados\n",
        "dados2 = data[data['MEDV'].between(left=faixa_valores[0], right=faixa_valores[1])]\n",
        "\n",
        "#plot a distribuição dos dados\n",
        "f = px.histogram(dados2, x='MEDV', nbins=100, title=\"distribuição de preços\")\n",
        "f.update_xaxes(title='MEDV')\n",
        "f.update_yaxes(title='Total Imóveis')\n",
        "st.plotly_chart(f)\n",
        "\n",
        "st.sidebar.subheader('defina os atributos do imóvel para predição')\n",
        "\n",
        "#mapeando dados do usuário para cada atributo\n",
        "crim = st.sidebar.number_input('taxa de criminalidade', value=data.CRIM.mean())\n",
        "indus = st.sidebar.number_input('proporção de hectares de negócio', value=data.INDUS.mean())\n",
        "chas = st.sidebar.selectbox('Faz limite com o rio?', ('Sim','Não'))\n",
        "\n",
        "chas = 1 if chas == 'Sim' else 0\n",
        "\n",
        "nox = st.sidebar.number_input('concentração de óxido de nítrico', value=data.NOX.mean())\n",
        "\n",
        "rm = st.sidebar.number_input('Número de quartos', value=1)\n",
        "\n",
        "ptratio = st.sidebar.number_input('Índice de alunos para professores', value=data.PTRATIO.mean())\n",
        "\n",
        "b = st.sidebar.number_input('Proporção de pessoas com descendencia afro-americana', value=data.B.mean())\n",
        "\n",
        "lstat = st.sidebar.number_input('Porcentagem de status baixo', value=data.LSTAT.mean())\n",
        "\n",
        "#inserindo um botão na tela\n",
        "btn_predict = st.sidebar.button('realizar predição')\n",
        "\n",
        "if btn_predict:\n",
        "  result = model.predict([[crim, indus, chas, nox, rm, ptratio, b, lstat]])\n",
        "  st.subheader('O valor previsto para o imóvel é:')\n",
        "  result = 'US $ '+str(round(result[0]*10,2))\n",
        "  st.write(result)"
      ]
    },
    {
      "cell_type": "code",
      "execution_count": null,
      "metadata": {
        "colab": {
          "base_uri": "https://localhost:8080/"
        },
        "id": "EeM7JQ_l9mU-",
        "outputId": "202a3e5b-419a-402c-f7c7-57be508a3cb1"
      },
      "outputs": [
        {
          "output_type": "stream",
          "name": "stdout",
          "text": [
            "Looking in indexes: https://pypi.org/simple, https://us-python.pkg.dev/colab-wheels/public/simple/\n",
            "Collecting pyngrok==4.1.1\n",
            "  Downloading pyngrok-4.1.1.tar.gz (18 kB)\n",
            "Requirement already satisfied: future in /usr/local/lib/python3.7/dist-packages (from pyngrok==4.1.1) (0.16.0)\n",
            "Requirement already satisfied: PyYAML in /usr/local/lib/python3.7/dist-packages (from pyngrok==4.1.1) (3.13)\n",
            "Building wheels for collected packages: pyngrok\n",
            "  Building wheel for pyngrok (setup.py) ... \u001b[?25l\u001b[?25hdone\n",
            "  Created wheel for pyngrok: filename=pyngrok-4.1.1-py3-none-any.whl size=15983 sha256=8274a04b9573f2495adae0d55c45a430a2f27c2c607cca4e656b1fc902258186\n",
            "  Stored in directory: /root/.cache/pip/wheels/b1/d9/12/045a042fee3127dc40ba6f5df2798aa2df38c414bf533ca765\n",
            "Successfully built pyngrok\n",
            "Installing collected packages: pyngrok\n",
            "Successfully installed pyngrok-4.1.1\n"
          ]
        }
      ],
      "source": [
        "#!wget https://bin.equinox.io/c/4VmDzA7iaHb/ngrok-stable-linux-amd64.zip\n",
        "!pip install pyngrok"
      ]
    },
    {
      "cell_type": "code",
      "execution_count": null,
      "metadata": {
        "colab": {
          "base_uri": "https://localhost:8080/"
        },
        "id": "kMWygj9U_H95",
        "outputId": "0dd4b6ae-495b-4604-da76-344a00b960f1"
      },
      "outputs": [
        {
          "output_type": "stream",
          "name": "stdout",
          "text": [
            "Archive:  ngrok-stable-linux-amd64.zip\n",
            "  inflating: ngrok                   \n"
          ]
        }
      ],
      "source": [
        "!unzip ngrok-stable-linux-amd64.zip"
      ]
    },
    {
      "cell_type": "code",
      "execution_count": null,
      "metadata": {
        "colab": {
          "base_uri": "https://localhost:8080/"
        },
        "id": "zyzFAQ0RstxA",
        "outputId": "807ea355-508f-4496-f8e8-15b6454e6104"
      },
      "outputs": [
        {
          "output_type": "stream",
          "name": "stdout",
          "text": [
            "Authtoken saved to configuration file: /root/.ngrok2/ngrok.yml\n"
          ]
        }
      ],
      "source": [
        "!ngrok authtoken '29dZzcRzIzqOK0MIF7pKeDDwWIS_5Xz7LBEUXrZfTkbdL4BUk'"
      ]
    },
    {
      "cell_type": "code",
      "execution_count": null,
      "metadata": {
        "id": "Dymg39On_Mpn"
      },
      "outputs": [],
      "source": [
        "\n",
        "get_ipython().system_raw('./ngrok http 8501 &')"
      ]
    },
    {
      "cell_type": "code",
      "execution_count": null,
      "metadata": {
        "id": "ypvZINsf_TIE"
      },
      "outputs": [],
      "source": [
        "#!curl -s http://localhost:4040/api/tunnels | python3.7 -c \\"
      ]
    },
    {
      "cell_type": "code",
      "execution_count": null,
      "metadata": {
        "id": "EdzXgBZ2uw5y"
      },
      "outputs": [],
      "source": [
        "from pyngrok import ngrok"
      ]
    },
    {
      "cell_type": "code",
      "source": [
        "!streamlit run app.py&>/dev/null&"
      ],
      "metadata": {
        "id": "x9WeLiA_Wpsy"
      },
      "execution_count": null,
      "outputs": []
    },
    {
      "cell_type": "code",
      "source": [
        "!pgrep streamlit"
      ],
      "metadata": {
        "colab": {
          "base_uri": "https://localhost:8080/"
        },
        "id": "xROqisDXXPtu",
        "outputId": "a95a181a-4256-44e8-ea2d-2669580e1560"
      },
      "execution_count": null,
      "outputs": [
        {
          "output_type": "stream",
          "name": "stdout",
          "text": [
            "839\n"
          ]
        }
      ]
    },
    {
      "cell_type": "code",
      "source": [
        "publ_url = ngrok.connect(port='8501')"
      ],
      "metadata": {
        "colab": {
          "base_uri": "https://localhost:8080/"
        },
        "id": "xSP_Y1mwXY0F",
        "outputId": "fff3a42d-dbb2-4557-fe96-1da71a0aefbc"
      },
      "execution_count": null,
      "outputs": [
        {
          "output_type": "stream",
          "name": "stderr",
          "text": [
            "2022-05-25 17:59:46.809 ngrok process starting: 851\n",
            "2022-05-25 17:59:46.827 t=2022-05-25T17:59:46+0000 lvl=info msg=\"no configuration paths supplied\"\n",
            "\n",
            "2022-05-25 17:59:46.832 t=2022-05-25T17:59:46+0000 lvl=info msg=\"using configuration at default config path\" path=/root/.ngrok2/ngrok.yml\n",
            "\n",
            "2022-05-25 17:59:46.840 t=2022-05-25T17:59:46+0000 lvl=info msg=\"open config file\" path=/root/.ngrok2/ngrok.yml err=nil\n",
            "\n",
            "2022-05-25 17:59:46.846 t=2022-05-25T17:59:46+0000 lvl=info msg=\"starting web service\" obj=web addr=127.0.0.1:4040\n",
            "\n",
            "2022-05-25 17:59:46.975 t=2022-05-25T17:59:46+0000 lvl=info msg=\"tunnel session started\" obj=tunnels.session\n",
            "\n",
            "2022-05-25 17:59:46.980 t=2022-05-25T17:59:46+0000 lvl=info msg=\"client session established\" obj=csess id=4d3f714cb84b\n",
            "\n",
            "2022-05-25 17:59:46.989 ngrok process has started: http://127.0.0.1:4040\n",
            "2022-05-25 17:59:46.992 t=2022-05-25T17:59:46+0000 lvl=info msg=start pg=/api/tunnels id=414e2d18bc13fa6e\n",
            "\n",
            "2022-05-25 17:59:46.997 t=2022-05-25T17:59:46+0000 lvl=info msg=end pg=/api/tunnels id=414e2d18bc13fa6e status=200 dur=700.744µs\n",
            "\n",
            "2022-05-25 17:59:47.002 t=2022-05-25T17:59:46+0000 lvl=info msg=start pg=/api/tunnels id=7ef3f8175836e4a2\n",
            "\n",
            "2022-05-25 17:59:47.006 t=2022-05-25T17:59:46+0000 lvl=info msg=end pg=/api/tunnels id=7ef3f8175836e4a2 status=200 dur=162.916µs\n",
            "\n",
            "2022-05-25 17:59:47.008 t=2022-05-25T17:59:46+0000 lvl=info msg=start pg=/api/tunnels id=2c5d7c7684bac7fe\n",
            "\n",
            "2022-05-25 17:59:47.101 t=2022-05-25T17:59:47+0000 lvl=info msg=\"started tunnel\" obj=tunnels name=\"http-8501-9622edc3-0379-4629-a95f-716df9ee682b (http)\" addr=http://localhost:8501 url=http://7fca-34-73-77-239.ngrok.io\n",
            "\n",
            "2022-05-25 17:59:47.109 t=2022-05-25T17:59:47+0000 lvl=info msg=\"started tunnel\" obj=tunnels name=http-8501-9622edc3-0379-4629-a95f-716df9ee682b addr=http://localhost:8501 url=https://7fca-34-73-77-239.ngrok.io\n",
            "\n",
            "2022-05-25 17:59:47.111 t=2022-05-25T17:59:47+0000 lvl=info msg=end pg=/api/tunnels id=2c5d7c7684bac7fe status=201 dur=99.64574ms\n",
            "\n"
          ]
        }
      ]
    },
    {
      "cell_type": "code",
      "source": [
        "publ_url"
      ],
      "metadata": {
        "colab": {
          "base_uri": "https://localhost:8080/",
          "height": 53
        },
        "id": "d_FGEulfXlFb",
        "outputId": "fe3b1358-51ec-402f-c313-e4f0bb8c43a7"
      },
      "execution_count": null,
      "outputs": [
        {
          "output_type": "execute_result",
          "data": {
            "text/plain": [
              "'http://7fca-34-73-77-239.ngrok.io'"
            ],
            "application/vnd.google.colaboratory.intrinsic+json": {
              "type": "string"
            }
          },
          "metadata": {},
          "execution_count": 28
        }
      ]
    }
  ],
  "metadata": {
    "colab": {
      "collapsed_sections": [],
      "name": "TrabalhoProjetoAssistido.ipynb",
      "provenance": [],
      "toc_visible": true,
      "mount_file_id": "1UojnM1icfooWc0p_Jj34B3-tgGADmCaK",
      "authorship_tag": "ABX9TyOomcKBrLNeONN4six8f8Gy"
    },
    "kernelspec": {
      "display_name": "Python 3",
      "name": "python3"
    },
    "language_info": {
      "name": "python"
    }
  },
  "nbformat": 4,
  "nbformat_minor": 0
}